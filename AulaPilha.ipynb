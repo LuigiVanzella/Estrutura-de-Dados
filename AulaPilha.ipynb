{
  "nbformat": 4,
  "nbformat_minor": 0,
  "metadata": {
    "colab": {
      "provenance": [],
      "authorship_tag": "ABX9TyOKL2B3//1z/7ugZKoxpiei",
      "include_colab_link": true
    },
    "kernelspec": {
      "name": "python3",
      "display_name": "Python 3"
    },
    "language_info": {
      "name": "python"
    }
  },
  "cells": [
    {
      "cell_type": "markdown",
      "metadata": {
        "id": "view-in-github",
        "colab_type": "text"
      },
      "source": [
        "<a href=\"https://colab.research.google.com/github/LuigiVanzella/Estrutura-de-Dados/blob/main/AulaPilha.ipynb\" target=\"_parent\"><img src=\"https://colab.research.google.com/assets/colab-badge.svg\" alt=\"Open In Colab\"/></a>"
      ]
    },
    {
      "cell_type": "code",
      "execution_count": 51,
      "metadata": {
        "colab": {
          "base_uri": "https://localhost:8080/"
        },
        "id": "zAe1evsvwzoN",
        "outputId": "4963f971-9622-408d-ba31-7331e3faf6fc"
      },
      "outputs": [
        {
          "output_type": "stream",
          "name": "stdout",
          "text": [
            "Overwriting pilha_estatica.h\n"
          ]
        }
      ],
      "source": [
        "%%writefile pilha_estatica.h\n",
        "#ifndef PILHA_ESTATICA_H\n",
        "#define PILHA_ESTATICA_H\n",
        "\n",
        "#include <stdbool.h>\n",
        "#include <stddef.h>\n",
        "\n",
        "#ifndef PILHA_CAPACIDADE\n",
        "#define PILHA_CAPACIDADE 100\n",
        "#endif\n",
        "\n",
        "/*Estrutura */\n",
        "\n",
        "typedef struct {\n",
        "    int data[PILHA_CAPACIDADE];\n",
        "    int top;\n",
        "} Pilha;\n",
        "\n",
        "\n",
        "/* Gerenciamento */\n",
        "\n",
        "void pilha_criar(Pilha *P);\n",
        "\n",
        "void pilha_destruir(Pilha *P);\n",
        "\n",
        "void pilha_limpar(Pilha *P);\n",
        "\n",
        "\n",
        "/* Consulta */\n",
        "\n",
        "bool pilha_ehvazia(const Pilha *P);\n",
        "\n",
        "bool pilha_cheia(const Pilha *P);\n",
        "\n",
        "bool pilha_tamanho(const Pilha *P);\n",
        "\n",
        "\n",
        "/* Operações */\n",
        "\n",
        "bool pilha_empilha(Pilha *P, int valor);\n",
        "\n",
        "bool pilha_desempilha(Pilha *P, int *pRemover);\n",
        "\n",
        "bool pilha_topo(Pilha *p, int *pRemover);\n",
        "\n",
        "\n",
        "\n",
        "void pilha_imprime(const Pilha *P);\n",
        "\n",
        "\n",
        "#endif"
      ]
    },
    {
      "cell_type": "code",
      "source": [
        "%%writefile pilha_estatica.c\n",
        "\n",
        "#include <stdio.h>\n",
        "#include \"pilha_estatica.h\"\n",
        "\n",
        "\n",
        "\n",
        "/* Gerenciamento */\n",
        "\n",
        "void pilha_criar(Pilha *P){\n",
        "    P->top = 0;\n",
        "}\n",
        "\n",
        "void pilha_destruir(Pilha *P){\n",
        "    (void)P;\n",
        "}\n",
        "\n",
        "void pilha_limpar(Pilha *P){\n",
        "  P->top = 0;\n",
        "}\n",
        "\n",
        "\n",
        "/* Consulta */\n",
        "\n",
        "bool pilha_ehvazia(const Pilha *P){\n",
        "    return P->top == 0;\n",
        "}\n",
        "\n",
        "bool pilha_cheia(const Pilha *P){\n",
        "    return P->top == PILHA_CAPACIDADE;\n",
        "}\n",
        "\n",
        "bool pilha_tamanho(const Pilha *P){\n",
        "    return (size_t)P->top;\n",
        "}\n",
        "\n",
        "\n",
        "/* Operações */\n",
        "\n",
        "bool pilha_empilha(Pilha *P, int valor){\n",
        "    if(pilha_cheia(P)) return false;\n",
        "    P->data[P->top++] = valor;\n",
        "\n",
        "    return true;\n",
        "}\n",
        "\n",
        "bool pilha_desempilha(Pilha *P, int *pRemover){\n",
        "    if(pilha_ehvazia(P)) return false;\n",
        "    if(pRemover) *pRemover = P->data[--P->top];\n",
        "    else P->top--;\n",
        "    return true;\n",
        "}\n",
        "\n",
        "bool pilha_topo(Pilha *P, int *pRemover){\n",
        "    if(pilha_ehvazia(P)) return false;\n",
        "    if(pRemover) *pRemover = P->data[P->top -1];\n",
        "    return true;\n",
        "}\n",
        "\n",
        "\n",
        "\n",
        "void pilha_imprime(const Pilha *P){\n",
        "    printf(\"Pilha(tamanho=%zu) top-> [\", pilha_tamanho(P));\n",
        "    for(int i = P->top -1; i >= 0; --i){\n",
        "        printf(\"%d\", P->data[i]);\n",
        "    }\n",
        "    printf(\"]\\n\");\n",
        "}\n",
        "\n",
        "\n"
      ],
      "metadata": {
        "colab": {
          "base_uri": "https://localhost:8080/"
        },
        "id": "JVwSt7UIw0X3",
        "outputId": "2edb0f62-c5bf-4bfa-eb00-0514f8ef9674"
      },
      "execution_count": 57,
      "outputs": [
        {
          "output_type": "stream",
          "name": "stdout",
          "text": [
            "Overwriting pilha_estatica.c\n"
          ]
        }
      ]
    },
    {
      "cell_type": "code",
      "source": [
        "%%writefile main_pestatica.c\n",
        "#include <stdio.h>\n",
        "#include \"pilha_estatica.h\"\n",
        "\n",
        "static void titulo(const char *s){\n",
        "  printf(\"\\n*************  %s  ************%s\", s,\"\\n\");\n",
        "}\n",
        "\n",
        "int main(void){\n",
        "  Pilha P;\n",
        "  int pRemover;\n",
        "\n",
        "  titulo(\"Criando\");\n",
        "  pilha_criar(&P);\n",
        "\n",
        "\n",
        "  titulo(\"Empilhar\");\n",
        "  pilha_empilha(&P, 10);\n",
        "  pilha_empilha(&P, 20);\n",
        "  pilha_empilha(&P, 30);\n",
        "\n",
        "  titulo(\"Topo\");\n",
        "  if(pilha_topo(&P, &pRemover)) printf(\"Topo = %d\\n\", pRemover);\n",
        "\n",
        "  titulo(\"Desempilhar\");\n",
        "  if(pilha_desempilha(&P, &pRemover)) printf(\"Desempilhar = %d\\n\", pRemover);\n",
        "\n",
        "\n",
        "}"
      ],
      "metadata": {
        "colab": {
          "base_uri": "https://localhost:8080/"
        },
        "id": "YIF3WFQzw0MR",
        "outputId": "28ce82eb-5ade-43b8-ba69-9f68b70a3fed"
      },
      "execution_count": 58,
      "outputs": [
        {
          "output_type": "stream",
          "name": "stdout",
          "text": [
            "Overwriting main_pestatica.c\n"
          ]
        }
      ]
    },
    {
      "cell_type": "code",
      "source": [
        "!gcc main_pestatica.c pilha_estatica.c -o main_pestatica && ./main_pestatica"
      ],
      "metadata": {
        "colab": {
          "base_uri": "https://localhost:8080/"
        },
        "id": "xpVhK4FUw0E2",
        "outputId": "cdba8735-7446-4037-9b0a-dd00bbbb3a5c"
      },
      "execution_count": 60,
      "outputs": [
        {
          "output_type": "stream",
          "name": "stdout",
          "text": [
            "\u001b[01m\u001b[Kpilha_estatica.c:\u001b[m\u001b[K In function ‘\u001b[01m\u001b[Kpilha_imprime\u001b[m\u001b[K’:\n",
            "\u001b[01m\u001b[Kpilha_estatica.c:62:29:\u001b[m\u001b[K \u001b[01;35m\u001b[Kwarning: \u001b[m\u001b[Kformat ‘\u001b[01m\u001b[K%zu\u001b[m\u001b[K’ expects argument of type ‘\u001b[01m\u001b[Ksize_t\u001b[m\u001b[K’, but argument 2 has type ‘\u001b[01m\u001b[Kint\u001b[m\u001b[K’ [\u001b[01;35m\u001b[K\u001b]8;;https://gcc.gnu.org/onlinedocs/gcc/Warning-Options.html#index-Wformat=\u0007-Wformat=\u001b]8;;\u0007\u001b[m\u001b[K]\n",
            "   62 |     printf(\"Pilha(tamanho=\u001b[01;35m\u001b[K%zu\u001b[m\u001b[K) top-> [\", \u001b[32m\u001b[Kpilha_tamanho(P)\u001b[m\u001b[K);\n",
            "      |                           \u001b[01;35m\u001b[K~~^\u001b[m\u001b[K            \u001b[32m\u001b[K~~~~~~~~~~~~~~~~\u001b[m\u001b[K\n",
            "      |                             \u001b[01;35m\u001b[K|\u001b[m\u001b[K            \u001b[32m\u001b[K|\u001b[m\u001b[K\n",
            "      |                             \u001b[01;35m\u001b[K|\u001b[m\u001b[K            \u001b[32m\u001b[Kint\u001b[m\u001b[K\n",
            "      |                             \u001b[01;35m\u001b[Klong unsigned int\u001b[m\u001b[K\n",
            "      |                           \u001b[32m\u001b[K%u\u001b[m\u001b[K\n",
            "\n",
            "*************  Criando  ************\n",
            "\n",
            "*************  Empilhar  ************\n",
            "\n",
            "*************  Topo  ************\n",
            "Topo = 30\n",
            "\n",
            "*************  Desempilhar  ************\n",
            "Desempilhar = 30\n"
          ]
        }
      ]
    }
  ]
}