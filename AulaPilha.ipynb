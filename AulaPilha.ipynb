{
  "nbformat": 4,
  "nbformat_minor": 0,
  "metadata": {
    "colab": {
      "provenance": [],
      "authorship_tag": "ABX9TyNWg4t+svObgOW3B0CBe3mv",
      "include_colab_link": true
    },
    "kernelspec": {
      "name": "python3",
      "display_name": "Python 3"
    },
    "language_info": {
      "name": "python"
    }
  },
  "cells": [
    {
      "cell_type": "markdown",
      "metadata": {
        "id": "view-in-github",
        "colab_type": "text"
      },
      "source": [
        "<a href=\"https://colab.research.google.com/github/LuigiVanzella/Estrutura-de-Dados/blob/main/AulaPilha.ipynb\" target=\"_parent\"><img src=\"https://colab.research.google.com/assets/colab-badge.svg\" alt=\"Open In Colab\"/></a>"
      ]
    },
    {
      "cell_type": "code",
      "execution_count": 25,
      "metadata": {
        "colab": {
          "base_uri": "https://localhost:8080/"
        },
        "id": "zAe1evsvwzoN",
        "outputId": "4d21f2f1-6357-4104-c1c3-76f53f14d151"
      },
      "outputs": [
        {
          "output_type": "stream",
          "name": "stdout",
          "text": [
            "Overwriting pilha_estatica.h\n"
          ]
        }
      ],
      "source": [
        "%%writefile pilha_estatica.h\n",
        "#ifndef PILHA_ESTATICA_H\n",
        "#define PILHA_ESTATICA_H\n",
        "\n",
        "#include <stdbool.h>\n",
        "#include <stddef.h>\n",
        "\n",
        "#ifndef PILHA_CAPACIDADE\n",
        "#define PILHA_CAPACIDADE 100\n",
        "#endif\n",
        "\n",
        "/*Estrutura */\n",
        "\n",
        "typedef struct {\n",
        "    int data[PILHA_CAPACIDADE];\n",
        "    int top;\n",
        "} Pilha;\n",
        "\n",
        "\n",
        "/* Gerenciamento */\n",
        "\n",
        "void pilha_criar(Pilha *P);\n",
        "\n",
        "void pilha_destruir(Pilha *P);\n",
        "\n",
        "void pilha_limpar(Pilha *P);\n",
        "\n",
        "\n",
        "/* Consulta */\n",
        "\n",
        "void pilha_ehvazia(const Pilha *P);\n",
        "\n",
        "void pilha_cheia(const Pilha *P);\n",
        "\n",
        "void pilha_tamanho(const Pilha *P);\n",
        "\n",
        "\n",
        "/* Operações */\n",
        "\n",
        "bool pilha_empilha(Pilha *P, int valor);\n",
        "\n",
        "bool pilha_desempilha(Pilha *P, int *pRemover);\n",
        "\n",
        "bool pilha_topo(Pilha *p, int *pRemover);\n",
        "\n",
        "\n",
        "\n",
        "void pilha_imprime(const Pilha *P);\n",
        "\n",
        "\n",
        "#endif"
      ]
    },
    {
      "cell_type": "code",
      "source": [
        "%%writefile pilha_estatica.c\n",
        "\n",
        "#include <stdio.h>\n",
        "#include \"pilha_estatica.h\"\n",
        "\n",
        "\n",
        "\n",
        "/* Gerenciamento */\n",
        "\n",
        "void pilha_criar(Pilha *P){\n",
        "    P->top = 0;\n",
        "}\n",
        "\n",
        "void pilha_destruir(Pilha *P){\n",
        "    (void)P;\n",
        "}\n",
        "\n",
        "void pilha_limpar(Pilha *P){\n",
        "  P->top = 0;\n",
        "}\n",
        "\n",
        "\n",
        "/* Consulta */\n",
        "\n",
        "void pilha_ehvazia(const Pilha *P){\n",
        "    return P->top == 0;\n",
        "}\n",
        "\n",
        "void pilha_cheia(const Pilha *P){\n",
        "    return P->top == PILHA_CAPACIDADE;\n",
        "}\n",
        "\n",
        "void pilha_tamanho(const Pilha *P){\n",
        "    return (size_t)P->top;\n",
        "}\n",
        "\n",
        "\n",
        "/* Operações */\n",
        "\n",
        "bool pilha_empilha(Pilha *P, int valor){\n",
        "    if(pilha_cheia(P)) return false;\n",
        "    P->data[P->top++] = valor;\n",
        "\n",
        "    return true;\n",
        "}\n",
        "\n",
        "bool pilha_desempilha(Pilha *P, int *pRemover){\n",
        "    if(pilha_ehvazia(P)) return false;\n",
        "    if(pRemover) *pRemover = P->data[--P->top];\n",
        "    else P->top--;\n",
        "    return true;\n",
        "}\n",
        "\n",
        "bool pilha_topo(Pilha *p, int *pRemover){\n",
        "    if(pilha_ehvazia(P)) return false;\n",
        "    if(pRemover) *pRemover = P->data[P->top -1];\n",
        "    return true;\n",
        "}\n",
        "\n",
        "\n",
        "\n",
        "void pilha_imprime(const Pilha *P){\n",
        "    printf(\"Pilha(tamanho=%zu) top-> [\", pilha_tamanho(P));\n",
        "    for(int i = P->top -1; i >= 0; --i){\n",
        "        printf(\"%d\", P->data[i]);\n",
        "    }\n",
        "    printf(\"]\\n\");\n",
        "}\n",
        "\n",
        "\n"
      ],
      "metadata": {
        "colab": {
          "base_uri": "https://localhost:8080/"
        },
        "id": "JVwSt7UIw0X3",
        "outputId": "81d1fa51-a8fe-4747-d890-4194ec3f6e4c"
      },
      "execution_count": 31,
      "outputs": [
        {
          "output_type": "stream",
          "name": "stdout",
          "text": [
            "Overwriting pilha_estatica.c\n"
          ]
        }
      ]
    },
    {
      "cell_type": "code",
      "source": [
        "%%writefile main_pestatica.c\n",
        "#include <stdio.h>\n",
        "#include \"pilha_estatica.h\"\n",
        "\n",
        "static void titulo(const char *s){\n",
        "  printf(\"\\n----------------  %s  -----------------\", s,\"\\n\");\n",
        "}\n",
        "\n",
        "int main(void){\n",
        "  Pilha P;\n",
        "  int pRemover;\n",
        "\n",
        "  titulo(\"Criando\");\n",
        "  pilha_criar(&P);\n",
        "\n",
        "\n",
        "  titulo(\"Empilhar\");\n",
        "  pilha_empilha(&P, 10);\n",
        "  pilha_empilha(&P, 20);\n",
        "  pilha_empilha(&P, 30);\n",
        "\n",
        "  titulo(\"Topo\");\n",
        "  if(pilha_topo(&P, &pRemover)) printf(\"Topo = %d\\n\", pRemover);\n",
        "\n",
        "  titulo(\"Desempilhar\");\n",
        "  if(pilha_desempilha(&P)) printf(\"Desempilhar = %d\\n\", pRemover)\n",
        "\n",
        "\n",
        "}"
      ],
      "metadata": {
        "colab": {
          "base_uri": "https://localhost:8080/"
        },
        "id": "YIF3WFQzw0MR",
        "outputId": "30e35a47-207c-451d-feae-a2365055f885"
      },
      "execution_count": 34,
      "outputs": [
        {
          "output_type": "stream",
          "name": "stdout",
          "text": [
            "Overwriting main_pestatica.c\n"
          ]
        }
      ]
    },
    {
      "cell_type": "code",
      "source": [
        "!gcc main_pestatica.c pilha_estatica.c -o main_pestatica && ./pilha_pestatica"
      ],
      "metadata": {
        "colab": {
          "base_uri": "https://localhost:8080/"
        },
        "id": "xpVhK4FUw0E2",
        "outputId": "17024c55-c6c7-4d67-c891-0b83a491fa88"
      },
      "execution_count": 35,
      "outputs": [
        {
          "output_type": "stream",
          "name": "stdout",
          "text": [
            "\u001b[01m\u001b[Kmain_pestatica.c:\u001b[m\u001b[K In function ‘\u001b[01m\u001b[Ktitulo\u001b[m\u001b[K’:\n",
            "\u001b[01m\u001b[Kmain_pestatica.c:5:10:\u001b[m\u001b[K \u001b[01;35m\u001b[Kwarning: \u001b[m\u001b[Ktoo many arguments for format [\u001b[01;35m\u001b[K\u001b]8;;https://gcc.gnu.org/onlinedocs/gcc/Warning-Options.html#index-Wformat-extra-args\u0007-Wformat-extra-args\u001b]8;;\u0007\u001b[m\u001b[K]\n",
            "    5 |   printf(\u001b[01;35m\u001b[K\"\\n----------------  %s  -----------------\"\u001b[m\u001b[K, s,\"\\n\");\n",
            "      |          \u001b[01;35m\u001b[K^~~~~~~~~~~~~~~~~~~~~~~~~~~~~~~~~~~~~~~~~~~\u001b[m\u001b[K\n",
            "\u001b[01m\u001b[Kmain_pestatica.c:\u001b[m\u001b[K In function ‘\u001b[01m\u001b[Kmain\u001b[m\u001b[K’:\n",
            "\u001b[01m\u001b[Kmain_pestatica.c:25:6:\u001b[m\u001b[K \u001b[01;31m\u001b[Kerror: \u001b[m\u001b[Ktoo few arguments to function ‘\u001b[01m\u001b[Kpilha_desempilha\u001b[m\u001b[K’\n",
            "   25 |   if(\u001b[01;31m\u001b[Kpilha_desempilha\u001b[m\u001b[K(&P)) printf(\"Desempilhar = %d\\n\", pRemover)\n",
            "      |      \u001b[01;31m\u001b[K^~~~~~~~~~~~~~~~\u001b[m\u001b[K\n",
            "In file included from \u001b[01m\u001b[Kmain_pestatica.c:2\u001b[m\u001b[K:\n",
            "\u001b[01m\u001b[Kpilha_estatica.h:41:6:\u001b[m\u001b[K \u001b[01;36m\u001b[Knote: \u001b[m\u001b[Kdeclared here\n",
            "   41 | bool \u001b[01;36m\u001b[Kpilha_desempilha\u001b[m\u001b[K(Pilha *P, int *pRemover);\n",
            "      |      \u001b[01;36m\u001b[K^~~~~~~~~~~~~~~~\u001b[m\u001b[K\n",
            "\u001b[01m\u001b[Kmain_pestatica.c:25:66:\u001b[m\u001b[K \u001b[01;31m\u001b[Kerror: \u001b[m\u001b[Kexpected ‘\u001b[01m\u001b[K;\u001b[m\u001b[K’ before ‘\u001b[01m\u001b[K}\u001b[m\u001b[K’ token\n",
            "   25 |   if(pilha_desempilha(&P)) printf(\"Desempilhar = %d\\n\", pRemover)\n",
            "      |                                                                  \u001b[01;31m\u001b[K^\u001b[m\u001b[K\n",
            "      |                                                                  \u001b[32m\u001b[K;\u001b[m\u001b[K\n",
            "......\n",
            "   28 | \u001b[32m\u001b[K}\u001b[m\u001b[K\n",
            "      | \u001b[32m\u001b[K~\u001b[m\u001b[K                                                                 \n",
            "\u001b[01m\u001b[Kpilha_estatica.c:\u001b[m\u001b[K In function ‘\u001b[01m\u001b[Kpilha_ehvazia\u001b[m\u001b[K’:\n",
            "\u001b[01m\u001b[Kpilha_estatica.c:25:19:\u001b[m\u001b[K \u001b[01;35m\u001b[Kwarning: \u001b[m\u001b[K‘\u001b[01m\u001b[Kreturn\u001b[m\u001b[K’ with a value, in function returning void\n",
            "   25 |     return \u001b[01;35m\u001b[KP->top == 0\u001b[m\u001b[K;\n",
            "      |            \u001b[01;35m\u001b[K~~~~~~~^~~~\u001b[m\u001b[K\n",
            "\u001b[01m\u001b[Kpilha_estatica.c:24:6:\u001b[m\u001b[K \u001b[01;36m\u001b[Knote: \u001b[m\u001b[Kdeclared here\n",
            "   24 | void \u001b[01;36m\u001b[Kpilha_ehvazia\u001b[m\u001b[K(const Pilha *P){\n",
            "      |      \u001b[01;36m\u001b[K^~~~~~~~~~~~~\u001b[m\u001b[K\n",
            "\u001b[01m\u001b[Kpilha_estatica.c:\u001b[m\u001b[K In function ‘\u001b[01m\u001b[Kpilha_cheia\u001b[m\u001b[K’:\n",
            "\u001b[01m\u001b[Kpilha_estatica.c:29:19:\u001b[m\u001b[K \u001b[01;35m\u001b[Kwarning: \u001b[m\u001b[K‘\u001b[01m\u001b[Kreturn\u001b[m\u001b[K’ with a value, in function returning void\n",
            "   29 |     return P->top == PILHA_CAPACIDADE;\n",
            "\u001b[01m\u001b[Kpilha_estatica.c:28:6:\u001b[m\u001b[K \u001b[01;36m\u001b[Knote: \u001b[m\u001b[Kdeclared here\n",
            "   28 | void \u001b[01;36m\u001b[Kpilha_cheia\u001b[m\u001b[K(const Pilha *P){\n",
            "      |      \u001b[01;36m\u001b[K^~~~~~~~~~~\u001b[m\u001b[K\n",
            "\u001b[01m\u001b[Kpilha_estatica.c:\u001b[m\u001b[K In function ‘\u001b[01m\u001b[Kpilha_tamanho\u001b[m\u001b[K’:\n",
            "\u001b[01m\u001b[Kpilha_estatica.c:33:12:\u001b[m\u001b[K \u001b[01;35m\u001b[Kwarning: \u001b[m\u001b[K‘\u001b[01m\u001b[Kreturn\u001b[m\u001b[K’ with a value, in function returning void\n",
            "   33 |     return \u001b[01;35m\u001b[K(size_t)P->top\u001b[m\u001b[K;\n",
            "      |            \u001b[01;35m\u001b[K^~~~~~~~~~~~~~\u001b[m\u001b[K\n",
            "\u001b[01m\u001b[Kpilha_estatica.c:32:6:\u001b[m\u001b[K \u001b[01;36m\u001b[Knote: \u001b[m\u001b[Kdeclared here\n",
            "   32 | void \u001b[01;36m\u001b[Kpilha_tamanho\u001b[m\u001b[K(const Pilha *P){\n",
            "      |      \u001b[01;36m\u001b[K^~~~~~~~~~~~~\u001b[m\u001b[K\n",
            "\u001b[01m\u001b[Kpilha_estatica.c:\u001b[m\u001b[K In function ‘\u001b[01m\u001b[Kpilha_empilha\u001b[m\u001b[K’:\n",
            "\u001b[01m\u001b[Kpilha_estatica.c:40:8:\u001b[m\u001b[K \u001b[01;31m\u001b[Kerror: \u001b[m\u001b[Kvoid value not ignored as it ought to be\n",
            "   40 |     if(\u001b[01;31m\u001b[Kpilha_cheia\u001b[m\u001b[K(P)) return false;\n",
            "      |        \u001b[01;31m\u001b[K^~~~~~~~~~~\u001b[m\u001b[K\n",
            "\u001b[01m\u001b[Kpilha_estatica.c:\u001b[m\u001b[K In function ‘\u001b[01m\u001b[Kpilha_desempilha\u001b[m\u001b[K’:\n",
            "\u001b[01m\u001b[Kpilha_estatica.c:47:8:\u001b[m\u001b[K \u001b[01;31m\u001b[Kerror: \u001b[m\u001b[Kvoid value not ignored as it ought to be\n",
            "   47 |     if(\u001b[01;31m\u001b[Kpilha_ehvazia\u001b[m\u001b[K(P)) return false;\n",
            "      |        \u001b[01;31m\u001b[K^~~~~~~~~~~~~\u001b[m\u001b[K\n",
            "\u001b[01m\u001b[Kpilha_estatica.c:\u001b[m\u001b[K In function ‘\u001b[01m\u001b[Kpilha_topo\u001b[m\u001b[K’:\n",
            "\u001b[01m\u001b[Kpilha_estatica.c:54:22:\u001b[m\u001b[K \u001b[01;31m\u001b[Kerror: \u001b[m\u001b[K‘\u001b[01m\u001b[KP\u001b[m\u001b[K’ undeclared (first use in this function)\n",
            "   54 |     if(pilha_ehvazia(\u001b[01;31m\u001b[KP\u001b[m\u001b[K)) return false;\n",
            "      |                      \u001b[01;31m\u001b[K^\u001b[m\u001b[K\n",
            "\u001b[01m\u001b[Kpilha_estatica.c:54:22:\u001b[m\u001b[K \u001b[01;36m\u001b[Knote: \u001b[m\u001b[Keach undeclared identifier is reported only once for each function it appears in\n",
            "\u001b[01m\u001b[Kpilha_estatica.c:\u001b[m\u001b[K In function ‘\u001b[01m\u001b[Kpilha_imprime\u001b[m\u001b[K’:\n",
            "\u001b[01m\u001b[Kpilha_estatica.c:62:42:\u001b[m\u001b[K \u001b[01;31m\u001b[Kerror: \u001b[m\u001b[Kinvalid use of void expression\n",
            "   62 |     printf(\"Pilha(tamanho=%zu) top-> [\", \u001b[01;31m\u001b[Kpilha_tamanho(P)\u001b[m\u001b[K);\n",
            "      |                                          \u001b[01;31m\u001b[K^~~~~~~~~~~~~~~~\u001b[m\u001b[K\n"
          ]
        }
      ]
    }
  ]
}