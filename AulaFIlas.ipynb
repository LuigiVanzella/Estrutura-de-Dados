{
  "nbformat": 4,
  "nbformat_minor": 0,
  "metadata": {
    "colab": {
      "provenance": [],
      "authorship_tag": "ABX9TyNtoR57kLS8x3yu7xns4vw+",
      "include_colab_link": true
    },
    "kernelspec": {
      "name": "python3",
      "display_name": "Python 3"
    },
    "language_info": {
      "name": "python"
    }
  },
  "cells": [
    {
      "cell_type": "markdown",
      "metadata": {
        "id": "view-in-github",
        "colab_type": "text"
      },
      "source": [
        "<a href=\"https://colab.research.google.com/github/LuigiVanzella/Estrutura-de-Dados/blob/main/AulaFIlas.ipynb\" target=\"_parent\"><img src=\"https://colab.research.google.com/assets/colab-badge.svg\" alt=\"Open In Colab\"/></a>"
      ]
    },
    {
      "cell_type": "markdown",
      "source": [
        "SEQUENCIAS"
      ],
      "metadata": {
        "id": "Ej2HiqT8zZc0"
      }
    },
    {
      "cell_type": "markdown",
      "source": [
        "## HEADERS (.H)\n"
      ],
      "metadata": {
        "id": "yUZtTl3Y6R3S"
      }
    },
    {
      "cell_type": "code",
      "execution_count": 51,
      "metadata": {
        "colab": {
          "base_uri": "https://localhost:8080/"
        },
        "id": "fTGNsx3qy9vP",
        "outputId": "86b14f43-7a5a-4d91-e78e-b705f181b9be"
      },
      "outputs": [
        {
          "output_type": "stream",
          "name": "stdout",
          "text": [
            "Overwriting sfila1.h\n"
          ]
        }
      ],
      "source": [
        "%%writefile sfila1.h\n",
        "\n",
        "#ifndef SFILA1_H\n",
        "#define SFILA1_H\n",
        "#include <stdbool.h>\n",
        "#include <stddef.h>\n",
        "\n",
        "#ifndef MAX_N\n",
        "#define MAX_N 100000\n",
        "#endif\n",
        "\n",
        "typedef struct{\n",
        "  char v[MAX_N];\n",
        "  int N;\n",
        "}FilaSeq1;\n",
        "\n",
        "static inline void sfila1_cria(FilaSeq1 *f){ f->N = 0;}\n",
        "static inline void sfila1_libera(FilaSeq1 *f){f->N = 0;}\n",
        "static inline int sfila1_tamanho(const FilaSeq1 *f){return f->N;}\n",
        "static inline bool sfila1_vazia(const FilaSeq1 *f){return f->N == 0;}\n",
        "static inline bool sfila1_cheia(const FilaSeq1 *f){return f->N >= MAX_N;}\n",
        "\n",
        "bool sfila1_enfileira(FilaSeq1 *f, char dado);\n",
        "bool sfila1_desenfileira(FilaSeq1 *f, char *out);\n",
        "bool sfila1_frente(FilaSeq1 *f, char *out);\n",
        "\n",
        "#endif"
      ]
    },
    {
      "cell_type": "code",
      "source": [
        "%%writefile sfila2.h\n",
        "\n",
        "#ifndef SFILA2_H\n",
        "#define SFILA2_H\n",
        "#include <stdbool.h>\n",
        "#include <stddef.h>\n",
        "\n",
        "#ifndef MAX_N\n",
        "#define MAX_N 100000\n",
        "#endif\n",
        "\n",
        "typedef struct{\n",
        "  char v[MAX_N];\n",
        "  int inicio;\n",
        "  int fim;\n",
        "} FilaSeq2\n",
        "\n",
        "static inline void sfila2_cria(FilaSeq2 *f){f->inicio = 0; f->fim = 0;}\n",
        "static inline void sfila2_libera(FilaSeq2 *f){f->inicio = 0; f->fim = 0;}\n",
        "static inline int sfila2_tamanho(const FilaSeq2 *f){\n",
        "    int t = f->fim - f->inicio;\n",
        "    if(t < 0) t += MAX_N;\n",
        "    return t;\n",
        "  }\n",
        "static inline bool sfila2_vazia(const FilaSeq2 *f){return f->inicio == f->fim;}\n",
        "static inline bool sfila2_cheia(const FilaSeq2 *f){return ((f->fim +1) % MAX_N) == f->inicio;}\n",
        "\n",
        "bool sfila2_enfileira(FilaSeq2 *f, char dado);\n",
        "bool sfila2_desenfileira(FilaSeq2 *f, char *out);\n",
        "bool sfila2_frente(FilaSeq2 *f, char *out);\n",
        "\n",
        "#endif"
      ],
      "metadata": {
        "colab": {
          "base_uri": "https://localhost:8080/"
        },
        "id": "qPAd0yZvzp7w",
        "outputId": "75610366-18f6-410e-b740-4f5255358697"
      },
      "execution_count": 50,
      "outputs": [
        {
          "output_type": "stream",
          "name": "stdout",
          "text": [
            "Overwriting sfila2.h\n"
          ]
        }
      ]
    },
    {
      "cell_type": "code",
      "source": [
        "%%writefile sfila3.h\n",
        "\n",
        "#ifndef SFILA3_H\n",
        "#define SFILA3_H\n",
        "#include <stdbool.h>\n",
        "#include <stddef.h>\n",
        "\n",
        "#ifndef MAX_N\n",
        "#define MAX_N 100000\n",
        "#endif\n",
        "\n",
        "\n",
        "typedef struct{\n",
        "  char v[MAX_N];\n",
        "  int inicio;\n",
        "  int fim;\n",
        "  int N;\n",
        "} FilaSeq3\n",
        "\n",
        "static inline void sfila3_cria(FilaSeq3 *f){f->inicio = 0; f->fim = 0; f->N = 0;}\n",
        "static inline void sfila3_libera(FilaSeq3 *f){f->inicio = 0; f->fim = 0; f->N = 0;}\n",
        "static inline int sfila3_tamanho(const FilaSeq3 *f){return f->N;}\n",
        "static inline bool sfila3_vazia(const FilaSeq3 *f){return f->N == 0;}\n",
        "static inline bool sfila3_cheia(const FilaSeq3 *f){return f->N == MAX_N;}\n",
        "\n",
        "bool sfila3_enfileira(FilaSeq3 *f, char dado);\n",
        "bool sfila3_desenfileira(FilaSeq3 *f, char *out);\n",
        "bool sfila3_frente(FilaSeq3 *f, char *out);\n",
        "\n",
        "#endif"
      ],
      "metadata": {
        "colab": {
          "base_uri": "https://localhost:8080/"
        },
        "id": "hduj6AFzzxvz",
        "outputId": "0c99805b-ee65-4b2c-9714-a63f1d489cfa"
      },
      "execution_count": 49,
      "outputs": [
        {
          "output_type": "stream",
          "name": "stdout",
          "text": [
            "Overwriting sfila3.h\n"
          ]
        }
      ]
    },
    {
      "cell_type": "markdown",
      "source": [
        "## IMPLEMENTACAO (.C)"
      ],
      "metadata": {
        "id": "P1vl_OFq6ePW"
      }
    },
    {
      "cell_type": "code",
      "source": [
        "%%writefile sfila1.c\n",
        "#include \"sfila1.h\"\n",
        "#include <stdbool.h>\n",
        "#include <string.h>\n",
        "\n",
        "bool sfila1_enfileira(FilaSeq1 *f, char dado){\n",
        "  if(f->N >= MAX_N) return false;\n",
        "  f->v[f->N++] = dado;\n",
        "  return true;\n",
        "}\n",
        "\n",
        "bool sfila1_desenfileira(FilaSeq1 *f, char *out){\n",
        "  if(f->N == 0) return false;\n",
        "  if (out) *out = f->v[0];\n",
        "  if(f->N > 1){\n",
        "    memmove(&f->v[0], &f->v[1], (size_t)(f->N - 1) *sizeof f->v[0]);\n",
        "  }\n",
        "  f->N--;\n",
        "  return true;\n",
        "\n",
        "}\n",
        "bool sfila1_frente(FilaSeq1 *f, char *out){\n",
        "  if(f->N == 0) return false;\n",
        "  if (out) *out = f->v[0];\n",
        "  return true;\n",
        "\n",
        "}"
      ],
      "metadata": {
        "colab": {
          "base_uri": "https://localhost:8080/"
        },
        "id": "6NBx9OV76inA",
        "outputId": "ff230856-a947-47c1-98e0-bc32aa122d7b"
      },
      "execution_count": 66,
      "outputs": [
        {
          "output_type": "stream",
          "name": "stdout",
          "text": [
            "Overwriting sfila1.c\n"
          ]
        }
      ]
    },
    {
      "cell_type": "code",
      "source": [
        "%%writefile sfila2.c\n",
        "#include \"sfila2.h\"\n",
        "#include <stdbool.h>\n",
        "\n",
        "bool sfila2_enfileira(FilaSeq2 *f, char dado){\n",
        "  if (sfila2_cheia(f)) return false;\n",
        "  f->v[f->fim] = dado;\n",
        "  f->fim = (f->fim +1) % MAX_N;\n",
        "  return true;\n",
        "\n",
        "}\n",
        "\n",
        "bool sfila2_desenfileira(FilaSeq2 *f, char *out){\n",
        "  if (sfila2_vazia(f)) return false;\n",
        "  if (out) out = f->v[f->inicio];\n",
        "  f->inicio = (f->inicio +1) % MAX_N;\n",
        "  return true;\n",
        "\n",
        "}\n",
        "bool sfila2_frente(FilaSeq2 *f, char *out){\n",
        "  if (sfila2_vazia(f)) return false;\n",
        "  if (out) *out = f->v[f->inicio];\n",
        "  return true\n",
        "\n",
        "}"
      ],
      "metadata": {
        "colab": {
          "base_uri": "https://localhost:8080/"
        },
        "id": "xfz5V3_X8cPI",
        "outputId": "1d077fd5-a36e-4520-a022-faae3f7ee893"
      },
      "execution_count": 46,
      "outputs": [
        {
          "output_type": "stream",
          "name": "stdout",
          "text": [
            "Overwriting sfila2.c\n"
          ]
        }
      ]
    },
    {
      "cell_type": "code",
      "source": [
        "%%writefile sfila3.c\n",
        "#include \"sfila3.h\"\n",
        "#include <stdbool.h>\n",
        "\n",
        "bool sfila3_enfileira(FilaSeq3 *f, char dado){\n",
        " if(f->N >= MAX_N) return false;\n",
        " f->v[f->fim] = dado;\n",
        " f->fim = (f->fim +1) % MAX_N;\n",
        " f->N++;\n",
        " return true;\n",
        "\n",
        "}\n",
        "\n",
        "bool sfila3_desenfileira(FilaSeq3 *f, char *out){\n",
        "  if(f->N == 0) return false;\n",
        "  if(out) *out = f->v[f->inicio];\n",
        "  f->inicio = (f->inicio +1) % MAX_N;\n",
        "  f->N--;\n",
        "  return true;\n",
        "\n",
        "}\n",
        "bool sfila3_frente(FilaSeq3 *f, char *out){\n",
        "  if(f->N == 0) return false;\n",
        "  if(out) *out = f->v[f->inicio];\n",
        "  return true;\n",
        "\n",
        "}"
      ],
      "metadata": {
        "colab": {
          "base_uri": "https://localhost:8080/"
        },
        "id": "PFxl0GP7_iGg",
        "outputId": "0bb0ef19-9c2c-4ba3-a8e8-aa4b50ec85e3"
      },
      "execution_count": 47,
      "outputs": [
        {
          "output_type": "stream",
          "name": "stdout",
          "text": [
            "Overwriting sfila3.c\n"
          ]
        }
      ]
    },
    {
      "cell_type": "markdown",
      "source": [
        "## MAIN"
      ],
      "metadata": {
        "id": "klPH58yNA3ho"
      }
    },
    {
      "cell_type": "code",
      "source": [
        "%%writefile sdemo1.c\n",
        "#include <stdio.h>\n",
        "#include \"sfila1.h\"\n",
        "\n",
        "static void imprime_estado(const FilaSeq1 *f){\n",
        "    printf(\"N=%d | Conteudo logico: \", f->N);\n",
        "    for(int i=0;i<f->N;i++) printf(\"%c \", f->v[i]);\n",
        "    printf(\"\\n\");\n",
        "}\n",
        "\n",
        "int main(void){\n",
        "    FilaSeq1 f;\n",
        "    sfila1_cria(&f);\n",
        "\n",
        "    sfila1_enfileira(&f, 'A');\n",
        "    sfila1_enfileira(&f, 'B');\n",
        "    sfila1_enfileira(&f, 'C');\n",
        "    imprime_estado(&f);\n",
        "\n",
        "    char r='?';\n",
        "    sfila1_desenfileira(&f, &r);  // remove A\n",
        "    printf(\"Removido: %c\\n\", r);\n",
        "\n",
        "    char x='?';\n",
        "    sfila1_frente(&f, &x);\n",
        "    printf(\"Frente atual (FilaSeq1) = %c\\n\", x);\n",
        "    imprime_estado(&f);\n",
        "    return 0;\n",
        "}\n"
      ],
      "metadata": {
        "colab": {
          "base_uri": "https://localhost:8080/"
        },
        "id": "kXgTHmLMA5jz",
        "outputId": "e1bb870e-56c3-4665-8c01-3fe972a6f461"
      },
      "execution_count": 67,
      "outputs": [
        {
          "output_type": "stream",
          "name": "stdout",
          "text": [
            "Overwriting sdemo1.c\n"
          ]
        }
      ]
    },
    {
      "cell_type": "code",
      "source": [
        "!gcc -o0 -g -fsanitize=address -DMAX_N=5 sdemo1.c sfila1.c -o sfila1\n",
        "!./sfila1"
      ],
      "metadata": {
        "colab": {
          "base_uri": "https://localhost:8080/"
        },
        "id": "Lgdcq3x4BauM",
        "outputId": "4716a77d-b0ac-444e-dd28-e068eb5b0ea5"
      },
      "execution_count": 69,
      "outputs": [
        {
          "output_type": "stream",
          "name": "stdout",
          "text": [
            "N=3 | Conteudo logico: A B C \n",
            "Removido: A\n",
            "Frente atual (FilaSeq1) = B\n",
            "N=2 | Conteudo logico: B C \n"
          ]
        }
      ]
    }
  ]
}