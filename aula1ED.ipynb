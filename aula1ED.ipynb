{
  "nbformat": 4,
  "nbformat_minor": 0,
  "metadata": {
    "colab": {
      "provenance": [],
      "authorship_tag": "ABX9TyPgFSQWrjg4xNV/57YVVPvH",
      "include_colab_link": true
    },
    "kernelspec": {
      "name": "python3",
      "display_name": "Python 3"
    },
    "language_info": {
      "name": "python"
    }
  },
  "cells": [
    {
      "cell_type": "markdown",
      "metadata": {
        "id": "view-in-github",
        "colab_type": "text"
      },
      "source": [
        "<a href=\"https://colab.research.google.com/github/LuigiVanzella/Estrutura-de-Dados/blob/main/aula1ED.ipynb\" target=\"_parent\"><img src=\"https://colab.research.google.com/assets/colab-badge.svg\" alt=\"Open In Colab\"/></a>"
      ]
    },
    {
      "cell_type": "code",
      "execution_count": null,
      "metadata": {
        "colab": {
          "base_uri": "https://localhost:8080/"
        },
        "id": "FFQ6Ayk9T5Br",
        "outputId": "95ea79bb-747d-48fc-ce4f-dbcffd0949eb"
      },
      "outputs": [
        {
          "output_type": "stream",
          "name": "stdout",
          "text": [
            "Overwriting aula1ED.c\n"
          ]
        }
      ],
      "source": [
        "%%writefile aula1ED.c\n",
        "\n",
        "#include <stdio.h>\n",
        "\n",
        "int main(){\n",
        "  int a;\n",
        "  printf(\"sizeof(a) = %ld bytes\\n\", sizeof(a));\n",
        "  printf(\"sizeof(int) = %ld bytes\\n\", sizeof(int));\n",
        "  printf(\"sizeof(void *) = %ld bytes\\n\", sizeof(void *));\n",
        "  printf(\"sizeof(int *) = %ld bytes\\n\", sizeof(int *));\n",
        "  printf(\"sizeof(int **) = %ld bytes\\n\", sizeof(int **));\n",
        "  printf(\"sizeof(int ***) = %ld bytes\\n\", sizeof(int ***));\n",
        "  printf(\"sizeof(float *) = %ld bytes\\n\", sizeof(float *));\n",
        "\n",
        "  return 0;\n",
        "}"
      ]
    },
    {
      "cell_type": "code",
      "source": [
        "!gcc aula1ED.c -o aula1ED"
      ],
      "metadata": {
        "id": "XfnQLllSWG9v"
      },
      "execution_count": null,
      "outputs": []
    },
    {
      "cell_type": "code",
      "source": [
        "!./aula1ED"
      ],
      "metadata": {
        "colab": {
          "base_uri": "https://localhost:8080/"
        },
        "id": "zf8lf6HnWScS",
        "outputId": "160e4728-2472-432f-8173-f7a7a8a3ba1e"
      },
      "execution_count": null,
      "outputs": [
        {
          "output_type": "stream",
          "name": "stdout",
          "text": [
            "sizeof(a) = 4 bytes\n",
            "sizeof(int) = 4 bytes\n",
            "sizeof(void *) = 8 bytes\n",
            "sizeof(int *) = 8 bytes\n",
            "sizeof(int **) = 8 bytes\n",
            "sizeof(int ***) = 8 bytes\n",
            "sizeof(float *) = 8 bytes\n"
          ]
        }
      ]
    },
    {
      "cell_type": "code",
      "source": [
        "%%writefile aula1ED.c\n",
        "\n",
        "#include <stdio.h>\n",
        "\n",
        "int main(){\n",
        "  int a = 5, b = 10;\n",
        "  int *p = &a;\n",
        "  printf(\"%d\\n\",*p);\n",
        "\n",
        "  int *q = &b;\n",
        "  printf(\"%d\\n\",*q);\n",
        "\n",
        "  *p = *p + *q;\n",
        "  printf(\"%d\\n\", a);\n",
        "}\n"
      ],
      "metadata": {
        "colab": {
          "base_uri": "https://localhost:8080/"
        },
        "id": "fI-OlXnGZA4d",
        "outputId": "431e7b79-31cf-4953-cdf6-0c337c889b89"
      },
      "execution_count": null,
      "outputs": [
        {
          "output_type": "stream",
          "name": "stdout",
          "text": [
            "Overwriting aula1ED.c\n"
          ]
        }
      ]
    },
    {
      "cell_type": "code",
      "source": [
        "!gcc aula1ED.c -o aula1ED;"
      ],
      "metadata": {
        "id": "nAgIc8zfa_pT"
      },
      "execution_count": null,
      "outputs": []
    },
    {
      "cell_type": "code",
      "source": [
        "!./aula1ED"
      ],
      "metadata": {
        "colab": {
          "base_uri": "https://localhost:8080/"
        },
        "id": "r0LImVNHbSUf",
        "outputId": "6c0810a0-d738-4e75-fcf3-76da6db75aa3"
      },
      "execution_count": null,
      "outputs": [
        {
          "output_type": "stream",
          "name": "stdout",
          "text": [
            "5\n",
            "10\n",
            "15\n"
          ]
        }
      ]
    },
    {
      "cell_type": "code",
      "source": [
        "%%writefile aula1ED.c\n",
        "\n",
        "#include <stdio.h>\n",
        "\n",
        "int main(){\n",
        "  int v[3] = {4,5,6};\n",
        "  int *p = v;\n",
        "  printf(\"%d\\n\", *(p+2));\n",
        "\n",
        "}"
      ],
      "metadata": {
        "colab": {
          "base_uri": "https://localhost:8080/"
        },
        "id": "fPka69yEcApQ",
        "outputId": "c90f4404-8a66-4270-8a5a-dc4e177ba621"
      },
      "execution_count": null,
      "outputs": [
        {
          "output_type": "stream",
          "name": "stdout",
          "text": [
            "Overwriting aula1ED.c\n"
          ]
        }
      ]
    },
    {
      "cell_type": "code",
      "source": [
        "!gcc aula1ED.c -o aula1ED;\n",
        "!./aula1ED"
      ],
      "metadata": {
        "colab": {
          "base_uri": "https://localhost:8080/"
        },
        "id": "IxYYaXT_cYbq",
        "outputId": "2ec75a19-a8b3-4ea2-ea3f-5f511fed82e7"
      },
      "execution_count": null,
      "outputs": [
        {
          "output_type": "stream",
          "name": "stdout",
          "text": [
            "6\n"
          ]
        }
      ]
    },
    {
      "cell_type": "code",
      "source": [
        "%%writefile aula1ED.c\n",
        "\n",
        "#include <stdio.h>\n",
        "\n",
        "int main(){\n",
        "  int a = 20;\n",
        "  int *p = &a;\n",
        "  int **pp = &p;\n",
        "  **pp = 40;\n",
        "  printf(\"%d\\n\", a);\n",
        "}"
      ],
      "metadata": {
        "colab": {
          "base_uri": "https://localhost:8080/"
        },
        "id": "4iLqTRnDc3jW",
        "outputId": "74d3109a-f737-40c8-d424-3a39d70a9cae"
      },
      "execution_count": null,
      "outputs": [
        {
          "output_type": "stream",
          "name": "stdout",
          "text": [
            "Overwriting aula1ED.c\n"
          ]
        }
      ]
    },
    {
      "cell_type": "code",
      "source": [
        "!gcc aula1ED.c -o aula1ED;\n",
        "!./aula1ED"
      ],
      "metadata": {
        "colab": {
          "base_uri": "https://localhost:8080/"
        },
        "id": "EIad8y8qdMTu",
        "outputId": "10f00991-4107-4423-dd64-f02e25b29c5f"
      },
      "execution_count": null,
      "outputs": [
        {
          "output_type": "stream",
          "name": "stdout",
          "text": [
            "40\n"
          ]
        }
      ]
    },
    {
      "cell_type": "code",
      "source": [
        "%%writefile aula1ED.c\n",
        "\n",
        "#include <stdio.h>\n",
        "\n",
        "int main(void) {\n",
        "  int a = 10;\n",
        "  int *p1 = NULL;\n",
        "  int *p2;\n",
        "\n",
        "  printf(\"&a = %p, a = %d\\n\", (void*)&a, a);\n",
        "  printf(\"&p1 = %p, p1 = %p\\n\", (void*)&p1, (void*)p1);\n",
        "  printf(\"&p2 = %p, p2 = %p\\n\\n\", (void*)&p2, (void*)p2);\n",
        "\n",
        "  p1 = &a;\n",
        "  p2 = p1;\n",
        "  *p2 = 4;\n",
        "\n",
        "  printf(\"&a = %p, a = %d\\n\", (void*)&a, a);\n",
        "  printf(\"&p1 = %p, p1 = %p, *p1 = %d\\n\", (void*)&p1, (void*)p1, *p1);\n",
        "  printf(\"&p2 = %p, p2 = %p, *p2 = %d\\n\", (void*)&p2, (void*)p2, *p2);\n",
        "  return 0;\n",
        "}"
      ],
      "metadata": {
        "colab": {
          "base_uri": "https://localhost:8080/"
        },
        "id": "c355mR5bnVic",
        "outputId": "9ec00c1f-93b7-429c-d6fc-43401806d19f"
      },
      "execution_count": null,
      "outputs": [
        {
          "output_type": "stream",
          "name": "stdout",
          "text": [
            "Overwriting aula1ED.c\n"
          ]
        }
      ]
    },
    {
      "cell_type": "code",
      "source": [
        "!gcc aula1ED.c -o aula1ED;\n",
        "!./aula1ED\n"
      ],
      "metadata": {
        "colab": {
          "base_uri": "https://localhost:8080/"
        },
        "id": "veCfxoLZnhq6",
        "outputId": "f9d010b1-8561-4094-b799-040f4aae1612"
      },
      "execution_count": null,
      "outputs": [
        {
          "output_type": "stream",
          "name": "stdout",
          "text": [
            "&a = 0x7ffc0054f504, a = 10\n",
            "&p1 = 0x7ffc0054f508, p1 = (nil)\n",
            "&p2 = 0x7ffc0054f510, p2 = (nil)\n",
            "\n",
            "&a = 0x7ffc0054f504, a = 4\n",
            "&p1 = 0x7ffc0054f508, p1 = 0x7ffc0054f504, *p1 = 4\n",
            "&p2 = 0x7ffc0054f510, p2 = 0x7ffc0054f504, *p2 = 4\n"
          ]
        }
      ]
    },
    {
      "cell_type": "code",
      "source": [
        "#exercicio1\n",
        "%%writefile aula1ED.c\n",
        "\n",
        "#include <stdio.h>\n",
        "\n",
        "int main(void) {\n",
        "  int x = 10;\n",
        "  int *p = &x;\n",
        "  printf(\"%d\\n\", *p);\n",
        "}"
      ],
      "metadata": {
        "colab": {
          "base_uri": "https://localhost:8080/"
        },
        "id": "UEwdK30op-Bm",
        "outputId": "515a1807-3f51-447d-ea85-9e24520ad2f5"
      },
      "execution_count": null,
      "outputs": [
        {
          "output_type": "stream",
          "name": "stdout",
          "text": [
            "Overwriting aula1ED.c\n"
          ]
        }
      ]
    },
    {
      "cell_type": "code",
      "source": [
        "!gcc aula1ED.c -o aula1ED;\n",
        "!./aula1ED\n"
      ],
      "metadata": {
        "colab": {
          "base_uri": "https://localhost:8080/"
        },
        "id": "ATfwYzy1rx3c",
        "outputId": "16691e7f-1b91-4a2a-d724-9195f8d293a4"
      },
      "execution_count": null,
      "outputs": [
        {
          "output_type": "stream",
          "name": "stdout",
          "text": [
            "10\n"
          ]
        }
      ]
    },
    {
      "cell_type": "code",
      "source": [
        "#exercicio2\n",
        "%%writefile aula1ED.c\n",
        "\n",
        "#include <stdio.h>\n",
        "\n",
        "int main(void) {\n",
        "  int a = 5;\n",
        "  int *p = &a;\n",
        "  *p = 7;\n",
        "  printf(\"%d\\n\", a);\n",
        "  printf(\"%d\\n\", *p);\n",
        "}"
      ],
      "metadata": {
        "colab": {
          "base_uri": "https://localhost:8080/"
        },
        "id": "hPT_Jqntr57K",
        "outputId": "c822c618-0248-49de-d08b-5e7bbf0f38e2"
      },
      "execution_count": null,
      "outputs": [
        {
          "output_type": "stream",
          "name": "stdout",
          "text": [
            "Overwriting aula1ED.c\n"
          ]
        }
      ]
    },
    {
      "cell_type": "code",
      "source": [
        "!gcc aula1ED.c -o aula1ED;\n",
        "!./aula1ED\n"
      ],
      "metadata": {
        "colab": {
          "base_uri": "https://localhost:8080/"
        },
        "id": "PVi3-_MNsMdG",
        "outputId": "2119ae26-9c09-4c71-fd94-20bc64909a26"
      },
      "execution_count": null,
      "outputs": [
        {
          "output_type": "stream",
          "name": "stdout",
          "text": [
            "7\n",
            "7\n"
          ]
        }
      ]
    },
    {
      "cell_type": "code",
      "source": [
        "#exercicio3\n",
        "%%writefile aula1ED.c\n",
        "\n",
        "#include <stdio.h>\n",
        "\n",
        "int main(void) {\n",
        "  int a = 20;\n",
        "  int *p = &a;\n",
        "  int **pp = &p;\n",
        "  **pp = 40;\n",
        "  printf(\"%d\\n\", a);\n",
        "}"
      ],
      "metadata": {
        "colab": {
          "base_uri": "https://localhost:8080/"
        },
        "id": "SW1bT6_lsc46",
        "outputId": "a9f7aebf-a976-4b11-81b6-498b3c062d5a"
      },
      "execution_count": null,
      "outputs": [
        {
          "output_type": "stream",
          "name": "stdout",
          "text": [
            "Overwriting aula1ED.c\n"
          ]
        }
      ]
    },
    {
      "cell_type": "code",
      "source": [
        "!gcc aula1ED.c -o aula1ED;\n",
        "!./aula1ED\n"
      ],
      "metadata": {
        "colab": {
          "base_uri": "https://localhost:8080/"
        },
        "id": "26JTOm6VsnTp",
        "outputId": "ed949ce0-54d0-4cbd-a1d1-9687e6b46c79"
      },
      "execution_count": null,
      "outputs": [
        {
          "output_type": "stream",
          "name": "stdout",
          "text": [
            "40\n"
          ]
        }
      ]
    },
    {
      "cell_type": "code",
      "source": [
        "#exercicio4\n",
        "%%writefile aula1ED.c\n",
        "\n",
        "#include <stdio.h>\n",
        "\n",
        "int main(void) {\n",
        "  int a = 3;\n",
        "  int *p = &a;\n",
        "  int **pp = &p;\n",
        "  printf(\"%d\\n\", *p);\n",
        "  printf(\"%d\\n\", **pp);\n",
        "}"
      ],
      "metadata": {
        "colab": {
          "base_uri": "https://localhost:8080/"
        },
        "id": "5tyuw28bs2jJ",
        "outputId": "a06a59d7-870d-4158-f168-c188718b0c4a"
      },
      "execution_count": null,
      "outputs": [
        {
          "output_type": "stream",
          "name": "stdout",
          "text": [
            "Overwriting aula1ED.c\n"
          ]
        }
      ]
    },
    {
      "cell_type": "code",
      "source": [
        "!gcc aula1ED.c -o aula1ED;\n",
        "!./aula1ED\n"
      ],
      "metadata": {
        "colab": {
          "base_uri": "https://localhost:8080/"
        },
        "id": "erdlavQTtJbg",
        "outputId": "c6ad7f04-2294-4ce1-8dcb-0aee0ac0d775"
      },
      "execution_count": null,
      "outputs": [
        {
          "output_type": "stream",
          "name": "stdout",
          "text": [
            "3\n",
            "3\n"
          ]
        }
      ]
    },
    {
      "cell_type": "code",
      "source": [
        "#exercicio5\n",
        "%%writefile aula1ED.c\n",
        "\n",
        "#include <stdio.h>\n",
        "\n",
        "int main(void) {\n",
        "  int x = 1, y = 2;\n",
        "  int *p = &x;\n",
        "\n",
        "  p = &y;\n",
        "  printf(\"%p\\n\", p);\n",
        "  *p = 9;\n",
        "\n",
        "  printf(\"%d\\n\", x);\n",
        "  printf(\"%d\\n\", y);\n",
        "\n",
        "}\n"
      ],
      "metadata": {
        "colab": {
          "base_uri": "https://localhost:8080/"
        },
        "id": "5qGLue3ctUd0",
        "outputId": "09bb6157-5a90-4eb0-f237-e3a32d785c1b"
      },
      "execution_count": null,
      "outputs": [
        {
          "output_type": "stream",
          "name": "stdout",
          "text": [
            "Overwriting aula1ED.c\n"
          ]
        }
      ]
    },
    {
      "cell_type": "code",
      "source": [
        "!gcc aula1ED.c -o aula1ED;\n",
        "!./aula1ED\n"
      ],
      "metadata": {
        "colab": {
          "base_uri": "https://localhost:8080/"
        },
        "id": "QqOY7Ed3uCc9",
        "outputId": "6df27c81-f76e-491f-e3a3-19ecbb750b8a"
      },
      "execution_count": null,
      "outputs": [
        {
          "output_type": "stream",
          "name": "stdout",
          "text": [
            "0x7ffe46e12c2c\n",
            "1\n",
            "9\n"
          ]
        }
      ]
    },
    {
      "cell_type": "code",
      "source": [
        "#exercicio6\n",
        "%%writefile aula1ED.c\n",
        "\n",
        "#include <stdio.h>\n",
        "\n",
        "int main(void) {\n",
        "  int v[3] = {1, 2, 3};\n",
        "  int *p = v;\n",
        "  printf(\"%d\\n\", *(p+1));\n",
        "}"
      ],
      "metadata": {
        "colab": {
          "base_uri": "https://localhost:8080/"
        },
        "id": "q3kBadYvzbMx",
        "outputId": "bacba22e-ded0-4905-cfd2-fcab6283cdb4"
      },
      "execution_count": null,
      "outputs": [
        {
          "output_type": "stream",
          "name": "stdout",
          "text": [
            "Overwriting aula1ED.c\n"
          ]
        }
      ]
    },
    {
      "cell_type": "code",
      "source": [
        "!gcc aula1ED.c -o aula1ED;\n",
        "!./aula1ED\n"
      ],
      "metadata": {
        "colab": {
          "base_uri": "https://localhost:8080/"
        },
        "id": "FUKGgVw_zr0y",
        "outputId": "764b5073-025a-4c80-80a9-b8faaa9900de"
      },
      "execution_count": null,
      "outputs": [
        {
          "output_type": "stream",
          "name": "stdout",
          "text": [
            "2\n"
          ]
        }
      ]
    },
    {
      "cell_type": "code",
      "source": [
        "#exercicio7\n",
        "%%writefile aula1ED.c\n",
        "\n",
        "#include <stdio.h>\n",
        "\n",
        "int main(void) {\n",
        "  int v[3] = {4, 5, 6};\n",
        "  int *p = v;\n",
        "  *(p + 1) = 10;\n",
        "  printf(\"%d\\n\", v[2]);\n",
        "}"
      ],
      "metadata": {
        "colab": {
          "base_uri": "https://localhost:8080/"
        },
        "id": "yZ677JMizw7v",
        "outputId": "fffa0597-c21a-42f1-a51f-086e690a279a"
      },
      "execution_count": null,
      "outputs": [
        {
          "output_type": "stream",
          "name": "stdout",
          "text": [
            "Overwriting aula1ED.c\n"
          ]
        }
      ]
    },
    {
      "cell_type": "code",
      "source": [
        "!gcc aula1ED.c -o aula1ED;\n",
        "!./aula1ED"
      ],
      "metadata": {
        "colab": {
          "base_uri": "https://localhost:8080/"
        },
        "id": "ZUO3s09I0BeU",
        "outputId": "a9954100-dcaf-4be7-c0ac-51ae99042827"
      },
      "execution_count": null,
      "outputs": [
        {
          "output_type": "stream",
          "name": "stdout",
          "text": [
            "6\n"
          ]
        }
      ]
    },
    {
      "cell_type": "code",
      "source": [
        "#exercicio8\n",
        "%%writefile aula1ED.c\n",
        "\n",
        "#include <stdio.h>\n",
        "\n",
        "int main(void) {\n",
        "  int x = 8;\n",
        "  int *p = &x;\n",
        "  printf(\"%p\\n\", p);\n",
        "}"
      ],
      "metadata": {
        "colab": {
          "base_uri": "https://localhost:8080/"
        },
        "id": "ZB6CreMC0Nqa",
        "outputId": "080ffba1-62fd-4286-801b-fab91cee2085"
      },
      "execution_count": null,
      "outputs": [
        {
          "output_type": "stream",
          "name": "stdout",
          "text": [
            "Overwriting aula1ED.c\n"
          ]
        }
      ]
    },
    {
      "cell_type": "code",
      "source": [
        "!gcc aula1ED.c -o aula1ED;\n",
        "!./aula1ED"
      ],
      "metadata": {
        "colab": {
          "base_uri": "https://localhost:8080/"
        },
        "id": "1PpO0rci0dg-",
        "outputId": "f177e05f-1a4c-4585-8349-9f56e14ca518"
      },
      "execution_count": null,
      "outputs": [
        {
          "output_type": "stream",
          "name": "stdout",
          "text": [
            "0x7ffc46fc98dc\n"
          ]
        }
      ]
    },
    {
      "cell_type": "code",
      "source": [
        "#exercicio9\n",
        "%%writefile aula1ED.c\n",
        "\n",
        "#include <stdio.h>\n",
        "\n",
        "int main(void) {\n",
        "  int a = 10;\n",
        "  int *p = &a;\n",
        "  int **pp = &p;\n",
        "  *pp = &a;\n",
        "  *p = 20;\n",
        "  printf(\"%d\\n\", a);\n",
        "\n",
        "}"
      ],
      "metadata": {
        "colab": {
          "base_uri": "https://localhost:8080/"
        },
        "id": "cwEoJmAD04tx",
        "outputId": "ebd877ed-1719-4d00-c91c-d22f951dac2b"
      },
      "execution_count": null,
      "outputs": [
        {
          "output_type": "stream",
          "name": "stdout",
          "text": [
            "Overwriting aula1ED.c\n"
          ]
        }
      ]
    },
    {
      "cell_type": "code",
      "source": [
        "!gcc aula1ED.c -o aula1ED;\n",
        "!./aula1ED"
      ],
      "metadata": {
        "id": "2ofrcxK41nxN"
      },
      "execution_count": 15,
      "outputs": []
    }
  ]
}