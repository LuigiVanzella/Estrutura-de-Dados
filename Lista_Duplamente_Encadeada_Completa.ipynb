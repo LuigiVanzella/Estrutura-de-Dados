{
  "nbformat": 4,
  "nbformat_minor": 0,
  "metadata": {
    "colab": {
      "provenance": [],
      "toc_visible": true,
      "include_colab_link": true
    },
    "kernelspec": {
      "name": "python3",
      "display_name": "Python 3"
    },
    "language_info": {
      "name": "python"
    }
  },
  "cells": [
    {
      "cell_type": "markdown",
      "metadata": {
        "id": "view-in-github",
        "colab_type": "text"
      },
      "source": [
        "<a href=\"https://colab.research.google.com/github/LuigiVanzella/Estrutura-de-Dados/blob/main/Lista_Duplamente_Encadeada_Completa.ipynb\" target=\"_parent\"><img src=\"https://colab.research.google.com/assets/colab-badge.svg\" alt=\"Open In Colab\"/></a>"
      ]
    },
    {
      "cell_type": "code",
      "execution_count": null,
      "metadata": {
        "id": "rh8s2L5Zkr_w"
      },
      "outputs": [],
      "source": []
    },
    {
      "cell_type": "markdown",
      "metadata": {
        "id": "18fb405e"
      },
      "source": [
        "# Lista **Duplamente Encadeada** em C (Colab)\n",
        "\n",
        "Notebook didático com **implementação completa** de Lista Duplamente Encadeada (LDL) em C, incluindo:\n",
        "- `dllist.h`: estruturas e protótipos.\n",
        "- `dllist.c`: funções de criação, inserção, remoção, busca, impressão, *reverse*, *concat* e inserção ordenada.\n",
        "- `main.c`: testes e demonstrações passo-a-passo (com **endereços de memória**).\n",
        "- Células para **compilar e executar**.\n",
        "\n",
        "**Sugestão de estudo**: execute cada célula na ordem e observe a evolução dos ponteiros (`prev`, `next`, `begin`, `end`)."
      ]
    },
    {
      "cell_type": "markdown",
      "metadata": {
        "id": "648a6b17"
      },
      "source": [
        "## Sumário\n",
        "1. Introdução e Estruturas\n",
        "2. Arquivo de Cabeçalho: `dllist.h`\n",
        "3. Implementação: `dllist.c`\n",
        "   - Criação / Destruição / Predicados\n",
        "   - Inserções (`add_first`, `add_last` via `end`, `add_last_traverse`, `add_at`)\n",
        "   - Remoções (`remove_first`, `remove_last`, `remove_at`)\n",
        "   - Busca e Índice (`search`, `index_of`)\n",
        "   - Impressão (`print`, `print_reverse`, `debug`)\n",
        "   - Operações extras (`reverse`, `concat`, `insert_sorted`)\n",
        "4. Programa de Teste: `main.c`\n",
        "5. Compilar & Executar\n",
        "6. Visualização de operações (Python)\n",
        "7. Exercícios & Extensões"
      ]
    },
    {
      "cell_type": "markdown",
      "metadata": {
        "id": "928f608f"
      },
      "source": [
        "## 1) Introdução a Estrutura\n",
        "A **Lista Duplamente Encadeada (LDL)** mantém, em cada nó, ponteiros para o anterior (`prev`) e para o próximo (`next`).\n",
        "No **TAD** abaixo, a lista guarda ponteiros para o **início** (`begin`) e para o **fim** (`end`), permitindo inserções/remoções O(1) nas extremidades.\n",
        "Mantemos também `size` para consultas O(1) do tamanho."
      ]
    },
    {
      "cell_type": "markdown",
      "source": [
        "![image.png](data:image/png;base64,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)"
      ],
      "metadata": {
        "id": "3Fx450akNdt3"
      }
    },
    {
      "cell_type": "code",
      "source": [
        "%%writefile dllist.h\n",
        "#ifndef DLLIST_H\n",
        "#define DLLIST_H\n",
        "\n",
        "#include <stdbool.h>\n",
        "#include <stddef.h>\n",
        "\n",
        "/* Estruturas expostas */\n",
        "typedef struct _dnode {\n",
        "    int val;\n",
        "    struct _dnode *prev;\n",
        "    struct _dnode *next;\n",
        "} DNode;\n",
        "\n",
        "typedef struct _dlinked_list {\n",
        "    DNode *begin;   /* cabeça */\n",
        "    DNode *end;     /* cauda  */\n",
        "    size_t size;    /* número de nós */\n",
        "} DLinkedList;\n",
        "\n",
        "/* Assinaturas das funções públicas */\n",
        "DLinkedList* DLinkedList_create(void);\n",
        "void DLinkedList_add_first(DLinkedList *L, int val);\n",
        "void DLinkedList_debug(const DLinkedList *L);\n",
        "\n",
        "#endif\n",
        "\n"
      ],
      "metadata": {
        "colab": {
          "base_uri": "https://localhost:8080/"
        },
        "id": "kSTr7wyWNqDg",
        "outputId": "f05f3bd2-2734-409e-8c0f-ba78c9bb2153"
      },
      "execution_count": null,
      "outputs": [
        {
          "output_type": "stream",
          "name": "stdout",
          "text": [
            "Overwriting dllist.h\n"
          ]
        }
      ]
    },
    {
      "cell_type": "code",
      "source": [
        "%%writefile dllist.c\n",
        "#include \"dllist.h\"\n",
        "#include <stdio.h>\n",
        "#include <stdlib.h>\n",
        "\n",
        "/* ====================\n",
        " * Estruturas\n",
        " * ==================== */\n",
        "typedef struct _dnode {\n",
        "    int val;\n",
        "    struct _dnode *prev;\n",
        "    struct _dnode *next;\n",
        "} DNode;\n",
        "\n",
        "typedef struct _dlinked_list {\n",
        "    DNode *begin;   /* cabeça */\n",
        "    DNode *end;     /* cauda  */\n",
        "    size_t size;    /* número de nós */\n",
        "} DLinkedList;\n",
        "\n",
        "/* ====================\n",
        " * Auxiliares\n",
        " * ==================== */\n",
        "static DNode* DNode_create(int val){\n",
        "    DNode *n = (DNode*) calloc(1, sizeof(DNode));\n",
        "    if(!n){\n",
        "        fprintf(stderr, \"Erro: sem memória para DNode\\n\");\n",
        "        exit(EXIT_FAILURE);\n",
        "    }\n",
        "    n->val = val;\n",
        "    n->prev = NULL;\n",
        "    n->next = NULL;\n",
        "    return n;\n",
        "}\n",
        "\n",
        "/* ====================\n",
        " * Criação / Destruição / Predicados\n",
        " * ==================== */\n",
        "DLinkedList* DLinkedList_create(void){\n",
        "    DLinkedList *L = (DLinkedList*) calloc(1, sizeof(DLinkedList));\n",
        "    if(!L){\n",
        "        fprintf(stderr, \"Erro: sem memória para DLinkedList\\n\");\n",
        "        exit(EXIT_FAILURE);\n",
        "    }\n",
        "    L->begin = NULL;\n",
        "    L->end   = NULL;\n",
        "    L->size  = 0;\n",
        "    return L;\n",
        "}"
      ],
      "metadata": {
        "colab": {
          "base_uri": "https://localhost:8080/"
        },
        "id": "-AmZAanGNqAb",
        "outputId": "6a5fe427-e5bb-4ca4-d1b3-958d97b2218f"
      },
      "execution_count": null,
      "outputs": [
        {
          "output_type": "stream",
          "name": "stdout",
          "text": [
            "Overwriting dllist.c\n"
          ]
        }
      ]
    },
    {
      "cell_type": "code",
      "source": [
        "!gcc -c dllist.c -o dllist.o\n"
      ],
      "metadata": {
        "id": "B14IJiGvNpzE"
      },
      "execution_count": null,
      "outputs": []
    },
    {
      "cell_type": "markdown",
      "source": [
        "## 2) Criar nó Lista Vazia"
      ],
      "metadata": {
        "id": "VLxYcztkPfhk"
      }
    },
    {
      "cell_type": "markdown",
      "source": [
        "![image.png](data:image/png;base64,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)"
      ],
      "metadata": {
        "id": "w49kuILImWnB"
      }
    },
    {
      "cell_type": "code",
      "source": [
        "%%writefile dllist.h\n",
        "#ifndef DLLIST_H\n",
        "#define DLLIST_H\n",
        "\n",
        "#include <stdbool.h>\n",
        "#include <stddef.h>\n",
        "\n",
        "/* Estruturas expostas (definidas apenas aqui) */\n",
        "typedef struct _dnode {\n",
        "    int val;\n",
        "    struct _dnode *prev;\n",
        "    struct _dnode *next;\n",
        "} DNode;\n",
        "\n",
        "typedef struct _dlinked_list {\n",
        "    DNode *begin;   /* cabeça */\n",
        "    DNode *end;     /* cauda  */\n",
        "    size_t size;    /* número de nós */\n",
        "} DLinkedList;\n",
        "\n",
        "/* Funções públicas */\n",
        "DLinkedList* DLinkedList_create(void);\n",
        "void         DLinkedList_add_first(DLinkedList *L, int val);\n",
        "void         DLinkedList_debug(const DLinkedList *L);\n",
        "\n",
        "#endif\n",
        "\n"
      ],
      "metadata": {
        "colab": {
          "base_uri": "https://localhost:8080/"
        },
        "id": "ezIxDsc4Pmtv",
        "outputId": "5c20d5da-528f-4366-8057-8e987f84c31b"
      },
      "execution_count": null,
      "outputs": [
        {
          "output_type": "stream",
          "name": "stdout",
          "text": [
            "Writing dllist.h\n"
          ]
        }
      ]
    },
    {
      "cell_type": "code",
      "source": [
        "%%writefile dllist.c\n",
        "#include \"dllist.h\"\n",
        "#include <stdio.h>\n",
        "#include <stdlib.h>\n",
        "\n",
        "/* ====================\n",
        " * Auxiliar\n",
        " * ==================== */\n",
        "static DNode* DNode_create(int val){\n",
        "    DNode *n = (DNode*) calloc(1, sizeof(DNode));\n",
        "    if(!n){\n",
        "        fprintf(stderr, \"Erro: sem memória para DNode\\n\");\n",
        "        exit(EXIT_FAILURE);\n",
        "    }\n",
        "    n->val  = val;\n",
        "    n->prev = NULL;\n",
        "    n->next = NULL;\n",
        "    return n;\n",
        "}\n",
        "\n",
        "/* ====================\n",
        " * Criação\n",
        " * ==================== */\n",
        "DLinkedList* DLinkedList_create(void){\n",
        "    DLinkedList *L = (DLinkedList*) calloc(1, sizeof(DLinkedList));\n",
        "    if(!L){\n",
        "        fprintf(stderr, \"Erro: sem memória para DLinkedList\\n\");\n",
        "        exit(EXIT_FAILURE);\n",
        "    }\n",
        "    L->begin = NULL;\n",
        "    L->end   = NULL;\n",
        "    L->size  = 0;\n",
        "    return L;\n",
        "}\n",
        "\n",
        "/* ====================\n",
        " * Inserções\n",
        " * ==================== */\n",
        "void DLinkedList_add_first(DLinkedList *L, int val){\n",
        "    DNode *n = DNode_create(val);\n",
        "    if(L->begin == NULL){\n",
        "        /* lista vazia */\n",
        "        L->begin = L->end = n;\n",
        "    }else{\n",
        "        n->next = L->begin;\n",
        "        L->begin->prev = n;\n",
        "        L->begin = n;\n",
        "    }\n",
        "    L->size++;\n",
        "}\n",
        "\n",
        "/* ====================\n",
        " * Debug\n",
        " * ==================== */\n",
        "/* Debug detalhado: valores e endereços */\n",
        "void DLinkedList_debug(const DLinkedList *L){\n",
        "    printf(\"L (valor do ponteiro)        = %p\\n\", (void*)L);\n",
        "    if(!L){\n",
        "        printf(\"(Lista NULL)\\n\");\n",
        "        return;\n",
        "    }\n",
        "    printf(\"&L->begin (endereço campo)    = %p | L->begin (valor) = %p\\n\",\n",
        "           (void*)&L->begin, (void*)L->begin);\n",
        "    printf(\"&L->end   (endereço campo)    = %p | L->end   (valor) = %p\\n\",\n",
        "           (void*)&L->end,   (void*)L->end);\n",
        "    printf(\"&L->size  (endereço campo)    = %p | L->size          = %zu\\n\",\n",
        "           (void*)&L->size,  L->size);\n",
        "\n",
        "    size_t i = 0;\n",
        "    for(const DNode *p = L->begin; p != NULL; p = p->next, ++i){\n",
        "        printf(\"No[%zu]  @%p | val=%d | &val=%p | \"\n",
        "               \"prev=%p | &prev=%p | next=%p | &next=%p\\n\",\n",
        "               i,\n",
        "               (void*)p, p->val, (void*)&p->val,\n",
        "               (void*)p->prev, (void*)&p->prev,\n",
        "               (void*)p->next, (void*)&p->next);\n",
        "    }\n",
        "}\n",
        "\n"
      ],
      "metadata": {
        "colab": {
          "base_uri": "https://localhost:8080/"
        },
        "id": "I6Mqm-KWPm4a",
        "outputId": "16f10666-baba-459b-fdf9-87f4c06712c9"
      },
      "execution_count": null,
      "outputs": [
        {
          "output_type": "stream",
          "name": "stdout",
          "text": [
            "Overwriting dllist.c\n"
          ]
        }
      ]
    },
    {
      "cell_type": "code",
      "source": [
        "%%writefile main.c\n",
        "#include \"dllist.h\"\n",
        "#include <stdio.h>\n",
        "\n",
        "static void titulo(const char *s){\n",
        "    printf(\"\\n================ %s ================\\n\", s);\n",
        "}\n",
        "\n",
        "int main(void){\n",
        "    titulo(\"CRIAR LISTA VAZIA\");\n",
        "    DLinkedList *MinhaLista = DLinkedList_create();\n",
        "\n",
        "    /* Endereço da VAR ponteiro (na stack) e valor do ponteiro */\n",
        "    printf(\"&MinhaLista (endereco da VAR ponteiro) = %p\\n\", (void*)&MinhaLista);\n",
        "    printf(\"MinhaLista  (valor, endereco da struct)= %p\\n\", (void*)MinhaLista);\n",
        "    DLinkedList_debug(MinhaLista);\n",
        "\n",
        "    titulo(\"ADD_FIRST(10)\");\n",
        "    DLinkedList_add_first(MinhaLista, 10);\n",
        "    printf(\"&MinhaLista (endereco da VAR ponteiro) = %p\\n\", (void*)&MinhaLista);\n",
        "    printf(\"MinhaLista  (valor, endereco da struct)= %p\\n\", (void*)MinhaLista);\n",
        "    DLinkedList_debug(MinhaLista);\n",
        "    return 0;\n",
        "}\n"
      ],
      "metadata": {
        "colab": {
          "base_uri": "https://localhost:8080/"
        },
        "id": "0DaHHu2BPmkq",
        "outputId": "f677309a-4846-4bed-834b-f2258c7b6901"
      },
      "execution_count": null,
      "outputs": [
        {
          "output_type": "stream",
          "name": "stdout",
          "text": [
            "Overwriting main.c\n"
          ]
        }
      ]
    },
    {
      "cell_type": "code",
      "source": [
        "!gcc main.c dllist.c -o prog\n"
      ],
      "metadata": {
        "id": "1kTLzjLzPmGG"
      },
      "execution_count": null,
      "outputs": []
    },
    {
      "cell_type": "code",
      "source": [
        "!./prog"
      ],
      "metadata": {
        "colab": {
          "base_uri": "https://localhost:8080/"
        },
        "id": "0vUFvKtSTqOG",
        "outputId": "6c7f6da3-683f-4e14-d8a2-867c686ef01c"
      },
      "execution_count": null,
      "outputs": [
        {
          "output_type": "stream",
          "name": "stdout",
          "text": [
            "\n",
            "================ CRIAR LISTA VAZIA ================\n",
            "&MinhaLista (endereco da VAR ponteiro) = 0x7ffe566eeb60\n",
            "MinhaLista  (valor, endereco da struct)= 0x5c024a8ab6b0\n",
            "L (valor do ponteiro)        = 0x5c024a8ab6b0\n",
            "&L->begin (endereço campo)    = 0x5c024a8ab6b0 | L->begin (valor) = (nil)\n",
            "&L->end   (endereço campo)    = 0x5c024a8ab6b8 | L->end   (valor) = (nil)\n",
            "&L->size  (endereço campo)    = 0x5c024a8ab6c0 | L->size          = 0\n",
            "\n",
            "================ ADD_FIRST(10) ================\n",
            "&MinhaLista (endereco da VAR ponteiro) = 0x7ffe566eeb60\n",
            "MinhaLista  (valor, endereco da struct)= 0x5c024a8ab6b0\n",
            "L (valor do ponteiro)        = 0x5c024a8ab6b0\n",
            "&L->begin (endereço campo)    = 0x5c024a8ab6b0 | L->begin (valor) = 0x5c024a8ab6d0\n",
            "&L->end   (endereço campo)    = 0x5c024a8ab6b8 | L->end   (valor) = 0x5c024a8ab6d0\n",
            "&L->size  (endereço campo)    = 0x5c024a8ab6c0 | L->size          = 1\n",
            "No[0]  @0x5c024a8ab6d0 | val=10 | &val=0x5c024a8ab6d0 | prev=(nil) | &prev=0x5c024a8ab6d8 | next=(nil) | &next=0x5c024a8ab6e0\n"
          ]
        }
      ]
    },
    {
      "cell_type": "markdown",
      "source": [
        "## 3) Adicionar no Inicio da Lista"
      ],
      "metadata": {
        "id": "vbX0Mmv8oFV3"
      }
    },
    {
      "cell_type": "code",
      "source": [
        "%%writefile dllist.h\n",
        "#ifndef DLLIST_H\n",
        "#define DLLIST_H\n",
        "\n",
        "#include <stdbool.h>\n",
        "#include <stddef.h>\n",
        "\n",
        "/* Estruturas expostas (definidas apenas aqui) */\n",
        "typedef struct _dnode {\n",
        "    int val;\n",
        "    struct _dnode *prev;\n",
        "    struct _dnode *next;\n",
        "} DNode;\n",
        "\n",
        "typedef struct _dlinked_list {\n",
        "    DNode *begin;   /* cabeça */\n",
        "    DNode *end;     /* cauda  */\n",
        "    size_t size;    /* número de nós */\n",
        "} DLinkedList;\n",
        "\n",
        "/* Funções públicas */\n",
        "DLinkedList* DLinkedList_create(void);\n",
        "void         DLinkedList_add_first(DLinkedList *L, int val);\n",
        "void         DLinkedList_debug(const DLinkedList *L);\n",
        "\n",
        "#endif\n",
        "\n"
      ],
      "metadata": {
        "colab": {
          "base_uri": "https://localhost:8080/"
        },
        "id": "V3_Ql9EboTrh",
        "outputId": "4878f6a7-05d2-4582-f624-2b45da41f058"
      },
      "execution_count": null,
      "outputs": [
        {
          "output_type": "stream",
          "name": "stdout",
          "text": [
            "Overwriting dllist.h\n"
          ]
        }
      ]
    },
    {
      "cell_type": "code",
      "source": [
        "%%writefile dllist.c\n",
        "#include \"dllist.h\"\n",
        "#include <stdio.h>\n",
        "#include <stdlib.h>\n",
        "\n",
        "/* ====================\n",
        " * Auxiliar\n",
        " * ==================== */\n",
        "static DNode* DNode_create(int val){\n",
        "    DNode *n = (DNode*) calloc(1, sizeof(DNode));\n",
        "    if(!n){\n",
        "        fprintf(stderr, \"Erro: sem memória para DNode\\n\");\n",
        "        exit(EXIT_FAILURE);\n",
        "    }\n",
        "    n->val  = val;\n",
        "    n->prev = NULL;\n",
        "    n->next = NULL;\n",
        "    return n;\n",
        "}\n",
        "\n",
        "/* ====================\n",
        " * Criação\n",
        " * ==================== */\n",
        "DLinkedList* DLinkedList_create(void){\n",
        "    DLinkedList *L = (DLinkedList*) calloc(1, sizeof(DLinkedList));\n",
        "    if(!L){\n",
        "        fprintf(stderr, \"Erro: sem memória para DLinkedList\\n\");\n",
        "        exit(EXIT_FAILURE);\n",
        "    }\n",
        "    L->begin = NULL;\n",
        "    L->end   = NULL;\n",
        "    L->size  = 0;\n",
        "    return L;\n",
        "}\n",
        "\n",
        "/* ====================\n",
        " * Inserções\n",
        " * ==================== */\n",
        "void DLinkedList_add_first(DLinkedList *L, int val){\n",
        "    DNode *n = DNode_create(val);\n",
        "    if(L->begin == NULL){\n",
        "        /* lista vazia */\n",
        "        L->begin = L->end = n;\n",
        "    }else{\n",
        "        n->next = L->begin;\n",
        "        L->begin->prev = n;\n",
        "        L->begin = n;\n",
        "    }\n",
        "    L->size++;\n",
        "}\n",
        "\n",
        "/* ====================\n",
        " * Debug\n",
        " * ==================== */\n",
        "/* Debug detalhado: valores e endereços */\n",
        "void DLinkedList_debug(const DLinkedList *L){\n",
        "    printf(\"L (valor do ponteiro)        = %p\\n\", (void*)L);\n",
        "    if(!L){\n",
        "        printf(\"(Lista NULL)\\n\");\n",
        "        return;\n",
        "    }\n",
        "    printf(\"&L->begin (endereço campo)    = %p | L->begin (valor) = %p\\n\",\n",
        "           (void*)&L->begin, (void*)L->begin);\n",
        "    printf(\"&L->end   (endereço campo)    = %p | L->end   (valor) = %p\\n\",\n",
        "           (void*)&L->end,   (void*)L->end);\n",
        "    printf(\"&L->size  (endereço campo)    = %p | L->size          = %zu\\n\",\n",
        "           (void*)&L->size,  L->size);\n",
        "\n",
        "    size_t i = 0;\n",
        "    for(const DNode *p = L->begin; p != NULL; p = p->next, ++i){\n",
        "        printf(\"No[%zu]  @%p | val=%d | &val=%p | \"\n",
        "               \"prev=%p | &prev=%p | next=%p | &next=%p\\n\",\n",
        "               i,\n",
        "               (void*)p, p->val, (void*)&p->val,\n",
        "               (void*)p->prev, (void*)&p->prev,\n",
        "               (void*)p->next, (void*)&p->next);\n",
        "    }\n",
        "}\n",
        "\n"
      ],
      "metadata": {
        "colab": {
          "base_uri": "https://localhost:8080/"
        },
        "id": "WmlWSmkxoU2Q",
        "outputId": "9f2b4317-e977-4e41-9ec9-562b2424548b"
      },
      "execution_count": null,
      "outputs": [
        {
          "output_type": "stream",
          "name": "stdout",
          "text": [
            "Overwriting dllist.c\n"
          ]
        }
      ]
    },
    {
      "cell_type": "code",
      "source": [
        "%%writefile main.c\n",
        "#include \"dllist.h\"\n",
        "#include <stdio.h>\n",
        "\n",
        "static void titulo(const char *s){\n",
        "    printf(\"\\n================ %s ================\\n\", s);\n",
        "}\n",
        "\n",
        "int main(void){\n",
        "    titulo(\"CRIAR LISTA VAZIA\");\n",
        "    DLinkedList *MinhaLista = DLinkedList_create();\n",
        "\n",
        "    /* Endereço da VAR ponteiro (na stack) e valor do ponteiro */\n",
        "    printf(\"&MinhaLista (endereco da VAR ponteiro) = %p\\n\", (void*)&MinhaLista);\n",
        "    printf(\"MinhaLista  (valor, endereco da struct)= %p\\n\", (void*)MinhaLista);\n",
        "    DLinkedList_debug(MinhaLista);\n",
        "\n",
        "    titulo(\"ADD_FIRST(10)\");\n",
        "    DLinkedList_add_first(MinhaLista, 10);\n",
        "    printf(\"&MinhaLista (endereco da VAR ponteiro) = %p\\n\", (void*)&MinhaLista);\n",
        "    printf(\"MinhaLista  (valor, endereco da struct)= %p\\n\", (void*)MinhaLista);\n",
        "    DLinkedList_debug(MinhaLista);\n",
        "\n",
        "    titulo(\"ADD_FIRST(20)\");\n",
        "    DLinkedList_add_first(MinhaLista, 20);\n",
        "    printf(\"&MinhaLista (endereco da VAR ponteiro) = %p\\n\", (void*)&MinhaLista);\n",
        "    printf(\"MinhaLista  (valor, endereco da struct)= %p\\n\", (void*)MinhaLista);\n",
        "    DLinkedList_debug(MinhaLista);\n",
        "\n",
        "    return 0;\n",
        "}\n"
      ],
      "metadata": {
        "colab": {
          "base_uri": "https://localhost:8080/"
        },
        "id": "eMKRSSdAoXs7",
        "outputId": "a678b8e7-f172-4216-dd03-c443d2e16963"
      },
      "execution_count": null,
      "outputs": [
        {
          "output_type": "stream",
          "name": "stdout",
          "text": [
            "Overwriting main.c\n"
          ]
        }
      ]
    },
    {
      "cell_type": "code",
      "source": [
        "!gcc main.c dllist.c -o prog\n"
      ],
      "metadata": {
        "id": "ABrvWDoppiHT"
      },
      "execution_count": null,
      "outputs": []
    },
    {
      "cell_type": "code",
      "source": [
        "!./prog\n"
      ],
      "metadata": {
        "colab": {
          "base_uri": "https://localhost:8080/"
        },
        "id": "rixZ59ONpjwd",
        "outputId": "bf6510ed-38b0-408a-820f-66a85d1a9c2c"
      },
      "execution_count": null,
      "outputs": [
        {
          "output_type": "stream",
          "name": "stdout",
          "text": [
            "\n",
            "================ CRIAR LISTA VAZIA ================\n",
            "&MinhaLista (endereco da VAR ponteiro) = 0x7fff86c6af20\n",
            "MinhaLista  (valor, endereco da struct)= 0x5826cde606b0\n",
            "L (valor do ponteiro)        = 0x5826cde606b0\n",
            "&L->begin (endereço campo)    = 0x5826cde606b0 | L->begin (valor) = (nil)\n",
            "&L->end   (endereço campo)    = 0x5826cde606b8 | L->end   (valor) = (nil)\n",
            "&L->size  (endereço campo)    = 0x5826cde606c0 | L->size          = 0\n",
            "\n",
            "================ ADD_FIRST(10) ================\n",
            "&MinhaLista (endereco da VAR ponteiro) = 0x7fff86c6af20\n",
            "MinhaLista  (valor, endereco da struct)= 0x5826cde606b0\n",
            "L (valor do ponteiro)        = 0x5826cde606b0\n",
            "&L->begin (endereço campo)    = 0x5826cde606b0 | L->begin (valor) = 0x5826cde606d0\n",
            "&L->end   (endereço campo)    = 0x5826cde606b8 | L->end   (valor) = 0x5826cde606d0\n",
            "&L->size  (endereço campo)    = 0x5826cde606c0 | L->size          = 1\n",
            "No[0]  @0x5826cde606d0 | val=10 | &val=0x5826cde606d0 | prev=(nil) | &prev=0x5826cde606d8 | next=(nil) | &next=0x5826cde606e0\n",
            "\n",
            "================ ADD_FIRST(20) ================\n",
            "&MinhaLista (endereco da VAR ponteiro) = 0x7fff86c6af20\n",
            "MinhaLista  (valor, endereco da struct)= 0x5826cde606b0\n",
            "L (valor do ponteiro)        = 0x5826cde606b0\n",
            "&L->begin (endereço campo)    = 0x5826cde606b0 | L->begin (valor) = 0x5826cde606f0\n",
            "&L->end   (endereço campo)    = 0x5826cde606b8 | L->end   (valor) = 0x5826cde606d0\n",
            "&L->size  (endereço campo)    = 0x5826cde606c0 | L->size          = 2\n",
            "No[0]  @0x5826cde606f0 | val=20 | &val=0x5826cde606f0 | prev=(nil) | &prev=0x5826cde606f8 | next=0x5826cde606d0 | &next=0x5826cde60700\n",
            "No[1]  @0x5826cde606d0 | val=10 | &val=0x5826cde606d0 | prev=0x5826cde606f0 | &prev=0x5826cde606d8 | next=(nil) | &next=0x5826cde606e0\n"
          ]
        }
      ]
    },
    {
      "cell_type": "markdown",
      "source": [
        "## 4) Adicionar no Final da Lista"
      ],
      "metadata": {
        "id": "xJi3vfsop-Zv"
      }
    },
    {
      "cell_type": "code",
      "source": [
        "%%writefile dllist.h\n",
        "#ifndef DLLIST_H\n",
        "#define DLLIST_H\n",
        "\n",
        "#include <stdbool.h>\n",
        "#include <stddef.h>\n",
        "\n",
        "/* Estruturas expostas (definidas apenas aqui) */\n",
        "typedef struct _dnode {\n",
        "    int val;\n",
        "    struct _dnode *prev;\n",
        "    struct _dnode *next;\n",
        "} DNode;\n",
        "\n",
        "typedef struct _dlinked_list {\n",
        "    DNode *begin;   /* cabeça */\n",
        "    DNode *end;     /* cauda  */\n",
        "    size_t size;    /* número de nós */\n",
        "} DLinkedList;\n",
        "\n",
        "/* Funções públicas */\n",
        "DLinkedList* DLinkedList_create(void);\n",
        "void         DLinkedList_add_first(DLinkedList *L, int val);\n",
        "void         DLinkedList_debug(const DLinkedList *L);\n",
        "void         DLinkedList_add_last(DLinkedList *L, int val);\n",
        "\n",
        "#endif\n",
        "\n"
      ],
      "metadata": {
        "colab": {
          "base_uri": "https://localhost:8080/"
        },
        "outputId": "6b4089eb-1d2c-4f19-abc5-69a86ae3bb73",
        "id": "uFBC_YKBp-Zw"
      },
      "execution_count": null,
      "outputs": [
        {
          "output_type": "stream",
          "name": "stdout",
          "text": [
            "Overwriting dllist.h\n"
          ]
        }
      ]
    },
    {
      "cell_type": "code",
      "source": [
        "%%writefile dllist.c\n",
        "#include \"dllist.h\"\n",
        "#include <stdio.h>\n",
        "#include <stdlib.h>\n",
        "\n",
        "/* ====================\n",
        " * Auxiliar\n",
        " * ==================== */\n",
        "static DNode* DNode_create(int val){\n",
        "    DNode *n = (DNode*) calloc(1, sizeof(DNode));\n",
        "    if(!n){\n",
        "        fprintf(stderr, \"Erro: sem memória para DNode\\n\");\n",
        "        exit(EXIT_FAILURE);\n",
        "    }\n",
        "    n->val  = val;\n",
        "    n->prev = NULL;\n",
        "    n->next = NULL;\n",
        "    return n;\n",
        "}\n",
        "\n",
        "/* ====================\n",
        " * Criação\n",
        " * ==================== */\n",
        "DLinkedList* DLinkedList_create(void){\n",
        "    DLinkedList *L = (DLinkedList*) calloc(1, sizeof(DLinkedList));\n",
        "    if(!L){\n",
        "        fprintf(stderr, \"Erro: sem memória para DLinkedList\\n\");\n",
        "        exit(EXIT_FAILURE);\n",
        "    }\n",
        "    L->begin = NULL;\n",
        "    L->end   = NULL;\n",
        "    L->size  = 0;\n",
        "    return L;\n",
        "}\n",
        "\n",
        "/* ====================\n",
        " * Inserções\n",
        " * ==================== */\n",
        "void DLinkedList_add_first(DLinkedList *L, int val){\n",
        "    DNode *n = DNode_create(val);\n",
        "    if(L->begin == NULL){\n",
        "        /* lista vazia */\n",
        "        L->begin = L->end = n;\n",
        "    }else{\n",
        "        n->next = L->begin;\n",
        "        L->begin->prev = n;\n",
        "        L->begin = n;\n",
        "    }\n",
        "    L->size++;\n",
        "}\n",
        "\n",
        "void DLinkedList_add_last(DLinkedList *L, int val){\n",
        "    DNode *n = DNode_create(val);\n",
        "    if(L->end == NULL){\n",
        "        L->begin = L->end = n;\n",
        "    }else{\n",
        "        n->prev = L->end;\n",
        "        L->end->next = n;\n",
        "        L->end = n;\n",
        "    }\n",
        "    L->size++;\n",
        "}\n",
        "\n",
        "\n",
        "/* ====================\n",
        " * Debug\n",
        " * ==================== */\n",
        "/* Debug detalhado: valores e endereços */\n",
        "void DLinkedList_debug(const DLinkedList *L){\n",
        "    printf(\"L (valor do ponteiro)        = %p\\n\", (void*)L);\n",
        "    if(!L){\n",
        "        printf(\"(Lista NULL)\\n\");\n",
        "        return;\n",
        "    }\n",
        "    printf(\"&L->begin (endereço campo)    = %p | L->begin (valor) = %p\\n\",\n",
        "           (void*)&L->begin, (void*)L->begin);\n",
        "    printf(\"&L->end   (endereço campo)    = %p | L->end   (valor) = %p\\n\",\n",
        "           (void*)&L->end,   (void*)L->end);\n",
        "    printf(\"&L->size  (endereço campo)    = %p | L->size          = %zu\\n\",\n",
        "           (void*)&L->size,  L->size);\n",
        "\n",
        "    size_t i = 0;\n",
        "    for(const DNode *p = L->begin; p != NULL; p = p->next, ++i){\n",
        "        printf(\"No[%zu]  @%p | val=%d | &val=%p | \"\n",
        "               \"prev=%p | &prev=%p | next=%p | &next=%p\\n\",\n",
        "               i,\n",
        "               (void*)p, p->val, (void*)&p->val,\n",
        "               (void*)p->prev, (void*)&p->prev,\n",
        "               (void*)p->next, (void*)&p->next);\n",
        "    }\n",
        "}\n",
        "\n"
      ],
      "metadata": {
        "colab": {
          "base_uri": "https://localhost:8080/"
        },
        "outputId": "111f957c-00c4-4bd6-c013-9990c4615e85",
        "id": "FcvyEA3jp-Zx"
      },
      "execution_count": null,
      "outputs": [
        {
          "output_type": "stream",
          "name": "stdout",
          "text": [
            "Overwriting dllist.c\n"
          ]
        }
      ]
    },
    {
      "cell_type": "code",
      "source": [
        "%%writefile main.c\n",
        "#include \"dllist.h\"\n",
        "#include <stdio.h>\n",
        "\n",
        "static void titulo(const char *s){\n",
        "    printf(\"\\n================ %s ================\\n\", s);\n",
        "}\n",
        "\n",
        "int main(void){\n",
        "    titulo(\"CRIAR LISTA VAZIA\");\n",
        "    DLinkedList *MinhaLista = DLinkedList_create();\n",
        "\n",
        "    /* Endereço da VAR ponteiro (na stack) e valor do ponteiro */\n",
        "    printf(\"&MinhaLista (endereco da VAR ponteiro) = %p\\n\", (void*)&MinhaLista);\n",
        "    printf(\"MinhaLista  (valor, endereco da struct)= %p\\n\", (void*)MinhaLista);\n",
        "    DLinkedList_debug(MinhaLista);\n",
        "\n",
        "    titulo(\"ADD_FIRST(10)\");\n",
        "    DLinkedList_add_first(MinhaLista, 10);\n",
        "    printf(\"&MinhaLista (endereco da VAR ponteiro) = %p\\n\", (void*)&MinhaLista);\n",
        "    printf(\"MinhaLista  (valor, endereco da struct)= %p\\n\", (void*)MinhaLista);\n",
        "    DLinkedList_debug(MinhaLista);\n",
        "\n",
        "    titulo(\"ADD_LAST(20)\");\n",
        "    DLinkedList_add_last(MinhaLista, 20);\n",
        "    printf(\"&MinhaLista (endereco da VAR ponteiro) = %p\\n\", (void*)&MinhaLista);\n",
        "    printf(\"MinhaLista  (valor, endereco da struct)= %p\\n\", (void*)MinhaLista);\n",
        "    DLinkedList_debug(MinhaLista);\n",
        "\n",
        "    return 0;\n",
        "}\n"
      ],
      "metadata": {
        "colab": {
          "base_uri": "https://localhost:8080/"
        },
        "outputId": "5c88417e-a825-4d3b-a82c-d1b9c7934474",
        "id": "SplHc1jCp-Zy"
      },
      "execution_count": null,
      "outputs": [
        {
          "output_type": "stream",
          "name": "stdout",
          "text": [
            "Overwriting main.c\n"
          ]
        }
      ]
    },
    {
      "cell_type": "code",
      "source": [
        "!gcc main.c dllist.c -o prog\n"
      ],
      "metadata": {
        "id": "syddgQlTp-Zy"
      },
      "execution_count": null,
      "outputs": []
    },
    {
      "cell_type": "code",
      "source": [
        "!./prog\n"
      ],
      "metadata": {
        "colab": {
          "base_uri": "https://localhost:8080/"
        },
        "outputId": "19c9d4f5-5622-48d9-83bb-733a94491ada",
        "id": "vXcxW2RPp-Zy"
      },
      "execution_count": null,
      "outputs": [
        {
          "output_type": "stream",
          "name": "stdout",
          "text": [
            "\n",
            "================ CRIAR LISTA VAZIA ================\n",
            "&MinhaLista (endereco da VAR ponteiro) = 0x7ffd06f4fb50\n",
            "MinhaLista  (valor, endereco da struct)= 0x5ccfbea246b0\n",
            "L (valor do ponteiro)        = 0x5ccfbea246b0\n",
            "&L->begin (endereço campo)    = 0x5ccfbea246b0 | L->begin (valor) = (nil)\n",
            "&L->end   (endereço campo)    = 0x5ccfbea246b8 | L->end   (valor) = (nil)\n",
            "&L->size  (endereço campo)    = 0x5ccfbea246c0 | L->size          = 0\n",
            "\n",
            "================ ADD_FIRST(10) ================\n",
            "&MinhaLista (endereco da VAR ponteiro) = 0x7ffd06f4fb50\n",
            "MinhaLista  (valor, endereco da struct)= 0x5ccfbea246b0\n",
            "L (valor do ponteiro)        = 0x5ccfbea246b0\n",
            "&L->begin (endereço campo)    = 0x5ccfbea246b0 | L->begin (valor) = 0x5ccfbea246d0\n",
            "&L->end   (endereço campo)    = 0x5ccfbea246b8 | L->end   (valor) = 0x5ccfbea246d0\n",
            "&L->size  (endereço campo)    = 0x5ccfbea246c0 | L->size          = 1\n",
            "No[0]  @0x5ccfbea246d0 | val=10 | &val=0x5ccfbea246d0 | prev=(nil) | &prev=0x5ccfbea246d8 | next=(nil) | &next=0x5ccfbea246e0\n",
            "\n",
            "================ ADD_LAST(20) ================\n",
            "&MinhaLista (endereco da VAR ponteiro) = 0x7ffd06f4fb50\n",
            "MinhaLista  (valor, endereco da struct)= 0x5ccfbea246b0\n",
            "L (valor do ponteiro)        = 0x5ccfbea246b0\n",
            "&L->begin (endereço campo)    = 0x5ccfbea246b0 | L->begin (valor) = 0x5ccfbea246d0\n",
            "&L->end   (endereço campo)    = 0x5ccfbea246b8 | L->end   (valor) = 0x5ccfbea246f0\n",
            "&L->size  (endereço campo)    = 0x5ccfbea246c0 | L->size          = 2\n",
            "No[0]  @0x5ccfbea246d0 | val=10 | &val=0x5ccfbea246d0 | prev=(nil) | &prev=0x5ccfbea246d8 | next=0x5ccfbea246f0 | &next=0x5ccfbea246e0\n",
            "No[1]  @0x5ccfbea246f0 | val=20 | &val=0x5ccfbea246f0 | prev=0x5ccfbea246d0 | &prev=0x5ccfbea246f8 | next=(nil) | &next=0x5ccfbea24700\n"
          ]
        }
      ]
    },
    {
      "cell_type": "markdown",
      "source": [
        "## 5) Adicionar na posição [i] da Lista"
      ],
      "metadata": {
        "id": "Y_9dHpt3yJG8"
      }
    },
    {
      "cell_type": "code",
      "source": [
        "%%writefile dllist.h\n",
        "#ifndef DLLIST_H\n",
        "#define DLLIST_H\n",
        "\n",
        "#include <stdbool.h>\n",
        "#include <stddef.h>\n",
        "\n",
        "/* Estruturas expostas (definidas apenas aqui) */\n",
        "typedef struct _dnode {\n",
        "    int val;\n",
        "    struct _dnode *prev;\n",
        "    struct _dnode *next;\n",
        "} DNode;\n",
        "\n",
        "typedef struct _dlinked_list {\n",
        "    DNode *begin;   /* cabeça */\n",
        "    DNode *end;     /* cauda  */\n",
        "    size_t size;    /* número de nós */\n",
        "} DLinkedList;\n",
        "\n",
        "/* Funções públicas */\n",
        "DLinkedList* DLinkedList_create(void);\n",
        "void         DLinkedList_add_first(DLinkedList *L, int val);\n",
        "void         DLinkedList_debug(const DLinkedList *L);\n",
        "void         DLinkedList_add_last(DLinkedList *L, int val);\n",
        "bool         DLinkedList_add_at(DLinkedList *L, int val, size_t index);\n",
        "void         DLinkedList_print(const DLinkedList *L);\n",
        "\n",
        "\n",
        "#endif\n",
        "\n"
      ],
      "metadata": {
        "colab": {
          "base_uri": "https://localhost:8080/"
        },
        "outputId": "5176d61c-ce57-4877-c6e2-57132fdbdbbb",
        "id": "3DtEoj4FyJG9"
      },
      "execution_count": null,
      "outputs": [
        {
          "output_type": "stream",
          "name": "stdout",
          "text": [
            "Overwriting dllist.h\n"
          ]
        }
      ]
    },
    {
      "cell_type": "code",
      "source": [
        "%%writefile dllist.c\n",
        "#include \"dllist.h\"\n",
        "#include <stdio.h>\n",
        "#include <stdlib.h>\n",
        "\n",
        "/* ====================\n",
        " * Auxiliar\n",
        " * ==================== */\n",
        "static DNode* DNode_create(int val){\n",
        "    DNode *n = (DNode*) calloc(1, sizeof(DNode));\n",
        "    if(!n){\n",
        "        fprintf(stderr, \"Erro: sem memória para DNode\\n\");\n",
        "        exit(EXIT_FAILURE);\n",
        "    }\n",
        "    n->val  = val;\n",
        "    n->prev = NULL;\n",
        "    n->next = NULL;\n",
        "    return n;\n",
        "}\n",
        "\n",
        "/* ====================\n",
        " * Criação\n",
        " * ==================== */\n",
        "DLinkedList* DLinkedList_create(void){\n",
        "    DLinkedList *L = (DLinkedList*) calloc(1, sizeof(DLinkedList));\n",
        "    if(!L){\n",
        "        fprintf(stderr, \"Erro: sem memória para DLinkedList\\n\");\n",
        "        exit(EXIT_FAILURE);\n",
        "    }\n",
        "    L->begin = NULL;\n",
        "    L->end   = NULL;\n",
        "    L->size  = 0;\n",
        "    return L;\n",
        "}\n",
        "\n",
        "/* ====================\n",
        " * Inserções\n",
        " * ==================== */\n",
        "void DLinkedList_add_first(DLinkedList *L, int val){\n",
        "    DNode *n = DNode_create(val);\n",
        "    if(L->begin == NULL){\n",
        "        /* lista vazia */\n",
        "        L->begin = L->end = n;\n",
        "    }else{\n",
        "        n->next = L->begin;\n",
        "        L->begin->prev = n;\n",
        "        L->begin = n;\n",
        "    }\n",
        "    L->size++;\n",
        "}\n",
        "\n",
        "void DLinkedList_add_last(DLinkedList *L, int val){\n",
        "    DNode *n = DNode_create(val);\n",
        "    if(L->end == NULL){\n",
        "        L->begin = L->end = n;\n",
        "    }else{\n",
        "        n->prev = L->end;\n",
        "        L->end->next = n;\n",
        "        L->end = n;\n",
        "    }\n",
        "    L->size++;\n",
        "}\n",
        "\n",
        "bool DLinkedList_add_at(DLinkedList *L, int val, size_t index){\n",
        "    if(index > L->size) return false;\n",
        "    if(index == 0){ DLinkedList_add_first(L, val); return true; }\n",
        "    if(index == L->size){ DLinkedList_add_last(L, val); return true; }\n",
        "\n",
        "    /* Escolha de direção: se mais perto do fim, começa do end */\n",
        "    DNode *cur;\n",
        "    size_t i;\n",
        "    if(index <= L->size/2){\n",
        "        cur = L->begin; i = 0;\n",
        "        while(i < index){ cur = cur->next; i++; }\n",
        "    }else{\n",
        "        cur = L->end; i = L->size - 1;\n",
        "        while(i > index){ cur = cur->prev; i--; }\n",
        "    }\n",
        "    /* Inserir ANTES de cur */\n",
        "    DNode *n = DNode_create(val);\n",
        "    n->prev = cur->prev;\n",
        "    n->next = cur;\n",
        "    cur->prev->next = n;\n",
        "    cur->prev = n;\n",
        "    L->size++;\n",
        "    return true;\n",
        "}\n",
        "/* ====================\n",
        " * Debug\n",
        " * ==================== */\n",
        "/* Debug detalhado: valores e endereços */\n",
        "void DLinkedList_debug(const DLinkedList *L){\n",
        "    printf(\"L (valor do ponteiro)        = %p\\n\", (void*)L);\n",
        "    if(!L){\n",
        "        printf(\"(Lista NULL)\\n\");\n",
        "        return;\n",
        "    }\n",
        "    printf(\"&L->begin (endereço campo)    = %p | L->begin (valor) = %p\\n\",\n",
        "           (void*)&L->begin, (void*)L->begin);\n",
        "    printf(\"&L->end   (endereço campo)    = %p | L->end   (valor) = %p\\n\",\n",
        "           (void*)&L->end,   (void*)L->end);\n",
        "    printf(\"&L->size  (endereço campo)    = %p | L->size          = %zu\\n\",\n",
        "           (void*)&L->size,  L->size);\n",
        "\n",
        "    size_t i = 0;\n",
        "    for(const DNode *p = L->begin; p != NULL; p = p->next, ++i){\n",
        "        printf(\"No[%zu]  @%p | val=%d | &val=%p | \"\n",
        "               \"prev=%p | &prev=%p | next=%p | &next=%p\\n\",\n",
        "               i,\n",
        "               (void*)p, p->val, (void*)&p->val,\n",
        "               (void*)p->prev, (void*)&p->prev,\n",
        "               (void*)p->next, (void*)&p->next);\n",
        "    }\n",
        "}\n",
        "\n",
        "void DLinkedList_print(const DLinkedList *L){\n",
        "    printf(\"[\");\n",
        "    for(DNode *p = L->begin; p != NULL; p = p->next){\n",
        "        printf(\"%d\", p->val);\n",
        "        if(p->next) printf(\" <-> \");\n",
        "    }\n",
        "    printf(\"] (size=%zu)\\n\", L->size);\n",
        "}\n"
      ],
      "metadata": {
        "colab": {
          "base_uri": "https://localhost:8080/"
        },
        "outputId": "80213c80-c5f3-45ad-edc9-55816754a43f",
        "id": "xcjpgHSGyJG9"
      },
      "execution_count": null,
      "outputs": [
        {
          "output_type": "stream",
          "name": "stdout",
          "text": [
            "Overwriting dllist.c\n"
          ]
        }
      ]
    },
    {
      "cell_type": "code",
      "source": [
        "%%writefile main.c\n",
        "#include \"dllist.h\"\n",
        "#include <stdio.h>\n",
        "\n",
        "static void titulo(const char *s){\n",
        "    printf(\"\\n================ %s ================\\n\", s);\n",
        "}\n",
        "\n",
        "int main(void){\n",
        "    titulo(\"CRIAR LISTA VAZIA\");\n",
        "    DLinkedList *MinhaLista = DLinkedList_create();\n",
        "\n",
        "    /* Endereço da VAR ponteiro (na stack) e valor do ponteiro */\n",
        "    printf(\"&MinhaLista (endereco da VAR ponteiro) = %p\\n\", (void*)&MinhaLista);\n",
        "    printf(\"MinhaLista  (valor, endereco da struct)= %p\\n\", (void*)MinhaLista);\n",
        "    DLinkedList_debug(MinhaLista);\n",
        "\n",
        "    titulo(\"ADD_FIRST(10)\");\n",
        "    DLinkedList_add_first(MinhaLista, 10);\n",
        "    printf(\"&MinhaLista (endereco da VAR ponteiro) = %p\\n\", (void*)&MinhaLista);\n",
        "    printf(\"MinhaLista  (valor, endereco da struct)= %p\\n\", (void*)MinhaLista);\n",
        "    DLinkedList_print(MinhaLista);\n",
        "    DLinkedList_debug(MinhaLista);\n",
        "\n",
        "    titulo(\"ADD_LAST(20)\");\n",
        "    DLinkedList_add_last(MinhaLista, 20);\n",
        "    printf(\"&MinhaLista (endereco da VAR ponteiro) = %p\\n\", (void*)&MinhaLista);\n",
        "    printf(\"MinhaLista  (valor, endereco da struct)= %p\\n\", (void*)MinhaLista);\n",
        "    DLinkedList_print(MinhaLista);\n",
        "    DLinkedList_debug(MinhaLista);\n",
        "\n",
        "    titulo(\"ADD_AT(index=1, val=99)\");\n",
        "    DLinkedList_add_at(MinhaLista,99,1);\n",
        "    DLinkedList_print(MinhaLista);\n",
        "    DLinkedList_debug(MinhaLista);\n",
        "\n",
        "    return 0;\n",
        "}\n"
      ],
      "metadata": {
        "colab": {
          "base_uri": "https://localhost:8080/"
        },
        "outputId": "02cebd1f-6485-4e05-e719-06d91df385a2",
        "id": "e6ClfYZAyJG-"
      },
      "execution_count": null,
      "outputs": [
        {
          "output_type": "stream",
          "name": "stdout",
          "text": [
            "Overwriting main.c\n"
          ]
        }
      ]
    },
    {
      "cell_type": "code",
      "source": [
        "!gcc main.c dllist.c -o prog\n"
      ],
      "metadata": {
        "id": "jiklYwedyJG-"
      },
      "execution_count": null,
      "outputs": []
    },
    {
      "cell_type": "code",
      "source": [
        "!./prog\n"
      ],
      "metadata": {
        "colab": {
          "base_uri": "https://localhost:8080/"
        },
        "outputId": "5c518132-dec6-47ee-e4ca-d917c191e9a5",
        "id": "Fgo3zQ6ZyJG-"
      },
      "execution_count": null,
      "outputs": [
        {
          "output_type": "stream",
          "name": "stdout",
          "text": [
            "\n",
            "================ CRIAR LISTA VAZIA ================\n",
            "&MinhaLista (endereco da VAR ponteiro) = 0x7ffe95cee2e0\n",
            "MinhaLista  (valor, endereco da struct)= 0x5cab802ca6b0\n",
            "L (valor do ponteiro)        = 0x5cab802ca6b0\n",
            "&L->begin (endereço campo)    = 0x5cab802ca6b0 | L->begin (valor) = (nil)\n",
            "&L->end   (endereço campo)    = 0x5cab802ca6b8 | L->end   (valor) = (nil)\n",
            "&L->size  (endereço campo)    = 0x5cab802ca6c0 | L->size          = 0\n",
            "\n",
            "================ ADD_FIRST(10) ================\n",
            "&MinhaLista (endereco da VAR ponteiro) = 0x7ffe95cee2e0\n",
            "MinhaLista  (valor, endereco da struct)= 0x5cab802ca6b0\n",
            "[10] (size=1)\n",
            "L (valor do ponteiro)        = 0x5cab802ca6b0\n",
            "&L->begin (endereço campo)    = 0x5cab802ca6b0 | L->begin (valor) = 0x5cab802ca6d0\n",
            "&L->end   (endereço campo)    = 0x5cab802ca6b8 | L->end   (valor) = 0x5cab802ca6d0\n",
            "&L->size  (endereço campo)    = 0x5cab802ca6c0 | L->size          = 1\n",
            "No[0]  @0x5cab802ca6d0 | val=10 | &val=0x5cab802ca6d0 | prev=(nil) | &prev=0x5cab802ca6d8 | next=(nil) | &next=0x5cab802ca6e0\n",
            "\n",
            "================ ADD_LAST(20) ================\n",
            "&MinhaLista (endereco da VAR ponteiro) = 0x7ffe95cee2e0\n",
            "MinhaLista  (valor, endereco da struct)= 0x5cab802ca6b0\n",
            "[10 <-> 20] (size=2)\n",
            "L (valor do ponteiro)        = 0x5cab802ca6b0\n",
            "&L->begin (endereço campo)    = 0x5cab802ca6b0 | L->begin (valor) = 0x5cab802ca6d0\n",
            "&L->end   (endereço campo)    = 0x5cab802ca6b8 | L->end   (valor) = 0x5cab802ca6f0\n",
            "&L->size  (endereço campo)    = 0x5cab802ca6c0 | L->size          = 2\n",
            "No[0]  @0x5cab802ca6d0 | val=10 | &val=0x5cab802ca6d0 | prev=(nil) | &prev=0x5cab802ca6d8 | next=0x5cab802ca6f0 | &next=0x5cab802ca6e0\n",
            "No[1]  @0x5cab802ca6f0 | val=20 | &val=0x5cab802ca6f0 | prev=0x5cab802ca6d0 | &prev=0x5cab802ca6f8 | next=(nil) | &next=0x5cab802ca700\n",
            "\n",
            "================ ADD_AT(index=1, val=99) ================\n",
            "[10 <-> 99 <-> 20] (size=3)\n",
            "L (valor do ponteiro)        = 0x5cab802ca6b0\n",
            "&L->begin (endereço campo)    = 0x5cab802ca6b0 | L->begin (valor) = 0x5cab802ca6d0\n",
            "&L->end   (endereço campo)    = 0x5cab802ca6b8 | L->end   (valor) = 0x5cab802ca6f0\n",
            "&L->size  (endereço campo)    = 0x5cab802ca6c0 | L->size          = 3\n",
            "No[0]  @0x5cab802ca6d0 | val=10 | &val=0x5cab802ca6d0 | prev=(nil) | &prev=0x5cab802ca6d8 | next=0x5cab802ca710 | &next=0x5cab802ca6e0\n",
            "No[1]  @0x5cab802ca710 | val=99 | &val=0x5cab802ca710 | prev=0x5cab802ca6d0 | &prev=0x5cab802ca718 | next=0x5cab802ca6f0 | &next=0x5cab802ca720\n",
            "No[2]  @0x5cab802ca6f0 | val=20 | &val=0x5cab802ca6f0 | prev=0x5cab802ca710 | &prev=0x5cab802ca6f8 | next=(nil) | &next=0x5cab802ca700\n",
            "\n",
            "================ ADD_LAST(45) ================\n",
            "&MinhaLista (endereco da VAR ponteiro) = 0x7ffe95cee2e0\n",
            "MinhaLista  (valor, endereco da struct)= 0x5cab802ca6b0\n",
            "[10 <-> 99 <-> 20 <-> 20] (size=4)\n",
            "L (valor do ponteiro)        = 0x5cab802ca6b0\n",
            "&L->begin (endereço campo)    = 0x5cab802ca6b0 | L->begin (valor) = 0x5cab802ca6d0\n",
            "&L->end   (endereço campo)    = 0x5cab802ca6b8 | L->end   (valor) = 0x5cab802ca730\n",
            "&L->size  (endereço campo)    = 0x5cab802ca6c0 | L->size          = 4\n",
            "No[0]  @0x5cab802ca6d0 | val=10 | &val=0x5cab802ca6d0 | prev=(nil) | &prev=0x5cab802ca6d8 | next=0x5cab802ca710 | &next=0x5cab802ca6e0\n",
            "No[1]  @0x5cab802ca710 | val=99 | &val=0x5cab802ca710 | prev=0x5cab802ca6d0 | &prev=0x5cab802ca718 | next=0x5cab802ca6f0 | &next=0x5cab802ca720\n",
            "No[2]  @0x5cab802ca6f0 | val=20 | &val=0x5cab802ca6f0 | prev=0x5cab802ca710 | &prev=0x5cab802ca6f8 | next=0x5cab802ca730 | &next=0x5cab802ca700\n",
            "No[3]  @0x5cab802ca730 | val=20 | &val=0x5cab802ca730 | prev=0x5cab802ca6f0 | &prev=0x5cab802ca738 | next=(nil) | &next=0x5cab802ca740\n"
          ]
        }
      ]
    },
    {
      "cell_type": "markdown",
      "source": [
        "## 6) Remover no Inicio da Lista"
      ],
      "metadata": {
        "id": "wsP2S7vq2tAr"
      }
    },
    {
      "cell_type": "code",
      "source": [
        "%%writefile dllist.h\n",
        "#ifndef DLLIST_H\n",
        "#define DLLIST_H\n",
        "\n",
        "#include <stdbool.h>\n",
        "#include <stddef.h>\n",
        "\n",
        "/* Estruturas expostas (definidas apenas aqui) */\n",
        "typedef struct _dnode {\n",
        "    int val;\n",
        "    struct _dnode *prev;\n",
        "    struct _dnode *next;\n",
        "} DNode;\n",
        "\n",
        "typedef struct _dlinked_list {\n",
        "    DNode *begin;   /* cabeça */\n",
        "    DNode *end;     /* cauda  */\n",
        "    size_t size;    /* número de nós */\n",
        "} DLinkedList;\n",
        "\n",
        "/* Funções públicas */\n",
        "DLinkedList* DLinkedList_create(void);\n",
        "void         DLinkedList_add_first(DLinkedList *L, int val);\n",
        "void         DLinkedList_debug(const DLinkedList *L);\n",
        "bool         DLinkedList_remove_first(DLinkedList *L, int *out);\n",
        "void DLinkedList_print(const DLinkedList *L);\n",
        "\n",
        "#endif\n",
        "\n"
      ],
      "metadata": {
        "colab": {
          "base_uri": "https://localhost:8080/"
        },
        "outputId": "f615e14e-f787-4bfc-9487-9cc050a58428",
        "id": "31Wetpov2tAr"
      },
      "execution_count": null,
      "outputs": [
        {
          "output_type": "stream",
          "name": "stdout",
          "text": [
            "Overwriting dllist.h\n"
          ]
        }
      ]
    },
    {
      "cell_type": "code",
      "source": [
        "%%writefile dllist.c\n",
        "#include \"dllist.h\"\n",
        "#include <stdio.h>\n",
        "#include <stdlib.h>\n",
        "\n",
        "/* ====================\n",
        " * Auxiliar\n",
        " * ==================== */\n",
        "static DNode* DNode_create(int val){\n",
        "    DNode *n = (DNode*) calloc(1, sizeof(DNode));\n",
        "    if(!n){\n",
        "        fprintf(stderr, \"Erro: sem memória para DNode\\n\");\n",
        "        exit(EXIT_FAILURE);\n",
        "    }\n",
        "    n->val  = val;\n",
        "    n->prev = NULL;\n",
        "    n->next = NULL;\n",
        "    return n;\n",
        "}\n",
        "\n",
        "/* ====================\n",
        " * Criação\n",
        " * ==================== */\n",
        "DLinkedList* DLinkedList_create(void){\n",
        "    DLinkedList *L = (DLinkedList*) calloc(1, sizeof(DLinkedList));\n",
        "    if(!L){\n",
        "        fprintf(stderr, \"Erro: sem memória para DLinkedList\\n\");\n",
        "        exit(EXIT_FAILURE);\n",
        "    }\n",
        "    L->begin = NULL;\n",
        "    L->end   = NULL;\n",
        "    L->size  = 0;\n",
        "    return L;\n",
        "}\n",
        "\n",
        "/* ====================\n",
        " * Inserções\n",
        " * ==================== */\n",
        "void DLinkedList_add_first(DLinkedList *L, int val){\n",
        "    DNode *n = DNode_create(val);\n",
        "    if(L->begin == NULL){\n",
        "        /* lista vazia */\n",
        "        L->begin = L->end = n;\n",
        "    }else{\n",
        "        n->next = L->begin;\n",
        "        L->begin->prev = n;\n",
        "        L->begin = n;\n",
        "    }\n",
        "    L->size++;\n",
        "}\n",
        "/* ====================\n",
        " * Remoções\n",
        " * ==================== */\n",
        "\n",
        "bool DLinkedList_remove_first(DLinkedList *L, int *out){\n",
        "    if(!L || !L->begin) return false;\n",
        "\n",
        "    DNode *n = L->begin;\n",
        "    if(out) *out = n->val;\n",
        "\n",
        "    L->begin = n->next;          /* avança cabeça */\n",
        "    if(L->begin){\n",
        "        L->begin->prev = NULL;   /* nova cabeça não tem anterior */\n",
        "    }else{\n",
        "        L->end = NULL;           /* lista ficou vazia */\n",
        "    }\n",
        "\n",
        "    free(n);\n",
        "    L->size--;\n",
        "    return true;\n",
        "}\n",
        "\n",
        "\n",
        "/* ====================\n",
        " * Debug\n",
        " * ==================== */\n",
        "/* Debug detalhado: valores e endereços */\n",
        "void DLinkedList_debug(const DLinkedList *L){\n",
        "    printf(\"L (valor do ponteiro)        = %p\\n\", (void*)L);\n",
        "    if(!L){\n",
        "        printf(\"(Lista NULL)\\n\");\n",
        "        return;\n",
        "    }\n",
        "    printf(\"&L->begin (endereço campo)    = %p | L->begin (valor) = %p\\n\",\n",
        "           (void*)&L->begin, (void*)L->begin);\n",
        "    printf(\"&L->end   (endereço campo)    = %p | L->end   (valor) = %p\\n\",\n",
        "           (void*)&L->end,   (void*)L->end);\n",
        "    printf(\"&L->size  (endereço campo)    = %p | L->size          = %zu\\n\",\n",
        "           (void*)&L->size,  L->size);\n",
        "\n",
        "    size_t i = 0;\n",
        "    for(const DNode *p = L->begin; p != NULL; p = p->next, ++i){\n",
        "        printf(\"No[%zu]  @%p | val=%d | &val=%p | \"\n",
        "               \"prev=%p | &prev=%p | next=%p | &next=%p\\n\",\n",
        "               i,\n",
        "               (void*)p, p->val, (void*)&p->val,\n",
        "               (void*)p->prev, (void*)&p->prev,\n",
        "               (void*)p->next, (void*)&p->next);\n",
        "    }\n",
        "}\n",
        "\n",
        "void DLinkedList_print(const DLinkedList *L){\n",
        "    printf(\"[\");\n",
        "    for(DNode *p = L->begin; p != NULL; p = p->next){\n",
        "        printf(\"%d\", p->val);\n",
        "        if(p->next) printf(\" <-> \");\n",
        "    }\n",
        "    printf(\"] (size=%zu)\\n\", L->size);\n",
        "}\n"
      ],
      "metadata": {
        "colab": {
          "base_uri": "https://localhost:8080/"
        },
        "outputId": "2b5b981e-4467-4549-c68f-e86b29b9bd64",
        "id": "kPtIzHTi2tAs"
      },
      "execution_count": null,
      "outputs": [
        {
          "output_type": "stream",
          "name": "stdout",
          "text": [
            "Overwriting dllist.c\n"
          ]
        }
      ]
    },
    {
      "cell_type": "code",
      "source": [
        "%%writefile main.c\n",
        "#include \"dllist.h\"\n",
        "#include <stdio.h>\n",
        "\n",
        "static void titulo(const char *s){\n",
        "    printf(\"\\n================ %s ================\\n\", s);\n",
        "}\n",
        "\n",
        "int main(void){\n",
        "    titulo(\"CRIAR LISTA VAZIA\");\n",
        "    DLinkedList *MinhaLista = DLinkedList_create();\n",
        "\n",
        "    /* Endereço da VAR ponteiro (na stack) e valor do ponteiro */\n",
        "    printf(\"&MinhaLista (endereco da VAR ponteiro) = %p\\n\", (void*)&MinhaLista);\n",
        "    printf(\"MinhaLista  (valor, endereco da struct)= %p\\n\", (void*)MinhaLista);\n",
        "    DLinkedList_debug(MinhaLista);\n",
        "\n",
        "    titulo(\"ADD_FIRST(10)\");\n",
        "    DLinkedList_add_first(MinhaLista, 10);\n",
        "    printf(\"&MinhaLista (endereco da VAR ponteiro) = %p\\n\", (void*)&MinhaLista);\n",
        "    printf(\"MinhaLista  (valor, endereco da struct)= %p\\n\", (void*)MinhaLista);\n",
        "    DLinkedList_debug(MinhaLista);\n",
        "\n",
        "    titulo(\"ADD_FIRST(20)\");\n",
        "    DLinkedList_add_first(MinhaLista, 20);\n",
        "    printf(\"&MinhaLista (endereco da VAR ponteiro) = %p\\n\", (void*)&MinhaLista);\n",
        "    printf(\"MinhaLista  (valor, endereco da struct)= %p\\n\", (void*)MinhaLista);\n",
        "    DLinkedList_debug(MinhaLista);\n",
        "\n",
        "    titulo(\"REMOVE_FIRST\");\n",
        "    int x;\n",
        "    DLinkedList_remove_first(MinhaLista, &x);\n",
        "    printf(\"remove_first -> %d\\n\", x);\n",
        "    DLinkedList_print(MinhaLista);\n",
        "    DLinkedList_debug(MinhaLista);\n",
        "\n",
        "\n",
        "    return 0;\n",
        "}\n"
      ],
      "metadata": {
        "colab": {
          "base_uri": "https://localhost:8080/"
        },
        "outputId": "17f0d65e-9a39-4282-fd3a-3928e336227f",
        "id": "GZWVwv5e2tAs"
      },
      "execution_count": null,
      "outputs": [
        {
          "output_type": "stream",
          "name": "stdout",
          "text": [
            "Overwriting main.c\n"
          ]
        }
      ]
    },
    {
      "cell_type": "code",
      "source": [
        "!gcc main.c dllist.c -o prog\n"
      ],
      "metadata": {
        "id": "b8y7ZoGx2tAs"
      },
      "execution_count": null,
      "outputs": []
    },
    {
      "cell_type": "code",
      "source": [
        "!./prog\n"
      ],
      "metadata": {
        "colab": {
          "base_uri": "https://localhost:8080/"
        },
        "outputId": "f4b4bc56-6f79-4190-81fa-1a17aecfabed",
        "id": "qw4bR2qu2tAs"
      },
      "execution_count": null,
      "outputs": [
        {
          "output_type": "stream",
          "name": "stdout",
          "text": [
            "\n",
            "================ CRIAR LISTA VAZIA ================\n",
            "&MinhaLista (endereco da VAR ponteiro) = 0x7ffdad2a5af0\n",
            "MinhaLista  (valor, endereco da struct)= 0x5d4e0bb3f6b0\n",
            "L (valor do ponteiro)        = 0x5d4e0bb3f6b0\n",
            "&L->begin (endereço campo)    = 0x5d4e0bb3f6b0 | L->begin (valor) = (nil)\n",
            "&L->end   (endereço campo)    = 0x5d4e0bb3f6b8 | L->end   (valor) = (nil)\n",
            "&L->size  (endereço campo)    = 0x5d4e0bb3f6c0 | L->size          = 0\n",
            "\n",
            "================ ADD_FIRST(10) ================\n",
            "&MinhaLista (endereco da VAR ponteiro) = 0x7ffdad2a5af0\n",
            "MinhaLista  (valor, endereco da struct)= 0x5d4e0bb3f6b0\n",
            "L (valor do ponteiro)        = 0x5d4e0bb3f6b0\n",
            "&L->begin (endereço campo)    = 0x5d4e0bb3f6b0 | L->begin (valor) = 0x5d4e0bb3f6d0\n",
            "&L->end   (endereço campo)    = 0x5d4e0bb3f6b8 | L->end   (valor) = 0x5d4e0bb3f6d0\n",
            "&L->size  (endereço campo)    = 0x5d4e0bb3f6c0 | L->size          = 1\n",
            "No[0]  @0x5d4e0bb3f6d0 | val=10 | &val=0x5d4e0bb3f6d0 | prev=(nil) | &prev=0x5d4e0bb3f6d8 | next=(nil) | &next=0x5d4e0bb3f6e0\n",
            "\n",
            "================ ADD_FIRST(20) ================\n",
            "&MinhaLista (endereco da VAR ponteiro) = 0x7ffdad2a5af0\n",
            "MinhaLista  (valor, endereco da struct)= 0x5d4e0bb3f6b0\n",
            "L (valor do ponteiro)        = 0x5d4e0bb3f6b0\n",
            "&L->begin (endereço campo)    = 0x5d4e0bb3f6b0 | L->begin (valor) = 0x5d4e0bb3f6f0\n",
            "&L->end   (endereço campo)    = 0x5d4e0bb3f6b8 | L->end   (valor) = 0x5d4e0bb3f6d0\n",
            "&L->size  (endereço campo)    = 0x5d4e0bb3f6c0 | L->size          = 2\n",
            "No[0]  @0x5d4e0bb3f6f0 | val=20 | &val=0x5d4e0bb3f6f0 | prev=(nil) | &prev=0x5d4e0bb3f6f8 | next=0x5d4e0bb3f6d0 | &next=0x5d4e0bb3f700\n",
            "No[1]  @0x5d4e0bb3f6d0 | val=10 | &val=0x5d4e0bb3f6d0 | prev=0x5d4e0bb3f6f0 | &prev=0x5d4e0bb3f6d8 | next=(nil) | &next=0x5d4e0bb3f6e0\n",
            "\n",
            "================ REMOVE_FIRST ================\n",
            "remove_first -> 20\n",
            "[10] (size=1)\n",
            "L (valor do ponteiro)        = 0x5d4e0bb3f6b0\n",
            "&L->begin (endereço campo)    = 0x5d4e0bb3f6b0 | L->begin (valor) = 0x5d4e0bb3f6d0\n",
            "&L->end   (endereço campo)    = 0x5d4e0bb3f6b8 | L->end   (valor) = 0x5d4e0bb3f6d0\n",
            "&L->size  (endereço campo)    = 0x5d4e0bb3f6c0 | L->size          = 1\n",
            "No[0]  @0x5d4e0bb3f6d0 | val=10 | &val=0x5d4e0bb3f6d0 | prev=(nil) | &prev=0x5d4e0bb3f6d8 | next=(nil) | &next=0x5d4e0bb3f6e0\n"
          ]
        }
      ]
    },
    {
      "cell_type": "markdown",
      "source": [
        "## 7) Remover no Final da Lista"
      ],
      "metadata": {
        "id": "fwVzzGFf2tAt"
      }
    },
    {
      "cell_type": "code",
      "source": [
        "%%writefile dllist.h\n",
        "#ifndef DLLIST_H\n",
        "#define DLLIST_H\n",
        "\n",
        "#include <stdbool.h>\n",
        "#include <stddef.h>\n",
        "\n",
        "/* Estruturas expostas (definidas apenas aqui) */\n",
        "typedef struct _dnode {\n",
        "    int val;\n",
        "    struct _dnode *prev;\n",
        "    struct _dnode *next;\n",
        "} DNode;\n",
        "\n",
        "typedef struct _dlinked_list {\n",
        "    DNode *begin;   /* cabeça */\n",
        "    DNode *end;     /* cauda  */\n",
        "    size_t size;    /* número de nós */\n",
        "} DLinkedList;\n",
        "\n",
        "/* Funções públicas */\n",
        "DLinkedList* DLinkedList_create(void);\n",
        "void         DLinkedList_add_first(DLinkedList *L, int val);\n",
        "void         DLinkedList_debug(const DLinkedList *L);\n",
        "void         DLinkedList_add_last(DLinkedList *L, int val);\n",
        "bool  DLinkedList_remove_first(DLinkedList *L, int *out);\n",
        "bool  DLinkedList_remove_last (DLinkedList *L, int *out);\n",
        "\n",
        "void DLinkedList_print(const DLinkedList *L);\n",
        "\n",
        "#endif\n",
        "\n"
      ],
      "metadata": {
        "colab": {
          "base_uri": "https://localhost:8080/"
        },
        "outputId": "4eac5299-ffe3-4ffb-8188-530152421c8c",
        "id": "Sd9aAe272tAt"
      },
      "execution_count": null,
      "outputs": [
        {
          "output_type": "stream",
          "name": "stdout",
          "text": [
            "Overwriting dllist.h\n"
          ]
        }
      ]
    },
    {
      "cell_type": "code",
      "source": [
        "%%writefile dllist.c\n",
        "#include \"dllist.h\"\n",
        "#include <stdio.h>\n",
        "#include <stdlib.h>\n",
        "\n",
        "/* ====================\n",
        " * Auxiliar\n",
        " * ==================== */\n",
        "static DNode* DNode_create(int val){\n",
        "    DNode *n = (DNode*) calloc(1, sizeof(DNode));\n",
        "    if(!n){\n",
        "        fprintf(stderr, \"Erro: sem memória para DNode\\n\");\n",
        "        exit(EXIT_FAILURE);\n",
        "    }\n",
        "    n->val  = val;\n",
        "    n->prev = NULL;\n",
        "    n->next = NULL;\n",
        "    return n;\n",
        "}\n",
        "\n",
        "/* ====================\n",
        " * Criação\n",
        " * ==================== */\n",
        "DLinkedList* DLinkedList_create(void){\n",
        "    DLinkedList *L = (DLinkedList*) calloc(1, sizeof(DLinkedList));\n",
        "    if(!L){\n",
        "        fprintf(stderr, \"Erro: sem memória para DLinkedList\\n\");\n",
        "        exit(EXIT_FAILURE);\n",
        "    }\n",
        "    L->begin = NULL;\n",
        "    L->end   = NULL;\n",
        "    L->size  = 0;\n",
        "    return L;\n",
        "}\n",
        "\n",
        "/* ====================\n",
        " * Inserções\n",
        " * ==================== */\n",
        "void DLinkedList_add_first(DLinkedList *L, int val){\n",
        "    DNode *n = DNode_create(val);\n",
        "    if(L->begin == NULL){\n",
        "        /* lista vazia */\n",
        "        L->begin = L->end = n;\n",
        "    }else{\n",
        "        n->next = L->begin;\n",
        "        L->begin->prev = n;\n",
        "        L->begin = n;\n",
        "    }\n",
        "    L->size++;\n",
        "}\n",
        "\n",
        "void DLinkedList_add_last(DLinkedList *L, int val){\n",
        "    DNode *n = DNode_create(val);\n",
        "    if(L->end == NULL){\n",
        "        L->begin = L->end = n;\n",
        "    }else{\n",
        "        n->prev = L->end;\n",
        "        L->end->next = n;\n",
        "        L->end = n;\n",
        "    }\n",
        "    L->size++;\n",
        "}\n",
        "\n",
        "/* ====================\n",
        " * Remover\n",
        " * ==================== */\n",
        "\n",
        "\n",
        "bool DLinkedList_remove_first(DLinkedList *L, int *out){\n",
        "    if(!L || !L->begin) return false;\n",
        "\n",
        "    DNode *n = L->begin;\n",
        "    if(out) *out = n->val;\n",
        "\n",
        "    L->begin = n->next;          /* avança cabeça */\n",
        "    if(L->begin){\n",
        "        L->begin->prev = NULL;   /* nova cabeça não tem anterior */\n",
        "    }else{\n",
        "        L->end = NULL;           /* lista ficou vazia */\n",
        "    }\n",
        "\n",
        "    free(n);\n",
        "    L->size--;\n",
        "    return true;\n",
        "}\n",
        "\n",
        "bool DLinkedList_remove_last(DLinkedList *L, int *out){\n",
        "    if(!L || !L->end) return false;\n",
        "\n",
        "    DNode *n = L->end;\n",
        "    if(out) *out = n->val;\n",
        "\n",
        "    L->end = n->prev;            /* recua cauda */\n",
        "    if(L->end){\n",
        "        L->end->next = NULL;     /* nova cauda não tem próximo */\n",
        "    }else{\n",
        "        L->begin = NULL;         /* lista ficou vazia */\n",
        "    }\n",
        "\n",
        "    free(n);\n",
        "    L->size--;\n",
        "    return true;\n",
        "}\n",
        "\n",
        "/* ====================\n",
        " * Debug\n",
        " * ==================== */\n",
        "/* Debug detalhado: valores e endereços */\n",
        "void DLinkedList_debug(const DLinkedList *L){\n",
        "    printf(\"L (valor do ponteiro)        = %p\\n\", (void*)L);\n",
        "    if(!L){\n",
        "        printf(\"(Lista NULL)\\n\");\n",
        "        return;\n",
        "    }\n",
        "    printf(\"&L->begin (endereço campo)    = %p | L->begin (valor) = %p\\n\",\n",
        "           (void*)&L->begin, (void*)L->begin);\n",
        "    printf(\"&L->end   (endereço campo)    = %p | L->end   (valor) = %p\\n\",\n",
        "           (void*)&L->end,   (void*)L->end);\n",
        "    printf(\"&L->size  (endereço campo)    = %p | L->size          = %zu\\n\",\n",
        "           (void*)&L->size,  L->size);\n",
        "\n",
        "    size_t i = 0;\n",
        "    for(const DNode *p = L->begin; p != NULL; p = p->next, ++i){\n",
        "        printf(\"No[%zu]  @%p | val=%d | &val=%p | \"\n",
        "               \"prev=%p | &prev=%p | next=%p | &next=%p\\n\",\n",
        "               i,\n",
        "               (void*)p, p->val, (void*)&p->val,\n",
        "               (void*)p->prev, (void*)&p->prev,\n",
        "               (void*)p->next, (void*)&p->next);\n",
        "    }\n",
        "}\n",
        "\n",
        "void DLinkedList_print(const DLinkedList *L){\n",
        "    printf(\"[\");\n",
        "    for(DNode *p = L->begin; p != NULL; p = p->next){\n",
        "        printf(\"%d\", p->val);\n",
        "        if(p->next) printf(\" <-> \");\n",
        "    }\n",
        "    printf(\"] (size=%zu)\\n\", L->size);\n",
        "}"
      ],
      "metadata": {
        "colab": {
          "base_uri": "https://localhost:8080/"
        },
        "outputId": "c1cc8b91-f58b-4d4a-8392-e03458905c6f",
        "id": "71_o2eZF2tAt"
      },
      "execution_count": null,
      "outputs": [
        {
          "output_type": "stream",
          "name": "stdout",
          "text": [
            "Overwriting dllist.c\n"
          ]
        }
      ]
    },
    {
      "cell_type": "code",
      "source": [
        "%%writefile main.c\n",
        "#include \"dllist.h\"\n",
        "#include <stdio.h>\n",
        "\n",
        "static void titulo(const char *s){\n",
        "    printf(\"\\n================ %s ================\\n\", s);\n",
        "}\n",
        "\n",
        "int main(void){\n",
        "    titulo(\"CRIAR LISTA VAZIA\");\n",
        "    DLinkedList *MinhaLista = DLinkedList_create();\n",
        "\n",
        "    /* Endereço da VAR ponteiro (na stack) e valor do ponteiro */\n",
        "    printf(\"&MinhaLista (endereco da VAR ponteiro) = %p\\n\", (void*)&MinhaLista);\n",
        "    printf(\"MinhaLista  (valor, endereco da struct)= %p\\n\", (void*)MinhaLista);\n",
        "    DLinkedList_debug(MinhaLista);\n",
        "\n",
        "    titulo(\"ADD_FIRST(10)\");\n",
        "    DLinkedList_add_first(MinhaLista, 10);\n",
        "    printf(\"&MinhaLista (endereco da VAR ponteiro) = %p\\n\", (void*)&MinhaLista);\n",
        "    printf(\"MinhaLista  (valor, endereco da struct)= %p\\n\", (void*)MinhaLista);\n",
        "    DLinkedList_debug(MinhaLista);\n",
        "\n",
        "    titulo(\"ADD_LAST(20)\");\n",
        "    DLinkedList_add_last(MinhaLista, 20);\n",
        "    printf(\"&MinhaLista (endereco da VAR ponteiro) = %p\\n\", (void*)&MinhaLista);\n",
        "    printf(\"MinhaLista  (valor, endereco da struct)= %p\\n\", (void*)MinhaLista);\n",
        "    DLinkedList_debug(MinhaLista);\n",
        "\n",
        "    titulo(\"REMOVE_LAST\");\n",
        "    int x;\n",
        "    DLinkedList_remove_last(MinhaLista, &x);\n",
        "    printf(\"remove_last -> %d\\n\", x);\n",
        "    DLinkedList_print(MinhaLista);\n",
        "    DLinkedList_debug(MinhaLista);\n",
        "\n",
        "    return 0;\n",
        "}\n"
      ],
      "metadata": {
        "colab": {
          "base_uri": "https://localhost:8080/"
        },
        "outputId": "3ce9d208-e5d7-40c0-820d-8fb8aa0bfd39",
        "id": "lWmrDPku2tAt"
      },
      "execution_count": null,
      "outputs": [
        {
          "output_type": "stream",
          "name": "stdout",
          "text": [
            "Overwriting main.c\n"
          ]
        }
      ]
    },
    {
      "cell_type": "code",
      "source": [
        "!gcc main.c dllist.c -o prog\n"
      ],
      "metadata": {
        "id": "i_gzm-oe2tAt"
      },
      "execution_count": null,
      "outputs": []
    },
    {
      "cell_type": "code",
      "source": [
        "!./prog\n"
      ],
      "metadata": {
        "colab": {
          "base_uri": "https://localhost:8080/"
        },
        "outputId": "4096d772-84f0-4291-a7f7-6ffffc99dee1",
        "id": "80uXbPSf2tAt"
      },
      "execution_count": null,
      "outputs": [
        {
          "output_type": "stream",
          "name": "stdout",
          "text": [
            "\n",
            "================ CRIAR LISTA VAZIA ================\n",
            "&MinhaLista (endereco da VAR ponteiro) = 0x7ffd17e8db40\n",
            "MinhaLista  (valor, endereco da struct)= 0x5b41c95ea6b0\n",
            "L (valor do ponteiro)        = 0x5b41c95ea6b0\n",
            "&L->begin (endereço campo)    = 0x5b41c95ea6b0 | L->begin (valor) = (nil)\n",
            "&L->end   (endereço campo)    = 0x5b41c95ea6b8 | L->end   (valor) = (nil)\n",
            "&L->size  (endereço campo)    = 0x5b41c95ea6c0 | L->size          = 0\n",
            "\n",
            "================ ADD_FIRST(10) ================\n",
            "&MinhaLista (endereco da VAR ponteiro) = 0x7ffd17e8db40\n",
            "MinhaLista  (valor, endereco da struct)= 0x5b41c95ea6b0\n",
            "L (valor do ponteiro)        = 0x5b41c95ea6b0\n",
            "&L->begin (endereço campo)    = 0x5b41c95ea6b0 | L->begin (valor) = 0x5b41c95ea6d0\n",
            "&L->end   (endereço campo)    = 0x5b41c95ea6b8 | L->end   (valor) = 0x5b41c95ea6d0\n",
            "&L->size  (endereço campo)    = 0x5b41c95ea6c0 | L->size          = 1\n",
            "No[0]  @0x5b41c95ea6d0 | val=10 | &val=0x5b41c95ea6d0 | prev=(nil) | &prev=0x5b41c95ea6d8 | next=(nil) | &next=0x5b41c95ea6e0\n",
            "\n",
            "================ ADD_LAST(20) ================\n",
            "&MinhaLista (endereco da VAR ponteiro) = 0x7ffd17e8db40\n",
            "MinhaLista  (valor, endereco da struct)= 0x5b41c95ea6b0\n",
            "L (valor do ponteiro)        = 0x5b41c95ea6b0\n",
            "&L->begin (endereço campo)    = 0x5b41c95ea6b0 | L->begin (valor) = 0x5b41c95ea6d0\n",
            "&L->end   (endereço campo)    = 0x5b41c95ea6b8 | L->end   (valor) = 0x5b41c95ea6f0\n",
            "&L->size  (endereço campo)    = 0x5b41c95ea6c0 | L->size          = 2\n",
            "No[0]  @0x5b41c95ea6d0 | val=10 | &val=0x5b41c95ea6d0 | prev=(nil) | &prev=0x5b41c95ea6d8 | next=0x5b41c95ea6f0 | &next=0x5b41c95ea6e0\n",
            "No[1]  @0x5b41c95ea6f0 | val=20 | &val=0x5b41c95ea6f0 | prev=0x5b41c95ea6d0 | &prev=0x5b41c95ea6f8 | next=(nil) | &next=0x5b41c95ea700\n",
            "\n",
            "================ REMOVE_LAST ================\n",
            "remove_last -> 20\n",
            "[10] (size=1)\n",
            "L (valor do ponteiro)        = 0x5b41c95ea6b0\n",
            "&L->begin (endereço campo)    = 0x5b41c95ea6b0 | L->begin (valor) = 0x5b41c95ea6d0\n",
            "&L->end   (endereço campo)    = 0x5b41c95ea6b8 | L->end   (valor) = 0x5b41c95ea6d0\n",
            "&L->size  (endereço campo)    = 0x5b41c95ea6c0 | L->size          = 1\n",
            "No[0]  @0x5b41c95ea6d0 | val=10 | &val=0x5b41c95ea6d0 | prev=(nil) | &prev=0x5b41c95ea6d8 | next=(nil) | &next=0x5b41c95ea6e0\n"
          ]
        }
      ]
    },
    {
      "cell_type": "markdown",
      "source": [
        "## 8) Remover na posição [i] da Lista"
      ],
      "metadata": {
        "id": "8ihtufkJ2tAt"
      }
    },
    {
      "cell_type": "code",
      "source": [
        "%%writefile dllist.h\n",
        "#ifndef DLLIST_H\n",
        "#define DLLIST_H\n",
        "\n",
        "#include <stdbool.h>\n",
        "#include <stddef.h>\n",
        "\n",
        "/* Estruturas expostas */\n",
        "typedef struct _dnode {\n",
        "    int val;\n",
        "    struct _dnode *prev;\n",
        "    struct _dnode *next;\n",
        "} DNode;\n",
        "\n",
        "typedef struct _dlinked_list {\n",
        "    DNode *begin;   /* cabeça */\n",
        "    DNode *end;     /* cauda  */\n",
        "    size_t size;    /* número de nós */\n",
        "} DLinkedList;\n",
        "\n",
        "/* API pública */\n",
        "DLinkedList* DLinkedList_create(void);\n",
        "\n",
        "/* Inserções */\n",
        "void  DLinkedList_add_first(DLinkedList *L, int val);\n",
        "void  DLinkedList_add_last (DLinkedList *L, int val);\n",
        "bool  DLinkedList_add_at   (DLinkedList *L, int val, size_t index);  /* <-- NOVO */\n",
        "\n",
        "/* Remoções */\n",
        "bool  DLinkedList_remove_first(DLinkedList *L, int *out);\n",
        "bool  DLinkedList_remove_last (DLinkedList *L, int *out);\n",
        "bool  DLinkedList_remove_at   (DLinkedList *L, size_t index, int *out); /* <-- (já usa no .c) */\n",
        "\n",
        "/* Utilitários */\n",
        "void  DLinkedList_print(const DLinkedList *L);\n",
        "void  DLinkedList_debug(const DLinkedList *L);\n",
        "\n",
        "#endif\n"
      ],
      "metadata": {
        "colab": {
          "base_uri": "https://localhost:8080/"
        },
        "outputId": "765c5b53-a153-49f7-e1b3-a9c9df198f22",
        "id": "4pDFS9Mh2tAt"
      },
      "execution_count": null,
      "outputs": [
        {
          "output_type": "stream",
          "name": "stdout",
          "text": [
            "Overwriting dllist.h\n"
          ]
        }
      ]
    },
    {
      "cell_type": "code",
      "source": [
        "%%writefile dllist.c\n",
        "#include \"dllist.h\"\n",
        "#include <stdio.h>\n",
        "#include <stdlib.h>\n",
        "\n",
        "/* ====================\n",
        " * Auxiliar\n",
        " * ==================== */\n",
        "static DNode* DNode_create(int val){\n",
        "    DNode *n = (DNode*) calloc(1, sizeof(DNode));\n",
        "    if(!n){\n",
        "        fprintf(stderr, \"Erro: sem memória para DNode\\n\");\n",
        "        exit(EXIT_FAILURE);\n",
        "    }\n",
        "    n->val  = val;\n",
        "    n->prev = NULL;\n",
        "    n->next = NULL;\n",
        "    return n;\n",
        "}\n",
        "\n",
        "/* ====================\n",
        " * Criação\n",
        " * ==================== */\n",
        "DLinkedList* DLinkedList_create(void){\n",
        "    DLinkedList *L = (DLinkedList*) calloc(1, sizeof(DLinkedList));\n",
        "    if(!L){\n",
        "        fprintf(stderr, \"Erro: sem memória para DLinkedList\\n\");\n",
        "        exit(EXIT_FAILURE);\n",
        "    }\n",
        "    L->begin = NULL;\n",
        "    L->end   = NULL;\n",
        "    L->size  = 0;\n",
        "    return L;\n",
        "}\n",
        "\n",
        "/* ====================\n",
        " * Inserções\n",
        " * ==================== */\n",
        "void DLinkedList_add_first(DLinkedList *L, int val){\n",
        "    DNode *n = DNode_create(val);\n",
        "    if(L->begin == NULL){\n",
        "        /* lista vazia */\n",
        "        L->begin = L->end = n;\n",
        "    }else{\n",
        "        n->next = L->begin;\n",
        "        L->begin->prev = n;\n",
        "        L->begin = n;\n",
        "    }\n",
        "    L->size++;\n",
        "}\n",
        "\n",
        "void DLinkedList_add_last(DLinkedList *L, int val){\n",
        "    DNode *n = DNode_create(val);\n",
        "    if(L->end == NULL){\n",
        "        L->begin = L->end = n;\n",
        "    }else{\n",
        "        n->prev = L->end;\n",
        "        L->end->next = n;\n",
        "        L->end = n;\n",
        "    }\n",
        "    L->size++;\n",
        "}\n",
        "\n",
        "/* Inserir em índice (0-based). Insere ANTES de index. */\n",
        "bool DLinkedList_add_at(DLinkedList *L, int val, size_t index){\n",
        "    if(!L || index > L->size) return false;\n",
        "\n",
        "    if(index == 0){                 /* antes do primeiro */\n",
        "        DLinkedList_add_first(L, val);\n",
        "        return true;\n",
        "    }\n",
        "    if(index == L->size){           /* no fim (após o último) */\n",
        "        DLinkedList_add_last(L, val);\n",
        "        return true;\n",
        "    }\n",
        "\n",
        "    /* Caminho mais curto até o nó atualmente em 'index' */\n",
        "    DNode *cur;\n",
        "    if(index <= L->size/2){\n",
        "        cur = L->begin;\n",
        "        for(size_t i = 0; i < index; ++i) cur = cur->next;\n",
        "    }else{\n",
        "        cur = L->end;\n",
        "        for(size_t i = L->size - 1; i > index; --i) cur = cur->prev;\n",
        "    }\n",
        "\n",
        "    /* Inserir antes de 'cur' */\n",
        "    DNode *n = DNode_create(val);\n",
        "    n->prev = cur->prev;\n",
        "    n->next = cur;\n",
        "    cur->prev->next = n;\n",
        "    cur->prev = n;\n",
        "\n",
        "    L->size++;\n",
        "    return true;\n",
        "}\n",
        "\n",
        "\n",
        "/* ====================\n",
        " * Remover\n",
        " * ==================== */\n",
        "\n",
        "\n",
        "bool DLinkedList_remove_first(DLinkedList *L, int *out){\n",
        "    if(!L || !L->begin) return false;\n",
        "\n",
        "    DNode *n = L->begin;\n",
        "    if(out) *out = n->val;\n",
        "\n",
        "    L->begin = n->next;          /* avança cabeça */\n",
        "    if(L->begin){\n",
        "        L->begin->prev = NULL;   /* nova cabeça não tem anterior */\n",
        "    }else{\n",
        "        L->end = NULL;           /* lista ficou vazia */\n",
        "    }\n",
        "\n",
        "    free(n);\n",
        "    L->size--;\n",
        "    return true;\n",
        "}\n",
        "\n",
        "bool DLinkedList_remove_last(DLinkedList *L, int *out){\n",
        "    if(!L || !L->end) return false;\n",
        "\n",
        "    DNode *n = L->end;\n",
        "    if(out) *out = n->val;\n",
        "\n",
        "    L->end = n->prev;            /* recua cauda */\n",
        "    if(L->end){\n",
        "        L->end->next = NULL;     /* nova cauda não tem próximo */\n",
        "    }else{\n",
        "        L->begin = NULL;         /* lista ficou vazia */\n",
        "    }\n",
        "\n",
        "    free(n);\n",
        "    L->size--;\n",
        "    return true;\n",
        "}\n",
        "\n",
        "bool DLinkedList_remove_at(DLinkedList *L, size_t index, int *out){\n",
        "    if(!L || index >= L->size) return false;\n",
        "\n",
        "    /* bordas delegam para first/last */\n",
        "    if(index == 0)              return DLinkedList_remove_first(L, out);\n",
        "    if(index == L->size - 1)    return DLinkedList_remove_last(L,  out);\n",
        "\n",
        "    /* localizar o nó a remover pelo caminho mais curto */\n",
        "    DNode *cur;\n",
        "    if(index <= L->size/2){\n",
        "        cur = L->begin;\n",
        "        for(size_t i = 0; i < index; ++i) cur = cur->next;\n",
        "    }else{\n",
        "        cur = L->end;\n",
        "        for(size_t i = L->size - 1; i > index; --i) cur = cur->prev;\n",
        "    }\n",
        "\n",
        "    if(out) *out = cur->val;\n",
        "\n",
        "    /* “desencaixa” o nó do meio */\n",
        "    DNode *a = cur->prev;\n",
        "    DNode *b = cur->next;\n",
        "    a->next = b;\n",
        "    b->prev = a;\n",
        "\n",
        "    free(cur);\n",
        "    L->size--;\n",
        "    return true;\n",
        "}\n",
        "\n",
        "/* ====================\n",
        " * Debug\n",
        " * ==================== */\n",
        "/* Debug detalhado: valores e endereços */\n",
        "void DLinkedList_debug(const DLinkedList *L){\n",
        "    printf(\"L (valor do ponteiro)        = %p\\n\", (void*)L);\n",
        "    if(!L){\n",
        "        printf(\"(Lista NULL)\\n\");\n",
        "        return;\n",
        "    }\n",
        "    printf(\"&L->begin (endereço campo)    = %p | L->begin (valor) = %p\\n\",\n",
        "           (void*)&L->begin, (void*)L->begin);\n",
        "    printf(\"&L->end   (endereço campo)    = %p | L->end   (valor) = %p\\n\",\n",
        "           (void*)&L->end,   (void*)L->end);\n",
        "    printf(\"&L->size  (endereço campo)    = %p | L->size          = %zu\\n\",\n",
        "           (void*)&L->size,  L->size);\n",
        "\n",
        "    size_t i = 0;\n",
        "    for(const DNode *p = L->begin; p != NULL; p = p->next, ++i){\n",
        "        printf(\"No[%zu]  @%p | val=%d | &val=%p | \"\n",
        "               \"prev=%p | &prev=%p | next=%p | &next=%p\\n\",\n",
        "               i,\n",
        "               (void*)p, p->val, (void*)&p->val,\n",
        "               (void*)p->prev, (void*)&p->prev,\n",
        "               (void*)p->next, (void*)&p->next);\n",
        "    }\n",
        "}\n",
        "\n",
        "void DLinkedList_print(const DLinkedList *L){\n",
        "    printf(\"[\");\n",
        "    for(DNode *p = L->begin; p != NULL; p = p->next){\n",
        "        printf(\"%d\", p->val);\n",
        "        if(p->next) printf(\" <-> \");\n",
        "    }\n",
        "    printf(\"] (size=%zu)\\n\", L->size);\n",
        "}"
      ],
      "metadata": {
        "colab": {
          "base_uri": "https://localhost:8080/"
        },
        "outputId": "519c92f7-e377-4160-f30e-91fda0e2bd39",
        "id": "TKakowo22tAt"
      },
      "execution_count": null,
      "outputs": [
        {
          "output_type": "stream",
          "name": "stdout",
          "text": [
            "Overwriting dllist.c\n"
          ]
        }
      ]
    },
    {
      "cell_type": "code",
      "source": [
        "%%writefile main.c\n",
        "#include \"dllist.h\"\n",
        "#include <stdio.h>\n",
        "\n",
        "static void titulo(const char *s){\n",
        "    printf(\"\\n================ %s ================\\n\", s);\n",
        "}\n",
        "\n",
        "int main(void){\n",
        "    titulo(\"CRIAR LISTA VAZIA\");\n",
        "    DLinkedList *MinhaLista = DLinkedList_create();\n",
        "\n",
        "    /* Endereço da VAR ponteiro (na stack) e valor do ponteiro */\n",
        "    printf(\"&MinhaLista (endereco da VAR ponteiro) = %p\\n\", (void*)&MinhaLista);\n",
        "    printf(\"MinhaLista  (valor, endereco da struct)= %p\\n\", (void*)MinhaLista);\n",
        "    DLinkedList_debug(MinhaLista);\n",
        "\n",
        "    titulo(\"ADD_FIRST(10)\");\n",
        "    DLinkedList_add_first(MinhaLista, 10);\n",
        "    printf(\"&MinhaLista (endereco da VAR ponteiro) = %p\\n\", (void*)&MinhaLista);\n",
        "    printf(\"MinhaLista  (valor, endereco da struct)= %p\\n\", (void*)MinhaLista);\n",
        "    DLinkedList_print(MinhaLista);\n",
        "    DLinkedList_debug(MinhaLista);\n",
        "\n",
        "    titulo(\"ADD_LAST(20)\");\n",
        "    DLinkedList_add_last(MinhaLista, 20);\n",
        "    printf(\"&MinhaLista (endereco da VAR ponteiro) = %p\\n\", (void*)&MinhaLista);\n",
        "    printf(\"MinhaLista  (valor, endereco da struct)= %p\\n\", (void*)MinhaLista);\n",
        "    DLinkedList_print(MinhaLista);\n",
        "    DLinkedList_debug(MinhaLista);\n",
        "\n",
        "    titulo(\"ADD_AT(index=1, val=99)\");\n",
        "    DLinkedList_add_at(MinhaLista,99,1);\n",
        "    DLinkedList_print(MinhaLista);\n",
        "    DLinkedList_debug(MinhaLista);\n",
        "\n",
        "\n",
        "    titulo(\"REMOVE_AT(2)\");\n",
        "    int x;\n",
        "    DLinkedList_remove_at(MinhaLista, 2, &x);\n",
        "    printf(\"remove_at(2) -> %d\\n\", x);\n",
        "    DLinkedList_print(MinhaLista);\n",
        "    DLinkedList_debug(MinhaLista);\n",
        "\n",
        "    return 0;\n",
        "}\n"
      ],
      "metadata": {
        "colab": {
          "base_uri": "https://localhost:8080/"
        },
        "outputId": "e11c0d98-f4d0-4271-a475-bb8035736a77",
        "id": "3e_tRnR52tAu"
      },
      "execution_count": null,
      "outputs": [
        {
          "output_type": "stream",
          "name": "stdout",
          "text": [
            "Overwriting main.c\n"
          ]
        }
      ]
    },
    {
      "cell_type": "code",
      "source": [
        "!gcc main.c dllist.c -o prog\n"
      ],
      "metadata": {
        "id": "n2cwFZP62tAu"
      },
      "execution_count": null,
      "outputs": []
    },
    {
      "cell_type": "code",
      "source": [
        "!./prog\n"
      ],
      "metadata": {
        "colab": {
          "base_uri": "https://localhost:8080/"
        },
        "outputId": "d7eaf0b5-6b4e-48d8-810d-6fd11b4e0f51",
        "id": "_tKft69n2tAu"
      },
      "execution_count": null,
      "outputs": [
        {
          "output_type": "stream",
          "name": "stdout",
          "text": [
            "\n",
            "================ CRIAR LISTA VAZIA ================\n",
            "&MinhaLista (endereco da VAR ponteiro) = 0x7fffecb21ef0\n",
            "MinhaLista  (valor, endereco da struct)= 0x592b51cdc6b0\n",
            "L (valor do ponteiro)        = 0x592b51cdc6b0\n",
            "&L->begin (endereço campo)    = 0x592b51cdc6b0 | L->begin (valor) = (nil)\n",
            "&L->end   (endereço campo)    = 0x592b51cdc6b8 | L->end   (valor) = (nil)\n",
            "&L->size  (endereço campo)    = 0x592b51cdc6c0 | L->size          = 0\n",
            "\n",
            "================ ADD_FIRST(10) ================\n",
            "&MinhaLista (endereco da VAR ponteiro) = 0x7fffecb21ef0\n",
            "MinhaLista  (valor, endereco da struct)= 0x592b51cdc6b0\n",
            "[10] (size=1)\n",
            "L (valor do ponteiro)        = 0x592b51cdc6b0\n",
            "&L->begin (endereço campo)    = 0x592b51cdc6b0 | L->begin (valor) = 0x592b51cdc6d0\n",
            "&L->end   (endereço campo)    = 0x592b51cdc6b8 | L->end   (valor) = 0x592b51cdc6d0\n",
            "&L->size  (endereço campo)    = 0x592b51cdc6c0 | L->size          = 1\n",
            "No[0]  @0x592b51cdc6d0 | val=10 | &val=0x592b51cdc6d0 | prev=(nil) | &prev=0x592b51cdc6d8 | next=(nil) | &next=0x592b51cdc6e0\n",
            "\n",
            "================ ADD_LAST(20) ================\n",
            "&MinhaLista (endereco da VAR ponteiro) = 0x7fffecb21ef0\n",
            "MinhaLista  (valor, endereco da struct)= 0x592b51cdc6b0\n",
            "[10 <-> 20] (size=2)\n",
            "L (valor do ponteiro)        = 0x592b51cdc6b0\n",
            "&L->begin (endereço campo)    = 0x592b51cdc6b0 | L->begin (valor) = 0x592b51cdc6d0\n",
            "&L->end   (endereço campo)    = 0x592b51cdc6b8 | L->end   (valor) = 0x592b51cdc6f0\n",
            "&L->size  (endereço campo)    = 0x592b51cdc6c0 | L->size          = 2\n",
            "No[0]  @0x592b51cdc6d0 | val=10 | &val=0x592b51cdc6d0 | prev=(nil) | &prev=0x592b51cdc6d8 | next=0x592b51cdc6f0 | &next=0x592b51cdc6e0\n",
            "No[1]  @0x592b51cdc6f0 | val=20 | &val=0x592b51cdc6f0 | prev=0x592b51cdc6d0 | &prev=0x592b51cdc6f8 | next=(nil) | &next=0x592b51cdc700\n",
            "\n",
            "================ ADD_AT(index=1, val=99) ================\n",
            "[10 <-> 99 <-> 20] (size=3)\n",
            "L (valor do ponteiro)        = 0x592b51cdc6b0\n",
            "&L->begin (endereço campo)    = 0x592b51cdc6b0 | L->begin (valor) = 0x592b51cdc6d0\n",
            "&L->end   (endereço campo)    = 0x592b51cdc6b8 | L->end   (valor) = 0x592b51cdc6f0\n",
            "&L->size  (endereço campo)    = 0x592b51cdc6c0 | L->size          = 3\n",
            "No[0]  @0x592b51cdc6d0 | val=10 | &val=0x592b51cdc6d0 | prev=(nil) | &prev=0x592b51cdc6d8 | next=0x592b51cdc710 | &next=0x592b51cdc6e0\n",
            "No[1]  @0x592b51cdc710 | val=99 | &val=0x592b51cdc710 | prev=0x592b51cdc6d0 | &prev=0x592b51cdc718 | next=0x592b51cdc6f0 | &next=0x592b51cdc720\n",
            "No[2]  @0x592b51cdc6f0 | val=20 | &val=0x592b51cdc6f0 | prev=0x592b51cdc710 | &prev=0x592b51cdc6f8 | next=(nil) | &next=0x592b51cdc700\n",
            "\n",
            "================ REMOVE_AT(2) ================\n",
            "remove_at(2) -> 20\n",
            "[10 <-> 99] (size=2)\n",
            "L (valor do ponteiro)        = 0x592b51cdc6b0\n",
            "&L->begin (endereço campo)    = 0x592b51cdc6b0 | L->begin (valor) = 0x592b51cdc6d0\n",
            "&L->end   (endereço campo)    = 0x592b51cdc6b8 | L->end   (valor) = 0x592b51cdc710\n",
            "&L->size  (endereço campo)    = 0x592b51cdc6c0 | L->size          = 2\n",
            "No[0]  @0x592b51cdc6d0 | val=10 | &val=0x592b51cdc6d0 | prev=(nil) | &prev=0x592b51cdc6d8 | next=0x592b51cdc710 | &next=0x592b51cdc6e0\n",
            "No[1]  @0x592b51cdc710 | val=99 | &val=0x592b51cdc710 | prev=0x592b51cdc6d0 | &prev=0x592b51cdc718 | next=(nil) | &next=0x592b51cdc720\n"
          ]
        }
      ]
    },
    {
      "cell_type": "markdown",
      "source": [
        "## 8) Implementação completa"
      ],
      "metadata": {
        "id": "ydGsAd7AJcT_"
      }
    },
    {
      "cell_type": "code",
      "source": [
        "%%writefile dllist.h\n",
        "#ifndef DLLIST_H\n",
        "#define DLLIST_H\n",
        "\n",
        "#include <stdbool.h>\n",
        "#include <stddef.h>\n",
        "\n",
        "/* ====================\n",
        " * Estruturas\n",
        " * ==================== */\n",
        "typedef struct _dnode {\n",
        "    int val;\n",
        "    struct _dnode *prev;\n",
        "    struct _dnode *next;\n",
        "} DNode;\n",
        "\n",
        "typedef struct _dlinked_list {\n",
        "    DNode *begin;   /* cabeça */\n",
        "    DNode *end;     /* cauda  */\n",
        "    size_t size;    /* número de nós */\n",
        "} DLinkedList;\n",
        "\n",
        "/* ====================\n",
        " * Criação / Destruição / Predicados\n",
        " * ==================== */\n",
        "DLinkedList* DLinkedList_create(void);\n",
        "void         DLinkedList_destroy(DLinkedList *L);\n",
        "bool         DLinkedList_is_empty(const DLinkedList *L);\n",
        "size_t       DLinkedList_size(const DLinkedList *L);\n",
        "\n",
        "/* ====================\n",
        " * Inserções\n",
        " * ==================== */\n",
        "void  DLinkedList_add_first(DLinkedList *L, int val);\n",
        "/* add_last O(n) percorrendo a partir do begin (didático) */\n",
        "void  DLinkedList_add_last_traverse(DLinkedList *L, int val);\n",
        "/* add_last O(1) usando ponteiro end */\n",
        "void  DLinkedList_add_last(DLinkedList *L, int val);\n",
        "bool  DLinkedList_add_at(DLinkedList *L, int val, size_t index);\n",
        "\n",
        "/* ====================\n",
        " * Remoções\n",
        " * ==================== */\n",
        "bool  DLinkedList_remove_first(DLinkedList *L, int *out);\n",
        "bool  DLinkedList_remove_last (DLinkedList *L, int *out);\n",
        "bool  DLinkedList_remove_at   (DLinkedList *L, size_t index, int *out);\n",
        "\n",
        "/* ====================\n",
        " * Busca / Índice\n",
        " * ==================== */\n",
        "DNode* DLinkedList_search(const DLinkedList *L, int val);\n",
        "long   DLinkedList_index_of(const DLinkedList *L, int val);\n",
        "\n",
        "/* ====================\n",
        " * Impressão / Debug\n",
        " * ==================== */\n",
        "void   DLinkedList_print         (const DLinkedList *L);\n",
        "void   DLinkedList_print_reverse (const DLinkedList *L);\n",
        "void   DLinkedList_debug         (const DLinkedList *L);\n",
        "\n",
        "/* ====================\n",
        " * Operações extras\n",
        " * ==================== */\n",
        "void   DLinkedList_reverse(DLinkedList *L);           /* in-place */\n",
        "void   DLinkedList_concat (DLinkedList *A, DLinkedList *B); /* move B ao fim de A (B esvaziada) */\n",
        "void   DLinkedList_insert_sorted(DLinkedList *L, int val);  /* ordem crescente */\n",
        "\n",
        "#endif /* DLLIST_H */"
      ],
      "metadata": {
        "colab": {
          "base_uri": "https://localhost:8080/"
        },
        "outputId": "85d2f680-5363-48d3-b462-3c72377efe7a",
        "id": "BJBmEpPWJcUA"
      },
      "execution_count": null,
      "outputs": [
        {
          "output_type": "stream",
          "name": "stdout",
          "text": [
            "Writing dllist.h\n"
          ]
        }
      ]
    },
    {
      "cell_type": "code",
      "source": [
        "%%writefile dllist.c\n",
        "#include \"dllist.h\"\n",
        "#include <stdio.h>\n",
        "#include <stdlib.h>\n",
        "\n",
        "/* ====================\n",
        " * Auxiliares\n",
        " * ==================== */\n",
        "static DNode* DNode_create(int val){\n",
        "    DNode *n = (DNode*) calloc(1, sizeof(DNode));\n",
        "    if(!n){\n",
        "        fprintf(stderr, \"Erro: sem memória para DNode\\n\");\n",
        "        exit(EXIT_FAILURE);\n",
        "    }\n",
        "    n->val = val;\n",
        "    n->prev = NULL;\n",
        "    n->next = NULL;\n",
        "    return n;\n",
        "}\n",
        "\n",
        "/* ====================\n",
        " * Criação / Destruição / Predicados\n",
        " * ==================== */\n",
        "DLinkedList* DLinkedList_create(void){\n",
        "    DLinkedList *L = (DLinkedList*) calloc(1, sizeof(DLinkedList));\n",
        "    if(!L){\n",
        "        fprintf(stderr, \"Erro: sem memória para DLinkedList\\n\");\n",
        "        exit(EXIT_FAILURE);\n",
        "    }\n",
        "    L->begin = NULL;\n",
        "    L->end   = NULL;\n",
        "    L->size  = 0;\n",
        "    return L;\n",
        "}\n",
        "\n",
        "void DLinkedList_destroy(DLinkedList *L){\n",
        "    if(!L) return;\n",
        "    DNode *p = L->begin;\n",
        "    while(p){\n",
        "        DNode *aux = p->next;\n",
        "        free(p);\n",
        "        p = aux;\n",
        "    }\n",
        "    free(L);\n",
        "}\n",
        "\n",
        "bool DLinkedList_is_empty(const DLinkedList *L){\n",
        "    return !L || L->size == 0;\n",
        "}\n",
        "\n",
        "size_t DLinkedList_size(const DLinkedList *L){\n",
        "    return L ? L->size : 0;\n",
        "}\n",
        "\n",
        "/* ====================\n",
        " * Inserções\n",
        " * ==================== */\n",
        "void DLinkedList_add_first(DLinkedList *L, int val){\n",
        "    DNode *n = DNode_create(val);\n",
        "    if(L->begin == NULL){\n",
        "        /* lista vazia */\n",
        "        L->begin = L->end = n;\n",
        "    }else{\n",
        "        n->next = L->begin;\n",
        "        L->begin->prev = n;\n",
        "        L->begin = n;\n",
        "    }\n",
        "    L->size++;\n",
        "}\n",
        "\n",
        "/* Didático: O(n) percorrendo a partir do begin */\n",
        "void DLinkedList_add_last_traverse(DLinkedList *L, int val){\n",
        "    DNode *n = DNode_create(val);\n",
        "    if(L->end == NULL){\n",
        "        L->begin = L->end = n;\n",
        "    }else{\n",
        "        DNode *p = L->begin;\n",
        "        while(p->next) p = p->next;\n",
        "        /* p == último */\n",
        "        p->next = n;\n",
        "        n->prev = p;\n",
        "        L->end = n; /* manter coerência */\n",
        "    }\n",
        "    L->size++;\n",
        "}\n",
        "\n",
        "/* O(1) usando ponteiro end */\n",
        "void DLinkedList_add_last(DLinkedList *L, int val){\n",
        "    DNode *n = DNode_create(val);\n",
        "    if(L->end == NULL){\n",
        "        L->begin = L->end = n;\n",
        "    }else{\n",
        "        n->prev = L->end;\n",
        "        L->end->next = n;\n",
        "        L->end = n;\n",
        "    }\n",
        "    L->size++;\n",
        "}\n",
        "\n",
        "/* Insere em índice [0..size]. Retorna false se index > size */\n",
        "bool DLinkedList_add_at(DLinkedList *L, int val, size_t index){\n",
        "    if(index > L->size) return false;\n",
        "    if(index == 0){ DLinkedList_add_first(L, val); return true; }\n",
        "    if(index == L->size){ DLinkedList_add_last(L, val); return true; }\n",
        "\n",
        "    /* Escolha de direção: se mais perto do fim, começa do end */\n",
        "    DNode *cur;\n",
        "    size_t i;\n",
        "    if(index <= L->size/2){\n",
        "        cur = L->begin; i = 0;\n",
        "        while(i < index){ cur = cur->next; i++; }\n",
        "    }else{\n",
        "        cur = L->end; i = L->size - 1;\n",
        "        while(i > index){ cur = cur->prev; i--; }\n",
        "    }\n",
        "    /* Inserir ANTES de cur */\n",
        "    DNode *n = DNode_create(val);\n",
        "    n->prev = cur->prev;\n",
        "    n->next = cur;\n",
        "    cur->prev->next = n;\n",
        "    cur->prev = n;\n",
        "    L->size++;\n",
        "    return true;\n",
        "}\n",
        "\n",
        "/* ====================\n",
        " * Remoções\n",
        " * ==================== */\n",
        "static bool _pop_node(DLinkedList *L, DNode *node, int *out){\n",
        "    if(!node) return false;\n",
        "    if(out) *out = node->val;\n",
        "\n",
        "    if(node->prev) node->prev->next = node->next;\n",
        "    else           L->begin = node->next; /* removendo cabeça */\n",
        "\n",
        "    if(node->next) node->next->prev = node->prev;\n",
        "    else           L->end = node->prev;   /* removendo cauda */\n",
        "\n",
        "    free(node);\n",
        "    L->size--;\n",
        "    return true;\n",
        "}\n",
        "\n",
        "bool DLinkedList_remove_first(DLinkedList *L, int *out){\n",
        "    if(L->begin == NULL) return false;\n",
        "    return _pop_node(L, L->begin, out);\n",
        "}\n",
        "\n",
        "bool DLinkedList_remove_last(DLinkedList *L, int *out){\n",
        "    if(L->end == NULL) return false;\n",
        "    return _pop_node(L, L->end, out);\n",
        "}\n",
        "\n",
        "bool DLinkedList_remove_at(DLinkedList *L, size_t index, int *out){\n",
        "    if(index >= L->size) return false;\n",
        "    if(index == 0)         return DLinkedList_remove_first(L, out);\n",
        "    if(index == L->size-1) return DLinkedList_remove_last(L, out);\n",
        "\n",
        "    DNode *cur;\n",
        "    size_t i;\n",
        "    if(index <= L->size/2){\n",
        "        cur = L->begin; i = 0;\n",
        "        while(i < index){ cur = cur->next; i++; }\n",
        "    }else{\n",
        "        cur = L->end; i = L->size - 1;\n",
        "        while(i > index){ cur = cur->prev; i--; }\n",
        "    }\n",
        "    return _pop_node(L, cur, out);\n",
        "}\n",
        "\n",
        "/* ====================\n",
        " * Busca / Índice\n",
        " * ==================== */\n",
        "DNode* DLinkedList_search(const DLinkedList *L, int val){\n",
        "    for(DNode *p = L->begin; p != NULL; p = p->next){\n",
        "        if(p->val == val) return p;\n",
        "    }\n",
        "    return NULL;\n",
        "}\n",
        "\n",
        "long DLinkedList_index_of(const DLinkedList *L, int val){\n",
        "    long i = 0;\n",
        "    for(DNode *p = L->begin; p != NULL; p = p->next, i++){\n",
        "        if(p->val == val) return i;\n",
        "    }\n",
        "    return -1;\n",
        "}\n",
        "\n",
        "/* ====================\n",
        " * Impressão / Debug\n",
        " * ==================== */\n",
        "void DLinkedList_print(const DLinkedList *L){\n",
        "    printf(\"[\");\n",
        "    for(DNode *p = L->begin; p != NULL; p = p->next){\n",
        "        printf(\"%d\", p->val);\n",
        "        if(p->next) printf(\" <-> \");\n",
        "    }\n",
        "    printf(\"] (size=%zu)\\n\", L->size);\n",
        "}\n",
        "\n",
        "void DLinkedList_print_reverse(const DLinkedList *L){\n",
        "    printf(\"[\");\n",
        "    for(DNode *p = L->end; p != NULL; p = p->prev){\n",
        "        printf(\"%d\", p->val);\n",
        "        if(p->prev) printf(\" <-> \");\n",
        "    }\n",
        "    printf(\"] (rev)\\n\");\n",
        "}\n",
        "\n",
        "void DLinkedList_debug(const DLinkedList *L){\n",
        "    printf(\"begin=%p  end=%p  size=%zu\\n\", (void*)L->begin, (void*)L->end, L->size);\n",
        "    for(DNode *p = L->begin; p; p = p->next){\n",
        "        printf(\"Node@%p  val=%d  prev=%p  next=%p\\n\",\n",
        "               (void*)p, p->val, (void*)p->prev, (void*)p->next);\n",
        "    }\n",
        "}\n",
        "\n",
        "/* ====================\n",
        " * Operações extras\n",
        " * ==================== */\n",
        "void DLinkedList_reverse(DLinkedList *L){\n",
        "    /* In-place: troca prev/next de cada nó e então swap begin/end */\n",
        "    DNode *p = L->begin;\n",
        "    while(p){\n",
        "        DNode *aux = p->next;\n",
        "        p->next = p->prev;\n",
        "        p->prev = aux;\n",
        "        p = aux;\n",
        "    }\n",
        "    /* swap begin/end */\n",
        "    DNode *tmp = L->begin;\n",
        "    L->begin = L->end;\n",
        "    L->end = tmp;\n",
        "}\n",
        "\n",
        "void DLinkedList_concat(DLinkedList *A, DLinkedList *B){\n",
        "    if(!B || B->size == 0) return;\n",
        "    if(!A || A->size == 0){\n",
        "        /* move ponteiros */\n",
        "        A->begin = B->begin;\n",
        "        A->end   = B->end;\n",
        "        A->size  = B->size;\n",
        "    }else{\n",
        "        /* liga as caudas/cabeças */\n",
        "        A->end->next = B->begin;\n",
        "        B->begin->prev = A->end;\n",
        "        A->end = B->end;\n",
        "        A->size += B->size;\n",
        "    }\n",
        "    /* esvazia B sem liberar nós (transferência de posse) */\n",
        "    B->begin = B->end = NULL;\n",
        "    B->size = 0;\n",
        "}\n",
        "\n",
        "void DLinkedList_insert_sorted(DLinkedList *L, int val){\n",
        "    if(L->size == 0 || val <= L->begin->val){ DLinkedList_add_first(L, val); return; }\n",
        "    if(val >= L->end->val){ DLinkedList_add_last(L, val); return; }\n",
        "\n",
        "    /* Caminhar até encontrar o primeiro nó com p->val >= val */\n",
        "    DNode *p = L->begin->next;\n",
        "    while(p && p->val < val){ p = p->next; }\n",
        "    /* Inserir ANTES de p */\n",
        "    DNode *n = DNode_create(val);\n",
        "    n->prev = p->prev;\n",
        "    n->next = p;\n",
        "    p->prev->next = n;\n",
        "    p->prev = n;\n",
        "    L->size++;\n",
        "}"
      ],
      "metadata": {
        "colab": {
          "base_uri": "https://localhost:8080/"
        },
        "outputId": "b32f66aa-42bf-4592-dce7-dbb36310509e",
        "id": "0sejzd5QJcUA"
      },
      "execution_count": null,
      "outputs": [
        {
          "output_type": "stream",
          "name": "stdout",
          "text": [
            "Overwriting dllist.c\n"
          ]
        }
      ]
    },
    {
      "cell_type": "code",
      "source": [
        "%%writefile main.c\n",
        "#include \"dllist.h\"\n",
        "#include <stdio.h>\n",
        "\n",
        "static void titulo(const char *s){\n",
        "    printf(\"\\n================ %s ================\\n\", s);\n",
        "}\n",
        "\n",
        "int main(void){\n",
        "    titulo(\"CRIAR LISTA VAZIA\");\n",
        "    DLinkedList *L = DLinkedList_create();\n",
        "    DLinkedList_debug(L);\n",
        "\n",
        "    titulo(\"ADD_FIRST(10), ADD_FIRST(20), ADD_FIRST(30)\");\n",
        "    DLinkedList_add_first(L,10);\n",
        "    DLinkedList_add_first(L,20);\n",
        "    DLinkedList_add_first(L,30);\n",
        "    DLinkedList_print(L);\n",
        "    DLinkedList_debug(L);\n",
        "\n",
        "    titulo(\"ADD_LAST_TRAVERSE(40)  [didático: O(n)]\");\n",
        "    DLinkedList_add_last_traverse(L,40);\n",
        "    DLinkedList_print(L);\n",
        "    DLinkedList_debug(L);\n",
        "\n",
        "    titulo(\"ADD_LAST(50) [O(1) via end]\");\n",
        "    DLinkedList_add_last(L,50);\n",
        "    DLinkedList_print(L);\n",
        "    DLinkedList_debug(L);\n",
        "\n",
        "    titulo(\"ADD_AT(index=2, val=99)\");\n",
        "    DLinkedList_add_at(L,99,2);\n",
        "    DLinkedList_print(L);\n",
        "    DLinkedList_debug(L);\n",
        "\n",
        "    titulo(\"SEARCH e INDEX_OF\");\n",
        "    DNode *p = DLinkedList_search(L, 40);\n",
        "    printf(\"search(40) -> %p\\n\", (void*)p);\n",
        "    long idx = DLinkedList_index_of(L, 50);\n",
        "    printf(\"index_of(50) -> %ld\\n\", idx);\n",
        "\n",
        "    titulo(\"PRINT_REVERSE\");\n",
        "    DLinkedList_print_reverse(L);\n",
        "\n",
        "    titulo(\"REMOVE_FIRST / REMOVE_LAST / REMOVE_AT(2)\");\n",
        "    int x;\n",
        "    DLinkedList_remove_first(L, &x);\n",
        "    printf(\"remove_first -> %d\\n\", x);\n",
        "    DLinkedList_remove_last(L, &x);\n",
        "    printf(\"remove_last -> %d\\n\", x);\n",
        "    DLinkedList_remove_at(L, 2, &x);\n",
        "    printf(\"remove_at(2) -> %d\\n\", x);\n",
        "    DLinkedList_print(L);\n",
        "    DLinkedList_debug(L);\n",
        "\n",
        "    titulo(\"REVERSE (in-place)\");\n",
        "    DLinkedList_reverse(L);\n",
        "    DLinkedList_print(L);\n",
        "    DLinkedList_debug(L);\n",
        "\n",
        "    titulo(\"CONCAT (move B para o fim de A)\");\n",
        "    DLinkedList *B = DLinkedList_create();\n",
        "    DLinkedList_add_last(B, 5);\n",
        "    DLinkedList_add_last(B, 6);\n",
        "    DLinkedList_add_last(B, 7);\n",
        "    printf(\"A antes: \"); DLinkedList_print(L);\n",
        "    printf(\"B antes: \"); DLinkedList_print(B);\n",
        "    DLinkedList_concat(L, B);\n",
        "    printf(\"A depois: \"); DLinkedList_print(L);\n",
        "    printf(\"B depois: \"); DLinkedList_print(B);\n",
        "    DLinkedList_debug(L);\n",
        "\n",
        "    titulo(\"INSERT_SORTED em A\");\n",
        "    DLinkedList_insert_sorted(L, 0);\n",
        "    DLinkedList_insert_sorted(L, 100);\n",
        "    DLinkedList_insert_sorted(L, 42);\n",
        "    DLinkedList_print(L);\n",
        "    DLinkedList_debug(L);\n",
        "\n",
        "    titulo(\"DESTROY (libera nós e a struct da lista)\");\n",
        "    DLinkedList_destroy(L);\n",
        "    DLinkedList_destroy(B);\n",
        "    printf(\"OK (use valgrind no ambiente local para checar vazamentos)\\n\");\n",
        "    return 0;\n",
        "}"
      ],
      "metadata": {
        "colab": {
          "base_uri": "https://localhost:8080/"
        },
        "outputId": "be46d280-e238-4a73-9535-a90e29088341",
        "id": "sqWuiumJJcUB"
      },
      "execution_count": null,
      "outputs": [
        {
          "output_type": "stream",
          "name": "stdout",
          "text": [
            "Writing main.c\n"
          ]
        }
      ]
    },
    {
      "cell_type": "code",
      "source": [
        "!gcc main.c dllist.c -o prog\n"
      ],
      "metadata": {
        "id": "cza3ex4jJcUB"
      },
      "execution_count": null,
      "outputs": []
    },
    {
      "cell_type": "code",
      "source": [
        "!./prog\n"
      ],
      "metadata": {
        "colab": {
          "base_uri": "https://localhost:8080/"
        },
        "outputId": "48a14148-01b0-42db-ef73-cf3dc348f865",
        "id": "RuekrMYDJcUB"
      },
      "execution_count": null,
      "outputs": [
        {
          "output_type": "stream",
          "name": "stdout",
          "text": [
            "\n",
            "================ CRIAR LISTA VAZIA ================\n",
            "begin=(nil)  end=(nil)  size=0\n",
            "\n",
            "================ ADD_FIRST(10), ADD_FIRST(20), ADD_FIRST(30) ================\n",
            "[30 <-> 20 <-> 10] (size=3)\n",
            "begin=0x5c81a796c710  end=0x5c81a796c6d0  size=3\n",
            "Node@0x5c81a796c710  val=30  prev=(nil)  next=0x5c81a796c6f0\n",
            "Node@0x5c81a796c6f0  val=20  prev=0x5c81a796c710  next=0x5c81a796c6d0\n",
            "Node@0x5c81a796c6d0  val=10  prev=0x5c81a796c6f0  next=(nil)\n",
            "\n",
            "================ ADD_LAST_TRAVERSE(40)  [didático: O(n)] ================\n",
            "[30 <-> 20 <-> 10 <-> 40] (size=4)\n",
            "begin=0x5c81a796c710  end=0x5c81a796c730  size=4\n",
            "Node@0x5c81a796c710  val=30  prev=(nil)  next=0x5c81a796c6f0\n",
            "Node@0x5c81a796c6f0  val=20  prev=0x5c81a796c710  next=0x5c81a796c6d0\n",
            "Node@0x5c81a796c6d0  val=10  prev=0x5c81a796c6f0  next=0x5c81a796c730\n",
            "Node@0x5c81a796c730  val=40  prev=0x5c81a796c6d0  next=(nil)\n",
            "\n",
            "================ ADD_LAST(50) [O(1) via end] ================\n",
            "[30 <-> 20 <-> 10 <-> 40 <-> 50] (size=5)\n",
            "begin=0x5c81a796c710  end=0x5c81a796c750  size=5\n",
            "Node@0x5c81a796c710  val=30  prev=(nil)  next=0x5c81a796c6f0\n",
            "Node@0x5c81a796c6f0  val=20  prev=0x5c81a796c710  next=0x5c81a796c6d0\n",
            "Node@0x5c81a796c6d0  val=10  prev=0x5c81a796c6f0  next=0x5c81a796c730\n",
            "Node@0x5c81a796c730  val=40  prev=0x5c81a796c6d0  next=0x5c81a796c750\n",
            "Node@0x5c81a796c750  val=50  prev=0x5c81a796c730  next=(nil)\n",
            "\n",
            "================ ADD_AT(index=2, val=99) ================\n",
            "[30 <-> 20 <-> 99 <-> 10 <-> 40 <-> 50] (size=6)\n",
            "begin=0x5c81a796c710  end=0x5c81a796c750  size=6\n",
            "Node@0x5c81a796c710  val=30  prev=(nil)  next=0x5c81a796c6f0\n",
            "Node@0x5c81a796c6f0  val=20  prev=0x5c81a796c710  next=0x5c81a796c770\n",
            "Node@0x5c81a796c770  val=99  prev=0x5c81a796c6f0  next=0x5c81a796c6d0\n",
            "Node@0x5c81a796c6d0  val=10  prev=0x5c81a796c770  next=0x5c81a796c730\n",
            "Node@0x5c81a796c730  val=40  prev=0x5c81a796c6d0  next=0x5c81a796c750\n",
            "Node@0x5c81a796c750  val=50  prev=0x5c81a796c730  next=(nil)\n",
            "\n",
            "================ SEARCH e INDEX_OF ================\n",
            "search(40) -> 0x5c81a796c730\n",
            "index_of(50) -> 5\n",
            "\n",
            "================ PRINT_REVERSE ================\n",
            "[50 <-> 40 <-> 10 <-> 99 <-> 20 <-> 30] (rev)\n",
            "\n",
            "================ REMOVE_FIRST / REMOVE_LAST / REMOVE_AT(2) ================\n",
            "remove_first -> 30\n",
            "remove_last -> 50\n",
            "remove_at(2) -> 10\n",
            "[20 <-> 99 <-> 40] (size=3)\n",
            "begin=0x5c81a796c6f0  end=0x5c81a796c730  size=3\n",
            "Node@0x5c81a796c6f0  val=20  prev=(nil)  next=0x5c81a796c770\n",
            "Node@0x5c81a796c770  val=99  prev=0x5c81a796c6f0  next=0x5c81a796c730\n",
            "Node@0x5c81a796c730  val=40  prev=0x5c81a796c770  next=(nil)\n",
            "\n",
            "================ REVERSE (in-place) ================\n",
            "[40 <-> 99 <-> 20] (size=3)\n",
            "begin=0x5c81a796c730  end=0x5c81a796c6f0  size=3\n",
            "Node@0x5c81a796c730  val=40  prev=(nil)  next=0x5c81a796c770\n",
            "Node@0x5c81a796c770  val=99  prev=0x5c81a796c730  next=0x5c81a796c6f0\n",
            "Node@0x5c81a796c6f0  val=20  prev=0x5c81a796c770  next=(nil)\n",
            "\n",
            "================ CONCAT (move B para o fim de A) ================\n",
            "A antes: [40 <-> 99 <-> 20] (size=3)\n",
            "B antes: [5 <-> 6 <-> 7] (size=3)\n",
            "A depois: [40 <-> 99 <-> 20 <-> 5 <-> 6 <-> 7] (size=6)\n",
            "B depois: [] (size=0)\n",
            "begin=0x5c81a796c730  end=0x5c81a796c7f0  size=6\n",
            "Node@0x5c81a796c730  val=40  prev=(nil)  next=0x5c81a796c770\n",
            "Node@0x5c81a796c770  val=99  prev=0x5c81a796c730  next=0x5c81a796c6f0\n",
            "Node@0x5c81a796c6f0  val=20  prev=0x5c81a796c770  next=0x5c81a796c7b0\n",
            "Node@0x5c81a796c7b0  val=5  prev=0x5c81a796c6f0  next=0x5c81a796c7d0\n",
            "Node@0x5c81a796c7d0  val=6  prev=0x5c81a796c7b0  next=0x5c81a796c7f0\n",
            "Node@0x5c81a796c7f0  val=7  prev=0x5c81a796c7d0  next=(nil)\n",
            "\n",
            "================ INSERT_SORTED em A ================\n",
            "[0 <-> 40 <-> 42 <-> 99 <-> 20 <-> 5 <-> 6 <-> 7 <-> 100] (size=9)\n",
            "begin=0x5c81a796c810  end=0x5c81a796c830  size=9\n",
            "Node@0x5c81a796c810  val=0  prev=(nil)  next=0x5c81a796c730\n",
            "Node@0x5c81a796c730  val=40  prev=0x5c81a796c810  next=0x5c81a796c850\n",
            "Node@0x5c81a796c850  val=42  prev=0x5c81a796c730  next=0x5c81a796c770\n",
            "Node@0x5c81a796c770  val=99  prev=0x5c81a796c850  next=0x5c81a796c6f0\n",
            "Node@0x5c81a796c6f0  val=20  prev=0x5c81a796c770  next=0x5c81a796c7b0\n",
            "Node@0x5c81a796c7b0  val=5  prev=0x5c81a796c6f0  next=0x5c81a796c7d0\n",
            "Node@0x5c81a796c7d0  val=6  prev=0x5c81a796c7b0  next=0x5c81a796c7f0\n",
            "Node@0x5c81a796c7f0  val=7  prev=0x5c81a796c7d0  next=0x5c81a796c830\n",
            "Node@0x5c81a796c830  val=100  prev=0x5c81a796c7f0  next=(nil)\n",
            "\n",
            "================ DESTROY (libera nós e a struct da lista) ================\n",
            "OK (use valgrind no ambiente local para checar vazamentos)\n"
          ]
        }
      ]
    }
  ]
}