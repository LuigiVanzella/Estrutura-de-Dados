{
  "nbformat": 4,
  "nbformat_minor": 0,
  "metadata": {
    "colab": {
      "provenance": [],
      "include_colab_link": true
    },
    "kernelspec": {
      "name": "python3",
      "display_name": "Python 3"
    },
    "language_info": {
      "name": "python"
    }
  },
  "cells": [
    {
      "cell_type": "markdown",
      "metadata": {
        "id": "view-in-github",
        "colab_type": "text"
      },
      "source": [
        "<a href=\"https://colab.research.google.com/github/LuigiVanzella/Estrutura-de-Dados/blob/main/C%C3%B3pia_de_ExerciciosPonteirosEmC.ipynb\" target=\"_parent\"><img src=\"https://colab.research.google.com/assets/colab-badge.svg\" alt=\"Open In Colab\"/></a>"
      ]
    },
    {
      "cell_type": "code",
      "source": [
        "!./teste"
      ],
      "metadata": {
        "colab": {
          "base_uri": "https://localhost:8080/"
        },
        "id": "Tb07ffn_f7Io",
        "outputId": "cea6be18-20c8-46d0-cfb4-fc54e45b2b59"
      },
      "execution_count": null,
      "outputs": [
        {
          "output_type": "stream",
          "name": "stdout",
          "text": [
            "&a  = 0x7ffd54dcc594, a  = 10\n",
            "&p1 = 0x7ffd54dcc598, p1 = (nil)\n",
            "&p2 = 0x7ffd54dcc5a0, p2 = (nil)\n",
            "\n",
            "&a  = 0x7ffd54dcc594, a  = 4\n",
            "&p1 = 0x7ffd54dcc598, p1 = 0x7ffd54dcc594, *p1 = 4\n",
            "&p2 = 0x7ffd54dcc5a0, p2 = 0x7ffd54dcc594, *p2 = 4\n"
          ]
        }
      ]
    },
    {
      "cell_type": "code",
      "source": [
        "hex_string = \"0x7ffdaf850664\"\n",
        "integer_value = int(hex_string, 16)\n",
        "print(f\"Integer value of {hex_string}: {integer_value}\") # Output: 26"
      ],
      "metadata": {
        "colab": {
          "base_uri": "https://localhost:8080/"
        },
        "id": "U4U4Go56hl20",
        "outputId": "2374864a-f66a-43de-a81c-a32c30754b7e"
      },
      "execution_count": null,
      "outputs": [
        {
          "output_type": "stream",
          "name": "stdout",
          "text": [
            "Integer value of 0x7ffdaf850664: 140727548184164\n"
          ]
        }
      ]
    },
    {
      "cell_type": "code",
      "source": [
        "hex_string = \"0x7ffdaf850668\"\n",
        "integer_value = int(hex_string, 16)\n",
        "print(f\"Integer value of {hex_string}: {integer_value}\") # Output: 26"
      ],
      "metadata": {
        "colab": {
          "base_uri": "https://localhost:8080/"
        },
        "id": "ftddl2aMhsP7",
        "outputId": "c056a713-fbe0-4b2e-c71c-2e9c71c40032"
      },
      "execution_count": null,
      "outputs": [
        {
          "output_type": "stream",
          "name": "stdout",
          "text": [
            "Integer value of 0x7ffdaf850668: 140727548184168\n"
          ]
        }
      ]
    },
    {
      "cell_type": "code",
      "source": [
        "hex_string = \"0x7ffdaf850670\"\n",
        "integer_value = int(hex_string, 16)\n",
        "print(f\"Integer value of {hex_string}: {integer_value}\") # Output: 26"
      ],
      "metadata": {
        "colab": {
          "base_uri": "https://localhost:8080/"
        },
        "id": "uRxcWZYehpnm",
        "outputId": "cab42dd4-8912-4ca3-90a2-43c726be31e8"
      },
      "execution_count": null,
      "outputs": [
        {
          "output_type": "stream",
          "name": "stdout",
          "text": [
            "Integer value of 0x7ffdaf850670: 140727548184176\n"
          ]
        }
      ]
    },
    {
      "cell_type": "code",
      "source": [
        "%%writefile hello.c\n",
        "\n",
        "#include<stdio.h>\n",
        "int main()\n",
        "{\n",
        "printf(\"hello world\\n\");\n",
        "}"
      ],
      "metadata": {
        "colab": {
          "base_uri": "https://localhost:8080/"
        },
        "id": "4MAZA8E3GSBZ",
        "outputId": "bc9cbd96-4926-43f0-ac7b-e3da44a697e6"
      },
      "execution_count": null,
      "outputs": [
        {
          "output_type": "stream",
          "name": "stdout",
          "text": [
            "Overwriting hello.c\n"
          ]
        }
      ]
    },
    {
      "cell_type": "code",
      "source": [
        "!gcc hello.c -o hello"
      ],
      "metadata": {
        "id": "3b2kLs6pGo4V",
        "colab": {
          "base_uri": "https://localhost:8080/"
        },
        "outputId": "23eefb4f-a5a7-49bf-d47a-9ac9dfecab3b"
      },
      "execution_count": 3,
      "outputs": [
        {
          "output_type": "stream",
          "name": "stdout",
          "text": [
            "\u001b[01m\u001b[Kcc1:\u001b[m\u001b[K \u001b[01;31m\u001b[Kfatal error: \u001b[m\u001b[Khello.c: No such file or directory\n",
            "compilation terminated.\n"
          ]
        }
      ]
    },
    {
      "cell_type": "code",
      "source": [
        "!./a.out"
      ],
      "metadata": {
        "colab": {
          "base_uri": "https://localhost:8080/"
        },
        "id": "omhAUqNZG3T5",
        "outputId": "ee8ed74a-9a65-4627-b9e8-39ecaed85191"
      },
      "execution_count": null,
      "outputs": [
        {
          "output_type": "stream",
          "name": "stdout",
          "text": [
            "hello world\n"
          ]
        }
      ]
    },
    {
      "cell_type": "markdown",
      "source": [
        "# Exercicio 01:"
      ],
      "metadata": {
        "id": "irbjAXcDsTfv"
      }
    },
    {
      "cell_type": "markdown",
      "source": [
        "T1. Implemente void swap(int *a, int *b) para trocar os valores apontados por a e b. No main, leia dois inteiros, chame swap(&x, &y) e imprima antes/depois."
      ],
      "metadata": {
        "id": "I1dO55ppsbb6"
      }
    },
    {
      "cell_type": "code",
      "source": [
        "%%writefile exercicio01.c\n",
        "#include <stdio.h>\n",
        "\n",
        "void swap(int *a, int *b) {\n",
        "    int tmp = *a;\n",
        "    *a = *b;\n",
        "    *b = tmp;\n",
        "}\n",
        "\n",
        "int main(void) {\n",
        "    int x, y;\n",
        "\n",
        "    printf(\"Digite x e y (com espaços): \");\n",
        "    if (scanf(\"%d %d\", &x, &y) != 2) return 0;\n",
        "\n",
        "    printf(\"Antes: x=%d, y=%d\\n\", x, y);\n",
        "    swap(&x, &y);\n",
        "    printf(\"Depois: x=%d, y=%d\\n\", x, y);\n",
        "\n",
        "    return 0;\n",
        "}\n",
        "\n"
      ],
      "metadata": {
        "colab": {
          "base_uri": "https://localhost:8080/"
        },
        "id": "VOQ9XbjupbOp",
        "outputId": "6107406a-fd53-415e-afcf-8edae14bdbaf"
      },
      "execution_count": 5,
      "outputs": [
        {
          "output_type": "stream",
          "name": "stdout",
          "text": [
            "Writing exercicio01.c\n"
          ]
        }
      ]
    },
    {
      "cell_type": "code",
      "source": [
        "!gcc exercicio01.c -o exercicio01"
      ],
      "metadata": {
        "id": "bna1REsQrHTW"
      },
      "execution_count": 6,
      "outputs": []
    },
    {
      "cell_type": "code",
      "source": [
        "!./exercicio01"
      ],
      "metadata": {
        "colab": {
          "base_uri": "https://localhost:8080/"
        },
        "id": "5i8Rn7XJrr-5",
        "outputId": "c3fc24d7-9d24-411d-bde4-b6352eec6c10"
      },
      "execution_count": 8,
      "outputs": [
        {
          "output_type": "stream",
          "name": "stdout",
          "text": [
            "Digite x e y (com espaços): 1 2\n",
            "Antes: x=1, y=2\n",
            "Depois: x=2, y=1\n"
          ]
        }
      ]
    },
    {
      "cell_type": "markdown",
      "source": [
        "#Exercicio 02"
      ],
      "metadata": {
        "id": "4SIZzaEDseoI"
      }
    },
    {
      "cell_type": "markdown",
      "source": [
        "Implemente int soma(const int *v, int n) que percorre o vetor apenas com ponteiro (ex.: usando um ponteiro p que avança) e retorna a soma. No main, teste com int v[] = {1,2,3,4}"
      ],
      "metadata": {
        "id": "nMzfSl29si9b"
      }
    },
    {
      "cell_type": "code",
      "source": [
        "%%writefile exercicio02.c\n",
        "#include <stdio.h>\n",
        "\n",
        "int soma(const int *v, int n){\n",
        "  int soma = 0;\n",
        "  for(int i=0; i<n; i++){\n",
        "    soma += v[i];\n",
        "  }\n",
        "  return soma;\n",
        "}\n",
        "\n",
        "int main(void){\n",
        "  int v[] = {1,2,3,4};\n",
        "  int len = sizeof(v)/sizeof(v[0]);\n",
        "  printf(\"Soma: %d\\n\", soma(v, len));\n",
        "  return 0;\n",
        "}"
      ],
      "metadata": {
        "id": "E7IF7vShtnM9",
        "colab": {
          "base_uri": "https://localhost:8080/"
        },
        "outputId": "6b4db86c-faee-4cdb-cc49-403c64157f75"
      },
      "execution_count": 32,
      "outputs": [
        {
          "output_type": "stream",
          "name": "stdout",
          "text": [
            "Overwriting exercicio02.c\n"
          ]
        }
      ]
    },
    {
      "cell_type": "code",
      "source": [
        "!gcc exercicio02.c -o exercicio02"
      ],
      "metadata": {
        "id": "g480B5QNtoB3"
      },
      "execution_count": 33,
      "outputs": []
    },
    {
      "cell_type": "code",
      "source": [
        "!./exercicio02"
      ],
      "metadata": {
        "id": "2N5jln-KtnzO",
        "colab": {
          "base_uri": "https://localhost:8080/"
        },
        "outputId": "830b76f3-e753-4ae2-f742-ea4147be6cd4"
      },
      "execution_count": 34,
      "outputs": [
        {
          "output_type": "stream",
          "name": "stdout",
          "text": [
            "n= 4\n",
            "Soma: 10\n"
          ]
        }
      ]
    },
    {
      "cell_type": "markdown",
      "source": [
        "#Exercicio 03"
      ],
      "metadata": {
        "id": "W-FkElGSsomD"
      }
    },
    {
      "cell_type": "markdown",
      "source": [],
      "metadata": {
        "id": "s7nsyyzrs5CF"
      }
    },
    {
      "cell_type": "markdown",
      "source": [
        "Implemente void set_segundo(int *v, int n, int valor) que altera o segundo elemento de um vetor usando apenas aritmética de ponteiros (ex.: *(v + 1) = valor;). No main, demonstre alteração."
      ],
      "metadata": {
        "id": "YAa84xk4soha"
      }
    },
    {
      "cell_type": "code",
      "source": [
        "%%writefile exercicio03.c\n",
        "#include <stdio.h>\n",
        "\n",
        "void set_segundo(int *v, int n, int valor){\n",
        "  if(n>=2){\n",
        "    *(v+1) = valor;\n",
        "  }\n",
        "\n",
        "}\n",
        "\n",
        "int main(void){\n",
        "  int len;\n",
        "\n",
        "  printf(\"Digite a quantidade de elementos do vetor (deve ser maior que dois): \");\n",
        "  scanf(\"%d\", &len);\n",
        "  int v[len];\n",
        "  for (int i = 0; i < len; i++){\n",
        "    printf(\"Digite o elemente: \");\n",
        "    scanf(\"%d\", &v[i]);\n",
        "  }\n",
        "  set_segundo(v, len, 10);\n",
        "\n",
        "  printf(\"Vetor após alteração: \");\n",
        "  for (int i = 0; i < len; i++){\n",
        "    printf(\"%d \",v[i]);\n",
        "  }\n",
        "\n",
        "\n",
        "  return 0;\n",
        "}"
      ],
      "metadata": {
        "id": "ArIaob7xto6U",
        "colab": {
          "base_uri": "https://localhost:8080/"
        },
        "outputId": "a4cc04de-56e7-4f23-f33b-2a15def75ce2"
      },
      "execution_count": 146,
      "outputs": [
        {
          "output_type": "stream",
          "name": "stdout",
          "text": [
            "Overwriting exercicio03.c\n"
          ]
        }
      ]
    },
    {
      "cell_type": "code",
      "source": [
        "!gcc exercicio03.c -o exercicio03"
      ],
      "metadata": {
        "id": "l0_tja5VtoyZ"
      },
      "execution_count": 147,
      "outputs": []
    },
    {
      "cell_type": "code",
      "source": [
        "!./exercicio03"
      ],
      "metadata": {
        "id": "CQNhE1wmtols",
        "colab": {
          "base_uri": "https://localhost:8080/"
        },
        "outputId": "ac39ecb6-2ab8-4bb0-e936-0f8c0c1facaf"
      },
      "execution_count": 149,
      "outputs": [
        {
          "output_type": "stream",
          "name": "stdout",
          "text": [
            "Digite a quantidade de elementos do vetor (deve ser maior que dois): -1\n",
            "Vetor após alteração: "
          ]
        }
      ]
    },
    {
      "cell_type": "markdown",
      "source": [
        "#Exercicio 04\n"
      ],
      "metadata": {
        "id": "iG5tDQ5Msod_"
      }
    },
    {
      "cell_type": "markdown",
      "source": [
        " Implemente void inc_todos(int *v, int n) que incrementa todos os elementos do vetor percorrendo apenas com ponteiro (sem índice). Mostre o vetor antes e depois no main"
      ],
      "metadata": {
        "id": "Rpwa9gLIsoVX"
      }
    },
    {
      "cell_type": "code",
      "source": [
        "%%writefile exercicio04.c\n",
        "#include <stdio.h>\n",
        "\n",
        "void inc_todos(int *v, int n){\n",
        "  int *p = v;\n",
        "  for(int i=0; i<n; i++){\n",
        "    *p += 1;\n",
        "    p++;\n",
        "  }\n",
        "}\n",
        "\n",
        "int main(void){\n",
        "  int len;\n",
        "\n",
        "  printf(\"Digite a quantidade de elementos do vetor (deve ser maior que dois): \");\n",
        "  scanf(\"%d\", &len);\n",
        "  int v[len];\n",
        "  for (int i = 0; i < len; i++){\n",
        "    printf(\"Digite o elemente: \");\n",
        "    scanf(\"%d\", &v[i]);\n",
        "  }\n",
        "\n",
        "  printf(\"Vetor antes da alteração: \");\n",
        "  for (int i = 0; i < len; i++){\n",
        "    printf(\"%d \",v[i]);\n",
        "  }\n",
        "  printf(\"\\n\");\n",
        "  inc_todos(v, len);\n",
        "\n",
        "  printf(\"Vetor depois da alteração: \");\n",
        "  for (int i = 0; i < len; i++){\n",
        "    printf(\"%d \",v[i]);\n",
        "  }\n",
        "}"
      ],
      "metadata": {
        "id": "ZfFfynjrtpxa",
        "colab": {
          "base_uri": "https://localhost:8080/"
        },
        "outputId": "570d4b5d-b086-4df4-9036-a5e7aa334bf5"
      },
      "execution_count": 150,
      "outputs": [
        {
          "output_type": "stream",
          "name": "stdout",
          "text": [
            "Writing exercicio04.c\n"
          ]
        }
      ]
    },
    {
      "cell_type": "code",
      "source": [
        "!gcc exercicio04.c -o exercicio04"
      ],
      "metadata": {
        "id": "2Sf1E6wutpqt"
      },
      "execution_count": 151,
      "outputs": []
    },
    {
      "cell_type": "code",
      "source": [
        "!./exercicio04"
      ],
      "metadata": {
        "id": "3D7zswLytphR",
        "colab": {
          "base_uri": "https://localhost:8080/"
        },
        "outputId": "e3bd11fe-225b-435a-94ad-504f6fcf36ab"
      },
      "execution_count": 152,
      "outputs": [
        {
          "output_type": "stream",
          "name": "stdout",
          "text": [
            "Digite a quantidade de elementos do vetor (deve ser maior que dois): 3\n",
            "Digite o elemente: 1\n",
            "Digite o elemente: 2\n",
            "Digite o elemente: 3\n",
            "Vetor antes da alteração: 1 2 3 \n",
            "Vetor depois da alteração: 2 3 4 "
          ]
        }
      ]
    },
    {
      "cell_type": "markdown",
      "source": [
        "# Exercicio 5"
      ],
      "metadata": {
        "id": "iHTpx46Es7CM"
      }
    },
    {
      "cell_type": "markdown",
      "source": [
        "Implemente: <br><br>void redireciona(int **pp, int *novo_alvo);\n",
        "<br><br>que faz o ponteiro simples apontado por pp passar a apontar para novo_alvo. No main, crie int a=10, b=20; int *p=&a; chame redireciona(&p, &b); e mostre que *p agora lê/modifica b.\n",
        "\n"
      ],
      "metadata": {
        "id": "dAoCnNwLs6-Z"
      }
    },
    {
      "cell_type": "code",
      "source": [
        "%%writefile exercicio05.c\n",
        "#include <stdio.h>\n",
        "void redireciona(int **pp, int *novo_alvo){\n",
        "  **pp = *novo_alvo;\n",
        "}\n",
        "int main(void){\n",
        "  int a = 10, b = 20;\n",
        "  int *p = &a;\n",
        "  redireciona(&p, &b);\n",
        "  printf(\"%d\\n\", *p);\n",
        "  printf(\"%d\\n\", a);\n",
        "  printf(\"%d\\n\", b);\n",
        "}"
      ],
      "metadata": {
        "id": "bTNIXDudtrAb",
        "colab": {
          "base_uri": "https://localhost:8080/"
        },
        "outputId": "4e4c0116-6bb1-45fa-d90f-9dd250d17481"
      },
      "execution_count": 155,
      "outputs": [
        {
          "output_type": "stream",
          "name": "stdout",
          "text": [
            "Overwriting exercicio05.c\n"
          ]
        }
      ]
    },
    {
      "cell_type": "code",
      "source": [
        "!gcc exercicio05.c -o exercicio05"
      ],
      "metadata": {
        "id": "j7uN0d7Atq4B"
      },
      "execution_count": 156,
      "outputs": []
    },
    {
      "cell_type": "code",
      "source": [
        "!./exercicio05"
      ],
      "metadata": {
        "id": "0Bb8BN36tqvv",
        "colab": {
          "base_uri": "https://localhost:8080/"
        },
        "outputId": "7b712df0-aae1-4488-9337-20a5f10a5ea2"
      },
      "execution_count": 157,
      "outputs": [
        {
          "output_type": "stream",
          "name": "stdout",
          "text": [
            "20\n",
            "20\n",
            "20\n"
          ]
        }
      ]
    },
    {
      "cell_type": "markdown",
      "source": [
        "#Exercicio 06"
      ],
      "metadata": {
        "id": "xg6b8FBCs67V"
      }
    },
    {
      "cell_type": "markdown",
      "source": [
        "Imprimir valor e endereço\n",
        "\n",
        "Leia um int x. Imprima o valor de x e, em seguida, acesse o mesmo valor por meio de um ponteiro int *p = &x; (use *p para imprimir o valor).\n",
        "\n",
        "Depois, modifique x usando *p = ... e mostre o novo valor."
      ],
      "metadata": {
        "id": "KAnJjCyhs6yu"
      }
    },
    {
      "cell_type": "code",
      "source": [],
      "metadata": {
        "id": "9ZQ-Hdtpt3Fs"
      },
      "execution_count": null,
      "outputs": []
    },
    {
      "cell_type": "code",
      "source": [],
      "metadata": {
        "id": "1pEv0WLot27S"
      },
      "execution_count": null,
      "outputs": []
    },
    {
      "cell_type": "code",
      "source": [],
      "metadata": {
        "id": "VnGLrszPt7d9"
      },
      "execution_count": null,
      "outputs": []
    },
    {
      "cell_type": "markdown",
      "source": [
        "#Exercicio 07"
      ],
      "metadata": {
        "id": "xDhtICrzt8eN"
      }
    },
    {
      "cell_type": "markdown",
      "source": [
        "Cópia por ponteiro\n",
        "\n",
        "Implemente void copia(int *dest, int *orig) que faça *dest receber *orig.\n",
        "\n",
        "No main, leia dois inteiros, chame copia(&a, &b) e mostre como a passa a ter o valor de b."
      ],
      "metadata": {
        "id": "L0CfJXewuAhS"
      }
    },
    {
      "cell_type": "code",
      "source": [],
      "metadata": {
        "id": "rDLKTGd_t_7K"
      },
      "execution_count": null,
      "outputs": []
    },
    {
      "cell_type": "code",
      "source": [],
      "metadata": {
        "id": "aNms9PoSuGK6"
      },
      "execution_count": null,
      "outputs": []
    },
    {
      "cell_type": "code",
      "source": [],
      "metadata": {
        "id": "mosR3_NauF_B"
      },
      "execution_count": null,
      "outputs": []
    },
    {
      "cell_type": "markdown",
      "source": [
        "#Exercicio 08"
      ],
      "metadata": {
        "id": "Dz4HgTPeuGjp"
      }
    },
    {
      "cell_type": "markdown",
      "source": [
        "Atribuição no terceiro elemento por ponteiro\n",
        "\n",
        "Com int v[5], escreva void set_terceiro(int *v, int valor) que atribui valor no terceiro elemento usando apenas aritmética de ponteiros (sem índices)."
      ],
      "metadata": {
        "id": "W7B6ad7WuKTw"
      }
    },
    {
      "cell_type": "code",
      "source": [],
      "metadata": {
        "id": "w5N9h3VWu0uS"
      },
      "execution_count": null,
      "outputs": []
    },
    {
      "cell_type": "code",
      "source": [],
      "metadata": {
        "id": "-z6_iiAju0oo"
      },
      "execution_count": null,
      "outputs": []
    },
    {
      "cell_type": "code",
      "source": [],
      "metadata": {
        "id": "DD_njM4Yu0f3"
      },
      "execution_count": null,
      "outputs": []
    },
    {
      "cell_type": "markdown",
      "source": [
        "#Exercicio 09"
      ],
      "metadata": {
        "id": "8EVvOaPyuKLq"
      }
    },
    {
      "cell_type": "markdown",
      "source": [
        "Contagem de pares com ponteiro\n",
        "\n",
        "Escreva int conta_pares(const int *v, int n) que percorre o vetor só com ponteiro (incrementando o ponteiro) e retorna quantos elementos são pares.\n",
        "\n"
      ],
      "metadata": {
        "id": "cKSH7rjjuKBQ"
      }
    },
    {
      "cell_type": "code",
      "source": [],
      "metadata": {
        "id": "4BxzOVK-u1XL"
      },
      "execution_count": null,
      "outputs": []
    },
    {
      "cell_type": "code",
      "source": [],
      "metadata": {
        "id": "l0TJ_ggXu1Tk"
      },
      "execution_count": null,
      "outputs": []
    },
    {
      "cell_type": "code",
      "source": [],
      "metadata": {
        "id": "zcQk2r9ou1P-"
      },
      "execution_count": null,
      "outputs": []
    },
    {
      "cell_type": "markdown",
      "source": [
        "#Exercicio 10"
      ],
      "metadata": {
        "id": "AoSZ6kM3uOyT"
      }
    },
    {
      "cell_type": "markdown",
      "source": [
        "Troca condicional por ponteiros\n",
        "\n",
        "Implemente void swap_se_maior(int *a, int *b) que troca os valores apenas se *a > *b.\n",
        "\n",
        "Teste com exemplos mostrando os dois cenários (troca e não troca)."
      ],
      "metadata": {
        "id": "IpKkXzYduOpI"
      }
    },
    {
      "cell_type": "code",
      "source": [],
      "metadata": {
        "id": "p6sWc9gxu1_U"
      },
      "execution_count": null,
      "outputs": []
    },
    {
      "cell_type": "code",
      "source": [],
      "metadata": {
        "id": "nn6n0pIZu17v"
      },
      "execution_count": null,
      "outputs": []
    },
    {
      "cell_type": "code",
      "source": [],
      "metadata": {
        "id": "9xmjk7Hku14U"
      },
      "execution_count": null,
      "outputs": []
    },
    {
      "cell_type": "markdown",
      "source": [
        "#Exercicio 11"
      ],
      "metadata": {
        "id": "6_6FZnOiuSJE"
      }
    },
    {
      "cell_type": "markdown",
      "source": [
        "“Redireciona e incrementa” com ponteiro duplo\n",
        "\n",
        "Dado int a=1, b=2; int *p=&a;, escreva void redireciona_inc(int **pp, int *novo_alvo) que:\n",
        "\n",
        "redireciona *pp para novo_alvo,\n",
        "\n",
        "incrementa o valor apontado por *pp."
      ],
      "metadata": {
        "id": "fxtXeUK-uVCJ"
      }
    },
    {
      "cell_type": "code",
      "source": [],
      "metadata": {
        "id": "OgSjZnMCu2gh"
      },
      "execution_count": null,
      "outputs": []
    },
    {
      "cell_type": "code",
      "source": [],
      "metadata": {
        "id": "yRiBM-4zu2cZ"
      },
      "execution_count": null,
      "outputs": []
    },
    {
      "cell_type": "code",
      "source": [],
      "metadata": {
        "id": "ugnikEJ0u2Za"
      },
      "execution_count": null,
      "outputs": []
    }
  ]
}