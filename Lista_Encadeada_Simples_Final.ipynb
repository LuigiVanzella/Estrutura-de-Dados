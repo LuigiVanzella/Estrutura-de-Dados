{
  "cells": [
    {
      "cell_type": "markdown",
      "metadata": {
        "id": "view-in-github",
        "colab_type": "text"
      },
      "source": [
        "<a href=\"https://colab.research.google.com/github/LuigiVanzella/Estrutura-de-Dados/blob/main/Lista_Encadeada_Simples_Final.ipynb\" target=\"_parent\"><img src=\"https://colab.research.google.com/assets/colab-badge.svg\" alt=\"Open In Colab\"/></a>"
      ]
    },
    {
      "cell_type": "markdown",
      "metadata": {
        "id": "NbfFJi5uIel6"
      },
      "source": [
        "\n",
        "## Criação Inicial das Estruturas e Incialização\n"
      ]
    },
    {
      "cell_type": "markdown",
      "metadata": {
        "id": "y3bI--Q9S0GT"
      },
      "source": [
        "![image.png](data:image/png;base64,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)"
      ]
    },
    {
      "cell_type": "markdown",
      "metadata": {
        "id": "MQeV7H1uXMTf"
      },
      "source": [
        "### Propriedades de Cada Estrutura"
      ]
    },
    {
      "cell_type": "code",
      "execution_count": null,
      "metadata": {
        "colab": {
          "base_uri": "https://localhost:8080/"
        },
        "id": "_MnzUZhqVi6d",
        "outputId": "25b8377b-17ee-4bb2-b35d-0c8a80672df7"
      },
      "outputs": [
        {
          "output_type": "stream",
          "name": "stdout",
          "text": [
            "Overwriting linked_list.h\n"
          ]
        }
      ],
      "source": [
        "%%writefile linked_list.h\n",
        "#ifndef LINKED_LIST_H\n",
        "#define LINKED_LIST_H\n",
        "\n",
        "typedef struct _snode SNode;\n",
        "typedef struct _linked_list LinkedList;\n",
        "\n",
        "#endif\n"
      ]
    },
    {
      "cell_type": "code",
      "execution_count": null,
      "metadata": {
        "colab": {
          "base_uri": "https://localhost:8080/"
        },
        "id": "ZloXJ8O-VtnS",
        "outputId": "667f055d-fdfa-4d22-b465-60976f0420d5"
      },
      "outputs": [
        {
          "output_type": "stream",
          "name": "stdout",
          "text": [
            "Overwriting linked_list.c\n"
          ]
        }
      ],
      "source": [
        "%%writefile linked_list.c\n",
        "#include \"linked_list.h\"\n",
        "\n",
        "typedef struct _snode {\n",
        "    int val;\n",
        "    struct _snode *next;\n",
        "} SNode;\n",
        "\n",
        "\n",
        "typedef struct _linked_list {\n",
        "    SNode *begin;\n",
        "} LinkedList;\n"
      ]
    },
    {
      "cell_type": "code",
      "execution_count": null,
      "metadata": {
        "id": "UuEaDEBNXz94"
      },
      "outputs": [],
      "source": [
        "!gcc -c linked_list.c -o linked_list.o\n"
      ]
    },
    {
      "cell_type": "markdown",
      "metadata": {
        "id": "YZhGzkBbXTSh"
      },
      "source": [
        "### Como se Iniciar a estrutura da Lista"
      ]
    },
    {
      "cell_type": "markdown",
      "metadata": {
        "id": "wh5GCckuWb3f"
      },
      "source": [
        "calloc => função do C para alocar o valor na memoria\n",
        "<br> begin, next => são ponteiros e inicialmente estamos inializando ambos com null, pois assim que \"iniciamos\" a estrutura não teremos valor ate que se adicione o primeiro nó na lista"
      ]
    },
    {
      "cell_type": "code",
      "execution_count": null,
      "metadata": {
        "colab": {
          "base_uri": "https://localhost:8080/"
        },
        "id": "ls6wG4v0WDos",
        "outputId": "7f75300b-45bc-492d-ce14-db4aa980fbea"
      },
      "outputs": [
        {
          "output_type": "stream",
          "name": "stdout",
          "text": [
            "Overwriting linked_list.h\n"
          ]
        }
      ],
      "source": [
        "%%writefile linked_list.h\n",
        "#ifndef LINKED_LIST_H\n",
        "#define LINKED_LIST_H\n",
        "\n",
        "typedef struct _snode SNode;\n",
        "typedef struct _linked_list LinkedList;\n",
        "\n",
        "SNode *SNode_create(int val);\n",
        "\n",
        "LinkedList *LinkedList_create();\n",
        "\n",
        "#endif\n"
      ]
    },
    {
      "cell_type": "code",
      "execution_count": null,
      "metadata": {
        "colab": {
          "base_uri": "https://localhost:8080/"
        },
        "id": "y_3RTWjTWDot",
        "outputId": "f8c9d4e2-92cf-40a3-9e36-fc53ff4ce359"
      },
      "outputs": [
        {
          "output_type": "stream",
          "name": "stdout",
          "text": [
            "Overwriting linked_list.c\n"
          ]
        }
      ],
      "source": [
        "%%writefile linked_list.c\n",
        "#include \"linked_list.h\"\n",
        "#include <stdlib.h>\n",
        "#include <stdio.h>\n",
        "\n",
        "\n",
        "typedef struct _snode {\n",
        "    int val;\n",
        "    struct _snode *next;\n",
        "} SNode;\n",
        "\n",
        "\n",
        "typedef struct _linked_list {\n",
        "    SNode *begin;\n",
        "} LinkedList;\n",
        "\n",
        "\n",
        "\n",
        "SNode *SNode_create(int val) {\n",
        "    SNode *snode = (SNode*) calloc(1, sizeof(SNode));\n",
        "    snode->val = val;\n",
        "    snode->next = NULL;\n",
        "\n",
        "    return snode;\n",
        "}\n",
        "\n",
        "\n",
        "\n",
        "LinkedList *LinkedList_create() {\n",
        "    LinkedList *L = (LinkedList *) calloc(1, sizeof(LinkedList));\n",
        "    L->begin = NULL;\n",
        "\n",
        "    return L;\n",
        "}"
      ]
    },
    {
      "cell_type": "code",
      "execution_count": null,
      "metadata": {
        "colab": {
          "base_uri": "https://localhost:8080/"
        },
        "id": "A0Uj3xfYc8Eb",
        "outputId": "faa5881d-5a9c-46a0-9081-1bca8b149190"
      },
      "outputs": [
        {
          "output_type": "stream",
          "name": "stdout",
          "text": [
            "Overwriting main.c\n"
          ]
        }
      ],
      "source": [
        "%%writefile main.c\n",
        "#include \"linked_list.h\"\n",
        "#include <stdlib.h>\n",
        "#include <stdio.h>\n",
        "\n",
        "/* Completa as structs opacas APÓS incluir o header.\n",
        "   O layout DEVE ser idêntico ao de linked_list.c */\n",
        "struct _snode {\n",
        "    int val;\n",
        "    struct _snode *next;\n",
        "};\n",
        "struct _linked_list {\n",
        "    SNode *begin;\n",
        "};\n",
        "\n",
        "int main(void) {\n",
        "    LinkedList *MinhaLista = NULL; // ainda não criada\n",
        "\n",
        "    if (MinhaLista == NULL) {\n",
        "        printf(\"Minha Lista ainda NAO foi criada!\\n\");\n",
        "    }\n",
        "\n",
        "    // cria a lista (heap)\n",
        "    MinhaLista = LinkedList_create();\n",
        "\n",
        "    if (MinhaLista == NULL) {\n",
        "        printf(\"Erro ao criar a lista!\\n\");\n",
        "        return 1;\n",
        "    }\n",
        "\n",
        "    printf(\"\\n=== Estado inicial ===\\n\");\n",
        "    // endereço da variável ponteiro (stack)\n",
        "    printf(\"Endereco da VAR ponteiro (&MinhaLista): %p\\n\", (void*)&MinhaLista);\n",
        "    // valor do ponteiro (endereço da struct na heap)\n",
        "    printf(\"Valor de MinhaLista (endereco da struct): %p\\n\", (void*)MinhaLista);\n",
        "    // endereço do campo begin dentro da struct\n",
        "    printf(\"Endereco do campo begin (&MinhaLista->begin): %p\\n\", (void*)&MinhaLista->begin);\n",
        "    // valor do campo begin (ponteiro para o 1o nó) — deve ser NULL\n",
        "    printf(\"Valor de begin (MinhaLista->begin): %p\\n\", (void*)MinhaLista->begin);\n",
        "\n",
        "    return 0;\n",
        "}\n"
      ]
    },
    {
      "cell_type": "code",
      "execution_count": null,
      "metadata": {
        "id": "Db45X2NHXZAx"
      },
      "outputs": [],
      "source": [
        "!gcc main.c linked_list.c -o linked_list.o"
      ]
    },
    {
      "cell_type": "code",
      "execution_count": null,
      "metadata": {
        "colab": {
          "base_uri": "https://localhost:8080/"
        },
        "id": "zC8Gf-GmbHoM",
        "outputId": "e5bd3e24-8e46-4705-f252-466c1ddc38ed"
      },
      "outputs": [
        {
          "output_type": "stream",
          "name": "stdout",
          "text": [
            "Minha Lista ainda NAO foi criada!\n",
            "\n",
            "=== Estado inicial ===\n",
            "Endereco da VAR ponteiro (&MinhaLista): 0x7ffdfb762770\n",
            "Valor de MinhaLista (endereco da struct): 0x5cef6b9f16b0\n",
            "Endereco do campo begin (&MinhaLista->begin): 0x5cef6b9f16b0\n",
            "Valor de begin (MinhaLista->begin): (nil)\n"
          ]
        }
      ],
      "source": [
        "!./linked_list.o"
      ]
    },
    {
      "cell_type": "markdown",
      "metadata": {
        "id": "GkIjSKw9b1l4"
      },
      "source": [
        "De inicio temos apenas a Lista iniciada por isso automaticamente temos o ponteiro begin recebendo o valor de null pois nenhum nó foi colocado nessa lista"
      ]
    },
    {
      "cell_type": "markdown",
      "source": [
        "# Operações Basicas: Size, Empty, Print"
      ],
      "metadata": {
        "id": "54wn9RCZEr77"
      }
    },
    {
      "cell_type": "markdown",
      "source": [],
      "metadata": {
        "id": "n29BALoAHRFh"
      }
    },
    {
      "cell_type": "code",
      "source": [
        "%%writefile linked_list.h\n",
        "#ifndef LINKED_LIST_H\n",
        "#define LINKED_LIST_H\n",
        "\n",
        "#include <stdbool.h>\n",
        "#include <stddef.h>\n",
        "\n",
        "typedef struct _snode {\n",
        "    int val;\n",
        "    struct _snode *next;\n",
        "} SNode;\n",
        "\n",
        "typedef struct _linked_list {\n",
        "    SNode *begin;\n",
        "    SNode *end;   // referência ao último nó\n",
        "} LinkedList;\n",
        "\n",
        "/* criação e verificação */\n",
        "LinkedList* LinkedList_create(void);\n",
        "bool        LinkedList_is_empty(const LinkedList *L);\n",
        "size_t      LinkedList_size(const LinkedList *L);\n",
        "\n",
        "/* inserções */\n",
        "void  LinkedList_add_first(LinkedList *L, int val);\n",
        "void  LinkedList_add_last (LinkedList *L, int val);\n",
        "bool  LinkedList_add_at   (LinkedList *L, int val, size_t index);\n",
        "\n",
        "/* utilitários */\n",
        "void  LinkedList_print(const LinkedList *L);\n",
        "\n",
        "#endif\n"
      ],
      "metadata": {
        "id": "2JK_OgODEylX",
        "colab": {
          "base_uri": "https://localhost:8080/"
        },
        "outputId": "e496aa93-a767-4e06-c579-dde71de57969"
      },
      "execution_count": null,
      "outputs": [
        {
          "output_type": "stream",
          "name": "stdout",
          "text": [
            "Overwriting linked_list.h\n"
          ]
        }
      ]
    },
    {
      "cell_type": "code",
      "source": [
        "%%writefile linked_list.c\n",
        "#include \"linked_list.h\"\n",
        "#include <stdio.h>\n",
        "#include <stdlib.h>\n",
        "#include <stdbool.h>\n",
        "\n",
        "/* auxiliar: cria nó (privado ao .c) */\n",
        "static SNode* SNode_create(int val){\n",
        "    SNode *n = (SNode*) calloc(1, sizeof(SNode));\n",
        "    if (!n){ perror(\"calloc\"); exit(EXIT_FAILURE); }\n",
        "    n->val = val;\n",
        "    n->next = NULL;\n",
        "    return n;\n",
        "}\n",
        "\n",
        "LinkedList* LinkedList_create(void){\n",
        "    LinkedList *L = (LinkedList*) calloc(1, sizeof(LinkedList));\n",
        "    if (!L){ perror(\"calloc\"); exit(EXIT_FAILURE); }\n",
        "    L->begin = NULL;\n",
        "    L->end   = NULL;\n",
        "    return L;\n",
        "}\n",
        "\n",
        "bool LinkedList_is_empty(const LinkedList *L){\n",
        "    return !L || !L->begin;\n",
        "}\n",
        "\n",
        "size_t LinkedList_size(const LinkedList *L){\n",
        "    size_t n = 0;\n",
        "    for (SNode *p = L ? L->begin : NULL; p; p = p->next) n++;\n",
        "    return n;\n",
        "}\n",
        "\n",
        "void LinkedList_add_first(LinkedList *L, int val){\n",
        "    SNode *p = SNode_create(val);\n",
        "    if (LinkedList_is_empty(L)){\n",
        "        L->begin = L->end = p;\n",
        "    } else {\n",
        "        p->next = L->begin;\n",
        "        L->begin = p;\n",
        "    }\n",
        "}\n",
        "\n",
        "void LinkedList_add_last(LinkedList *L, int val){\n",
        "    SNode *p = SNode_create(val);\n",
        "    if (LinkedList_is_empty(L)){\n",
        "        L->begin = L->end = p;\n",
        "    } else {\n",
        "        L->end->next = p;\n",
        "        L->end = p;\n",
        "    }\n",
        "}\n",
        "\n",
        "bool LinkedList_add_at(LinkedList *L, int val, size_t index){\n",
        "    size_t n = LinkedList_size(L);\n",
        "    if (index > n) return false;\n",
        "    if (index == 0){ LinkedList_add_first(L, val); return true; }\n",
        "    if (index == n){ LinkedList_add_last (L, val); return true; }\n",
        "\n",
        "    SNode *prev = L->begin;\n",
        "    for (size_t i = 0; i < index - 1; i++) prev = prev->next;\n",
        "    SNode *p = SNode_create(val);\n",
        "    p->next = prev->next;\n",
        "    prev->next = p;\n",
        "    return true;\n",
        "}\n",
        "\n",
        "/* print detalhado: valor, endereço, ponteiro e alvo */\n",
        "void LinkedList_print(const LinkedList *L){\n",
        "    printf(\"\\n--- Estado da Lista ---\\n\");\n",
        "    if (!L){\n",
        "        printf(\"(Lista inexistente)\\n\");\n",
        "        return;\n",
        "    }\n",
        "\n",
        "    int idx = 0;\n",
        "    for (SNode *p = L->begin; p; p = p->next, idx++){\n",
        "        printf(\"No[%d] @%p: val=%d | &val=%p | &next=%p | next=%p\\n\",\n",
        "               idx,\n",
        "               (void*)p,\n",
        "               p->val,\n",
        "               (void*)&p->val,\n",
        "               (void*)&p->next,\n",
        "               (void*)p->next);\n",
        "    }\n",
        "\n",
        "    printf(\"begin=%p\", (void*)L->begin);\n",
        "    if (L->begin) printf(\" (val=%d)\", L->begin->val);\n",
        "\n",
        "    printf(\" | end=%p\", (void*)L->end);\n",
        "    if (L->end) printf(\" (val=%d)\", L->end->val);\n",
        "\n",
        "    printf(\" | size=%zu\\n\", LinkedList_size(L));\n",
        "    printf(\"-----------------------\\n\\n\");\n",
        "}\n"
      ],
      "metadata": {
        "colab": {
          "base_uri": "https://localhost:8080/"
        },
        "id": "Cd6h1obcHSU8",
        "outputId": "3ee7cc8b-16ec-40b2-a79c-2ec64c29bc46"
      },
      "execution_count": null,
      "outputs": [
        {
          "output_type": "stream",
          "name": "stdout",
          "text": [
            "Overwriting linked_list.c\n"
          ]
        }
      ]
    },
    {
      "cell_type": "code",
      "source": [
        "%%writefile main.c\n",
        "#include \"linked_list.h\"\n",
        "#include <stdio.h>\n",
        "\n",
        "int main(void){\n",
        "    LinkedList *L = LinkedList_create();\n",
        "\n",
        "    printf(\"Lista vazia? %s\\n\", LinkedList_is_empty(L) ? \"SIM\" : \"NAO\");\n",
        "    LinkedList_print(L);\n",
        "\n",
        "    LinkedList_add_first(L, 10);   // [10]\n",
        "    LinkedList_add_last(L, 30);    // [10 -> 30]\n",
        "    LinkedList_add_at(L, 20, 1);   // [10 -> 20 -> 30]\n",
        "\n",
        "    printf(\"\\nDepois das insercoes:\\n\");\n",
        "    LinkedList_print(L);\n",
        "\n",
        "    printf(\"Tamanho da lista: %zu\\n\", LinkedList_size(L));\n",
        "    printf(\"Lista vazia? %s\\n\", LinkedList_is_empty(L) ? \"SIM\" : \"NAO\");\n",
        "\n",
        "    return 0;\n",
        "}\n"
      ],
      "metadata": {
        "colab": {
          "base_uri": "https://localhost:8080/"
        },
        "id": "InIbC9NbIq6-",
        "outputId": "5f3c184b-5056-41a9-be30-45cbba378878"
      },
      "execution_count": null,
      "outputs": [
        {
          "output_type": "stream",
          "name": "stdout",
          "text": [
            "Overwriting main.c\n"
          ]
        }
      ]
    },
    {
      "cell_type": "code",
      "source": [
        "!gcc -Wall -Wextra -std=c11 main.c linked_list.c -o programa && ./programa\n"
      ],
      "metadata": {
        "colab": {
          "base_uri": "https://localhost:8080/"
        },
        "id": "hJEpwP1cIYBX",
        "outputId": "5f773e93-a2b9-4a0e-ab7d-dbd19ad866b6"
      },
      "execution_count": null,
      "outputs": [
        {
          "output_type": "stream",
          "name": "stdout",
          "text": [
            "Lista vazia? SIM\n",
            "\n",
            "--- Estado da Lista ---\n",
            "begin=(nil) | end=(nil) | size=0\n",
            "-----------------------\n",
            "\n",
            "\n",
            "Depois das insercoes:\n",
            "\n",
            "--- Estado da Lista ---\n",
            "No[0] @0x5a37853e86d0: val=10 | &val=0x5a37853e86d0 | &next=0x5a37853e86d8 | next=0x5a37853e8710\n",
            "No[1] @0x5a37853e8710: val=20 | &val=0x5a37853e8710 | &next=0x5a37853e8718 | next=0x5a37853e86f0\n",
            "No[2] @0x5a37853e86f0: val=30 | &val=0x5a37853e86f0 | &next=0x5a37853e86f8 | next=(nil)\n",
            "begin=0x5a37853e86d0 (val=10) | end=0x5a37853e86f0 (val=30) | size=3\n",
            "-----------------------\n",
            "\n",
            "Tamanho da lista: 3\n",
            "Lista vazia? NAO\n"
          ]
        }
      ]
    },
    {
      "cell_type": "markdown",
      "source": [
        "# Operação Inserir"
      ],
      "metadata": {
        "id": "GGxEQbyk5H-g"
      }
    },
    {
      "cell_type": "markdown",
      "metadata": {
        "id": "EhTqP2AgXlEq"
      },
      "source": [
        "## Adicionar Nó na lista vazia"
      ]
    },
    {
      "cell_type": "markdown",
      "metadata": {
        "id": "VTQ-a13heAo2"
      },
      "source": [
        "![image.png](data:image/png;base64,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)"
      ]
    },
    {
      "cell_type": "code",
      "execution_count": null,
      "metadata": {
        "colab": {
          "base_uri": "https://localhost:8080/"
        },
        "id": "ymWX1HajeAo3",
        "outputId": "0edca689-8e72-4031-c9ee-ca25c73eead7"
      },
      "outputs": [
        {
          "output_type": "stream",
          "name": "stdout",
          "text": [
            "Overwriting linked_list.h\n"
          ]
        }
      ],
      "source": [
        "%%writefile linked_list.h\n",
        "#ifndef LINKED_LIST_H\n",
        "#define LINKED_LIST_H\n",
        "\n",
        "#include <stdbool.h>\n",
        "#include <stddef.h>\n",
        "\n",
        "typedef struct _snode {\n",
        "    int val;\n",
        "    struct _snode *next;\n",
        "} SNode;\n",
        "\n",
        "typedef struct _linked_list {\n",
        "    SNode *begin;\n",
        "    SNode *end;   // referência ao último nó\n",
        "} LinkedList;\n",
        "\n",
        "/* criação e verificação */\n",
        "LinkedList* LinkedList_create(void);\n",
        "bool        LinkedList_is_empty(const LinkedList *L);\n",
        "size_t      LinkedList_size(const LinkedList *L);\n",
        "\n",
        "/* inserções */\n",
        "void  LinkedList_add_first(LinkedList *L, int val);\n",
        "void  LinkedList_add_last (LinkedList *L, int val);\n",
        "bool  LinkedList_add_at   (LinkedList *L, int val, size_t index);\n",
        "\n",
        "/* utilitários */\n",
        "void  LinkedList_print(const LinkedList *L);\n",
        "\n",
        "#endif\n"
      ]
    },
    {
      "cell_type": "code",
      "execution_count": null,
      "metadata": {
        "colab": {
          "base_uri": "https://localhost:8080/"
        },
        "id": "z6Bu40JteAo3",
        "outputId": "c3e104db-dac5-4a93-b625-b65ec5ecd62b"
      },
      "outputs": [
        {
          "output_type": "stream",
          "name": "stdout",
          "text": [
            "Overwriting linked_list.c\n"
          ]
        }
      ],
      "source": [
        "%%writefile linked_list.c\n",
        "#include \"linked_list.h\"\n",
        "#include <stdio.h>\n",
        "#include <stdlib.h>\n",
        "#include <stdbool.h>\n",
        "\n",
        "/* auxiliar: cria nó (privado ao .c) */\n",
        "static SNode* SNode_create(int val){\n",
        "    SNode *n = (SNode*) calloc(1, sizeof(SNode));\n",
        "    if (!n){ perror(\"calloc\"); exit(EXIT_FAILURE); }\n",
        "    n->val = val;\n",
        "    n->next = NULL;\n",
        "    return n;\n",
        "}\n",
        "\n",
        "LinkedList* LinkedList_create(void){\n",
        "    LinkedList *L = (LinkedList*) calloc(1, sizeof(LinkedList));\n",
        "    if (!L){ perror(\"calloc\"); exit(EXIT_FAILURE); }\n",
        "    L->begin = NULL;\n",
        "    L->end   = NULL;\n",
        "    return L;\n",
        "}\n",
        "\n",
        "bool LinkedList_is_empty(const LinkedList *L){\n",
        "    return !L || !L->begin;\n",
        "}\n",
        "\n",
        "size_t LinkedList_size(const LinkedList *L){\n",
        "    size_t n = 0;\n",
        "    for (SNode *p = L ? L->begin : NULL; p; p = p->next) n++;\n",
        "    return n;\n",
        "}\n",
        "\n",
        "void LinkedList_add_first(LinkedList *L, int val){\n",
        "    SNode *p = SNode_create(val);\n",
        "    if (LinkedList_is_empty(L)){\n",
        "        L->begin = L->end = p;\n",
        "    } else {\n",
        "        p->next = L->begin;\n",
        "        L->begin = p;\n",
        "    }\n",
        "}\n",
        "\n",
        "void LinkedList_add_last(LinkedList *L, int val){\n",
        "    SNode *p = SNode_create(val);\n",
        "    if (LinkedList_is_empty(L)){\n",
        "        L->begin = L->end = p;\n",
        "    } else {\n",
        "        L->end->next = p;\n",
        "        L->end = p;\n",
        "    }\n",
        "}\n",
        "\n",
        "bool LinkedList_add_at(LinkedList *L, int val, size_t index){\n",
        "    size_t n = LinkedList_size(L);\n",
        "    if (index > n) return false;\n",
        "    if (index == 0){ LinkedList_add_first(L, val); return true; }\n",
        "    if (index == n){ LinkedList_add_last (L, val); return true; }\n",
        "\n",
        "    SNode *prev = L->begin;\n",
        "    for (size_t i = 0; i < index - 1; i++) prev = prev->next;\n",
        "    SNode *p = SNode_create(val);\n",
        "    p->next = prev->next;\n",
        "    prev->next = p;\n",
        "    return true;\n",
        "}\n",
        "\n",
        "/* print detalhado: valor, endereço, ponteiro e alvo */\n",
        "void LinkedList_print(const LinkedList *L){\n",
        "    printf(\"\\n--- Estado da Lista ---\\n\");\n",
        "    if (!L){\n",
        "        printf(\"(Lista inexistente)\\n\");\n",
        "        return;\n",
        "    }\n",
        "\n",
        "    int idx = 0;\n",
        "    for (SNode *p = L->begin; p; p = p->next, idx++){\n",
        "        printf(\"No[%d] @%p: val=%d | &val=%p | &next=%p | next=%p\\n\",\n",
        "               idx,\n",
        "               (void*)p,\n",
        "               p->val,\n",
        "               (void*)&p->val,\n",
        "               (void*)&p->next,\n",
        "               (void*)p->next);\n",
        "    }\n",
        "\n",
        "    printf(\"begin=%p\", (void*)L->begin);\n",
        "    if (L->begin) printf(\" (val=%d)\", L->begin->val);\n",
        "\n",
        "    printf(\" | end=%p\", (void*)L->end);\n",
        "    if (L->end) printf(\" (val=%d)\", L->end->val);\n",
        "\n",
        "    printf(\" | size=%zu\\n\", LinkedList_size(L));\n",
        "    printf(\"-----------------------\\n\\n\");\n",
        "}\n"
      ]
    },
    {
      "cell_type": "code",
      "execution_count": null,
      "metadata": {
        "colab": {
          "base_uri": "https://localhost:8080/"
        },
        "id": "qSLMmP4NkAPv",
        "outputId": "b6f9f48c-62d4-48aa-e282-b530b174220b"
      },
      "outputs": [
        {
          "output_type": "stream",
          "name": "stdout",
          "text": [
            "Overwriting main.c\n"
          ]
        }
      ],
      "source": [
        "%%writefile main.c\n",
        "#include \"linked_list.h\"\n",
        "#include <stdlib.h>\n",
        "#include <stdio.h>\n",
        "#include <stddef.h> // offsetof()\n",
        "#include <stdbool.h>\n",
        "\n",
        "/* Completa as structs opacas APÓS incluir o header.\n",
        "   O layout DEVE ser idêntico ao de linked_list.c */\n",
        "\n",
        "\n",
        "int main(void) {\n",
        "    LinkedList *MinhaLista = NULL; // ainda não criada\n",
        "\n",
        "    if (MinhaLista == NULL) {\n",
        "        printf(\"Minha Lista ainda NAO foi criada!\\n\");\n",
        "    }\n",
        "\n",
        "    // cria a lista (heap)\n",
        "    MinhaLista = LinkedList_create();\n",
        "    if (MinhaLista == NULL) {\n",
        "        printf(\"Erro ao criar a lista!\\n\");\n",
        "        return 1;\n",
        "    }\n",
        "\n",
        "    printf(\"\\n=== Estado inicial ===\\n\");\n",
        "    printf(\"Endereco da VAR ponteiro (&MinhaLista): %p\\n\", (void*)&MinhaLista);\n",
        "    printf(\"Valor de MinhaLista (endereco da struct): %p\\n\", (void*)MinhaLista);\n",
        "    printf(\"Endereco do campo begin (&MinhaLista->begin): %p\\n\", (void*)&MinhaLista->begin);\n",
        "    printf(\"Valor de begin (MinhaLista->begin): %p\\n\", (void*)MinhaLista->begin);\n",
        "\n",
        "    printf(\"\\nsizeof(LinkedList)=%zu  sizeof(SNode)=%zu  offsetof(begin)=%zu\\n\",\n",
        "           sizeof(LinkedList), sizeof(SNode), offsetof(struct _linked_list, begin));\n",
        "\n",
        "    /* === Inserção do primeiro nó === */\n",
        "    LinkedList_add_first(MinhaLista, 10);\n",
        "\n",
        "    /* Ponteiro para o novo nó (a cabeça da lista) */\n",
        "    SNode *novo = MinhaLista->begin;\n",
        "\n",
        "    printf(\"\\n=== Depois de inserir o primeiro no ===\\n\");\n",
        "    printf(\"Endereco do novo no (MinhaLista->begin): %p\\n\", (void*)novo);\n",
        "\n",
        "    if (novo) {\n",
        "        /* Valores dos campos */\n",
        "        printf(\"novo->val  = %d\\n\", novo->val);\n",
        "        printf(\"novo->next = %p\\n\", (void*)novo->next);\n",
        "\n",
        "        /* Enderecos dos campos dentro do no */\n",
        "        printf(\"&novo->val  = %p\\n\", (void*)&novo->val);\n",
        "        printf(\"&novo->next = %p\\n\", (void*)&novo->next);\n",
        "\n",
        "        /* Tamanhos e offsets do nó */\n",
        "        printf(\"sizeof(*novo)=%zu  offsetof(val)=%zu  offsetof(next)=%zu\\n\",\n",
        "               sizeof(*novo), offsetof(struct _snode, val), offsetof(struct _snode, next));\n",
        "    }\n",
        "\n",
        "    return 0;\n",
        "}\n"
      ]
    },
    {
      "cell_type": "code",
      "source": [
        "!gcc -Wall -Wextra -std=c11 main.c linked_list.c -o programa && ./programa\n"
      ],
      "metadata": {
        "colab": {
          "base_uri": "https://localhost:8080/"
        },
        "id": "P0ZSMxqRH10Y",
        "outputId": "9717e081-d390-46d2-988c-d2e864e9a7b3"
      },
      "execution_count": null,
      "outputs": [
        {
          "output_type": "stream",
          "name": "stdout",
          "text": [
            "Minha Lista ainda NAO foi criada!\n",
            "\n",
            "=== Estado inicial ===\n",
            "Endereco da VAR ponteiro (&MinhaLista): 0x7fffea25e2e8\n",
            "Valor de MinhaLista (endereco da struct): 0x5b35b88cd6b0\n",
            "Endereco do campo begin (&MinhaLista->begin): 0x5b35b88cd6b0\n",
            "Valor de begin (MinhaLista->begin): (nil)\n",
            "\n",
            "sizeof(LinkedList)=16  sizeof(SNode)=16  offsetof(begin)=0\n",
            "\n",
            "=== Depois de inserir o primeiro no ===\n",
            "Endereco do novo no (MinhaLista->begin): 0x5b35b88cd6d0\n",
            "novo->val  = 10\n",
            "novo->next = (nil)\n",
            "&novo->val  = 0x5b35b88cd6d0\n",
            "&novo->next = 0x5b35b88cd6d8\n",
            "sizeof(*novo)=16  offsetof(val)=0  offsetof(next)=8\n"
          ]
        }
      ]
    },
    {
      "cell_type": "markdown",
      "metadata": {
        "id": "m1HdC-17itiZ"
      },
      "source": [
        "![image.png](data:image/png;base64,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)"
      ]
    },
    {
      "cell_type": "markdown",
      "metadata": {
        "id": "YJOuVukZkqK3"
      },
      "source": [
        "\n",
        "### 1. Estado inicial da lista\n",
        "Quando criamos a variável `LinkedList *MinhaLista = NULL;`, ela não aponta para nada.  \n",
        "Por isso o programa mostra:\n",
        "\n",
        "- **\"Minha Lista ainda NAO foi criada!\"**  \n",
        "  Isso indica que o ponteiro está vazio (NULL).\n",
        "\n",
        "Depois, chamamos `LinkedList_create()`, que aloca memória para uma struct `LinkedList` na **heap**.  \n",
        "Essa struct tem **apenas um campo**: o ponteiro `begin`, que começa valendo `NULL` (nenhum nó ainda).\n",
        "\n",
        "\n",
        "Aqui a variável `MinhaLista` é apenas um **ponteiro na stack**, e seu valor inicial é `NULL`.\n",
        "\n",
        "---\n",
        "\n",
        "## 2. Estado inicial (após `LinkedList_create`)\n",
        "Depois que criamos a lista com `LinkedList_create()`, vemos:\n",
        "\n",
        "- **Endereço da VAR ponteiro (&MinhaLista):** `0x7ffd46b8bf80`  \n",
        "  → Este é o endereço da variável `MinhaLista` na **stack**.\n",
        "\n",
        "- **Valor de MinhaLista (endereco da struct):** `0x5cb1935c16b0`  \n",
        "  → Agora `MinhaLista` aponta para uma área de memória na **heap** onde a struct `LinkedList` foi alocada.\n",
        "\n",
        "- **Endereço do campo begin (&MinhaLista->begin):** `0x5cb1935c16b0`  \n",
        "  → O campo `begin` é o **primeiro membro** da struct. Por isso, seu endereço é igual ao endereço da própria struct.\n",
        "\n",
        "- **Valor de begin (MinhaLista->begin):** `(nil)`  \n",
        "  → O campo `begin` ainda não aponta para nenhum nó, porque a lista está vazia.\n",
        "\n",
        "### Tamanhos\n",
        "- `sizeof(LinkedList) = 8` → a struct guarda apenas 1 ponteiro (`begin`), que ocupa 8 bytes em arquiteturas 64 bits.  \n",
        "- `sizeof(SNode) = 16` → cada nó tem `int val` (4 bytes) + 4 bytes de padding (alinhamento) + `next` (8 bytes).  \n",
        "- `offsetof(begin) = 0` → confirma que `begin` está no deslocamento 0 da struct.\n",
        "\n",
        "---\n",
        "\n",
        "## 3. Depois da inserção do primeiro nó (valor 10)\n",
        "Após chamar `LinkedList_add_first(MinhaLista, 10)`, temos:\n",
        "\n",
        "- **Endereco do novo no (MinhaLista->begin):** `0x5cb1935c16d0`  \n",
        "  → Antes, `begin` era `(nil)`. Agora ele foi atualizado para apontar para o novo nó criado na heap.  \n",
        "  Note que o endereço mudou de `NULL` para `0x5cb1935c16d0`.\n",
        "\n",
        "- **val = 10**  \n",
        "  → O campo `val` do novo nó armazena o valor inserido.\n",
        "\n",
        "- **next = (nil)**  \n",
        "  → Como esse é o primeiro nó, ele não aponta para ninguém (fim da lista).\n",
        "\n",
        "- **&val = 0x5cb1935c16d0**  \n",
        "  → O campo `val` é o primeiro da struct `SNode`, por isso tem o mesmo endereço do nó.\n",
        "\n",
        "- **&next = 0x5cb1935c16d8**  \n",
        "  → O campo `next` começa 8 bytes depois de `val` (4 bytes de `int` + 4 bytes de padding).\n",
        "\n",
        "### Tamanhos do nó\n",
        "- `sizeof(*begin) = 16` → cada nó ocupa 16 bytes na heap.  \n",
        "- `offsetof(val) = 0`, `offsetof(next) = 8` → confirmam os deslocamentos dentro da struct.\n",
        "\n",
        "---\n",
        "\n",
        "## 4. Comparação direta (antes x depois)\n",
        "- **Antes:** `MinhaLista->begin = (nil)`  \n",
        "- **Depois:** `MinhaLista->begin = 0x5cb1935c16d0` (endereço do novo nó)  \n",
        "\n",
        "Ou seja: o **endereço do campo `begin` não mudou** (ele continua sendo `0x5cb1935c16b0`, parte da struct `LinkedList`).  \n",
        "O que mudou foi o **valor armazenado dentro desse campo**: antes `NULL`, depois o endereço real do primeiro nó.  \n"
      ]
    },
    {
      "cell_type": "markdown",
      "metadata": {
        "id": "CLoVoqTEln1t"
      },
      "source": [
        "##  Adicionar Nó no começo da Lista"
      ]
    },
    {
      "cell_type": "markdown",
      "metadata": {
        "id": "WmA6G5Lwln1t"
      },
      "source": [
        "![image.png](data:image/png;base64,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)"
      ]
    },
    {
      "cell_type": "code",
      "execution_count": null,
      "metadata": {
        "colab": {
          "base_uri": "https://localhost:8080/"
        },
        "id": "8R0CbIxbln1u",
        "outputId": "eb2f2e89-3acd-4da3-eee3-31749d2a8d26"
      },
      "outputs": [
        {
          "output_type": "stream",
          "name": "stdout",
          "text": [
            "Overwriting linked_list.h\n"
          ]
        }
      ],
      "source": [
        "%%writefile linked_list.h\n",
        "#ifndef LINKED_LIST_H\n",
        "#define LINKED_LIST_H\n",
        "\n",
        "#include <stddef.h> /* para size_t e offsetof */\n",
        "\n",
        "/* ===== Estruturas expostas (o main acessa campos) ===== */\n",
        "typedef struct _snode {\n",
        "    int val;\n",
        "    struct _snode *next;\n",
        "} SNode;\n",
        "\n",
        "typedef struct _linked_list {\n",
        "    SNode  *begin;  /* cabeça */\n",
        "    size_t  size;   /* tamanho da lista */\n",
        "} LinkedList;\n",
        "\n",
        "/* ===== Criação ===== */\n",
        "SNode*      SNode_create(int val);\n",
        "LinkedList* LinkedList_create(void);\n",
        "\n",
        "/* ===== Operações ===== */\n",
        "void   LinkedList_add_first(LinkedList *L, int val);\n",
        "\n",
        "/* ===== Utilitários ===== */\n",
        "void   LinkedList_print(const LinkedList *L);\n",
        "\n",
        "#endif\n"
      ]
    },
    {
      "cell_type": "code",
      "execution_count": null,
      "metadata": {
        "colab": {
          "base_uri": "https://localhost:8080/"
        },
        "id": "RyI8UOuwln1v",
        "outputId": "fda813c4-b22c-4c79-f463-c837d74cc124"
      },
      "outputs": [
        {
          "output_type": "stream",
          "name": "stdout",
          "text": [
            "Overwriting linked_list.c\n"
          ]
        }
      ],
      "source": [
        "%%writefile linked_list.c\n",
        "#include \"linked_list.h\"\n",
        "#include <stdlib.h>\n",
        "#include <stdio.h>\n",
        "\n",
        "/* ===== Implementações ===== */\n",
        "SNode* SNode_create(int val){\n",
        "    SNode *n = (SNode*) calloc(1, sizeof(SNode));\n",
        "    if (!n) return NULL;\n",
        "    n->val  = val;\n",
        "    n->next = NULL;\n",
        "    return n;\n",
        "}\n",
        "\n",
        "LinkedList* LinkedList_create(void){\n",
        "    LinkedList *L = (LinkedList*) calloc(1, sizeof(LinkedList));\n",
        "    if (!L) return NULL;\n",
        "    L->begin = NULL;\n",
        "    return L;\n",
        "}\n",
        "\n",
        "void LinkedList_add_first(LinkedList *L, int val){\n",
        "    if (!L) return;\n",
        "    SNode *p = SNode_create(val);\n",
        "    if (!p) return;\n",
        "\n",
        "    p->next  = L->begin;\n",
        "    L->begin = p;\n",
        "    L->size++;\n",
        "}\n",
        "\n",
        "\n",
        "/* print detalhado: valor, endereço, ponteiro e alvo */\n",
        "void LinkedList_print(const LinkedList *L){\n",
        "    printf(\"\\n--- Estado da Lista ---\\n\");\n",
        "    if (!L){\n",
        "        printf(\"(Lista inexistente)\\n\\n\");\n",
        "        return;\n",
        "    }\n",
        "\n",
        "    int idx = 0;\n",
        "    for (SNode *p = L->begin; p; p = p->next, idx++){\n",
        "        printf(\"No[%d] @%p: val=%d | &val=%p | &next=%p | next=%p\\n\",\n",
        "               idx, (void*)p, p->val, (void*)&p->val, (void*)&p->next, (void*)p->next);\n",
        "    }\n",
        "\n",
        "    printf(\"begin=%p\", (void*)L->begin);\n",
        "    if (L->begin) printf(\" (val=%d)\", L->begin->val);\n",
        "\n",
        "}\n"
      ]
    },
    {
      "cell_type": "code",
      "execution_count": null,
      "metadata": {
        "colab": {
          "base_uri": "https://localhost:8080/"
        },
        "id": "pRYTXDGgln1x",
        "outputId": "874c5b2a-ee90-4b2b-a4d0-dd32bcfe2e30"
      },
      "outputs": [
        {
          "output_type": "stream",
          "name": "stdout",
          "text": [
            "Overwriting main.c\n"
          ]
        }
      ],
      "source": [
        "%%writefile main.c\n",
        "#include \"linked_list.h\"\n",
        "#include <stdio.h>\n",
        "#include <stdlib.h>\n",
        "#include <stddef.h>\n",
        "\n",
        "static void print_sep(const char *t){\n",
        "    printf(\"\\n========== %s ==========\\n\", t);\n",
        "}\n",
        "\n",
        "int main(void){\n",
        "    LinkedList *MinhaLista = NULL; // ainda não criada\n",
        "\n",
        "    print_sep(\"Estado inicial (lista NAO criada)\");\n",
        "    printf(\"&MinhaLista            : %p (endereco da VAR ponteiro)\\n\", (void*)&MinhaLista);\n",
        "    printf(\"MinhaLista             : %p (valor do ponteiro = endereco da struct)\\n\", (void*)MinhaLista);\n",
        "\n",
        "    // cria a lista (heap)\n",
        "    MinhaLista = LinkedList_create();\n",
        "\n",
        "    print_sep(\"Depois de criar a LISTA (struct alocada)\");\n",
        "    printf(\"&MinhaLista            : %p (na stack, NAO muda)\\n\", (void*)&MinhaLista);\n",
        "    printf(\"MinhaLista             : %p (PASSOU a apontar para a struct na heap)\\n\", (void*)MinhaLista);\n",
        "    printf(\"&(MinhaLista->begin)   : %p (endereco do campo 'begin' dentro da struct)\\n\", (void*)&MinhaLista->begin);\n",
        "    printf(\"MinhaLista->begin      : %p (valor atual do begin)\\n\", (void*)MinhaLista->begin);\n",
        "    printf(\"sizeof(LinkedList)=%zu  sizeof(SNode)=%zu  offsetof(begin)=%zu\\n\",\n",
        "           sizeof(LinkedList), sizeof(SNode), offsetof(LinkedList, begin));\n",
        "\n",
        "    // ===== Inserção do 1º nó (10) no começo =====\n",
        "    SNode *old_begin = MinhaLista->begin; // deve ser NULL\n",
        "    print_sep(\"ADD_FIRST(10) — mudancas\");\n",
        "    printf(\"ANTES: begin = %p\\n\", (void*)old_begin);\n",
        "\n",
        "    LinkedList_add_first(MinhaLista, 10);\n",
        "\n",
        "    SNode *new_begin = MinhaLista->begin;\n",
        "    printf(\"DEPOIS: begin = %p (novo no)\\n\", (void*)new_begin);\n",
        "    if (new_begin){\n",
        "        printf(\"novo->val              : %d\\n\", new_begin->val);\n",
        "        printf(\"novo->next             : %p (deve ser antigo begin = %p)\\n\",\n",
        "               (void*)new_begin->next, (void*)old_begin);\n",
        "        printf(\"&novo->val             : %p\\n\", (void*)&new_begin->val);\n",
        "        printf(\"&novo->next            : %p\\n\", (void*)&new_begin->next);\n",
        "    }\n",
        "\n",
        "    // estado visual\n",
        "    printf(\"\\nLista agora: \");\n",
        "    LinkedList_print(MinhaLista); // esperado: [10]\n",
        "\n",
        "    // ===== Inserção do 2º nó (30) NO COMEÇO =====\n",
        "SNode *primeiro_antes = MinhaLista->begin;              // nó 10\n",
        "SNode *primeiro_next_antes = primeiro_antes ? primeiro_antes->next : NULL;\n",
        "\n",
        "print_sep(\"ADD_FIRST(30) — mudancas\");\n",
        "printf(\"ANTES: primeiro        : %p (val=%d)\\n\",\n",
        "       (void*)primeiro_antes, primeiro_antes ? primeiro_antes->val : -1);\n",
        "printf(\"ANTES: primeiro->next  : %p (esperado NULL pois so havia 1 no)\\n\",\n",
        "       (void*)primeiro_next_antes);\n",
        "\n",
        "LinkedList_add_first(MinhaLista, 30);\n",
        "\n",
        "// agora: head = 30, segundo = 10\n",
        "SNode *novo_head = MinhaLista->begin;               // 30\n",
        "SNode *segundo    = novo_head ? novo_head->next : NULL; // 10\n",
        "\n",
        "printf(\"DEPOIS: head           : %p (val=%d)\\n\", (void*)novo_head, novo_head->val);\n",
        "printf(\"DEPOIS: head->next     : %p (ANTES %p)\\n\",\n",
        "       (void*) (novo_head ? novo_head->next : NULL), (void*)primeiro_next_antes);\n",
        "\n",
        "if (segundo){\n",
        "    printf(\"SEGUNDO (antigo primeiro)\\n\");\n",
        "    printf(\"  segundo              : %p\\n\", (void*)segundo);\n",
        "    printf(\"  segundo->val         : %d\\n\", segundo->val);  // aqui aparecerá 10\n",
        "    printf(\"  segundo->next        : %p\\n\", (void*)segundo->next);\n",
        "    printf(\"  &segundo->val        : %p\\n\", (void*)&segundo->val);\n",
        "    printf(\"  &segundo->next       : %p\\n\", (void*)&segundo->next);\n",
        "}\n",
        "\n",
        "// estado visual\n",
        "printf(\"\\nLista agora: \");\n",
        "LinkedList_print(MinhaLista); // esperado: [30 -> 10]\n",
        "    return 0;\n",
        "}\n"
      ]
    },
    {
      "cell_type": "code",
      "execution_count": null,
      "metadata": {
        "colab": {
          "base_uri": "https://localhost:8080/"
        },
        "id": "dnsBfDBiln1x",
        "outputId": "59ba90cd-4d35-4447-fa80-a75cd31f9219"
      },
      "outputs": [
        {
          "output_type": "stream",
          "name": "stdout",
          "text": [
            "\n",
            "========== Estado inicial (lista NAO criada) ==========\n",
            "&MinhaLista            : 0x7ffc29e21700 (endereco da VAR ponteiro)\n",
            "MinhaLista             : (nil) (valor do ponteiro = endereco da struct)\n",
            "\n",
            "========== Depois de criar a LISTA (struct alocada) ==========\n",
            "&MinhaLista            : 0x7ffc29e21700 (na stack, NAO muda)\n",
            "MinhaLista             : 0x59b729c6f6b0 (PASSOU a apontar para a struct na heap)\n",
            "&(MinhaLista->begin)   : 0x59b729c6f6b0 (endereco do campo 'begin' dentro da struct)\n",
            "MinhaLista->begin      : (nil) (valor atual do begin)\n",
            "sizeof(LinkedList)=16  sizeof(SNode)=16  offsetof(begin)=0\n",
            "\n",
            "========== ADD_FIRST(10) — mudancas ==========\n",
            "ANTES: begin = (nil)\n",
            "DEPOIS: begin = 0x59b729c6f6d0 (novo no)\n",
            "novo->val              : 10\n",
            "novo->next             : (nil) (deve ser antigo begin = (nil))\n",
            "&novo->val             : 0x59b729c6f6d0\n",
            "&novo->next            : 0x59b729c6f6d8\n",
            "\n",
            "Lista agora: \n",
            "--- Estado da Lista ---\n",
            "No[0] @0x59b729c6f6d0: val=10 | &val=0x59b729c6f6d0 | &next=0x59b729c6f6d8 | next=(nil)\n",
            "begin=0x59b729c6f6d0 (val=10)\n",
            "========== ADD_FIRST(30) — mudancas ==========\n",
            "ANTES: primeiro        : 0x59b729c6f6d0 (val=10)\n",
            "ANTES: primeiro->next  : (nil) (esperado NULL pois so havia 1 no)\n",
            "DEPOIS: head           : 0x59b729c6f6f0 (val=30)\n",
            "DEPOIS: head->next     : 0x59b729c6f6d0 (ANTES (nil))\n",
            "SEGUNDO (antigo primeiro)\n",
            "  segundo              : 0x59b729c6f6d0\n",
            "  segundo->val         : 10\n",
            "  segundo->next        : (nil)\n",
            "  &segundo->val        : 0x59b729c6f6d0\n",
            "  &segundo->next       : 0x59b729c6f6d8\n",
            "\n",
            "Lista agora: \n",
            "--- Estado da Lista ---\n",
            "No[0] @0x59b729c6f6f0: val=30 | &val=0x59b729c6f6f0 | &next=0x59b729c6f6f8 | next=0x59b729c6f6d0\n",
            "No[1] @0x59b729c6f6d0: val=10 | &val=0x59b729c6f6d0 | &next=0x59b729c6f6d8 | next=(nil)\n",
            "begin=0x59b729c6f6f0 (val=30)"
          ]
        }
      ],
      "source": [
        "!gcc -Wall -Wextra -std=c11 main.c linked_list.c -o programa && ./programa\n"
      ]
    },
    {
      "cell_type": "markdown",
      "metadata": {
        "id": "OQxBEXJiln1y"
      },
      "source": [
        "![image.png](data:image/png;base64,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)"
      ]
    },
    {
      "cell_type": "markdown",
      "metadata": {
        "id": "2QMJ2-npln1y"
      },
      "source": [
        "### Explicação da inserção do segundo nó (valor 30)\n",
        "\n",
        "Antes da inserção, a lista tinha apenas **um nó** com valor 10:\n",
        "\n",
        "Ou seja:\n",
        "- `MinhaLista->begin` = `0x5cb1935c16d0` (endereço do nó de 10).  \n",
        "- O campo `val` desse nó = 10.  \n",
        "- O campo `next` = `(nil)`, indicando que ele era o último.\n",
        "\n",
        "---\n",
        "\n",
        "## O que acontece ao inserir o nó 30 na cabeça\n",
        "\n",
        "1. É alocado um **novo nó** na heap no endereço `0x5cb1935c16f0`.\n",
        "2. O campo `val` do novo nó recebe **30**.  \n",
        "3. O campo `next` do novo nó é preenchido com o valor que estava em `begin` antes, ou seja, `0x5cb1935c16d0` (o endereço do nó de 10).  \n",
        "4. Por fim, o campo `begin` da struct é atualizado para apontar para o **novo nó**.\n",
        "\n",
        "---\n",
        "\n",
        "## Situação depois da inserção\n",
        "\n",
        "- `MinhaLista->begin` mudou de `0x5cb1935c16d0` (nó de 10) para `0x5cb1935c16f0` (nó de 30).  \n",
        "- O **nó de 30** (`0x5cb1935c16f0`):  \n",
        "  - `val = 30`  \n",
        "  - `next = 0x5cb1935c16d0` (aponta para o nó de 10)  \n",
        "  - `&val = 0x5cb1935c16f0`  \n",
        "  - `&next = 0x5cb1935c16f8`  \n",
        "\n",
        "- O **nó de 10** (`0x5cb1935c16d0`) continua igual:  \n",
        "  - `val = 10`  \n",
        "  - `next = (nil)`\n",
        "\n",
        "---\n",
        "\n",
        "\n",
        "### Resumindo\n",
        "- O **endereço do campo `begin`** da struct não mudou (continua sendo `0x5cb1935c16b0`).  \n",
        "- O que mudou foi o **valor armazenado em `begin`**: antes apontava para o nó de 10, agora aponta para o nó de 30.  \n",
        "- O campo `next` do novo nó 30 foi configurado para guardar o endereço do nó 10, preservando a lista já existente.  \n",
        "- Assim, a lista passa a ser: **[30] → [10] → NULL**.\n"
      ]
    },
    {
      "cell_type": "markdown",
      "metadata": {
        "id": "0a8ee7b0"
      },
      "source": [
        "## Adicionar Nó no fim da lista **sem** ponteiro `end`\n"
      ]
    },
    {
      "cell_type": "markdown",
      "source": [
        "![image.png](data:image/png;base64,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)"
      ],
      "metadata": {
        "id": "PHofmv8U-SIE"
      }
    },
    {
      "cell_type": "code",
      "execution_count": null,
      "metadata": {
        "colab": {
          "base_uri": "https://localhost:8080/"
        },
        "id": "c78c50a0",
        "outputId": "18cdbee9-2680-4452-9c31-4a51f126c5a4"
      },
      "outputs": [
        {
          "output_type": "stream",
          "name": "stdout",
          "text": [
            "Overwriting linked_list.h\n"
          ]
        }
      ],
      "source": [
        "%%writefile linked_list.h\n",
        "#ifndef LINKED_LIST_H\n",
        "#define LINKED_LIST_H\n",
        "\n",
        "#include <stdbool.h>\n",
        "\n",
        "typedef struct _snode {\n",
        "    int val;\n",
        "    struct _snode *next;\n",
        "} SNode;\n",
        "\n",
        "typedef struct _linked_list {\n",
        "    SNode *begin;  /* apenas o início */\n",
        "} LinkedList;\n",
        "\n",
        "/* criação e utilidades mínimas */\n",
        "SNode* SNode_create(int val);\n",
        "LinkedList* LinkedList_create(void);\n",
        "bool LinkedList_is_empty(const LinkedList *L);\n",
        "void LinkedList_print(const LinkedList *L);\n",
        "\n",
        "/* operações de inserção apresentadas até aqui */\n",
        "void LinkedList_add_first(LinkedList *L, int val);\n",
        "void LinkedList_add_last(LinkedList *L, int val); /* O(n) */\n",
        "\n",
        "#endif /* LINKED_LIST_H */"
      ]
    },
    {
      "cell_type": "code",
      "execution_count": null,
      "metadata": {
        "colab": {
          "base_uri": "https://localhost:8080/"
        },
        "id": "54821e67",
        "outputId": "c20b745a-0f8c-4403-d3c6-71e0a0e9972a"
      },
      "outputs": [
        {
          "output_type": "stream",
          "name": "stdout",
          "text": [
            "Overwriting linked_list.c\n"
          ]
        }
      ],
      "source": [
        "%%writefile linked_list.c\n",
        "#include \"linked_list.h\"\n",
        "#include <stdio.h>\n",
        "#include <stdlib.h>\n",
        "\n",
        "SNode* SNode_create(int val){\n",
        "    SNode *n = (SNode*) calloc(1, sizeof(SNode));\n",
        "    if (!n){ perror(\"calloc\"); exit(EXIT_FAILURE); }\n",
        "    n->val = val;\n",
        "    n->next = NULL;\n",
        "    return n;\n",
        "}\n",
        "\n",
        "LinkedList* LinkedList_create(void){\n",
        "    LinkedList *L = (LinkedList*) calloc(1, sizeof(LinkedList));\n",
        "    if (!L){ perror(\"calloc\"); exit(EXIT_FAILURE); }\n",
        "    L->begin = NULL;\n",
        "    return L;\n",
        "}\n",
        "\n",
        "bool LinkedList_is_empty(const LinkedList *L){\n",
        "    return !L || !L->begin;\n",
        "}\n",
        "\n",
        "void LinkedList_add_first(LinkedList *L, int val){\n",
        "    SNode *p = SNode_create(val);\n",
        "    p->next = L->begin;\n",
        "    L->begin = p;\n",
        "}\n",
        "\n",
        "void LinkedList_print(const LinkedList *L){\n",
        "    printf(\"[\");\n",
        "    for (SNode *p = L->begin; p; p = p->next){\n",
        "        printf(\"%d\", p->val);\n",
        "        if (p->next) printf(\" -> \");\n",
        "    }\n",
        "    printf(\"]  (begin=%p)\\n\", (void*)(L ? L->begin : NULL));\n",
        "}\n",
        "\n",
        "void LinkedList_add_last(LinkedList *L, int val){\n",
        "    SNode *p = SNode_create(val);\n",
        "    if (LinkedList_is_empty(L)){\n",
        "        L->begin = p;\n",
        "        return;\n",
        "    }\n",
        "    SNode *q = L->begin;\n",
        "    while (q->next) q = q->next;\n",
        "    q->next = p;\n",
        "}"
      ]
    },
    {
      "cell_type": "code",
      "execution_count": null,
      "metadata": {
        "colab": {
          "base_uri": "https://localhost:8080/"
        },
        "id": "933b8e47",
        "outputId": "7dfc9078-6055-4c52-d513-d75edfa43dfb"
      },
      "outputs": [
        {
          "output_type": "stream",
          "name": "stdout",
          "text": [
            "Overwriting main.c\n"
          ]
        }
      ],
      "source": [
        "%%writefile main.c\n",
        "#include \"linked_list.h\"\n",
        "#include <stdio.h>\n",
        "\n",
        "int main(void){\n",
        "    LinkedList *L = LinkedList_create();\n",
        "    LinkedList_add_first(L, 10);\n",
        "    LinkedList_add_last(L, 20);   // O(n)\n",
        "    LinkedList_add_last(L, 30);   // O(n)\n",
        "    LinkedList_print(L);\n",
        "    return 0;\n",
        "}"
      ]
    },
    {
      "cell_type": "code",
      "source": [
        "%%writefile main.c\n",
        "#include \"linked_list.h\"\n",
        "#include <stdio.h>\n",
        "#include <stdlib.h>\n",
        "#include <stddef.h>\n",
        "\n",
        "static void print_sep(const char *t){\n",
        "    printf(\"\\n========== %s ==========\\n\", t);\n",
        "}\n",
        "\n",
        "int main(void){\n",
        "    LinkedList *MinhaLista = NULL; // ainda não criada\n",
        "\n",
        "    print_sep(\"Estado inicial (lista NAO criada)\");\n",
        "    printf(\"&MinhaLista            : %p (endereco da VAR ponteiro)\\n\", (void*)&MinhaLista);\n",
        "    printf(\"MinhaLista             : %p (valor do ponteiro = endereco da struct)\\n\", (void*)MinhaLista);\n",
        "\n",
        "    // cria a lista (heap)\n",
        "    MinhaLista = LinkedList_create();\n",
        "\n",
        "    print_sep(\"Depois de criar a LISTA (struct alocada)\");\n",
        "    printf(\"&MinhaLista            : %p (na stack, NAO muda)\\n\", (void*)&MinhaLista);\n",
        "    printf(\"MinhaLista             : %p (PASSOU a apontar para a struct na heap)\\n\", (void*)MinhaLista);\n",
        "    printf(\"&(MinhaLista->begin)   : %p (endereco do campo 'begin' dentro da struct)\\n\", (void*)&MinhaLista->begin);\n",
        "    printf(\"MinhaLista->begin      : %p (valor atual do begin)\\n\", (void*)MinhaLista->begin);\n",
        "    printf(\"sizeof(LinkedList)=%zu  sizeof(SNode)=%zu  offsetof(begin)=%zu\\n\",\n",
        "           sizeof(LinkedList), sizeof(SNode), offsetof(LinkedList, begin));\n",
        "\n",
        "    // ===== Inserção do 1º nó (10) no começo =====\n",
        "    SNode *old_begin = MinhaLista->begin; // deve ser NULL\n",
        "    print_sep(\"ADD_FIRST(10) — mudancas\");\n",
        "    printf(\"ANTES: begin = %p\\n\", (void*)old_begin);\n",
        "\n",
        "    LinkedList_add_first(MinhaLista, 10);\n",
        "\n",
        "    SNode *new_begin = MinhaLista->begin;\n",
        "    printf(\"DEPOIS: begin = %p (novo no)\\n\", (void*)new_begin);\n",
        "    if (new_begin){\n",
        "        printf(\"novo->val              : %d\\n\", new_begin->val);\n",
        "        printf(\"novo->next             : %p (deve ser antigo begin = %p)\\n\",\n",
        "               (void*)new_begin->next, (void*)old_begin);\n",
        "        printf(\"&novo->val             : %p\\n\", (void*)&new_begin->val);\n",
        "        printf(\"&novo->next            : %p\\n\", (void*)&new_begin->next);\n",
        "    }\n",
        "\n",
        "    // estado visual\n",
        "    printf(\"\\nLista agora: \");\n",
        "    LinkedList_print(MinhaLista); // esperado: [10]\n",
        "\n",
        "    // ===== Inserção do 2º nó (30) no final =====\n",
        "    // fotografar antes: primeiro e seu next\n",
        "    SNode *primeiro_antes = MinhaLista->begin;              // deve ser o nó 10\n",
        "    SNode *primeiro_next_antes = primeiro_antes ? primeiro_antes->next : NULL; // deve ser NULL\n",
        "\n",
        "    print_sep(\"ADD_LAST(30) — mudancas\");\n",
        "    printf(\"ANTES: primeiro        : %p (val=%d)\\n\",\n",
        "           (void*)primeiro_antes, primeiro_antes ? primeiro_antes->val : -1);\n",
        "    printf(\"ANTES: primeiro->next  : %p (deve ser tail, esperado NULL pois so havia 1 no)\\n\",\n",
        "           (void*)primeiro_next_antes);\n",
        "\n",
        "    LinkedList_add_last(MinhaLista, 30);\n",
        "\n",
        "    // depois: primeiro permanece igual; mudou o next dele; surgiu o segundo\n",
        "    SNode *primeiro_depois = MinhaLista->begin;             // deve ser o mesmo endereço de antes\n",
        "    SNode *segundo = primeiro_depois ? primeiro_depois->next : NULL;\n",
        "\n",
        "    printf(\"DEPOIS: primeiro       : %p (esperado MESMO endereco)\\n\", (void*)primeiro_depois);\n",
        "    if (primeiro_depois){\n",
        "        printf(\"DEPOIS: primeiro->next : %p (ANTES %p)\\n\",\n",
        "               (void*)primeiro_depois->next, (void*)primeiro_next_antes);\n",
        "    }\n",
        "    if (segundo){\n",
        "        printf(\"NOVO no (inserido no fim)\\n\");\n",
        "        printf(\"  segundo              : %p\\n\", (void*)segundo);\n",
        "        printf(\"  segundo->val         : %d\\n\", segundo->val);\n",
        "        printf(\"  segundo->next        : %p (deve ser NULL)\\n\", (void*)segundo->next);\n",
        "        printf(\"  &segundo->val        : %p\\n\", (void*)&segundo->val);\n",
        "        printf(\"  &segundo->next       : %p\\n\", (void*)&segundo->next);\n",
        "    }\n",
        "\n",
        "    // estado visual\n",
        "    printf(\"\\nLista agora: \");\n",
        "    LinkedList_print(MinhaLista); // esperado: [10 -> 30]\n",
        "\n",
        "    return 0;\n",
        "}\n"
      ],
      "metadata": {
        "colab": {
          "base_uri": "https://localhost:8080/"
        },
        "id": "O5I409d-66gT",
        "outputId": "65de836e-ffd0-4c9d-a391-4ea12cc41ea8"
      },
      "execution_count": null,
      "outputs": [
        {
          "output_type": "stream",
          "name": "stdout",
          "text": [
            "Overwriting main.c\n"
          ]
        }
      ]
    },
    {
      "cell_type": "code",
      "execution_count": null,
      "metadata": {
        "colab": {
          "base_uri": "https://localhost:8080/"
        },
        "id": "95cb3a61",
        "outputId": "43eceda7-c0fc-4310-91aa-c14131a26f99"
      },
      "outputs": [
        {
          "output_type": "stream",
          "name": "stdout",
          "text": [
            "\n",
            "========== Estado inicial (lista NAO criada) ==========\n",
            "&MinhaLista            : 0x7fff64a597d0 (endereco da VAR ponteiro)\n",
            "MinhaLista             : (nil) (valor do ponteiro = endereco da struct)\n",
            "\n",
            "========== Depois de criar a LISTA (struct alocada) ==========\n",
            "&MinhaLista            : 0x7fff64a597d0 (na stack, NAO muda)\n",
            "MinhaLista             : 0x5a5af88156b0 (PASSOU a apontar para a struct na heap)\n",
            "&(MinhaLista->begin)   : 0x5a5af88156b0 (endereco do campo 'begin' dentro da struct)\n",
            "MinhaLista->begin      : (nil) (valor atual do begin)\n",
            "sizeof(LinkedList)=8  sizeof(SNode)=16  offsetof(begin)=0\n",
            "\n",
            "========== ADD_FIRST(10) — mudancas ==========\n",
            "ANTES: begin = (nil)\n",
            "DEPOIS: begin = 0x5a5af88156d0 (novo no)\n",
            "novo->val              : 10\n",
            "novo->next             : (nil) (deve ser antigo begin = (nil))\n",
            "&novo->val             : 0x5a5af88156d0\n",
            "&novo->next            : 0x5a5af88156d8\n",
            "\n",
            "Lista agora: [10]  (begin=0x5a5af88156d0)\n",
            "\n",
            "========== ADD_LAST(30) — mudancas ==========\n",
            "ANTES: primeiro        : 0x5a5af88156d0 (val=10)\n",
            "ANTES: primeiro->next  : (nil) (deve ser tail, esperado NULL pois so havia 1 no)\n",
            "DEPOIS: primeiro       : 0x5a5af88156d0 (esperado MESMO endereco)\n",
            "DEPOIS: primeiro->next : 0x5a5af88156f0 (ANTES (nil))\n",
            "NOVO no (inserido no fim)\n",
            "  segundo              : 0x5a5af88156f0\n",
            "  segundo->val         : 30\n",
            "  segundo->next        : (nil) (deve ser NULL)\n",
            "  &segundo->val        : 0x5a5af88156f0\n",
            "  &segundo->next       : 0x5a5af88156f8\n",
            "\n",
            "Lista agora: [10 -> 30]  (begin=0x5a5af88156d0)\n"
          ]
        }
      ],
      "source": [
        "!gcc -Wall -Wextra -std=c11 main.c linked_list.c -o prog && ./prog"
      ]
    },
    {
      "cell_type": "markdown",
      "source": [
        "![image.png](data:image/png;base64,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)"
      ],
      "metadata": {
        "id": "XiR4I_oG9ueS"
      }
    },
    {
      "cell_type": "markdown",
      "source": [
        "### Explicação\n",
        "Nesta versão, a lista mantém **apenas `begin`**. Para inserir no fim (`add_last`), percorremos a lista inteira até encontrar o último nó (`next == NULL`).  \n",
        "**Complexidade:** `add_last` = `O(n)`."
      ],
      "metadata": {
        "id": "Wbsb-nBF5nbc"
      }
    },
    {
      "cell_type": "markdown",
      "metadata": {
        "id": "36a64538"
      },
      "source": [
        "## Inserção no fim **com** ponteiro `end`\n"
      ]
    },
    {
      "cell_type": "markdown",
      "source": [
        "![image.png](data:image/png;base64,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)"
      ],
      "metadata": {
        "id": "NR2eEkZ4_RIx"
      }
    },
    {
      "cell_type": "code",
      "execution_count": null,
      "metadata": {
        "colab": {
          "base_uri": "https://localhost:8080/"
        },
        "id": "e553eb9f",
        "outputId": "1d8328fb-c913-44f5-c46f-cdad9d5e1040"
      },
      "outputs": [
        {
          "output_type": "stream",
          "name": "stdout",
          "text": [
            "Overwriting linked_list.h\n"
          ]
        }
      ],
      "source": [
        "%%writefile linked_list.h\n",
        "#ifndef LINKED_LIST_H\n",
        "#define LINKED_LIST_H\n",
        "\n",
        "#include <stdbool.h>\n",
        "\n",
        "typedef struct _snode {\n",
        "    int val;\n",
        "    struct _snode *next;\n",
        "} SNode;\n",
        "\n",
        "typedef struct _linked_list {\n",
        "    SNode *begin;\n",
        "    SNode *end;    /* novo: fim da lista */\n",
        "} LinkedList;\n",
        "\n",
        "/* criação e utilidades mínimas */\n",
        "SNode* SNode_create(int val);\n",
        "LinkedList* LinkedList_create(void);\n",
        "bool LinkedList_is_empty(const LinkedList *L);\n",
        "void LinkedList_print(const LinkedList *L);\n",
        "\n",
        "/* inserções construídas até aqui */\n",
        "void LinkedList_add_first(LinkedList *L, int val);\n",
        "void LinkedList_add_last(LinkedList *L, int val); /* O(1) com end */\n",
        "\n",
        "#endif"
      ]
    },
    {
      "cell_type": "code",
      "execution_count": null,
      "metadata": {
        "colab": {
          "base_uri": "https://localhost:8080/"
        },
        "id": "1091d13c",
        "outputId": "37446aff-4975-409a-a41b-c38533a23c9e"
      },
      "outputs": [
        {
          "output_type": "stream",
          "name": "stdout",
          "text": [
            "Overwriting linked_list.c\n"
          ]
        }
      ],
      "source": [
        "%%writefile linked_list.c\n",
        "#include \"linked_list.h\"\n",
        "#include <stdio.h>\n",
        "#include <stdlib.h>\n",
        "\n",
        "SNode* SNode_create(int val){\n",
        "    SNode *n = (SNode*) calloc(1, sizeof(SNode));\n",
        "    if (!n){ perror(\"calloc\"); exit(EXIT_FAILURE); }\n",
        "    n->val = val;\n",
        "    n->next = NULL;\n",
        "    return n;\n",
        "}\n",
        "\n",
        "LinkedList* LinkedList_create(void){\n",
        "    LinkedList *L = (LinkedList*) calloc(1, sizeof(LinkedList));\n",
        "    if (!L){ perror(\"calloc\"); exit(EXIT_FAILURE); }\n",
        "    L->begin = NULL;\n",
        "    L->end   = NULL;\n",
        "    return L;\n",
        "}\n",
        "\n",
        "bool LinkedList_is_empty(const LinkedList *L){\n",
        "    return !L || !L->begin;\n",
        "}\n",
        "\n",
        "void LinkedList_add_first(LinkedList *L, int val){\n",
        "    SNode *p = SNode_create(val);\n",
        "    if (LinkedList_is_empty(L)){\n",
        "        L->begin = L->end = p;\n",
        "    } else {\n",
        "        p->next = L->begin;\n",
        "        L->begin = p;\n",
        "    }\n",
        "}\n",
        "\n",
        "void LinkedList_add_last(LinkedList *L, int val){\n",
        "    SNode *p = SNode_create(val);\n",
        "    if (LinkedList_is_empty(L)){\n",
        "        L->begin = L->end = p;\n",
        "    } else {\n",
        "        L->end->next = p;\n",
        "        L->end = p;\n",
        "    }\n",
        "}\n",
        "\n",
        "void LinkedList_print(const LinkedList *L){\n",
        "    printf(\"[\");\n",
        "    for (SNode *p = L->begin; p; p = p->next){\n",
        "        printf(\"%d\", p->val);\n",
        "        if (p->next) printf(\" -> \");\n",
        "    }\n",
        "    printf(\"]  (begin=%p, end=%p)\\n\",\n",
        "           (void*)(L ? L->begin : NULL),\n",
        "           (void*)(L ? L->end   : NULL));\n",
        "}\n"
      ]
    },
    {
      "cell_type": "code",
      "execution_count": null,
      "metadata": {
        "colab": {
          "base_uri": "https://localhost:8080/"
        },
        "id": "11d5ad6a",
        "outputId": "a195c9c2-d5fd-43a7-cafa-2602754db354"
      },
      "outputs": [
        {
          "output_type": "stream",
          "name": "stdout",
          "text": [
            "Overwriting main.c\n"
          ]
        }
      ],
      "source": [
        "%%writefile main.c\n",
        "#include \"linked_list.h\"\n",
        "#include <stdio.h>\n",
        "#include <stdlib.h>\n",
        "#include <stddef.h>\n",
        "\n",
        "static void print_sep(const char *t){\n",
        "    printf(\"\\n========== %s ==========\\n\", t);\n",
        "}\n",
        "\n",
        "int main(void){\n",
        "    LinkedList *MinhaLista = NULL; // ainda não criada\n",
        "\n",
        "    print_sep(\"Estado inicial (lista NAO criada)\");\n",
        "    printf(\"&MinhaLista            : %p (endereco da VAR ponteiro)\\n\", (void*)&MinhaLista);\n",
        "    printf(\"MinhaLista             : %p (valor do ponteiro = endereco da struct)\\n\", (void*)MinhaLista);\n",
        "\n",
        "    // cria a lista (heap)\n",
        "    MinhaLista = LinkedList_create();\n",
        "\n",
        "    print_sep(\"Depois de criar a LISTA (struct alocada)\");\n",
        "    printf(\"&MinhaLista            : %p (na stack, NAO muda)\\n\", (void*)&MinhaLista);\n",
        "    printf(\"MinhaLista             : %p (PASSOU a apontar para a struct na heap)\\n\", (void*)MinhaLista);\n",
        "    printf(\"&(MinhaLista->begin)   : %p\\n\", (void*)&MinhaLista->begin);\n",
        "    printf(\"&(MinhaLista->end)     : %p\\n\", (void*)&MinhaLista->end);\n",
        "    printf(\"MinhaLista->begin      : %p\\n\", (void*)MinhaLista->begin);\n",
        "    printf(\"MinhaLista->end        : %p\\n\", (void*)MinhaLista->end);\n",
        "    printf(\"sizeof(LinkedList)=%zu  sizeof(SNode)=%zu  offsetof(begin)=%zu  offsetof(end)=%zu\\n\",\n",
        "           sizeof(LinkedList), sizeof(SNode),\n",
        "           offsetof(LinkedList, begin), offsetof(LinkedList, end));\n",
        "\n",
        "    // ===== Inserção do 1º nó (10) no começo =====\n",
        "    SNode *begin_antes = MinhaLista->begin;   // esperado NULL\n",
        "    SNode *end_antes   = MinhaLista->end;     // esperado NULL\n",
        "\n",
        "    print_sep(\"ADD_FIRST(10) — mudancas\");\n",
        "    printf(\"ANTES: begin = %p, end = %p\\n\", (void*)begin_antes, (void*)end_antes);\n",
        "\n",
        "    LinkedList_add_first(MinhaLista, 10);\n",
        "\n",
        "    SNode *begin_depois = MinhaLista->begin;\n",
        "    SNode *end_depois   = MinhaLista->end;\n",
        "\n",
        "    printf(\"DEPOIS: begin = %p, end = %p\\n\", (void*)begin_depois, (void*)end_depois);\n",
        "    if (begin_depois){\n",
        "        printf(\"novo(begin)->val       : %d\\n\", begin_depois->val);\n",
        "        printf(\"novo(begin)->next      : %p (deve ser antigo begin = %p)\\n\",\n",
        "               (void*)begin_depois->next, (void*)begin_antes);\n",
        "        printf(\"&begin->val            : %p\\n\", (void*)&begin_depois->val);\n",
        "        printf(\"&begin->next           : %p\\n\", (void*)&begin_depois->next);\n",
        "    }\n",
        "    if (end_depois){\n",
        "        printf(\"end aponta para        : %p (mesmo do begin quando ha 1 no)\\n\", (void*)end_depois);\n",
        "    }\n",
        "\n",
        "    // estado visual\n",
        "    printf(\"\\nLista agora: \");\n",
        "    LinkedList_print(MinhaLista); // esperado: [10] (begin=..., end=...)\n",
        "\n",
        "    // ===== Inserção do 2º nó (30) no final =====\n",
        "    SNode *primeiro_antes = MinhaLista->begin;          // nó 10\n",
        "    SNode *tail_antes     = MinhaLista->end;            // nó 10\n",
        "    SNode *primeiro_next_antes = primeiro_antes ? primeiro_antes->next : NULL; // NULL\n",
        "\n",
        "    print_sep(\"ADD_LAST(30) — mudancas\");\n",
        "    printf(\"ANTES: begin = %p (val=%d), end = %p (val=%d)\\n\",\n",
        "           (void*)MinhaLista->begin, MinhaLista->begin ? MinhaLista->begin->val : -1,\n",
        "           (void*)MinhaLista->end,   MinhaLista->end   ? MinhaLista->end->val   : -1);\n",
        "    printf(\"ANTES: primeiro->next  : %p\\n\", (void*)primeiro_next_antes);\n",
        "\n",
        "    LinkedList_add_last(MinhaLista, 30);\n",
        "\n",
        "    SNode *primeiro_depois = MinhaLista->begin;         // deve ser mesmo endereço\n",
        "    SNode *end_novo        = MinhaLista->end;           // novo tail (nó 30)\n",
        "    SNode *segundo         = primeiro_depois ? primeiro_depois->next : NULL;\n",
        "\n",
        "    printf(\"DEPOIS: begin = %p (esperado mesmo endereco de antes: %p)\\n\",\n",
        "           (void*)primeiro_depois, (void*)primeiro_antes);\n",
        "    printf(\"DEPOIS: end   = %p (ANTES era %p)\\n\", (void*)end_novo, (void*)tail_antes);\n",
        "\n",
        "    if (primeiro_depois){\n",
        "        printf(\"DEPOIS: primeiro->next : %p (ANTES %p)\\n\",\n",
        "               (void*)primeiro_depois->next, (void*)primeiro_next_antes);\n",
        "    }\n",
        "    if (segundo){\n",
        "        printf(\"NOVO no (inserido no fim)\\n\");\n",
        "        printf(\"  segundo              : %p\\n\", (void*)segundo);\n",
        "        printf(\"  segundo->val         : %d\\n\", segundo->val);\n",
        "        printf(\"  segundo->next        : %p (deve ser NULL)\\n\", (void*)segundo->next);\n",
        "        printf(\"  &segundo->val        : %p\\n\", (void*)&segundo->val);\n",
        "        printf(\"  &segundo->next       : %p\\n\", (void*)&segundo->next);\n",
        "    }\n",
        "\n",
        "    // estado visual\n",
        "    printf(\"\\nLista agora: \");\n",
        "    LinkedList_print(MinhaLista); // esperado: [10 -> 30] (begin=..., end=...)\n",
        "\n",
        "    return 0;\n",
        "}\n"
      ]
    },
    {
      "cell_type": "code",
      "execution_count": null,
      "metadata": {
        "colab": {
          "base_uri": "https://localhost:8080/"
        },
        "id": "5612cf58",
        "outputId": "a6075db9-b759-4254-c81e-5895df7df7b3"
      },
      "outputs": [
        {
          "output_type": "stream",
          "name": "stdout",
          "text": [
            "\n",
            "========== Estado inicial (lista NAO criada) ==========\n",
            "&MinhaLista            : 0x7fff141894d0 (endereco da VAR ponteiro)\n",
            "MinhaLista             : (nil) (valor do ponteiro = endereco da struct)\n",
            "\n",
            "========== Depois de criar a LISTA (struct alocada) ==========\n",
            "&MinhaLista            : 0x7fff141894d0 (na stack, NAO muda)\n",
            "MinhaLista             : 0x59046fe1c6b0 (PASSOU a apontar para a struct na heap)\n",
            "&(MinhaLista->begin)   : 0x59046fe1c6b0\n",
            "&(MinhaLista->end)     : 0x59046fe1c6b8\n",
            "MinhaLista->begin      : (nil)\n",
            "MinhaLista->end        : (nil)\n",
            "sizeof(LinkedList)=16  sizeof(SNode)=16  offsetof(begin)=0  offsetof(end)=8\n",
            "\n",
            "========== ADD_FIRST(10) — mudancas ==========\n",
            "ANTES: begin = (nil), end = (nil)\n",
            "DEPOIS: begin = 0x59046fe1c6d0, end = 0x59046fe1c6d0\n",
            "novo(begin)->val       : 10\n",
            "novo(begin)->next      : (nil) (deve ser antigo begin = (nil))\n",
            "&begin->val            : 0x59046fe1c6d0\n",
            "&begin->next           : 0x59046fe1c6d8\n",
            "end aponta para        : 0x59046fe1c6d0 (mesmo do begin quando ha 1 no)\n",
            "\n",
            "Lista agora: [10]  (begin=0x59046fe1c6d0, end=0x59046fe1c6d0)\n",
            "\n",
            "========== ADD_LAST(30) — mudancas ==========\n",
            "ANTES: begin = 0x59046fe1c6d0 (val=10), end = 0x59046fe1c6d0 (val=10)\n",
            "ANTES: primeiro->next  : (nil)\n",
            "DEPOIS: begin = 0x59046fe1c6d0 (esperado mesmo endereco de antes: 0x59046fe1c6d0)\n",
            "DEPOIS: end   = 0x59046fe1c6f0 (ANTES era 0x59046fe1c6d0)\n",
            "DEPOIS: primeiro->next : 0x59046fe1c6f0 (ANTES (nil))\n",
            "NOVO no (inserido no fim)\n",
            "  segundo              : 0x59046fe1c6f0\n",
            "  segundo->val         : 30\n",
            "  segundo->next        : (nil) (deve ser NULL)\n",
            "  &segundo->val        : 0x59046fe1c6f0\n",
            "  &segundo->next       : 0x59046fe1c6f8\n",
            "\n",
            "Lista agora: [10 -> 30]  (begin=0x59046fe1c6d0, end=0x59046fe1c6f0)\n"
          ]
        }
      ],
      "source": [
        "!gcc -Wall -Wextra -std=c11 main.c linked_list.c -o prog && ./prog"
      ]
    },
    {
      "cell_type": "markdown",
      "source": [
        "![image.png](data:image/png;base64,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)"
      ],
      "metadata": {
        "id": "Z7B3wGty_7Yv"
      }
    },
    {
      "cell_type": "markdown",
      "source": [
        "### Explicação\n",
        "Agora a estrutura da lista passa a manter também **`end`**, apontando para o último nó.  \n",
        "Com isso, `add_last` torna-se **`O(1)`** (anexamos diretamente no fim).  \n",
        "Além disso:\n",
        "- Em `add_first`, se a lista estava vazia, **`begin` e `end`** passam a apontar para o novo nó.\n",
        "- Em qualquer operação que possa esvaziar a lista, `end` deve voltar a `NULL`."
      ],
      "metadata": {
        "id": "jFFUGai__R7P"
      }
    },
    {
      "cell_type": "markdown",
      "metadata": {
        "id": "8e075cec"
      },
      "source": [
        "## Inserção em posição (`add_at`) – **incremental**\n"
      ]
    },
    {
      "cell_type": "markdown",
      "source": [
        "![image.png](data:image/png;base64,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)"
      ],
      "metadata": {
        "id": "QKMoHJ-ZB7_0"
      }
    },
    {
      "cell_type": "code",
      "execution_count": null,
      "metadata": {
        "colab": {
          "base_uri": "https://localhost:8080/"
        },
        "id": "79176b0e",
        "outputId": "675ae61e-1f62-42eb-ec1d-7563ed707db6"
      },
      "outputs": [
        {
          "output_type": "stream",
          "name": "stdout",
          "text": [
            "Overwriting linked_list.h\n"
          ]
        }
      ],
      "source": [
        "%%writefile linked_list.h\n",
        "#ifndef LINKED_LIST_H\n",
        "#define LINKED_LIST_H\n",
        "\n",
        "#include <stdbool.h>\n",
        "#include <stddef.h>\n",
        "\n",
        "typedef struct _snode {\n",
        "    int val;\n",
        "    struct _snode *next;\n",
        "} SNode;\n",
        "\n",
        "typedef struct _linked_list {\n",
        "    SNode *begin;\n",
        "    SNode *end;\n",
        "} LinkedList;\n",
        "\n",
        "/* utilidades usadas aqui */\n",
        "SNode* SNode_create(int val);\n",
        "LinkedList* LinkedList_create(void);\n",
        "bool LinkedList_is_empty(const LinkedList *L);\n",
        "void LinkedList_print(const LinkedList *L);\n",
        "\n",
        "/* inserções desta etapa */\n",
        "void LinkedList_add_first(LinkedList *L, int val);\n",
        "void LinkedList_add_last(LinkedList *L, int val);\n",
        "bool LinkedList_add_at(LinkedList *L, int val, size_t index);\n",
        "\n",
        "#endif"
      ]
    },
    {
      "cell_type": "code",
      "execution_count": null,
      "metadata": {
        "colab": {
          "base_uri": "https://localhost:8080/"
        },
        "id": "73d5a4ac",
        "outputId": "5a2e4a0d-a7be-44f9-83ae-0fa3f83cf9ae"
      },
      "outputs": [
        {
          "output_type": "stream",
          "name": "stdout",
          "text": [
            "Overwriting linked_list.c\n"
          ]
        }
      ],
      "source": [
        "%%writefile linked_list.c\n",
        "#include \"linked_list.h\"\n",
        "#include <stdio.h>\n",
        "#include <stdlib.h>\n",
        "\n",
        "static size_t list_size(const LinkedList *L){\n",
        "    size_t n = 0;\n",
        "    for (SNode *p = L->begin; p; p = p->next) n++;\n",
        "    return n;\n",
        "}\n",
        "\n",
        "SNode* SNode_create(int val){\n",
        "    SNode *n = (SNode*) calloc(1, sizeof(SNode));\n",
        "    if (!n){ perror(\"calloc\"); exit(EXIT_FAILURE); }\n",
        "    n->val = val;\n",
        "    n->next = NULL;\n",
        "    return n;\n",
        "}\n",
        "\n",
        "LinkedList* LinkedList_create(void){\n",
        "    LinkedList *L = (LinkedList*) calloc(1, sizeof(LinkedList));\n",
        "    if (!L){ perror(\"calloc\"); exit(EXIT_FAILURE); }\n",
        "    L->begin = NULL;\n",
        "    L->end   = NULL;\n",
        "    return L;\n",
        "}\n",
        "\n",
        "bool LinkedList_is_empty(const LinkedList *L){\n",
        "    return !L || !L->begin;\n",
        "}\n",
        "\n",
        "void LinkedList_add_first(LinkedList *L, int val){\n",
        "    SNode *p = SNode_create(val);\n",
        "    if (LinkedList_is_empty(L)){\n",
        "        L->begin = L->end = p;\n",
        "    } else {\n",
        "        p->next = L->begin;\n",
        "        L->begin = p;\n",
        "    }\n",
        "}\n",
        "\n",
        "void LinkedList_add_last(LinkedList *L, int val){\n",
        "    SNode *p = SNode_create(val);\n",
        "    if (LinkedList_is_empty(L)){\n",
        "        L->begin = L->end = p;\n",
        "    } else {\n",
        "        L->end->next = p;\n",
        "        L->end = p;\n",
        "    }\n",
        "}\n",
        "\n",
        "bool LinkedList_add_at(LinkedList *L, int val, size_t index){\n",
        "    size_t n = list_size(L);\n",
        "    if (index > n) return false;\n",
        "    if (index == 0){ LinkedList_add_first(L, val); return true; }\n",
        "    if (index == n){ LinkedList_add_last(L, val);  return true; }\n",
        "\n",
        "    SNode *prev = L->begin;\n",
        "    for (size_t i = 0; i < index - 1; i++) prev = prev->next;\n",
        "    SNode *p = SNode_create(val);\n",
        "    p->next = prev->next;\n",
        "    prev->next = p;\n",
        "    return true;\n",
        "}\n",
        "\n",
        "void LinkedList_print(const LinkedList *L){\n",
        "    printf(\"[\");\n",
        "    for (SNode *p = L->begin; p; p = p->next){\n",
        "        printf(\"%d\", p->val);\n",
        "        if (p->next) printf(\" -> \");\n",
        "    }\n",
        "    printf(\"]  (begin=%p, end=%p)\\n\",\n",
        "           (void*)(L ? L->begin : NULL),\n",
        "           (void*)(L ? L->end   : NULL));\n",
        "}\n",
        "\n"
      ]
    },
    {
      "cell_type": "code",
      "execution_count": null,
      "metadata": {
        "colab": {
          "base_uri": "https://localhost:8080/"
        },
        "id": "1c9c3295",
        "outputId": "640600c7-3c51-4790-8ae8-57f225d426da"
      },
      "outputs": [
        {
          "output_type": "stream",
          "name": "stdout",
          "text": [
            "Overwriting main.c\n"
          ]
        }
      ],
      "source": [
        "%%writefile main.c\n",
        "#include \"linked_list.h\"\n",
        "#include <stdio.h>\n",
        "\n",
        "/* helper de separador visual */\n",
        "static void sep(const char *t){ printf(\"\\n========== %s ==========\\n\", t); }\n",
        "\n",
        "/* acessório: pega nó na posição i (0-based); NULL se não existir */\n",
        "static SNode* at(const LinkedList *L, int idx){\n",
        "    int i = 0;\n",
        "    for (SNode *p = L->begin; p; p = p->next, ++i){\n",
        "        if (i == idx) return p;\n",
        "    }\n",
        "    return NULL;\n",
        "}\n",
        "\n",
        "int main(void){\n",
        "    LinkedList *L = LinkedList_create();\n",
        "\n",
        "    sep(\"Estado inicial\");\n",
        "    printf(\"begin=%p, end=%p\\n\", (void*)L->begin, (void*)L->end);\n",
        "    LinkedList_print(L);\n",
        "\n",
        "    /* ===== add_first(10) ===== */\n",
        "    SNode *begin_before = L->begin;    // esperado NULL\n",
        "    SNode *end_before   = L->end;      // esperado NULL\n",
        "\n",
        "    sep(\"ADD_FIRST(10) — mudancas\");\n",
        "    printf(\"ANTES: begin=%p, end=%p\\n\", (void*)begin_before, (void*)end_before);\n",
        "\n",
        "    LinkedList_add_first(L, 10);\n",
        "\n",
        "    SNode *begin_after = L->begin;\n",
        "    SNode *end_after   = L->end;\n",
        "\n",
        "    printf(\"DEPOIS: begin=%p, end=%p\\n\", (void*)begin_after, (void*)end_after);\n",
        "    if (begin_after){\n",
        "        printf(\"novo(begin)->val=%d, novo(begin)->next=%p (ANTES begin=%p)\\n\",\n",
        "               begin_after->val, (void*)begin_after->next, (void*)begin_before);\n",
        "    }\n",
        "    printf(\"Lista: \"); LinkedList_print(L);  // [10], begin=end\n",
        "\n",
        "    /* ===== add_last(30) ===== */\n",
        "    SNode *first_before   = L->begin;         // nó 10\n",
        "    SNode *tail_before    = L->end;           // nó 10\n",
        "    SNode *first_next_bef = first_before ? first_before->next : NULL; // NULL\n",
        "\n",
        "    sep(\"ADD_LAST(30) — mudancas\");\n",
        "    printf(\"ANTES: begin=%p(val=%d), end=%p(val=%d)\\n\",\n",
        "           (void*)L->begin, L->begin ? L->begin->val : -1,\n",
        "           (void*)L->end,   L->end   ? L->end->val   : -1);\n",
        "    printf(\"ANTES: first->next=%p\\n\", (void*)first_next_bef);\n",
        "\n",
        "    LinkedList_add_last(L, 30);\n",
        "\n",
        "    SNode *first_after2 = L->begin;           // deve ser o mesmo endereço\n",
        "    SNode *tail_after   = L->end;             // novo tail (nó 30)\n",
        "    SNode *second       = first_after2 ? first_after2->next : NULL;\n",
        "\n",
        "    printf(\"DEPOIS: begin=%p (ANTES %p) %s\\n\",\n",
        "           (void*)first_after2, (void*)first_before,\n",
        "           first_after2==first_before ? \"[MESMO END]\" : \"[MUDOU]\");\n",
        "    printf(\"DEPOIS: end=%p (ANTES %p) %s\\n\",\n",
        "           (void*)tail_after, (void*)tail_before,\n",
        "           tail_after!=tail_before ? \"[MUDOU]\" : \"[IGUAL]\");\n",
        "    if (first_after2){\n",
        "        printf(\"DEPOIS: first->next=%p (ANTES %p)\\n\",\n",
        "               (void*)first_after2->next, (void*)first_next_bef);\n",
        "    }\n",
        "    if (second){\n",
        "        printf(\"NOVO no (segundo)=%p, val=%d, next=%p (NULL esperado)\\n\",\n",
        "               (void*)second, second->val, (void*)second->next);\n",
        "    }\n",
        "    printf(\"Lista: \"); LinkedList_print(L);  // [10 -> 30]\n",
        "\n",
        "    /* ===== add_at(20, 1) (inserção no meio) =====\n",
        "       Estado atual: [10, 30]\n",
        "       Vamos inserir na posicao 1: resultado esperado [10, 20, 30]\n",
        "       Mudancas chave:\n",
        "         - prev = nó da pos 0 (10) mantém endereço\n",
        "         - prev->next: &30  →  &20 (novo)\n",
        "         - novo->next: &30\n",
        "         - end permanece igual (continua &30)\n",
        "    */\n",
        "    SNode *prev_before  = at(L, 0);              // deve ser nó 10\n",
        "    SNode *next_before  = prev_before ? prev_before->next : NULL; // nó 30\n",
        "    SNode *end_before2  = L->end;                // nó 30\n",
        "\n",
        "    sep(\"ADD_AT(20, 1) — mudancas\");\n",
        "    printf(\"ANTES: prev( idx0 )=%p(val=%d)\\n\",\n",
        "           (void*)prev_before, prev_before ? prev_before->val : -1);\n",
        "    printf(\"ANTES: prev->next  =%p (este era o antigo idx1)\\n\", (void*)next_before);\n",
        "    printf(\"ANTES: end         =%p(val=%d)\\n\",\n",
        "           (void*)end_before2, end_before2 ? end_before2->val : -1);\n",
        "\n",
        "    LinkedList_add_at(L, 20, 1);\n",
        "\n",
        "    SNode *prev_after   = at(L, 0);              // deve ser o mesmo nó 10\n",
        "    SNode *mid_after    = at(L, 1);              // novo nó 20\n",
        "    SNode *next_after   = mid_after ? mid_after->next : NULL; // deve ser antigo idx1 (30)\n",
        "    SNode *end_after2   = L->end;                // deve permanecer nó 30\n",
        "\n",
        "    printf(\"DEPOIS: prev( idx0 )=%p (ANTES %p) %s\\n\",\n",
        "           (void*)prev_after, (void*)prev_before,\n",
        "           prev_after==prev_before ? \"[MESMO END]\" : \"[MUDOU]\");\n",
        "    if (prev_after){\n",
        "        printf(\"DEPOIS: prev->next =%p (ANTES %p)\\n\",\n",
        "               (void*)prev_after->next, (void*)next_before);\n",
        "    }\n",
        "    if (mid_after){\n",
        "        printf(\"NOVO no (idx1)=%p, val=%d\\n\", (void*)mid_after, mid_after->val);\n",
        "        printf(\"novo->next=%p (deveria ser o antigo idx1: %p)\\n\",\n",
        "               (void*)next_after, (void*)next_before);\n",
        "    }\n",
        "    printf(\"DEPOIS: end=%p (ANTES %p) %s\\n\",\n",
        "           (void*)end_after2, (void*)end_before2,\n",
        "           end_after2==end_before2 ? \"[IGUAL]\" : \"[MUDOU]\");\n",
        "\n",
        "    printf(\"Lista: \"); LinkedList_print(L);  // [10 -> 20 -> 30]\n",
        "\n",
        "    return 0;\n",
        "}\n"
      ]
    },
    {
      "cell_type": "code",
      "execution_count": null,
      "metadata": {
        "colab": {
          "base_uri": "https://localhost:8080/"
        },
        "id": "4fb1e230",
        "outputId": "7075ff44-fedc-458d-dd82-34e60b588cd8"
      },
      "outputs": [
        {
          "output_type": "stream",
          "name": "stdout",
          "text": [
            "\n",
            "========== Estado inicial ==========\n",
            "begin=(nil), end=(nil)\n",
            "[]  (begin=(nil), end=(nil))\n",
            "\n",
            "========== ADD_FIRST(10) — mudancas ==========\n",
            "ANTES: begin=(nil), end=(nil)\n",
            "DEPOIS: begin=0x5b32442706d0, end=0x5b32442706d0\n",
            "novo(begin)->val=10, novo(begin)->next=(nil) (ANTES begin=(nil))\n",
            "Lista: [10]  (begin=0x5b32442706d0, end=0x5b32442706d0)\n",
            "\n",
            "========== ADD_LAST(30) — mudancas ==========\n",
            "ANTES: begin=0x5b32442706d0(val=10), end=0x5b32442706d0(val=10)\n",
            "ANTES: first->next=(nil)\n",
            "DEPOIS: begin=0x5b32442706d0 (ANTES 0x5b32442706d0) [MESMO END]\n",
            "DEPOIS: end=0x5b32442706f0 (ANTES 0x5b32442706d0) [MUDOU]\n",
            "DEPOIS: first->next=0x5b32442706f0 (ANTES (nil))\n",
            "NOVO no (segundo)=0x5b32442706f0, val=30, next=(nil) (NULL esperado)\n",
            "Lista: [10 -> 30]  (begin=0x5b32442706d0, end=0x5b32442706f0)\n",
            "\n",
            "========== ADD_AT(20, 1) — mudancas ==========\n",
            "ANTES: prev( idx0 )=0x5b32442706d0(val=10)\n",
            "ANTES: prev->next  =0x5b32442706f0 (este era o antigo idx1)\n",
            "ANTES: end         =0x5b32442706f0(val=30)\n",
            "DEPOIS: prev( idx0 )=0x5b32442706d0 (ANTES 0x5b32442706d0) [MESMO END]\n",
            "DEPOIS: prev->next =0x5b3244270710 (ANTES 0x5b32442706f0)\n",
            "NOVO no (idx1)=0x5b3244270710, val=20\n",
            "novo->next=0x5b32442706f0 (deveria ser o antigo idx1: 0x5b32442706f0)\n",
            "DEPOIS: end=0x5b32442706f0 (ANTES 0x5b32442706f0) [IGUAL]\n",
            "Lista: [10 -> 20 -> 30]  (begin=0x5b32442706d0, end=0x5b32442706f0)\n"
          ]
        }
      ],
      "source": [
        "!gcc -Wall -Wextra -std=c11 main.c linked_list.c -o prog && ./prog"
      ]
    },
    {
      "cell_type": "markdown",
      "source": [
        "![image.png](data:image/png;base64,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)"
      ],
      "metadata": {
        "id": "3UXXdoABCf8k"
      }
    },
    {
      "cell_type": "markdown",
      "source": [
        "### Explicação\n",
        "Agora acrescentamos **`add_at(index)`**, mantendo apenas as operações de **inserção** já apresentadas: `add_first` e `add_last` (com `end`).  \n",
        "- Quando `index == 0`, delegamos para `add_first`.\n",
        "- Quando `index == tamanho`, delegamos para `add_last` (preserva `end` corretamente).\n",
        "- Para índices intermediários, inserimos entre dois nós."
      ],
      "metadata": {
        "id": "ayF5WuMgCEKf"
      }
    },
    {
      "cell_type": "markdown",
      "source": [
        "# Operações Destroy\n"
      ],
      "metadata": {
        "id": "FTM3OSlLJuPM"
      }
    },
    {
      "cell_type": "markdown",
      "source": [],
      "metadata": {
        "id": "KxYjJVyzJuPM"
      }
    },
    {
      "cell_type": "code",
      "source": [
        "%%writefile linked_list.h\n",
        "#ifndef LINKED_LIST_H\n",
        "#define LINKED_LIST_H\n",
        "\n",
        "#include <stdbool.h>\n",
        "#include <stddef.h>\n",
        "\n",
        "typedef struct _snode {\n",
        "    int val;\n",
        "    struct _snode *next;\n",
        "} SNode;\n",
        "\n",
        "typedef struct _linked_list {\n",
        "    SNode *begin;\n",
        "    SNode *end;   // referência ao último nó\n",
        "} LinkedList;\n",
        "\n",
        "/* criação e verificação */\n",
        "LinkedList* LinkedList_create(void);\n",
        "bool        LinkedList_is_empty(const LinkedList *L);\n",
        "size_t      LinkedList_size(const LinkedList *L);\n",
        "\n",
        "/* inserções */\n",
        "void  LinkedList_add_first(LinkedList *L, int val);\n",
        "void  LinkedList_add_last (LinkedList *L, int val);\n",
        "bool  LinkedList_add_at   (LinkedList *L, int val, size_t index);\n",
        "\n",
        "/* utilitários */\n",
        "/* utilitários */\n",
        "void LinkedList_print(const LinkedList *L);\n",
        "void LinkedList_destroy(LinkedList *L);\n",
        "\n",
        "\n",
        "#endif\n"
      ],
      "metadata": {
        "colab": {
          "base_uri": "https://localhost:8080/"
        },
        "outputId": "e8ef3bf0-3d7e-4bd5-ce50-febb28d62074",
        "id": "t25QkQQ8JuPN"
      },
      "execution_count": null,
      "outputs": [
        {
          "output_type": "stream",
          "name": "stdout",
          "text": [
            "Overwriting linked_list.h\n"
          ]
        }
      ]
    },
    {
      "cell_type": "code",
      "source": [
        "%%writefile linked_list.c\n",
        "#include \"linked_list.h\"\n",
        "#include <stdio.h>\n",
        "#include <stdlib.h>\n",
        "#include <stdbool.h>\n",
        "\n",
        "/* auxiliar: cria nó (privado ao .c) */\n",
        "static SNode* SNode_create(int val){\n",
        "    SNode *n = (SNode*) calloc(1, sizeof(SNode));\n",
        "    if (!n){ perror(\"calloc\"); exit(EXIT_FAILURE); }\n",
        "    n->val = val;\n",
        "    n->next = NULL;\n",
        "    return n;\n",
        "}\n",
        "\n",
        "LinkedList* LinkedList_create(void){\n",
        "    LinkedList *L = (LinkedList*) calloc(1, sizeof(LinkedList));\n",
        "    if (!L){ perror(\"calloc\"); exit(EXIT_FAILURE); }\n",
        "    L->begin = NULL;\n",
        "    L->end   = NULL;\n",
        "    return L;\n",
        "}\n",
        "\n",
        "bool LinkedList_is_empty(const LinkedList *L){\n",
        "    return !L || !L->begin;\n",
        "}\n",
        "\n",
        "size_t LinkedList_size(const LinkedList *L){\n",
        "    size_t n = 0;\n",
        "    for (SNode *p = L ? L->begin : NULL; p; p = p->next) n++;\n",
        "    return n;\n",
        "}\n",
        "\n",
        "void LinkedList_add_first(LinkedList *L, int val){\n",
        "    SNode *p = SNode_create(val);\n",
        "    if (LinkedList_is_empty(L)){\n",
        "        L->begin = L->end = p;\n",
        "    } else {\n",
        "        p->next = L->begin;\n",
        "        L->begin = p;\n",
        "    }\n",
        "}\n",
        "\n",
        "void LinkedList_add_last(LinkedList *L, int val){\n",
        "    SNode *p = SNode_create(val);\n",
        "    if (LinkedList_is_empty(L)){\n",
        "        L->begin = L->end = p;\n",
        "    } else {\n",
        "        L->end->next = p;\n",
        "        L->end = p;\n",
        "    }\n",
        "}\n",
        "\n",
        "bool LinkedList_add_at(LinkedList *L, int val, size_t index){\n",
        "    size_t n = LinkedList_size(L);\n",
        "    if (index > n) return false;\n",
        "    if (index == 0){ LinkedList_add_first(L, val); return true; }\n",
        "    if (index == n){ LinkedList_add_last (L, val); return true; }\n",
        "\n",
        "    SNode *prev = L->begin;\n",
        "    for (size_t i = 0; i < index - 1; i++) prev = prev->next;\n",
        "    SNode *p = SNode_create(val);\n",
        "    p->next = prev->next;\n",
        "    prev->next = p;\n",
        "    return true;\n",
        "}\n",
        "\n",
        "/* print detalhado: valor, endereço, ponteiro e alvo */\n",
        "void LinkedList_print(const LinkedList *L){\n",
        "    printf(\"\\n--- Estado da Lista ---\\n\");\n",
        "    if (!L){\n",
        "        printf(\"(Lista inexistente)\\n\");\n",
        "        return;\n",
        "    }\n",
        "\n",
        "    int idx = 0;\n",
        "    for (SNode *p = L->begin; p; p = p->next, idx++){\n",
        "        printf(\"No[%d] @%p: val=%d | &val=%p | &next=%p | next=%p\\n\",\n",
        "               idx,\n",
        "               (void*)p,\n",
        "               p->val,\n",
        "               (void*)&p->val,\n",
        "               (void*)&p->next,\n",
        "               (void*)p->next);\n",
        "    }\n",
        "\n",
        "    printf(\"begin=%p\", (void*)L->begin);\n",
        "    if (L->begin) printf(\" (val=%d)\", L->begin->val);\n",
        "\n",
        "    printf(\" | end=%p\", (void*)L->end);\n",
        "    if (L->end) printf(\" (val=%d)\", L->end->val);\n",
        "\n",
        "    printf(\" | size=%zu\\n\", LinkedList_size(L));\n",
        "    printf(\"-----------------------\\n\\n\");\n",
        "}\n",
        "\n",
        "void LinkedList_destroy(LinkedList *L){\n",
        "    if (!L) return;\n",
        "\n",
        "    SNode *p = L->begin;\n",
        "    while (p){\n",
        "        SNode *tmp = p->next;\n",
        "        free(p);\n",
        "        p = tmp;\n",
        "    }\n",
        "\n",
        "    free(L);\n",
        "}\n",
        "\n"
      ],
      "metadata": {
        "colab": {
          "base_uri": "https://localhost:8080/"
        },
        "outputId": "b7307357-c774-4aa7-b3ba-1dded6bdfe3c",
        "id": "0IGv0oaEJuPN"
      },
      "execution_count": null,
      "outputs": [
        {
          "output_type": "stream",
          "name": "stdout",
          "text": [
            "Overwriting linked_list.c\n"
          ]
        }
      ]
    },
    {
      "cell_type": "code",
      "source": [
        "%%writefile main.c\n",
        "#include \"linked_list.h\"\n",
        "#include <stdio.h>\n",
        "\n",
        "int main(void){\n",
        "    LinkedList *L = LinkedList_create();\n",
        "\n",
        "    printf(\"Lista vazia? %s\\n\", LinkedList_is_empty(L) ? \"SIM\" : \"NAO\");\n",
        "    LinkedList_print(L);\n",
        "\n",
        "    LinkedList_add_first(L, 10);   // [10]\n",
        "    LinkedList_add_last(L, 30);    // [10 -> 30]\n",
        "    LinkedList_add_at(L, 20, 1);   // [10 -> 20 -> 30]\n",
        "\n",
        "    printf(\"Antes de destruir:\\n\");\n",
        "    LinkedList_print(L);\n",
        "\n",
        "    LinkedList_destroy(L);\n",
        "    L = NULL; // boa prática\n",
        "\n",
        "    printf(\"Lista destruída.\\n\");\n",
        "\n",
        "\n",
        "    printf(\"\\nDepois das insercoes:\\n\");\n",
        "    LinkedList_print(L);\n",
        "\n",
        "    printf(\"Tamanho da lista: %zu\\n\", LinkedList_size(L));\n",
        "    printf(\"Lista vazia? %s\\n\", LinkedList_is_empty(L) ? \"SIM\" : \"NAO\");\n",
        "\n",
        "    return 0;\n",
        "}\n"
      ],
      "metadata": {
        "colab": {
          "base_uri": "https://localhost:8080/"
        },
        "outputId": "805a7bc0-b03c-4dc4-e352-1c9539dc2f21",
        "id": "wbGb_R0pJuPO"
      },
      "execution_count": null,
      "outputs": [
        {
          "output_type": "stream",
          "name": "stdout",
          "text": [
            "Overwriting main.c\n"
          ]
        }
      ]
    },
    {
      "cell_type": "code",
      "source": [
        "!gcc -Wall -Wextra -std=c11 main.c linked_list.c -o programa && ./programa\n"
      ],
      "metadata": {
        "colab": {
          "base_uri": "https://localhost:8080/"
        },
        "outputId": "62d0bb50-f575-46c4-b4d1-219ef28f1815",
        "id": "HLIQX17rJuPO"
      },
      "execution_count": null,
      "outputs": [
        {
          "output_type": "stream",
          "name": "stdout",
          "text": [
            "Lista vazia? SIM\n",
            "\n",
            "--- Estado da Lista ---\n",
            "begin=(nil) | end=(nil) | size=0\n",
            "-----------------------\n",
            "\n",
            "Antes de destruir:\n",
            "\n",
            "--- Estado da Lista ---\n",
            "No[0] @0x55ed972076d0: val=10 | &val=0x55ed972076d0 | &next=0x55ed972076d8 | next=0x55ed97207710\n",
            "No[1] @0x55ed97207710: val=20 | &val=0x55ed97207710 | &next=0x55ed97207718 | next=0x55ed972076f0\n",
            "No[2] @0x55ed972076f0: val=30 | &val=0x55ed972076f0 | &next=0x55ed972076f8 | next=(nil)\n",
            "begin=0x55ed972076d0 (val=10) | end=0x55ed972076f0 (val=30) | size=3\n",
            "-----------------------\n",
            "\n",
            "Lista destruída.\n",
            "\n",
            "Depois das insercoes:\n",
            "\n",
            "--- Estado da Lista ---\n",
            "(Lista inexistente)\n",
            "Tamanho da lista: 0\n",
            "Lista vazia? SIM\n"
          ]
        }
      ]
    },
    {
      "cell_type": "markdown",
      "source": [
        "# Operação Remover"
      ],
      "metadata": {
        "id": "CW46mZF6QcqN"
      }
    },
    {
      "cell_type": "markdown",
      "source": [
        "## Remover ao inicio ou final da Lista"
      ],
      "metadata": {
        "id": "QNHYJXP2dSQw"
      }
    },
    {
      "cell_type": "code",
      "source": [
        "%%writefile linked_list.h\n",
        "#ifndef LINKED_LIST_H\n",
        "#define LINKED_LIST_H\n",
        "\n",
        "#include <stdbool.h>\n",
        "#include <stddef.h>\n",
        "\n",
        "/* Nó da lista */\n",
        "typedef struct _snode {\n",
        "    int val;\n",
        "    struct _snode *next;\n",
        "} SNode;\n",
        "\n",
        "/* Lista com ponteiros para início e fim */\n",
        "typedef struct _linked_list {\n",
        "    SNode *begin;\n",
        "    SNode *end;\n",
        "} LinkedList;\n",
        "\n",
        "/* criação e verificação */\n",
        "LinkedList* LinkedList_create(void);\n",
        "bool        LinkedList_is_empty(const LinkedList *L);\n",
        "size_t      LinkedList_size(const LinkedList *L);\n",
        "\n",
        "/* inserções */\n",
        "void LinkedList_add_first(LinkedList *L, int val);\n",
        "void LinkedList_add_last (LinkedList *L, int val);\n",
        "bool LinkedList_add_at   (LinkedList *L, int val, size_t index);\n",
        "\n",
        "/* remoções */\n",
        "bool LinkedList_remove_first(LinkedList *L, int *out_val);\n",
        "bool LinkedList_remove_last (LinkedList *L, int *out_val);\n",
        "\n",
        "/* utilitários */\n",
        "void LinkedList_print(const LinkedList *L);\n",
        "void LinkedList_destroy(LinkedList *L);\n",
        "\n",
        "#endif\n"
      ],
      "metadata": {
        "colab": {
          "base_uri": "https://localhost:8080/"
        },
        "outputId": "20141cea-e3af-4630-dac0-ea95c7d8f665",
        "id": "xjZMWgCagB01"
      },
      "execution_count": null,
      "outputs": [
        {
          "output_type": "stream",
          "name": "stdout",
          "text": [
            "Overwriting linked_list.h\n"
          ]
        }
      ]
    },
    {
      "cell_type": "code",
      "source": [
        "%%writefile linked_list.c\n",
        "#include \"linked_list.h\"\n",
        "#include <stdio.h>\n",
        "#include <stdlib.h>\n",
        "#include <stdbool.h>\n",
        "\n",
        "/* auxiliar: cria nó (privado ao .c) */\n",
        "static SNode* SNode_create(int val){\n",
        "    SNode *n = (SNode*) calloc(1, sizeof(SNode));\n",
        "    if (!n){ perror(\"calloc\"); exit(EXIT_FAILURE); }\n",
        "    n->val = val;\n",
        "    n->next = NULL;\n",
        "    return n;\n",
        "}\n",
        "\n",
        "LinkedList* LinkedList_create(void){\n",
        "    LinkedList *L = (LinkedList*) calloc(1, sizeof(LinkedList));\n",
        "    if (!L){ perror(\"calloc\"); exit(EXIT_FAILURE); }\n",
        "    L->begin = NULL;\n",
        "    L->end   = NULL;\n",
        "    return L;\n",
        "}\n",
        "\n",
        "bool LinkedList_is_empty(const LinkedList *L){\n",
        "    return !L || !L->begin;\n",
        "}\n",
        "\n",
        "size_t LinkedList_size(const LinkedList *L){\n",
        "    size_t n = 0;\n",
        "    for (SNode *p = L ? L->begin : NULL; p; p = p->next) n++;\n",
        "    return n;\n",
        "}\n",
        "\n",
        "void LinkedList_add_first(LinkedList *L, int val){\n",
        "    SNode *p = SNode_create(val);\n",
        "    if (LinkedList_is_empty(L)){\n",
        "        L->begin = L->end = p;\n",
        "    } else {\n",
        "        p->next = L->begin;\n",
        "        L->begin = p;\n",
        "    }\n",
        "}\n",
        "\n",
        "void LinkedList_add_last(LinkedList *L, int val){\n",
        "    SNode *p = SNode_create(val);\n",
        "    if (LinkedList_is_empty(L)){\n",
        "        L->begin = L->end = p;\n",
        "    } else {\n",
        "        L->end->next = p;\n",
        "        L->end = p;\n",
        "    }\n",
        "}\n",
        "\n",
        "bool LinkedList_add_at(LinkedList *L, int val, size_t index){\n",
        "    size_t n = LinkedList_size(L);\n",
        "    if (index > n) return false;\n",
        "    if (index == 0){ LinkedList_add_first(L, val); return true; }\n",
        "    if (index == n){ LinkedList_add_last (L, val); return true; }\n",
        "\n",
        "    SNode *prev = L->begin;\n",
        "    for (size_t i = 0; i < index - 1; i++) prev = prev->next;\n",
        "    SNode *p = SNode_create(val);\n",
        "    p->next = prev->next;\n",
        "    prev->next = p;\n",
        "    return true;\n",
        "}\n",
        "\n",
        "/* print detalhado: valor, endereço, ponteiro e alvo */\n",
        "void LinkedList_print(const LinkedList *L){\n",
        "    printf(\"\\n--- Estado da Lista ---\\n\");\n",
        "    if (!L){\n",
        "        printf(\"(Lista inexistente)\\n\");\n",
        "        return;\n",
        "    }\n",
        "\n",
        "    int idx = 0;\n",
        "    for (SNode *p = L->begin; p; p = p->next, idx++){\n",
        "        printf(\"No[%d] @%p: val=%d | &val=%p | &next=%p | next=%p\\n\",\n",
        "               idx,\n",
        "               (void*)p,\n",
        "               p->val,\n",
        "               (void*)&p->val,\n",
        "               (void*)&p->next,\n",
        "               (void*)p->next);\n",
        "    }\n",
        "\n",
        "    printf(\"begin=%p\", (void*)L->begin);\n",
        "    if (L->begin) printf(\" (val=%d)\", L->begin->val);\n",
        "\n",
        "    printf(\" | end=%p\", (void*)L->end);\n",
        "    if (L->end) printf(\" (val=%d)\", L->end->val);\n",
        "\n",
        "    printf(\" | size=%zu\\n\", LinkedList_size(L));\n",
        "    printf(\"-----------------------\\n\\n\");\n",
        "}\n",
        "\n",
        "void LinkedList_destroy(LinkedList *L){\n",
        "    if (!L) return;\n",
        "\n",
        "    SNode *p = L->begin;\n",
        "    while (p){\n",
        "        SNode *tmp = p->next;\n",
        "        free(p);\n",
        "        p = tmp;\n",
        "    }\n",
        "\n",
        "    free(L);\n",
        "}\n",
        "\n",
        "/* Remoções */\n",
        "bool LinkedList_remove_first(LinkedList *L, int *out_val){\n",
        "    if (LinkedList_is_empty(L)) return false;\n",
        "    SNode *p = L->begin;\n",
        "    L->begin = p->next;\n",
        "    if (L->begin == NULL) {   // se esvaziou, atualiza end\n",
        "        L->end = NULL;\n",
        "    }\n",
        "    if (out_val) *out_val = p->val;\n",
        "    free(p);\n",
        "    return true;\n",
        "}\n",
        "\n",
        "bool LinkedList_remove_last(LinkedList *L, int *out_val){\n",
        "    if (LinkedList_is_empty(L)) return false;\n",
        "    SNode *prev = NULL;\n",
        "    SNode *cur = L->begin;\n",
        "    while (cur->next != NULL){\n",
        "        prev = cur;\n",
        "        cur = cur->next;\n",
        "    }\n",
        "    if (prev == NULL){\n",
        "        /* Havia apenas um elemento */\n",
        "        L->begin = L->end = NULL;\n",
        "    } else {\n",
        "        prev->next = NULL;\n",
        "        L->end = prev;  // atualiza end\n",
        "    }\n",
        "    if (out_val) *out_val = cur->val;\n",
        "    free(cur);\n",
        "    return true;\n",
        "}\n",
        "\n"
      ],
      "metadata": {
        "colab": {
          "base_uri": "https://localhost:8080/"
        },
        "outputId": "098db812-ec47-443b-cc1f-aa202621e730",
        "id": "xN6mMkV4gB01"
      },
      "execution_count": null,
      "outputs": [
        {
          "output_type": "stream",
          "name": "stdout",
          "text": [
            "Overwriting linked_list.c\n"
          ]
        }
      ]
    },
    {
      "cell_type": "code",
      "source": [
        "%%writefile main.c\n",
        "#include <stdio.h>\n",
        "#include <stdlib.h>\n",
        "#include \"linked_list.h\"\n",
        "\n",
        "static void print_header(const char *title, LinkedList **ppL){\n",
        "    printf(\"\\n========== %s ==========\\n\", title);\n",
        "    printf(\"&MinhaLista (endereco da VAR ponteiro) = %p\\n\", (void*)ppL);\n",
        "    printf(\"MinhaLista  (endereco da struct)       = %p\\n\", (void*)(*ppL));\n",
        "    if (*ppL){\n",
        "        printf(\"&begin = %p | begin = %p\", (void*)&((*ppL)->begin), (void*)(*ppL)->begin);\n",
        "        if ((*ppL)->begin) printf(\" (val=%d)\", (*ppL)->begin->val);\n",
        "        printf(\"\\n&end   = %p | end   = %p\", (void*)&((*ppL)->end),   (void*)(*ppL)->end);\n",
        "        if ((*ppL)->end)   printf(\" (val=%d)\", (*ppL)->end->val);\n",
        "        printf(\"\\n\");\n",
        "    }\n",
        "}\n",
        "\n",
        "static void try_remove_first(LinkedList *L){\n",
        "    int out;\n",
        "    if (LinkedList_remove_first(L, &out))\n",
        "        printf(\"remove_first: removido %d\\n\", out);\n",
        "    else\n",
        "        printf(\"remove_first: lista vazia\\n\");\n",
        "    LinkedList_print(L);\n",
        "}\n",
        "\n",
        "static void try_remove_last(LinkedList *L){\n",
        "    int out;\n",
        "    if (LinkedList_remove_last(L, &out))\n",
        "        printf(\"remove_last: removido %d\\n\", out);\n",
        "    else\n",
        "        printf(\"remove_last: lista vazia\\n\");\n",
        "    LinkedList_print(L);\n",
        "}\n",
        "\n",
        "\n",
        "int main(void){\n",
        "    /* Criar lista */\n",
        "    LinkedList *MinhaLista = LinkedList_create();\n",
        "    print_header(\"Estado inicial (lista criada, vazia)\", &MinhaLista);\n",
        "    LinkedList_print(MinhaLista);\n",
        "\n",
        "    /* Inserções */\n",
        "    printf(\"\\n-- Inserir no comeco: 10 --\\n\");\n",
        "    LinkedList_add_first(MinhaLista, 10);\n",
        "    LinkedList_print(MinhaLista);\n",
        "\n",
        "    printf(\"\\n-- Inserir no final (usando end): 30 --\\n\");\n",
        "    LinkedList_add_last(MinhaLista, 30);\n",
        "    LinkedList_print(MinhaLista);\n",
        "\n",
        "    printf(\"\\n-- Inserir no indice 1: 20 --\\n\");\n",
        "    LinkedList_add_at(MinhaLista, 20, 1); // lista: 10 -> 20 -> 30\n",
        "    LinkedList_print(MinhaLista);\n",
        "\n",
        "    printf(\"\\n-- Inserir no final (usando end): 40 --\\n\");\n",
        "    LinkedList_add_last(MinhaLista, 40); // lista: 10 -> 20 -> 30 -> 40\n",
        "    LinkedList_print(MinhaLista);\n",
        "\n",
        "    /* Remoções variadas checando consistência do end */\n",
        "    try_remove_first(MinhaLista);\n",
        "    try_remove_last(MinhaLista);\n",
        "    try_remove_last(MinhaLista);\n",
        "    try_remove_first(MinhaLista);\n",
        "\n",
        "    /* Esvaziar e conferir end */\n",
        "    printf(\"\\n-- Esvaziando completamente --\\n\");\n",
        "    while (!LinkedList_is_empty(MinhaLista)) {\n",
        "        try_remove_first(MinhaLista);\n",
        "    }\n",
        "\n",
        "    print_header(\"Depois de esvaziar\", &MinhaLista);\n",
        "    LinkedList_print(MinhaLista);\n",
        "\n",
        "    /* Destruir */\n",
        "    LinkedList_destroy(MinhaLista);\n",
        "    MinhaLista = NULL;\n",
        "    print_header(\"Depois de destruir (ponteiro local setado para NULL)\", &MinhaLista);\n",
        "\n",
        "    return 0;\n",
        "}\n"
      ],
      "metadata": {
        "colab": {
          "base_uri": "https://localhost:8080/"
        },
        "outputId": "060ef45d-0042-4731-ce66-ba5f04bc875d",
        "id": "fP_qGGMJgB02"
      },
      "execution_count": null,
      "outputs": [
        {
          "output_type": "stream",
          "name": "stdout",
          "text": [
            "Overwriting main.c\n"
          ]
        }
      ]
    },
    {
      "cell_type": "code",
      "source": [
        "!gcc -Wall -Wextra -std=c11 main.c linked_list.c -o programa && ./programa"
      ],
      "metadata": {
        "colab": {
          "base_uri": "https://localhost:8080/"
        },
        "outputId": "3c13d8bc-1537-4046-8768-8129a84d74e8",
        "id": "6JcSnbjFgB02"
      },
      "execution_count": null,
      "outputs": [
        {
          "output_type": "stream",
          "name": "stdout",
          "text": [
            "\n",
            "========== Estado inicial (lista criada, vazia) ==========\n",
            "&MinhaLista (endereco da VAR ponteiro) = 0x7ffec7dd2970\n",
            "MinhaLista  (endereco da struct)       = 0x590d8316e2a0\n",
            "&begin = 0x590d8316e2a0 | begin = (nil)\n",
            "&end   = 0x590d8316e2a8 | end   = (nil)\n",
            "\n",
            "--- Estado da Lista ---\n",
            "begin=(nil) | end=(nil) | size=0\n",
            "-----------------------\n",
            "\n",
            "\n",
            "-- Inserir no comeco: 10 --\n",
            "\n",
            "--- Estado da Lista ---\n",
            "No[0] @0x590d8316e6d0: val=10 | &val=0x590d8316e6d0 | &next=0x590d8316e6d8 | next=(nil)\n",
            "begin=0x590d8316e6d0 (val=10) | end=0x590d8316e6d0 (val=10) | size=1\n",
            "-----------------------\n",
            "\n",
            "\n",
            "-- Inserir no final (usando end): 30 --\n",
            "\n",
            "--- Estado da Lista ---\n",
            "No[0] @0x590d8316e6d0: val=10 | &val=0x590d8316e6d0 | &next=0x590d8316e6d8 | next=0x590d8316e6f0\n",
            "No[1] @0x590d8316e6f0: val=30 | &val=0x590d8316e6f0 | &next=0x590d8316e6f8 | next=(nil)\n",
            "begin=0x590d8316e6d0 (val=10) | end=0x590d8316e6f0 (val=30) | size=2\n",
            "-----------------------\n",
            "\n",
            "\n",
            "-- Inserir no indice 1: 20 --\n",
            "\n",
            "--- Estado da Lista ---\n",
            "No[0] @0x590d8316e6d0: val=10 | &val=0x590d8316e6d0 | &next=0x590d8316e6d8 | next=0x590d8316e710\n",
            "No[1] @0x590d8316e710: val=20 | &val=0x590d8316e710 | &next=0x590d8316e718 | next=0x590d8316e6f0\n",
            "No[2] @0x590d8316e6f0: val=30 | &val=0x590d8316e6f0 | &next=0x590d8316e6f8 | next=(nil)\n",
            "begin=0x590d8316e6d0 (val=10) | end=0x590d8316e6f0 (val=30) | size=3\n",
            "-----------------------\n",
            "\n",
            "\n",
            "-- Inserir no final (usando end): 40 --\n",
            "\n",
            "--- Estado da Lista ---\n",
            "No[0] @0x590d8316e6d0: val=10 | &val=0x590d8316e6d0 | &next=0x590d8316e6d8 | next=0x590d8316e710\n",
            "No[1] @0x590d8316e710: val=20 | &val=0x590d8316e710 | &next=0x590d8316e718 | next=0x590d8316e6f0\n",
            "No[2] @0x590d8316e6f0: val=30 | &val=0x590d8316e6f0 | &next=0x590d8316e6f8 | next=0x590d8316e730\n",
            "No[3] @0x590d8316e730: val=40 | &val=0x590d8316e730 | &next=0x590d8316e738 | next=(nil)\n",
            "begin=0x590d8316e6d0 (val=10) | end=0x590d8316e730 (val=40) | size=4\n",
            "-----------------------\n",
            "\n",
            "remove_first: removido 10\n",
            "\n",
            "--- Estado da Lista ---\n",
            "No[0] @0x590d8316e710: val=20 | &val=0x590d8316e710 | &next=0x590d8316e718 | next=0x590d8316e6f0\n",
            "No[1] @0x590d8316e6f0: val=30 | &val=0x590d8316e6f0 | &next=0x590d8316e6f8 | next=0x590d8316e730\n",
            "No[2] @0x590d8316e730: val=40 | &val=0x590d8316e730 | &next=0x590d8316e738 | next=(nil)\n",
            "begin=0x590d8316e710 (val=20) | end=0x590d8316e730 (val=40) | size=3\n",
            "-----------------------\n",
            "\n",
            "remove_last: removido 40\n",
            "\n",
            "--- Estado da Lista ---\n",
            "No[0] @0x590d8316e710: val=20 | &val=0x590d8316e710 | &next=0x590d8316e718 | next=0x590d8316e6f0\n",
            "No[1] @0x590d8316e6f0: val=30 | &val=0x590d8316e6f0 | &next=0x590d8316e6f8 | next=(nil)\n",
            "begin=0x590d8316e710 (val=20) | end=0x590d8316e6f0 (val=30) | size=2\n",
            "-----------------------\n",
            "\n",
            "remove_last: removido 30\n",
            "\n",
            "--- Estado da Lista ---\n",
            "No[0] @0x590d8316e710: val=20 | &val=0x590d8316e710 | &next=0x590d8316e718 | next=(nil)\n",
            "begin=0x590d8316e710 (val=20) | end=0x590d8316e710 (val=20) | size=1\n",
            "-----------------------\n",
            "\n",
            "remove_first: removido 20\n",
            "\n",
            "--- Estado da Lista ---\n",
            "begin=(nil) | end=(nil) | size=0\n",
            "-----------------------\n",
            "\n",
            "\n",
            "-- Esvaziando completamente --\n",
            "\n",
            "========== Depois de esvaziar ==========\n",
            "&MinhaLista (endereco da VAR ponteiro) = 0x7ffec7dd2970\n",
            "MinhaLista  (endereco da struct)       = 0x590d8316e2a0\n",
            "&begin = 0x590d8316e2a0 | begin = (nil)\n",
            "&end   = 0x590d8316e2a8 | end   = (nil)\n",
            "\n",
            "--- Estado da Lista ---\n",
            "begin=(nil) | end=(nil) | size=0\n",
            "-----------------------\n",
            "\n",
            "\n",
            "========== Depois de destruir (ponteiro local setado para NULL) ==========\n",
            "&MinhaLista (endereco da VAR ponteiro) = 0x7ffec7dd2970\n",
            "MinhaLista  (endereco da struct)       = (nil)\n"
          ]
        }
      ]
    },
    {
      "cell_type": "markdown",
      "source": [
        "## Remover por valor ou indice"
      ],
      "metadata": {
        "id": "JPg6LQXcdHHf"
      }
    },
    {
      "cell_type": "code",
      "source": [
        "%%writefile linked_list.h\n",
        "#ifndef LINKED_LIST_H\n",
        "#define LINKED_LIST_H\n",
        "\n",
        "#include <stdbool.h>\n",
        "#include <stddef.h>\n",
        "\n",
        "/* Nó da lista */\n",
        "typedef struct _snode {\n",
        "    int val;\n",
        "    struct _snode *next;\n",
        "} SNode;\n",
        "\n",
        "/* Lista com ponteiros para início e fim */\n",
        "typedef struct _linked_list {\n",
        "    SNode *begin;\n",
        "    SNode *end;\n",
        "} LinkedList;\n",
        "\n",
        "/* criação e verificação */\n",
        "LinkedList* LinkedList_create(void);\n",
        "bool        LinkedList_is_empty(const LinkedList *L);\n",
        "size_t      LinkedList_size(const LinkedList *L);\n",
        "\n",
        "/* inserções */\n",
        "void LinkedList_add_first(LinkedList *L, int val);\n",
        "void LinkedList_add_last (LinkedList *L, int val);\n",
        "bool LinkedList_add_at   (LinkedList *L, int val, size_t index);\n",
        "\n",
        "/* remoções */\n",
        "bool LinkedList_remove_first(LinkedList *L, int *out_val);\n",
        "bool LinkedList_remove_last (LinkedList *L, int *out_val);\n",
        "bool LinkedList_remove_at   (LinkedList *L, size_t index, int *out_val);\n",
        "bool LinkedList_remove_val  (LinkedList *L, int val);\n",
        "\n",
        "/* utilitários */\n",
        "void LinkedList_print(const LinkedList *L);\n",
        "void LinkedList_destroy(LinkedList *L);\n",
        "\n",
        "#endif /* LINKED_LIST_H */\n"
      ],
      "metadata": {
        "colab": {
          "base_uri": "https://localhost:8080/"
        },
        "id": "biT5BXKXheBd",
        "outputId": "c92b95ae-69c4-4412-845c-0560c18c3af1"
      },
      "execution_count": null,
      "outputs": [
        {
          "output_type": "stream",
          "name": "stdout",
          "text": [
            "Overwriting linked_list.h\n"
          ]
        }
      ]
    },
    {
      "cell_type": "code",
      "source": [
        "%%writefile linked_list.c\n",
        "#include \"linked_list.h\"\n",
        "#include <stdio.h>\n",
        "#include <stdlib.h>\n",
        "#include <stdbool.h>\n",
        "\n",
        "/* auxiliar: cria nó (privado ao .c) */\n",
        "static SNode* SNode_create(int val){\n",
        "    SNode *n = (SNode*) calloc(1, sizeof(SNode));\n",
        "    if (!n){ perror(\"calloc\"); exit(EXIT_FAILURE); }\n",
        "    n->val = val;\n",
        "    n->next = NULL;\n",
        "    return n;\n",
        "}\n",
        "\n",
        "LinkedList* LinkedList_create(void){\n",
        "    LinkedList *L = (LinkedList*) calloc(1, sizeof(LinkedList));\n",
        "    if (!L){ perror(\"calloc\"); exit(EXIT_FAILURE); }\n",
        "    L->begin = NULL;\n",
        "    L->end   = NULL;\n",
        "    return L;\n",
        "}\n",
        "\n",
        "bool LinkedList_is_empty(const LinkedList *L){\n",
        "    return !L || !L->begin;\n",
        "}\n",
        "\n",
        "size_t LinkedList_size(const LinkedList *L){\n",
        "    size_t n = 0;\n",
        "    for (SNode *p = L ? L->begin : NULL; p; p = p->next) n++;\n",
        "    return n;\n",
        "}\n",
        "\n",
        "void LinkedList_add_first(LinkedList *L, int val){\n",
        "    SNode *p = SNode_create(val);\n",
        "    if (LinkedList_is_empty(L)){\n",
        "        L->begin = L->end = p;\n",
        "    } else {\n",
        "        p->next = L->begin;\n",
        "        L->begin = p;\n",
        "    }\n",
        "}\n",
        "\n",
        "void LinkedList_add_last(LinkedList *L, int val){\n",
        "    SNode *p = SNode_create(val);\n",
        "    if (LinkedList_is_empty(L)){\n",
        "        L->begin = L->end = p;\n",
        "    } else {\n",
        "        L->end->next = p;\n",
        "        L->end = p;\n",
        "    }\n",
        "}\n",
        "\n",
        "bool LinkedList_add_at(LinkedList *L, int val, size_t index){\n",
        "    size_t n = LinkedList_size(L);\n",
        "    if (index > n) return false;\n",
        "    if (index == 0){ LinkedList_add_first(L, val); return true; }\n",
        "    if (index == n){ LinkedList_add_last (L, val); return true; }\n",
        "\n",
        "    SNode *prev = L->begin;\n",
        "    for (size_t i = 0; i < index - 1; i++) prev = prev->next;\n",
        "    SNode *p = SNode_create(val);\n",
        "    p->next = prev->next;\n",
        "    prev->next = p;\n",
        "    return true;\n",
        "}\n",
        "\n",
        "/* print detalhado: valor, endereço, ponteiro e alvo */\n",
        "void LinkedList_print(const LinkedList *L){\n",
        "    printf(\"\\n--- Estado da Lista ---\\n\");\n",
        "    if (!L){\n",
        "        printf(\"(Lista inexistente)\\n\");\n",
        "        return;\n",
        "    }\n",
        "\n",
        "    int idx = 0;\n",
        "    for (SNode *p = L->begin; p; p = p->next, idx++){\n",
        "        printf(\"No[%d] @%p: val=%d | &val=%p | &next=%p | next=%p\\n\",\n",
        "               idx,\n",
        "               (void*)p,\n",
        "               p->val,\n",
        "               (void*)&p->val,\n",
        "               (void*)&p->next,\n",
        "               (void*)p->next);\n",
        "    }\n",
        "\n",
        "    printf(\"begin=%p\", (void*)L->begin);\n",
        "    if (L->begin) printf(\" (val=%d)\", L->begin->val);\n",
        "\n",
        "    printf(\" | end=%p\", (void*)L->end);\n",
        "    if (L->end) printf(\" (val=%d)\", L->end->val);\n",
        "\n",
        "    printf(\" | size=%zu\\n\", LinkedList_size(L));\n",
        "    printf(\"-----------------------\\n\\n\");\n",
        "}\n",
        "\n",
        "void LinkedList_destroy(LinkedList *L){\n",
        "    if (!L) return;\n",
        "\n",
        "    SNode *p = L->begin;\n",
        "    while (p){\n",
        "        SNode *tmp = p->next;\n",
        "        free(p);\n",
        "        p = tmp;\n",
        "    }\n",
        "\n",
        "    free(L);\n",
        "}\n",
        "\n",
        "/* Remoções */\n",
        "bool LinkedList_remove_first(LinkedList *L, int *out_val){\n",
        "    if (LinkedList_is_empty(L)) return false;\n",
        "    SNode *p = L->begin;\n",
        "    L->begin = p->next;\n",
        "    if (L->begin == NULL) {   // se esvaziou, atualiza end\n",
        "        L->end = NULL;\n",
        "    }\n",
        "    if (out_val) *out_val = p->val;\n",
        "    free(p);\n",
        "    return true;\n",
        "}\n",
        "\n",
        "bool LinkedList_remove_last(LinkedList *L, int *out_val){\n",
        "    if (LinkedList_is_empty(L)) return false;\n",
        "    SNode *prev = NULL;\n",
        "    SNode *cur = L->begin;\n",
        "    while (cur->next != NULL){\n",
        "        prev = cur;\n",
        "        cur = cur->next;\n",
        "    }\n",
        "    if (prev == NULL){\n",
        "        /* Havia apenas um elemento */\n",
        "        L->begin = L->end = NULL;\n",
        "    } else {\n",
        "        prev->next = NULL;\n",
        "        L->end = prev;  // atualiza end\n",
        "    }\n",
        "    if (out_val) *out_val = cur->val;\n",
        "    free(cur);\n",
        "    return true;\n",
        "}\n",
        "\n",
        "bool LinkedList_remove_at(LinkedList *L, size_t index, int *out_val){\n",
        "    size_t n = LinkedList_size(L);\n",
        "    if (index >= n) return false;\n",
        "    if (index == 0) return LinkedList_remove_first(L, out_val);\n",
        "    if (index == n-1) return LinkedList_remove_last(L, out_val);\n",
        "\n",
        "    SNode *prev = L->begin;\n",
        "    for (size_t i = 0; i < index - 1; i++) prev = prev->next;\n",
        "    SNode *rem = prev->next;\n",
        "    prev->next = rem->next;\n",
        "    if (out_val) *out_val = rem->val;\n",
        "    free(rem);\n",
        "    return true;\n",
        "}\n",
        "\n",
        "bool LinkedList_remove_val(LinkedList *L, int val){\n",
        "    if (LinkedList_is_empty(L)) return false;\n",
        "    if (L->begin->val == val){\n",
        "        return LinkedList_remove_first(L, NULL);\n",
        "    }\n",
        "    SNode *prev = L->begin;\n",
        "    SNode *cur = L->begin->next;\n",
        "    while (cur != NULL && cur->val != val){\n",
        "        prev = cur;\n",
        "        cur = cur->next;\n",
        "    }\n",
        "    if (cur == NULL) return false;\n",
        "    prev->next = cur->next;\n",
        "    if (cur == L->end) {  // se removendo o último\n",
        "        L->end = prev;\n",
        "    }\n",
        "    free(cur);\n",
        "    return true;\n",
        "}\n"
      ],
      "metadata": {
        "colab": {
          "base_uri": "https://localhost:8080/"
        },
        "id": "W3Da9vgvhd7p",
        "outputId": "1be225f6-6a32-4b2d-d12b-7bf270fd9af0"
      },
      "execution_count": null,
      "outputs": [
        {
          "output_type": "stream",
          "name": "stdout",
          "text": [
            "Overwriting linked_list.c\n"
          ]
        }
      ]
    },
    {
      "cell_type": "code",
      "source": [
        "%%writefile main.c\n",
        "#include <stdio.h>\n",
        "#include <stdlib.h>\n",
        "#include \"linked_list.h\"\n",
        "\n",
        "static void print_header(const char *title, LinkedList **ppL){\n",
        "    printf(\"\\n========== %s ==========\\n\", title);\n",
        "    printf(\"&MinhaLista (endereco da VAR ponteiro) = %p\\n\", (void*)ppL);\n",
        "    printf(\"MinhaLista  (endereco da struct)       = %p\\n\", (void*)(*ppL));\n",
        "    if (*ppL){\n",
        "        printf(\"&begin = %p | begin = %p\", (void*)&((*ppL)->begin), (void*)(*ppL)->begin);\n",
        "        if ((*ppL)->begin) printf(\" (val=%d)\", (*ppL)->begin->val);\n",
        "        printf(\"\\n&end   = %p | end   = %p\", (void*)&((*ppL)->end),   (void*)(*ppL)->end);\n",
        "        if ((*ppL)->end)   printf(\" (val=%d)\", (*ppL)->end->val);\n",
        "        printf(\"\\n\");\n",
        "    }\n",
        "}\n",
        "\n",
        "static void try_remove_first(LinkedList *L){\n",
        "    int out;\n",
        "    if (LinkedList_remove_first(L, &out))\n",
        "        printf(\"remove_first: removido %d\\n\", out);\n",
        "    else\n",
        "        printf(\"remove_first: lista vazia\\n\");\n",
        "    LinkedList_print(L);\n",
        "}\n",
        "\n",
        "static void try_remove_last(LinkedList *L){\n",
        "    int out;\n",
        "    if (LinkedList_remove_last(L, &out))\n",
        "        printf(\"remove_last: removido %d\\n\", out);\n",
        "    else\n",
        "        printf(\"remove_last: lista vazia\\n\");\n",
        "    LinkedList_print(L);\n",
        "}\n",
        "\n",
        "static void try_remove_at(LinkedList *L, size_t idx){\n",
        "    int out;\n",
        "    if (LinkedList_remove_at(L, idx, &out))\n",
        "        printf(\"remove_at(%zu): removido %d\\n\", idx, out);\n",
        "    else\n",
        "        printf(\"remove_at(%zu): indice invalido\\n\", idx);\n",
        "    LinkedList_print(L);\n",
        "}\n",
        "\n",
        "static void try_remove_val(LinkedList *L, int val){\n",
        "    if (LinkedList_remove_val(L, val))\n",
        "        printf(\"remove_val(%d): removido\\n\", val);\n",
        "    else\n",
        "        printf(\"remove_val(%d): nao encontrado\\n\", val);\n",
        "    LinkedList_print(L);\n",
        "}\n",
        "\n",
        "int main(void){\n",
        "    /* Criar lista */\n",
        "    LinkedList *MinhaLista = LinkedList_create();\n",
        "    print_header(\"Estado inicial (lista criada, vazia)\", &MinhaLista);\n",
        "    LinkedList_print(MinhaLista);\n",
        "\n",
        "    /* Inserções */\n",
        "    printf(\"\\n-- Inserir no comeco: 10 --\\n\");\n",
        "    LinkedList_add_first(MinhaLista, 10);\n",
        "    LinkedList_print(MinhaLista);\n",
        "\n",
        "    printf(\"\\n-- Inserir no final (usando end): 30 --\\n\");\n",
        "    LinkedList_add_last(MinhaLista, 30);\n",
        "    LinkedList_print(MinhaLista);\n",
        "\n",
        "    printf(\"\\n-- Inserir no indice 1: 20 --\\n\");\n",
        "    LinkedList_add_at(MinhaLista, 20, 1); // lista: 10 -> 20 -> 30\n",
        "    LinkedList_print(MinhaLista);\n",
        "\n",
        "    printf(\"\\n-- Inserir no final (usando end): 40 --\\n\");\n",
        "    LinkedList_add_last(MinhaLista, 40); // lista: 10 -> 20 -> 30 -> 40\n",
        "    LinkedList_print(MinhaLista);\n",
        "\n",
        "    /* Remoções variadas checando consistência do end */\n",
        "    try_remove_first(MinhaLista);     // remove 10\n",
        "    try_remove_last(MinhaLista);      // remove 40\n",
        "    try_remove_at(MinhaLista, 1);     // se existir, remove no índice 1\n",
        "    try_remove_val(MinhaLista, 999);  // não existe\n",
        "\n",
        "    /* Esvaziar e conferir end */\n",
        "    printf(\"\\n-- Esvaziando completamente --\\n\");\n",
        "    while (!LinkedList_is_empty(MinhaLista)) {\n",
        "        try_remove_first(MinhaLista);\n",
        "    }\n",
        "\n",
        "    print_header(\"Depois de esvaziar\", &MinhaLista);\n",
        "    LinkedList_print(MinhaLista);\n",
        "\n",
        "    /* Destruir */\n",
        "    LinkedList_destroy(MinhaLista);\n",
        "    MinhaLista = NULL;\n",
        "    print_header(\"Depois de destruir (ponteiro local setado para NULL)\", &MinhaLista);\n",
        "\n",
        "    return 0;\n",
        "}\n"
      ],
      "metadata": {
        "colab": {
          "base_uri": "https://localhost:8080/"
        },
        "id": "yviodSeohbBs",
        "outputId": "dec77b4c-8cd5-45e9-ff82-c640c19392cb"
      },
      "execution_count": null,
      "outputs": [
        {
          "output_type": "stream",
          "name": "stdout",
          "text": [
            "Overwriting main.c\n"
          ]
        }
      ]
    },
    {
      "cell_type": "code",
      "source": [
        "!gcc -Wall -Wextra -std=c11 main.c linked_list.c -o programa && ./programa"
      ],
      "metadata": {
        "colab": {
          "base_uri": "https://localhost:8080/"
        },
        "outputId": "da97c8cf-7b7f-4707-9f60-54b55086fd6e",
        "id": "HtvxPn4Nhyij"
      },
      "execution_count": null,
      "outputs": [
        {
          "output_type": "stream",
          "name": "stdout",
          "text": [
            "\n",
            "========== Estado inicial (lista criada, vazia) ==========\n",
            "&MinhaLista (endereco da VAR ponteiro) = 0x7ffe0f911450\n",
            "MinhaLista  (endereco da struct)       = 0x5d004f2e52a0\n",
            "&begin = 0x5d004f2e52a0 | begin = (nil)\n",
            "&end   = 0x5d004f2e52a8 | end   = (nil)\n",
            "\n",
            "--- Estado da Lista ---\n",
            "begin=(nil) | end=(nil) | size=0\n",
            "-----------------------\n",
            "\n",
            "\n",
            "-- Inserir no comeco: 10 --\n",
            "\n",
            "--- Estado da Lista ---\n",
            "No[0] @0x5d004f2e56d0: val=10 | &val=0x5d004f2e56d0 | &next=0x5d004f2e56d8 | next=(nil)\n",
            "begin=0x5d004f2e56d0 (val=10) | end=0x5d004f2e56d0 (val=10) | size=1\n",
            "-----------------------\n",
            "\n",
            "\n",
            "-- Inserir no final (usando end): 30 --\n",
            "\n",
            "--- Estado da Lista ---\n",
            "No[0] @0x5d004f2e56d0: val=10 | &val=0x5d004f2e56d0 | &next=0x5d004f2e56d8 | next=0x5d004f2e56f0\n",
            "No[1] @0x5d004f2e56f0: val=30 | &val=0x5d004f2e56f0 | &next=0x5d004f2e56f8 | next=(nil)\n",
            "begin=0x5d004f2e56d0 (val=10) | end=0x5d004f2e56f0 (val=30) | size=2\n",
            "-----------------------\n",
            "\n",
            "\n",
            "-- Inserir no indice 1: 20 --\n",
            "\n",
            "--- Estado da Lista ---\n",
            "No[0] @0x5d004f2e56d0: val=10 | &val=0x5d004f2e56d0 | &next=0x5d004f2e56d8 | next=0x5d004f2e5710\n",
            "No[1] @0x5d004f2e5710: val=20 | &val=0x5d004f2e5710 | &next=0x5d004f2e5718 | next=0x5d004f2e56f0\n",
            "No[2] @0x5d004f2e56f0: val=30 | &val=0x5d004f2e56f0 | &next=0x5d004f2e56f8 | next=(nil)\n",
            "begin=0x5d004f2e56d0 (val=10) | end=0x5d004f2e56f0 (val=30) | size=3\n",
            "-----------------------\n",
            "\n",
            "\n",
            "-- Inserir no final (usando end): 40 --\n",
            "\n",
            "--- Estado da Lista ---\n",
            "No[0] @0x5d004f2e56d0: val=10 | &val=0x5d004f2e56d0 | &next=0x5d004f2e56d8 | next=0x5d004f2e5710\n",
            "No[1] @0x5d004f2e5710: val=20 | &val=0x5d004f2e5710 | &next=0x5d004f2e5718 | next=0x5d004f2e56f0\n",
            "No[2] @0x5d004f2e56f0: val=30 | &val=0x5d004f2e56f0 | &next=0x5d004f2e56f8 | next=0x5d004f2e5730\n",
            "No[3] @0x5d004f2e5730: val=40 | &val=0x5d004f2e5730 | &next=0x5d004f2e5738 | next=(nil)\n",
            "begin=0x5d004f2e56d0 (val=10) | end=0x5d004f2e5730 (val=40) | size=4\n",
            "-----------------------\n",
            "\n",
            "remove_first: removido 10\n",
            "\n",
            "--- Estado da Lista ---\n",
            "No[0] @0x5d004f2e5710: val=20 | &val=0x5d004f2e5710 | &next=0x5d004f2e5718 | next=0x5d004f2e56f0\n",
            "No[1] @0x5d004f2e56f0: val=30 | &val=0x5d004f2e56f0 | &next=0x5d004f2e56f8 | next=0x5d004f2e5730\n",
            "No[2] @0x5d004f2e5730: val=40 | &val=0x5d004f2e5730 | &next=0x5d004f2e5738 | next=(nil)\n",
            "begin=0x5d004f2e5710 (val=20) | end=0x5d004f2e5730 (val=40) | size=3\n",
            "-----------------------\n",
            "\n",
            "remove_last: removido 40\n",
            "\n",
            "--- Estado da Lista ---\n",
            "No[0] @0x5d004f2e5710: val=20 | &val=0x5d004f2e5710 | &next=0x5d004f2e5718 | next=0x5d004f2e56f0\n",
            "No[1] @0x5d004f2e56f0: val=30 | &val=0x5d004f2e56f0 | &next=0x5d004f2e56f8 | next=(nil)\n",
            "begin=0x5d004f2e5710 (val=20) | end=0x5d004f2e56f0 (val=30) | size=2\n",
            "-----------------------\n",
            "\n",
            "remove_at(1): removido 30\n",
            "\n",
            "--- Estado da Lista ---\n",
            "No[0] @0x5d004f2e5710: val=20 | &val=0x5d004f2e5710 | &next=0x5d004f2e5718 | next=(nil)\n",
            "begin=0x5d004f2e5710 (val=20) | end=0x5d004f2e5710 (val=20) | size=1\n",
            "-----------------------\n",
            "\n",
            "remove_val(999): nao encontrado\n",
            "\n",
            "--- Estado da Lista ---\n",
            "No[0] @0x5d004f2e5710: val=20 | &val=0x5d004f2e5710 | &next=0x5d004f2e5718 | next=(nil)\n",
            "begin=0x5d004f2e5710 (val=20) | end=0x5d004f2e5710 (val=20) | size=1\n",
            "-----------------------\n",
            "\n",
            "\n",
            "-- Esvaziando completamente --\n",
            "remove_first: removido 20\n",
            "\n",
            "--- Estado da Lista ---\n",
            "begin=(nil) | end=(nil) | size=0\n",
            "-----------------------\n",
            "\n",
            "\n",
            "========== Depois de esvaziar ==========\n",
            "&MinhaLista (endereco da VAR ponteiro) = 0x7ffe0f911450\n",
            "MinhaLista  (endereco da struct)       = 0x5d004f2e52a0\n",
            "&begin = 0x5d004f2e52a0 | begin = (nil)\n",
            "&end   = 0x5d004f2e52a8 | end   = (nil)\n",
            "\n",
            "--- Estado da Lista ---\n",
            "begin=(nil) | end=(nil) | size=0\n",
            "-----------------------\n",
            "\n",
            "\n",
            "========== Depois de destruir (ponteiro local setado para NULL) ==========\n",
            "&MinhaLista (endereco da VAR ponteiro) = 0x7ffe0f911450\n",
            "MinhaLista  (endereco da struct)       = (nil)\n"
          ]
        }
      ]
    },
    {
      "cell_type": "markdown",
      "source": [
        "# Operações de Busca"
      ],
      "metadata": {
        "id": "vAaS9jtGhCHu"
      }
    },
    {
      "cell_type": "code",
      "source": [
        "%%writefile linked_list.h\n",
        "#ifndef LINKED_LIST_H\n",
        "#define LINKED_LIST_H\n",
        "\n",
        "#include <stdbool.h>\n",
        "#include <stddef.h>\n",
        "\n",
        "/* Nó da lista */\n",
        "typedef struct _snode {\n",
        "    int val;\n",
        "    struct _snode *next;\n",
        "} SNode;\n",
        "\n",
        "/* Lista com ponteiros para início e fim */\n",
        "typedef struct _linked_list {\n",
        "    SNode *begin;\n",
        "    SNode *end;\n",
        "} LinkedList;\n",
        "\n",
        "/* criação e verificação */\n",
        "LinkedList* LinkedList_create(void);\n",
        "bool        LinkedList_is_empty(const LinkedList *L);\n",
        "size_t      LinkedList_size(const LinkedList *L);\n",
        "\n",
        "/* inserções */\n",
        "void LinkedList_add_first(LinkedList *L, int val);\n",
        "void LinkedList_add_last (LinkedList *L, int val);\n",
        "bool LinkedList_add_at   (LinkedList *L, int val, size_t index);\n",
        "\n",
        "/* remoções */\n",
        "bool LinkedList_remove_first(LinkedList *L, int *out_val);\n",
        "bool LinkedList_remove_last (LinkedList *L, int *out_val);\n",
        "bool LinkedList_remove_at   (LinkedList *L, size_t index, int *out_val);\n",
        "bool LinkedList_remove_val  (LinkedList *L, int val);\n",
        "\n",
        "/* busca */\n",
        "SNode* LinkedList_search   (const LinkedList *L, int val);\n",
        "long   LinkedList_index_of (const LinkedList *L, int val);\n",
        "\n",
        "/* utilitários */\n",
        "void LinkedList_print(const LinkedList *L);\n",
        "void LinkedList_destroy(LinkedList *L);\n",
        "\n",
        "#endif\n"
      ],
      "metadata": {
        "colab": {
          "base_uri": "https://localhost:8080/"
        },
        "id": "-PNFJuykhHBW",
        "outputId": "571eb337-e2a3-4310-ba94-6ceb34e2cd5b"
      },
      "execution_count": null,
      "outputs": [
        {
          "output_type": "stream",
          "name": "stdout",
          "text": [
            "Overwriting linked_list.h\n"
          ]
        }
      ]
    },
    {
      "cell_type": "code",
      "source": [
        "%%writefile linked_list.c\n",
        "#include \"linked_list.h\"\n",
        "#include <stdio.h>\n",
        "#include <stdlib.h>\n",
        "#include <stdbool.h>\n",
        "\n",
        "/* auxiliar: cria nó (privado ao .c) */\n",
        "static SNode* SNode_create(int val){\n",
        "    SNode *n = (SNode*) calloc(1, sizeof(SNode));\n",
        "    if (!n){ perror(\"calloc\"); exit(EXIT_FAILURE); }\n",
        "    n->val = val;\n",
        "    n->next = NULL;\n",
        "    return n;\n",
        "}\n",
        "\n",
        "LinkedList* LinkedList_create(void){\n",
        "    LinkedList *L = (LinkedList*) calloc(1, sizeof(LinkedList));\n",
        "    if (!L){ perror(\"calloc\"); exit(EXIT_FAILURE); }\n",
        "    L->begin = NULL;\n",
        "    L->end   = NULL;\n",
        "    return L;\n",
        "}\n",
        "\n",
        "bool LinkedList_is_empty(const LinkedList *L){\n",
        "    return !L || !L->begin;\n",
        "}\n",
        "\n",
        "size_t LinkedList_size(const LinkedList *L){\n",
        "    size_t n = 0;\n",
        "    for (SNode *p = L ? L->begin : NULL; p; p = p->next) n++;\n",
        "    return n;\n",
        "}\n",
        "\n",
        "void LinkedList_add_first(LinkedList *L, int val){\n",
        "    SNode *p = SNode_create(val);\n",
        "    if (LinkedList_is_empty(L)){\n",
        "        L->begin = L->end = p;\n",
        "    } else {\n",
        "        p->next = L->begin;\n",
        "        L->begin = p;\n",
        "    }\n",
        "}\n",
        "\n",
        "void LinkedList_add_last(LinkedList *L, int val){\n",
        "    SNode *p = SNode_create(val);\n",
        "    if (LinkedList_is_empty(L)){\n",
        "        L->begin = L->end = p;\n",
        "    } else {\n",
        "        L->end->next = p;\n",
        "        L->end = p;\n",
        "    }\n",
        "}\n",
        "\n",
        "bool LinkedList_add_at(LinkedList *L, int val, size_t index){\n",
        "    size_t n = LinkedList_size(L);\n",
        "    if (index > n) return false;\n",
        "    if (index == 0){ LinkedList_add_first(L, val); return true; }\n",
        "    if (index == n){ LinkedList_add_last (L, val); return true; }\n",
        "\n",
        "    SNode *prev = L->begin;\n",
        "    for (size_t i = 0; i < index - 1; i++) prev = prev->next;\n",
        "    SNode *p = SNode_create(val);\n",
        "    p->next = prev->next;\n",
        "    prev->next = p;\n",
        "    return true;\n",
        "}\n",
        "\n",
        "/* print detalhado: valor, endereço, ponteiro e alvo */\n",
        "void LinkedList_print(const LinkedList *L){\n",
        "    printf(\"\\n--- Estado da Lista ---\\n\");\n",
        "    if (!L){\n",
        "        printf(\"(Lista inexistente)\\n\");\n",
        "        return;\n",
        "    }\n",
        "\n",
        "    int idx = 0;\n",
        "    for (SNode *p = L->begin; p; p = p->next, idx++){\n",
        "        printf(\"No[%d] @%p: val=%d | &val=%p | &next=%p | next=%p\\n\",\n",
        "               idx,\n",
        "               (void*)p,\n",
        "               p->val,\n",
        "               (void*)&p->val,\n",
        "               (void*)&p->next,\n",
        "               (void*)p->next);\n",
        "    }\n",
        "\n",
        "    printf(\"begin=%p\", (void*)L->begin);\n",
        "    if (L->begin) printf(\" (val=%d)\", L->begin->val);\n",
        "\n",
        "    printf(\" | end=%p\", (void*)L->end);\n",
        "    if (L->end) printf(\" (val=%d)\", L->end->val);\n",
        "\n",
        "    printf(\" | size=%zu\\n\", LinkedList_size(L));\n",
        "    printf(\"-----------------------\\n\\n\");\n",
        "}\n",
        "\n",
        "void LinkedList_destroy(LinkedList *L){\n",
        "    if (!L) return;\n",
        "\n",
        "    SNode *p = L->begin;\n",
        "    while (p){\n",
        "        SNode *tmp = p->next;\n",
        "        free(p);\n",
        "        p = tmp;\n",
        "    }\n",
        "\n",
        "    free(L);\n",
        "}\n",
        "\n",
        "/* Remoções */\n",
        "bool LinkedList_remove_first(LinkedList *L, int *out_val){\n",
        "    if (LinkedList_is_empty(L)) return false;\n",
        "    SNode *p = L->begin;\n",
        "    L->begin = p->next;\n",
        "    if (L->begin == NULL) {   // se esvaziou, atualiza end\n",
        "        L->end = NULL;\n",
        "    }\n",
        "    if (out_val) *out_val = p->val;\n",
        "    free(p);\n",
        "    return true;\n",
        "}\n",
        "\n",
        "bool LinkedList_remove_last(LinkedList *L, int *out_val){\n",
        "    if (LinkedList_is_empty(L)) return false;\n",
        "    SNode *prev = NULL;\n",
        "    SNode *cur = L->begin;\n",
        "    while (cur->next != NULL){\n",
        "        prev = cur;\n",
        "        cur = cur->next;\n",
        "    }\n",
        "    if (prev == NULL){\n",
        "        /* Havia apenas um elemento */\n",
        "        L->begin = L->end = NULL;\n",
        "    } else {\n",
        "        prev->next = NULL;\n",
        "        L->end = prev;  // atualiza end\n",
        "    }\n",
        "    if (out_val) *out_val = cur->val;\n",
        "    free(cur);\n",
        "    return true;\n",
        "}\n",
        "\n",
        "bool LinkedList_remove_at(LinkedList *L, size_t index, int *out_val){\n",
        "    size_t n = LinkedList_size(L);\n",
        "    if (index >= n) return false;\n",
        "    if (index == 0) return LinkedList_remove_first(L, out_val);\n",
        "    if (index == n-1) return LinkedList_remove_last(L, out_val);\n",
        "\n",
        "    SNode *prev = L->begin;\n",
        "    for (size_t i = 0; i < index - 1; i++) prev = prev->next;\n",
        "    SNode *rem = prev->next;\n",
        "    prev->next = rem->next;\n",
        "    if (out_val) *out_val = rem->val;\n",
        "    free(rem);\n",
        "    return true;\n",
        "}\n",
        "\n",
        "bool LinkedList_remove_val(LinkedList *L, int val){\n",
        "    if (LinkedList_is_empty(L)) return false;\n",
        "    if (L->begin->val == val){\n",
        "        return LinkedList_remove_first(L, NULL);\n",
        "    }\n",
        "    SNode *prev = L->begin;\n",
        "    SNode *cur = L->begin->next;\n",
        "    while (cur != NULL && cur->val != val){\n",
        "        prev = cur;\n",
        "        cur = cur->next;\n",
        "    }\n",
        "    if (cur == NULL) return false;\n",
        "    prev->next = cur->next;\n",
        "    if (cur == L->end) {  // se removendo o último\n",
        "        L->end = prev;\n",
        "    }\n",
        "    free(cur);\n",
        "    return true;\n",
        "}\n",
        "\n",
        "\n",
        "/* Busca */\n",
        "SNode* LinkedList_search(const LinkedList *L, int val){\n",
        "    if (!L) return NULL;\n",
        "    for (SNode *p = L->begin; p != NULL; p = p->next){\n",
        "        if (p->val == val) return p;\n",
        "    }\n",
        "    return NULL;\n",
        "}\n",
        "\n",
        "long LinkedList_index_of(const LinkedList *L, int val){\n",
        "    if (!L) return -1;\n",
        "    long i = 0;\n",
        "    for (SNode *p = L->begin; p != NULL; p = p->next, i++){\n",
        "        if (p->val == val) return i;\n",
        "    }\n",
        "    return -1;  // não encontrado\n",
        "}\n"
      ],
      "metadata": {
        "colab": {
          "base_uri": "https://localhost:8080/"
        },
        "id": "5n1WUQdJhLhR",
        "outputId": "e7436adc-7b28-4aca-f6c3-d1981eb1e0a1"
      },
      "execution_count": null,
      "outputs": [
        {
          "output_type": "stream",
          "name": "stdout",
          "text": [
            "Overwriting linked_list.c\n"
          ]
        }
      ]
    },
    {
      "cell_type": "code",
      "source": [
        "%%writefile main.c\n",
        "#include <stdio.h>\n",
        "#include <stdlib.h>\n",
        "#include \"linked_list.h\"\n",
        "\n",
        "static void print_header(const char *title, LinkedList **ppL){\n",
        "    printf(\"\\n========== %s ==========\\n\", title);\n",
        "    printf(\"&MinhaLista (endereco da VAR ponteiro) = %p\\n\", (void*)ppL);\n",
        "    printf(\"MinhaLista  (endereco da struct)       = %p\\n\", (void*)(*ppL));\n",
        "    if (*ppL){\n",
        "        printf(\"&begin = %p | begin = %p\", (void*)&((*ppL)->begin), (void*)(*ppL)->begin);\n",
        "        if ((*ppL)->begin) printf(\" (val=%d)\", (*ppL)->begin->val);\n",
        "        printf(\"\\n&end   = %p | end   = %p\", (void*)&((*ppL)->end),   (void*)(*ppL)->end);\n",
        "        if ((*ppL)->end)   printf(\" (val=%d)\", (*ppL)->end->val);\n",
        "        printf(\"\\n\");\n",
        "    }\n",
        "}\n",
        "\n",
        "int main(void){\n",
        "    /* Criar lista */\n",
        "    LinkedList *MinhaLista = LinkedList_create();\n",
        "    print_header(\"Estado inicial (lista criada, vazia)\", &MinhaLista);\n",
        "    LinkedList_print(MinhaLista);\n",
        "\n",
        "    /* Inserções */\n",
        "       /* Testes de busca */\n",
        "    printf(\"\\n-- Testes de busca --\\n\");\n",
        "    LinkedList_add_last(MinhaLista, 100);\n",
        "    LinkedList_add_last(MinhaLista, 200);\n",
        "    LinkedList_add_last(MinhaLista, 300);\n",
        "    LinkedList_print(MinhaLista);\n",
        "\n",
        "    int val = 200;\n",
        "    SNode *found = LinkedList_search(MinhaLista, val);\n",
        "    if (found)\n",
        "        printf(\"Valor %d encontrado no endereço %p\\n\", val, (void*)found);\n",
        "    else\n",
        "        printf(\"Valor %d não encontrado\\n\", val);\n",
        "\n",
        "    long idx = LinkedList_index_of(MinhaLista, 300);\n",
        "    if (idx >= 0)\n",
        "        printf(\"Valor 300 encontrado no índice %ld\\n\", idx);\n",
        "    else\n",
        "        printf(\"Valor 300 não encontrado\\n\");\n",
        "}"
      ],
      "metadata": {
        "colab": {
          "base_uri": "https://localhost:8080/"
        },
        "id": "aVck10EGhLDW",
        "outputId": "35de0f8e-61a7-42c7-af7a-099503bb9a95"
      },
      "execution_count": null,
      "outputs": [
        {
          "output_type": "stream",
          "name": "stdout",
          "text": [
            "Overwriting main.c\n"
          ]
        }
      ]
    },
    {
      "cell_type": "code",
      "source": [
        "!gcc -Wall -Wextra -std=c11 main.c linked_list.c -o programa && ./programa"
      ],
      "metadata": {
        "colab": {
          "base_uri": "https://localhost:8080/"
        },
        "outputId": "cd632478-f7a0-4115-d060-63e8dc1221d9",
        "id": "wmIENjLfh5cG"
      },
      "execution_count": null,
      "outputs": [
        {
          "output_type": "stream",
          "name": "stdout",
          "text": [
            "\n",
            "========== Estado inicial (lista criada, vazia) ==========\n",
            "&MinhaLista (endereco da VAR ponteiro) = 0x7ffcf65ef650\n",
            "MinhaLista  (endereco da struct)       = 0x5b200caf12a0\n",
            "&begin = 0x5b200caf12a0 | begin = (nil)\n",
            "&end   = 0x5b200caf12a8 | end   = (nil)\n",
            "\n",
            "--- Estado da Lista ---\n",
            "begin=(nil) | end=(nil) | size=0\n",
            "-----------------------\n",
            "\n",
            "\n",
            "-- Testes de busca --\n",
            "\n",
            "--- Estado da Lista ---\n",
            "No[0] @0x5b200caf16d0: val=100 | &val=0x5b200caf16d0 | &next=0x5b200caf16d8 | next=0x5b200caf16f0\n",
            "No[1] @0x5b200caf16f0: val=200 | &val=0x5b200caf16f0 | &next=0x5b200caf16f8 | next=0x5b200caf1710\n",
            "No[2] @0x5b200caf1710: val=300 | &val=0x5b200caf1710 | &next=0x5b200caf1718 | next=(nil)\n",
            "begin=0x5b200caf16d0 (val=100) | end=0x5b200caf1710 (val=300) | size=3\n",
            "-----------------------\n",
            "\n",
            "Valor 200 encontrado no endereço 0x5b200caf16f0\n",
            "Valor 300 encontrado no índice 2\n"
          ]
        }
      ]
    },
    {
      "cell_type": "markdown",
      "metadata": {
        "id": "DR3tzM0ywION"
      },
      "source": [
        "# 🔗 Concatenar Duas Listas (Seção Autônoma)\n",
        "\n",
        "Esta subseção adiciona a operação de **concatenar** duas listas encadeadas simples.\n",
        "- Se `L1` estiver vazia, o resultado será apenas `L2`.\n",
        "- Se `L2` estiver vazia, `L1` permanece inalterada.\n",
        "- Caso ambas tenham elementos, ligamos `L1->end->next = L2->begin` e atualizamos `L1->end = L2->end`.\n",
        "- Ao final, **esvaziamos `L2`** para não compartilhar nós entre duas listas.\n",
        "\n",
        "> Os arquivos gerados aqui são independentes (`concat_ll.h`, `concat_ll.c`, `main_concat.c`) para você compilar/rodar no Colab."
      ]
    },
    {
      "cell_type": "code",
      "metadata": {
        "colab": {
          "base_uri": "https://localhost:8080/"
        },
        "id": "0ihh3TnbwION",
        "outputId": "11faa107-cddb-4af5-a832-fe305a56f108"
      },
      "execution_count": null,
      "outputs": [
        {
          "output_type": "stream",
          "name": "stdout",
          "text": [
            "Writing concat_ll.h\n"
          ]
        }
      ],
      "source": [
        "%%writefile concat_ll.h\n",
        "#ifndef CONCAT_LL_H\n",
        "#define CONCAT_LL_H\n",
        "\n",
        "#include <stdbool.h>\n",
        "#include <stddef.h>\n",
        "\n",
        "typedef struct _snode {\n",
        "    int val;\n",
        "    struct _snode *next;\n",
        "} SNode;\n",
        "\n",
        "typedef struct _linked_list {\n",
        "    SNode *begin;\n",
        "    SNode *end;\n",
        "} LinkedList;\n",
        "\n",
        "/* criação/diagnóstico */\n",
        "LinkedList* LinkedList_create(void);\n",
        "void        LinkedList_destroy(LinkedList *L);\n",
        "bool        LinkedList_is_empty(const LinkedList *L);\n",
        "size_t      LinkedList_size(const LinkedList *L);\n",
        "void        LinkedList_print(const LinkedList *L);\n",
        "\n",
        "/* inserções básicas */\n",
        "void LinkedList_add_first(LinkedList *L, int val);\n",
        "void LinkedList_add_last (LinkedList *L, int val);\n",
        "\n",
        "/* operação desta seção */\n",
        "void LinkedList_concat(LinkedList *L1, LinkedList *L2); /* concatena L2 em L1 e esvazia L2 */\n",
        "\n",
        "#endif"
      ]
    },
    {
      "cell_type": "code",
      "metadata": {
        "colab": {
          "base_uri": "https://localhost:8080/"
        },
        "id": "JAq10rH6wION",
        "outputId": "27921589-5af8-4040-a47d-3d7b19c2e44a"
      },
      "execution_count": null,
      "outputs": [
        {
          "output_type": "stream",
          "name": "stdout",
          "text": [
            "Writing concat_ll.c\n"
          ]
        }
      ],
      "source": [
        "%%writefile concat_ll.c\n",
        "#include \"concat_ll.h\"\n",
        "#include <stdio.h>\n",
        "#include <stdlib.h>\n",
        "\n",
        "static SNode* SNode_create(int val){\n",
        "    SNode *n = (SNode*)calloc(1, sizeof(SNode));\n",
        "    if(!n){ perror(\"calloc\"); exit(EXIT_FAILURE); }\n",
        "    n->val = val; n->next = NULL;\n",
        "    return n;\n",
        "}\n",
        "\n",
        "LinkedList* LinkedList_create(void){\n",
        "    LinkedList *L = (LinkedList*)calloc(1, sizeof(LinkedList));\n",
        "    if(!L){ perror(\"calloc\"); exit(EXIT_FAILURE); }\n",
        "    L->begin = L->end = NULL;\n",
        "    return L;\n",
        "}\n",
        "\n",
        "void LinkedList_destroy(LinkedList *L){\n",
        "    if(!L) return;\n",
        "    for(SNode *p=L->begin; p; ){\n",
        "        SNode *aux=p; p=p->next; free(aux);\n",
        "    }\n",
        "    free(L);\n",
        "}\n",
        "\n",
        "bool LinkedList_is_empty(const LinkedList *L){ return !L || L->begin==NULL; }\n",
        "\n",
        "size_t LinkedList_size(const LinkedList *L){\n",
        "    size_t sz=0; for(SNode *p=L?L->begin:NULL; p; p=p->next) ++sz; return sz;\n",
        "}\n",
        "\n",
        "void LinkedList_print(const LinkedList *L){\n",
        "    printf(\"[\");\n",
        "    for(SNode *p=L?L->begin:NULL; p; p=p->next){\n",
        "        printf(\"%d\", p->val);\n",
        "        if(p->next) printf(\" -> \");\n",
        "    }\n",
        "    printf(\"]\\n\");\n",
        "}\n",
        "\n",
        "void LinkedList_add_first(LinkedList *L, int val){\n",
        "    SNode *n = SNode_create(val);\n",
        "    n->next = L->begin;\n",
        "    L->begin = n;\n",
        "    if(L->end==NULL) L->end = n;\n",
        "}\n",
        "\n",
        "void LinkedList_add_last(LinkedList *L, int val){\n",
        "    SNode *n = SNode_create(val);\n",
        "    if(L->end){\n",
        "        L->end->next = n;\n",
        "        L->end = n;\n",
        "    }else{\n",
        "        L->begin = L->end = n;\n",
        "    }\n",
        "}\n",
        "\n",
        "void LinkedList_concat(LinkedList *L1, LinkedList *L2){\n",
        "    if(!L1 || !L2) return;\n",
        "    if(LinkedList_is_empty(L2)) return;\n",
        "    if(LinkedList_is_empty(L1)){\n",
        "        L1->begin = L2->begin;\n",
        "        L1->end   = L2->end;\n",
        "    }else{\n",
        "        L1->end->next = L2->begin;\n",
        "        L1->end       = L2->end;\n",
        "    }\n",
        "    /* esvaziar L2 sem desalocar os nós (agora pertencem a L1) */\n",
        "    L2->begin = L2->end = NULL;\n",
        "}"
      ]
    },
    {
      "cell_type": "code",
      "metadata": {
        "colab": {
          "base_uri": "https://localhost:8080/"
        },
        "id": "ZkoGrAkJwIOO",
        "outputId": "e23fd645-6c55-48ad-d1a0-4759fdee5b1c"
      },
      "execution_count": null,
      "outputs": [
        {
          "output_type": "stream",
          "name": "stdout",
          "text": [
            "Writing main_concat.c\n"
          ]
        }
      ],
      "source": [
        "%%writefile main_concat.c\n",
        "#include \"concat_ll.h\"\n",
        "#include <stdio.h>\n",
        "\n",
        "int main(void){\n",
        "    LinkedList *A = LinkedList_create();\n",
        "    LinkedList *B = LinkedList_create();\n",
        "\n",
        "    LinkedList_add_last(A, 1);\n",
        "    LinkedList_add_last(A, 2);\n",
        "    LinkedList_add_last(A, 3);\n",
        "\n",
        "    LinkedList_add_last(B, 40);\n",
        "    LinkedList_add_last(B, 50);\n",
        "\n",
        "    printf(\"A = \"); LinkedList_print(A);\n",
        "    printf(\"B = \"); LinkedList_print(B);\n",
        "\n",
        "    LinkedList_concat(A, B);\n",
        "    printf(\"Depois do concat(A,B):\\n\");\n",
        "    printf(\"A = \"); LinkedList_print(A);\n",
        "    printf(\"B (esvaziada) = \"); LinkedList_print(B);\n",
        "\n",
        "    LinkedList_destroy(B);\n",
        "    LinkedList_destroy(A);\n",
        "    return 0;\n",
        "}\n",
        "\n"
      ]
    },
    {
      "cell_type": "code",
      "source": [
        "!gcc main_concat.c concat_ll.c -o concat && ./concat"
      ],
      "metadata": {
        "colab": {
          "base_uri": "https://localhost:8080/"
        },
        "id": "3nMqme_qwnq5",
        "outputId": "12c8a229-0b22-4c81-85ba-08df859969b5"
      },
      "execution_count": null,
      "outputs": [
        {
          "output_type": "stream",
          "name": "stdout",
          "text": [
            "A = [1 -> 2 -> 3]\n",
            "B = [40 -> 50]\n",
            "Depois do concat(A,B):\n",
            "A = [1 -> 2 -> 3 -> 40 -> 50]\n",
            "B (esvaziada) = []\n"
          ]
        }
      ]
    },
    {
      "cell_type": "markdown",
      "metadata": {
        "id": "_JFh-P0mwIOO"
      },
      "source": [
        "# 🔄 Reverter a Lista (Seção Autônoma)\n",
        "\n",
        "Implementa **reversão in-place** e atualiza corretamente os ponteiros `begin` e `end`.\n",
        "- Complexidade O(n).\n",
        "- Não aloca nós adicionais.\n",
        "- Arquivos: `reverse_ll.h`, `reverse_ll.c`, `main_reverse.c`."
      ]
    },
    {
      "cell_type": "code",
      "metadata": {
        "colab": {
          "base_uri": "https://localhost:8080/"
        },
        "id": "CRDyaUcNwIOO",
        "outputId": "52146677-8b28-4ec7-84d8-ce77fb487932"
      },
      "execution_count": null,
      "outputs": [
        {
          "output_type": "stream",
          "name": "stdout",
          "text": [
            "Writing reverse_ll.h\n"
          ]
        }
      ],
      "source": [
        "%%writefile reverse_ll.h\n",
        "#ifndef REVERSE_LL_H\n",
        "#define REVERSE_LL_H\n",
        "\n",
        "#include <stdbool.h>\n",
        "#include <stddef.h>\n",
        "\n",
        "typedef struct _snode {\n",
        "    int val;\n",
        "    struct _snode *next;\n",
        "} SNode;\n",
        "\n",
        "typedef struct _linked_list {\n",
        "    SNode *begin;\n",
        "    SNode *end;\n",
        "} LinkedList;\n",
        "\n",
        "/* criação/diagnóstico */\n",
        "LinkedList* LinkedList_create(void);\n",
        "void        LinkedList_destroy(LinkedList *L);\n",
        "bool        LinkedList_is_empty(const LinkedList *L);\n",
        "void        LinkedList_print(const LinkedList *L);\n",
        "\n",
        "/* inserções mínimas para testes */\n",
        "void LinkedList_add_last(LinkedList *L, int val);\n",
        "\n",
        "/* operação desta seção */\n",
        "void LinkedList_reverse(LinkedList *L);\n",
        "\n",
        "#endif"
      ]
    },
    {
      "cell_type": "code",
      "metadata": {
        "colab": {
          "base_uri": "https://localhost:8080/"
        },
        "id": "QEwHh-Q5wIOO",
        "outputId": "b18046cb-cf42-41ff-9dcf-73f874a6deba"
      },
      "execution_count": null,
      "outputs": [
        {
          "output_type": "stream",
          "name": "stdout",
          "text": [
            "Writing reverse_ll.c\n"
          ]
        }
      ],
      "source": [
        "%%writefile reverse_ll.c\n",
        "#include \"reverse_ll.h\"\n",
        "#include <stdio.h>\n",
        "#include <stdlib.h>\n",
        "\n",
        "static SNode* SNode_create(int val){\n",
        "    SNode *n=(SNode*)calloc(1,sizeof(SNode));\n",
        "    if(!n){ perror(\"calloc\"); exit(EXIT_FAILURE); }\n",
        "    n->val=val; n->next=NULL; return n;\n",
        "}\n",
        "\n",
        "LinkedList* LinkedList_create(void){\n",
        "    LinkedList *L=(LinkedList*)calloc(1,sizeof(LinkedList));\n",
        "    if(!L){ perror(\"calloc\"); exit(EXIT_FAILURE); }\n",
        "    return L;\n",
        "}\n",
        "\n",
        "void LinkedList_destroy(LinkedList *L){\n",
        "    if(!L) return;\n",
        "    for(SNode *p=L->begin; p; ){\n",
        "        SNode *aux=p; p=p->next; free(aux);\n",
        "    }\n",
        "    free(L);\n",
        "}\n",
        "\n",
        "bool LinkedList_is_empty(const LinkedList *L){ return !L || L->begin==NULL; }\n",
        "\n",
        "void LinkedList_print(const LinkedList *L){\n",
        "    printf(\"[\");\n",
        "    for(SNode *p=L?L->begin:NULL; p; p=p->next){\n",
        "        printf(\"%d\", p->val);\n",
        "        if(p->next) printf(\" -> \");\n",
        "    }\n",
        "    printf(\"]\\n\");\n",
        "}\n",
        "\n",
        "void LinkedList_add_last(LinkedList *L, int val){\n",
        "    SNode *n=SNode_create(val);\n",
        "    if(L->end){ L->end->next=n; L->end=n; }\n",
        "    else{ L->begin=L->end=n; }\n",
        "}\n",
        "\n",
        "void LinkedList_reverse(LinkedList *L){\n",
        "    if(!L || !L->begin || !L->begin->next) return;\n",
        "    SNode *prev=NULL, *curr=L->begin, *next=NULL;\n",
        "    L->end = L->begin; /* o antigo begin vira o novo end */\n",
        "    while(curr){\n",
        "        next = curr->next;\n",
        "        curr->next = prev;\n",
        "        prev = curr;\n",
        "        curr = next;\n",
        "    }\n",
        "    L->begin = prev;\n",
        "}"
      ]
    },
    {
      "cell_type": "code",
      "metadata": {
        "colab": {
          "base_uri": "https://localhost:8080/"
        },
        "id": "ln958o7NwIOO",
        "outputId": "11dfc3f0-c472-4b59-c693-f2353c6f8c02"
      },
      "execution_count": null,
      "outputs": [
        {
          "output_type": "stream",
          "name": "stdout",
          "text": [
            "Overwriting main_reverse.c\n"
          ]
        }
      ],
      "source": [
        "%%writefile main_reverse.c\n",
        "#include \"reverse_ll.h\"\n",
        "#include <stdio.h>\n",
        "#include <stddef.h>\n",
        "\n",
        "int main(void){ LinkedList *L = LinkedList_create();\n",
        "/* Construção da lista de forma portável em C */\n",
        "int vals[] = {10, 20, 30, 40, 50};\n",
        "size_t n = sizeof(vals)/sizeof(vals[0]);\n",
        "for (size_t i = 0; i < n; ++i){\n",
        "  LinkedList_add_last(L, vals[i]);\n",
        "  }\n",
        "  printf(\"Original: \");\n",
        "  LinkedList_print(L);\n",
        "  LinkedList_reverse(L);\n",
        "  printf(\"Reversa : \");\n",
        "  LinkedList_print(L);\n",
        "  LinkedList_destroy(L);\n",
        "  return 0;\n",
        "  }"
      ]
    },
    {
      "cell_type": "code",
      "source": [
        "!gcc main_reverse.c reverse_ll.c -o reverse && ./reverse\n"
      ],
      "metadata": {
        "colab": {
          "base_uri": "https://localhost:8080/"
        },
        "id": "5ZifIRkTwUmA",
        "outputId": "bbf64be4-1e92-4289-9825-e93a5e5b23ac"
      },
      "execution_count": null,
      "outputs": [
        {
          "output_type": "stream",
          "name": "stdout",
          "text": [
            "Original: [10 -> 20 -> 30 -> 40 -> 50]\n",
            "Reversa : [50 -> 40 -> 30 -> 20 -> 10]\n"
          ]
        }
      ]
    },
    {
      "cell_type": "markdown",
      "metadata": {
        "id": "8nCZXC6OwIOO"
      },
      "source": [
        "# 🧩 Inserir em Índice Específico (Seção Autônoma)\n",
        "\n",
        "Função `LinkedList_add_at(L, val, index)` insere o valor **antes** do elemento atual na posição `index` (0‑based).\n",
        "- `index == 0` → insere no começo.\n",
        "- `index == size` → insere no fim.\n",
        "- Retorna `true` em sucesso e `false` se `index` > `size`.\n",
        "\n",
        "Arquivos: `addat_ll.h`, `addat_ll.c`, `main_addat.c`."
      ]
    },
    {
      "cell_type": "code",
      "metadata": {
        "colab": {
          "base_uri": "https://localhost:8080/"
        },
        "id": "uZP77pfowIOO",
        "outputId": "d154e1f5-6f10-40bc-fbab-fcd1d7fc6026"
      },
      "execution_count": null,
      "outputs": [
        {
          "output_type": "stream",
          "name": "stdout",
          "text": [
            "Writing addat_ll.h\n"
          ]
        }
      ],
      "source": [
        "%%writefile addat_ll.h\n",
        "#ifndef ADDAT_LL_H\n",
        "#define ADDAT_LL_H\n",
        "\n",
        "#include <stdbool.h>\n",
        "#include <stddef.h>\n",
        "\n",
        "typedef struct _snode {\n",
        "    int val;\n",
        "    struct _snode *next;\n",
        "} SNode;\n",
        "\n",
        "typedef struct _linked_list {\n",
        "    SNode *begin;\n",
        "    SNode *end;\n",
        "} LinkedList;\n",
        "\n",
        "/* criação/diagnóstico */\n",
        "LinkedList* LinkedList_create(void);\n",
        "void        LinkedList_destroy(LinkedList *L);\n",
        "size_t      LinkedList_size(const LinkedList *L);\n",
        "void        LinkedList_print(const LinkedList *L);\n",
        "\n",
        "/* inserções básicas */\n",
        "void  LinkedList_add_first(LinkedList *L, int val);\n",
        "void  LinkedList_add_last (LinkedList *L, int val);\n",
        "/* operação desta seção */\n",
        "bool  LinkedList_add_at   (LinkedList *L, int val, size_t index);\n",
        "\n",
        "#endif"
      ]
    },
    {
      "cell_type": "code",
      "metadata": {
        "colab": {
          "base_uri": "https://localhost:8080/"
        },
        "id": "0JGAa2W2wIOP",
        "outputId": "dc5a3bf4-5f4f-4590-dbec-703039fc6f3b"
      },
      "execution_count": null,
      "outputs": [
        {
          "output_type": "stream",
          "name": "stdout",
          "text": [
            "Writing addat_ll.c\n"
          ]
        }
      ],
      "source": [
        "%%writefile addat_ll.c\n",
        "#include \"addat_ll.h\"\n",
        "#include <stdio.h>\n",
        "#include <stdlib.h>\n",
        "\n",
        "static SNode* SNode_create(int val){\n",
        "    SNode *n=(SNode*)calloc(1,sizeof(SNode));\n",
        "    if(!n){ perror(\"calloc\"); exit(EXIT_FAILURE); }\n",
        "    n->val=val; n->next=NULL; return n;\n",
        "}\n",
        "\n",
        "LinkedList* LinkedList_create(void){\n",
        "    LinkedList *L=(LinkedList*)calloc(1,sizeof(LinkedList));\n",
        "    if(!L){ perror(\"calloc\"); exit(EXIT_FAILURE); }\n",
        "    return L;\n",
        "}\n",
        "\n",
        "void LinkedList_destroy(LinkedList *L){\n",
        "    if(!L) return;\n",
        "    for(SNode *p=L->begin; p; ){\n",
        "        SNode *aux=p; p=p->next; free(aux);\n",
        "    }\n",
        "    free(L);\n",
        "}\n",
        "\n",
        "size_t LinkedList_size(const LinkedList *L){\n",
        "    size_t sz=0; for(SNode *p=L?L->begin:NULL; p; p=p->next) ++sz; return sz;\n",
        "}\n",
        "\n",
        "void LinkedList_print(const LinkedList *L){\n",
        "    printf(\"[\");\n",
        "    for(SNode *p=L?L->begin:NULL; p; p=p->next){\n",
        "        printf(\"%d\", p->val);\n",
        "        if(p->next) printf(\" -> \");\n",
        "    }\n",
        "    printf(\"]\\n\");\n",
        "}\n",
        "\n",
        "void LinkedList_add_first(LinkedList *L, int val){\n",
        "    SNode *n=SNode_create(val);\n",
        "    n->next=L->begin;\n",
        "    L->begin=n;\n",
        "    if(L->end==NULL) L->end=n;\n",
        "}\n",
        "\n",
        "void LinkedList_add_last(LinkedList *L, int val){\n",
        "    SNode *n=SNode_create(val);\n",
        "    if(L->end){ L->end->next=n; L->end=n; }\n",
        "    else{ L->begin=L->end=n; }\n",
        "}\n",
        "\n",
        "bool LinkedList_add_at(LinkedList *L, int val, size_t index){\n",
        "    size_t sz = LinkedList_size(L);\n",
        "    if(index > sz) return false;\n",
        "    if(index == 0){ LinkedList_add_first(L, val); return true; }\n",
        "    if(index == sz){ LinkedList_add_last(L, val); return true; }\n",
        "\n",
        "    /* caminhar até (index-1) */\n",
        "    SNode *prev = L->begin;\n",
        "    for(size_t i=0; i<index-1; ++i) prev = prev->next;\n",
        "\n",
        "    SNode *n = SNode_create(val);\n",
        "    n->next = prev->next;\n",
        "    prev->next = n;\n",
        "    return true;\n",
        "}"
      ]
    },
    {
      "cell_type": "code",
      "metadata": {
        "colab": {
          "base_uri": "https://localhost:8080/"
        },
        "id": "KiEMWkcpwIOP",
        "outputId": "5fe5dc85-ccaa-47d9-fda6-669f7228f11f"
      },
      "execution_count": null,
      "outputs": [
        {
          "output_type": "stream",
          "name": "stdout",
          "text": [
            "Overwriting main_addat.c\n"
          ]
        }
      ],
      "source": [
        "%%writefile main_addat.c\n",
        "#include \"addat_ll.h\"\n",
        "#include <stdio.h>\n",
        "\n",
        "int main(void){\n",
        "    LinkedList *L = LinkedList_create();\n",
        "    LinkedList_add_last(L, 10);\n",
        "    LinkedList_add_last(L, 20);\n",
        "    LinkedList_add_last(L, 40);\n",
        "\n",
        "    printf(\"Inicial: \"); LinkedList_print(L);\n",
        "\n",
        "    LinkedList_add_at(L, 5, 0);   /* [5,10,20,40] */\n",
        "    LinkedList_add_at(L, 30, 3);  /* [5,10,20,30,40] */\n",
        "    LinkedList_add_at(L, 50, 5);  /* append: [5,10,20,30,40,50] */\n",
        "\n",
        "    printf(\"Depois de add_at: \"); LinkedList_print(L);\n",
        "\n",
        "    /* tentativa inválida */\n",
        "    if(!LinkedList_add_at(L, 99, 100)){\n",
        "        printf(\"Index 100 inválido (ignorado)\\n\");\n",
        "    }\n",
        "\n",
        "    LinkedList_print(L);\n",
        "    LinkedList_destroy(L);\n",
        "    return 0;\n",
        "}\n",
        "\n"
      ]
    },
    {
      "cell_type": "code",
      "source": [
        "!gcc main_addat.c addat_ll.c -o addat && ./addat\n"
      ],
      "metadata": {
        "colab": {
          "base_uri": "https://localhost:8080/"
        },
        "id": "FSOivTuCwdry",
        "outputId": "dfb5a20c-bf4a-43e7-8f1c-fb9e31dfbec7"
      },
      "execution_count": null,
      "outputs": [
        {
          "output_type": "stream",
          "name": "stdout",
          "text": [
            "Inicial: [10 -> 20 -> 40]\n",
            "Depois de add_at: [5 -> 10 -> 20 -> 30 -> 40 -> 50]\n",
            "Index 100 inválido (ignorado)\n",
            "[5 -> 10 -> 20 -> 30 -> 40 -> 50]\n"
          ]
        }
      ]
    }
  ],
  "metadata": {
    "colab": {
      "provenance": [],
      "include_colab_link": true
    },
    "kernelspec": {
      "display_name": "Python 3",
      "name": "python3"
    },
    "language_info": {
      "name": "python"
    }
  },
  "nbformat": 4,
  "nbformat_minor": 0
}