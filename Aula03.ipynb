{
  "nbformat": 4,
  "nbformat_minor": 0,
  "metadata": {
    "colab": {
      "provenance": [],
      "authorship_tag": "ABX9TyOiQJwYI2KHqu7LJbhw/Nle",
      "include_colab_link": true
    },
    "kernelspec": {
      "name": "python3",
      "display_name": "Python 3"
    },
    "language_info": {
      "name": "python"
    }
  },
  "cells": [
    {
      "cell_type": "markdown",
      "metadata": {
        "id": "view-in-github",
        "colab_type": "text"
      },
      "source": [
        "<a href=\"https://colab.research.google.com/github/LuigiVanzella/Estrutura-de-Dados/blob/main/Aula03.ipynb\" target=\"_parent\"><img src=\"https://colab.research.google.com/assets/colab-badge.svg\" alt=\"Open In Colab\"/></a>"
      ]
    },
    {
      "cell_type": "code",
      "execution_count": 87,
      "metadata": {
        "colab": {
          "base_uri": "https://localhost:8080/"
        },
        "id": "0Mn23-sXelwI",
        "outputId": "3ba428ce-3717-452a-8fd7-62b72716e6f2"
      },
      "outputs": [
        {
          "output_type": "stream",
          "name": "stdout",
          "text": [
            "Overwriting linked_list.h\n"
          ]
        }
      ],
      "source": [
        "%%writefile linked_list.h\n",
        "\n",
        "#ifndef LINKED_LIST_H\n",
        "#define LINKED_LIST_H\n",
        "\n",
        "typedef struct _snode SNode;\n",
        "typedef struct _linked_list LinkedList;\n",
        "\n",
        "SNode *SNode_create(int val);\n",
        "LinkedList *LinkedList_create();\n",
        "void LinkedList_add_first(LinkedList *L, int val);\n",
        "void LinkedList_print(const LinkedList *L);\n",
        "void LinkedList_add_last(LinkedList *L, int val);\n",
        "\n",
        "#endif"
      ]
    },
    {
      "cell_type": "code",
      "source": [
        "%%writefile linked_list.c\n",
        "\n",
        "#include \"linked_list.h\"\n",
        "#include <stdio.h>\n",
        "#include <stdlib.h>\n",
        "\n",
        "typedef struct _snode {\n",
        "  int val;\n",
        "  struct _snode *next;\n",
        "\n",
        "} SNode;\n",
        "\n",
        "typedef struct _linked_list {\n",
        "  SNode *begin;\n",
        "} LinkedList;\n",
        "\n",
        "SNode *SNode_create(int val){\n",
        "  SNode *snode = (SNode*) calloc(1, sizeof(SNode));\n",
        "  snode -> val = val;\n",
        "  snode -> next = NULL;\n",
        "\n",
        "  return snode;\n",
        "}\n",
        "\n",
        "LinkedList *LinkedList_create(){\n",
        "  LinkedList *L = (LinkedList*) calloc(1, sizeof(LinkedList));\n",
        "  L -> begin = NULL;\n",
        "  return L;\n",
        "}\n",
        "\n",
        "void LinkedList_add_first(LinkedList *L, int val){\n",
        "  SNode *p = SNode_create(val);\n",
        "  p -> next = L -> begin;\n",
        "  L -> begin = p;\n",
        "}\n",
        "\n",
        "void LinkedList_print(const LinkedList *L){\n",
        "  SNode *p = L -> begin;\n",
        "  printf(\"L -> \");\n",
        "  while (p!= NULL){\n",
        "    printf(\"%d -> \", p -> val);\n",
        "\n",
        "    p = p -> next;\n",
        "  }\n",
        "  printf(\"NULL\\n\");\n",
        "}\n",
        "\n",
        "void LinkedList_add_last(LinkedList *L, int val){\n",
        "  SNode *t = SNode_create(val);\n",
        "  if(L-> begin == NULL){\n",
        "    L-> begin = t;\n",
        "  }else{\n",
        "    SNode *p = L -> begin;\n",
        "    while (p -> next !=NULL){\n",
        "      p = p -> next;\n",
        "    }\n",
        "    p -> next = t;\n",
        "  }\n",
        "\n",
        "}\n",
        "\n"
      ],
      "metadata": {
        "colab": {
          "base_uri": "https://localhost:8080/"
        },
        "id": "6rE7o9HdfA_i",
        "outputId": "aa0d2f74-bcd9-45b2-8034-470863fd723b"
      },
      "execution_count": 93,
      "outputs": [
        {
          "output_type": "stream",
          "name": "stdout",
          "text": [
            "Overwriting linked_list.c\n"
          ]
        }
      ]
    },
    {
      "cell_type": "code",
      "source": [
        "%%writefile main.c\n",
        "#include \"linked_list.h\"\n",
        "#include <stdio.h>\n",
        "#include <stdlib.h>\n",
        "\n",
        "int main(){\n",
        "  LinkedList *L = LinkedList_create();\n",
        "  LinkedList_add_first(L, 7);\n",
        "  LinkedList_print(L);\n",
        "  LinkedList_add_first(L, 5);\n",
        "  LinkedList_print(L);\n",
        "  LinkedList_add_first(L, 4);\n",
        "  LinkedList_print(L);\n",
        "  LinkedList_add_first(L, 2);\n",
        "  LinkedList_print(L);\n",
        "  LinkedList_add_first(L, 10);\n",
        "  LinkedList_print(L);\n",
        "  LinkedList_add_last(L, 16);\n",
        "  LinkedList_print(L);\n",
        "  LinkedList_add_last(L, 324);\n",
        "  LinkedList_print(L);\n",
        "\n",
        "  if (L != NULL){\n",
        "    printf(\"Lista criada com sucesso!\\n\");\n",
        "  }\n",
        "  return 0;\n",
        "}"
      ],
      "metadata": {
        "colab": {
          "base_uri": "https://localhost:8080/"
        },
        "id": "Z9gPfatefVug",
        "outputId": "861d4d4d-abf8-4e25-e0e0-35e878faf126"
      },
      "execution_count": 96,
      "outputs": [
        {
          "output_type": "stream",
          "name": "stdout",
          "text": [
            "Overwriting main.c\n"
          ]
        }
      ]
    },
    {
      "cell_type": "code",
      "source": [
        "!gcc main.c linked_list.c -o linked_list\n",
        "!./linked_list\n"
      ],
      "metadata": {
        "colab": {
          "base_uri": "https://localhost:8080/"
        },
        "id": "xqYBL1aujzMp",
        "outputId": "474a8da9-81ec-4cb7-8a4e-456af96d17ae"
      },
      "execution_count": 97,
      "outputs": [
        {
          "output_type": "stream",
          "name": "stdout",
          "text": [
            "L -> 7 -> NULL\n",
            "L -> 5 -> 7 -> NULL\n",
            "L -> 4 -> 5 -> 7 -> NULL\n",
            "L -> 2 -> 4 -> 5 -> 7 -> NULL\n",
            "L -> 10 -> 2 -> 4 -> 5 -> 7 -> NULL\n",
            "L -> 10 -> 2 -> 4 -> 5 -> 7 -> 16 -> NULL\n",
            "L -> 10 -> 2 -> 4 -> 5 -> 7 -> 16 -> 324 -> NULL\n",
            "Lista criada com sucesso!\n"
          ]
        }
      ]
    }
  ]
}